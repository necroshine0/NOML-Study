{
 "cells": [
  {
   "cell_type": "markdown",
   "metadata": {},
   "source": [
    "# Прикладная статистика в машинном обучении 2021-2022"
   ]
  },
  {
   "cell_type": "markdown",
   "metadata": {},
   "source": [
    "## Домашнее задание #2"
   ]
  },
  {
   "cell_type": "markdown",
   "metadata": {},
   "source": [
    "### Дедлайн: 14 декабря 2021 года, 23:59"
   ]
  },
  {
   "cell_type": "markdown",
   "metadata": {},
   "source": [
    "**Правила игры**\n",
    "\n",
    "1. Домашнее задание состоит из двух задач, каждая из которых оценивается в 5 баллов. Все пункты в пределах одной задачи имеют одинаковый вес.\n",
    "\n",
    "2. Каждый пункт оценивается с промежутком $0.5$. Например, если за пункт можно получить максимум $1$ балл, то за полностью корректное решение ставится $1$ балл, за решение с небольшими ошибками ставится $0.5$ балла, за решение с серьёзными ошибками или неправильное решение ставится $0$ баллов. Для пунктов, за которые можно получить максимум $2$ балла, в зависимости от решения можно получить $2$, $1.5$, $1$ и т.д. баллов. При этом пункты проверяются независимо друг от друга: если пункт $t+1$ зависит от численных результатов пункта $t$, и в пункте $t$ допускается ошибка, из-за которой в пункт $t+1$ приходят неверные входные данные, то при корректном решении пункт $t+1$ оценивается в максимальное количество баллов, которое можно за него получить.\n",
    "\n",
    "3. Весь код должен быть написан на Python, R, C или C++.\n",
    "\n",
    "4. Решения принимаются до **14 декабря 2021 года, 23:59 МСК** включительно. Работы, отправленные после дедлайна, **не проверяются**. Дата и время сдачи определяются по последнему запушенному в репозиторий коммиту (можно увидеть на GitHub, наведя мышкой на указатель срока (например, 3 days ago) справа от файлов).\n",
    "\n",
    "5. Все решения нужно загрузить в личный репозиторий на [GitHub Classroom](https://classroom.github.com/a/HTd0GCXS).\n",
    "\n",
    "6. Репозиторий должен содержать файл(ы) с кодом и текстовыми пояснениями к решению задач. При этом:\n",
    "\n",
    "* Если вы пишете код в тетрадке .ipynb, то пояснения и выводы можно указывать в ячейках Markdown, и в репозиторий достаточно загрузить один файл, названный по типу «name\\_surname\\_group\\_hw2.ipynb».\n",
    "\n",
    "* Если вы пишете код в отдельных текстовых файлах, то пояснения и выводы нужно вынести в отчёт, который можно написать в любимом текстовом редакторе и экспортировать в pdf. В репозиторий нужно загрузить все файлы с кодом (если их несколько, то в README.md требуется подробно указать, что содержит каждый файл), названные по типу «name\\_surname\\_group\\_hw2\\_filename.ext», где вместо ext может быть .py, .R, .c, .cpp, а также отчёт, названный по типу «name\\_surname\\_group\\_hw2\\_report.pdf». \n",
    "\n",
    "7. Разрешается использовать без доказательства любые результаты, встречавшиеся на лекциях или семинарах по курсу, если получение этих результатов не является вопросом задания. Разрешается использовать любые свободные источники с указанием ссылки на них.\n",
    "\n",
    "8. Плагиат не допускается. При обнаружении случаев списывания, $0$ за работу выставляется всем участникам нарушения, даже если можно установить, кто у кого списал. "
   ]
  },
  {
   "cell_type": "markdown",
   "metadata": {},
   "source": [
    "---"
   ]
  },
  {
   "cell_type": "markdown",
   "metadata": {},
   "source": [
    "**Disclaimer:** для проверки гипотез используйте ваш любимый уровень значимости!\n",
    "\n",
    "**Hint:** в statsmodels есть всё-всё-всё! "
   ]
  },
  {
   "cell_type": "markdown",
   "metadata": {},
   "source": [
    "---"
   ]
  },
  {
   "cell_type": "code",
   "execution_count": 25,
   "metadata": {},
   "outputs": [],
   "source": [
    "import numpy as np\n",
    "import pandas as pd\n",
    "\n",
    "import statsmodels.formula.api as smf\n",
    "import statsmodels.stats.api as sms\n",
    "\n",
    "import matplotlib.pyplot as plt\n",
    "import seaborn as sns\n",
    "%matplotlib inline"
   ]
  },
  {
   "cell_type": "markdown",
   "metadata": {},
   "source": [
    "## Задача 1: \"Cloudy, with a chance of...\" (5 баллов)."
   ]
  },
  {
   "cell_type": "markdown",
   "metadata": {},
   "source": [
    "В этой задаче нам предстоит проанализировать набор данных [Weather in Szeged 2006-2016](https://www.kaggle.com/budincsevity/szeged-weather), содержащий информацию о погоде. Формат задачи свободный: оцениваются любые разумные действия. В качестве зависимой переменной возьмём температуру воздуха (`temperature`).\n",
    "\n",
    "Наша цель состоит в том, чтобы построить две линейные регрессионные модели: объясняющую и предиктивную. Объясняющая модель должна быть пригодна для статистической интерпретации зависимостей, то есть показывать, какие факторы влияют на температуру воздуха, каким образом и какое возможное объяснение этого влияния можно привести. Предиктивная модель может быть совершенно ужасной с точки зрения статистики (например, регрессия может быть не значимой в целом), но она должна давать хорошие прогнозы в соответствии с некоторой метрикой.\n",
    "\n",
    "Хотя приведённые данные имеют формат временных рядов, мы будем игнорировать это и рассматривать их как обычные кросс-секционные данные."
   ]
  },
  {
   "cell_type": "markdown",
   "metadata": {},
   "source": [
    "**Предобработка данных**. Загрузите данные и проведите любую предобработку, которую считаете нужной. Поясните свои действия."
   ]
  },
  {
   "cell_type": "code",
   "execution_count": 26,
   "metadata": {},
   "outputs": [
    {
     "data": {
      "text/html": [
       "<div>\n",
       "<style scoped>\n",
       "    .dataframe tbody tr th:only-of-type {\n",
       "        vertical-align: middle;\n",
       "    }\n",
       "\n",
       "    .dataframe tbody tr th {\n",
       "        vertical-align: top;\n",
       "    }\n",
       "\n",
       "    .dataframe thead th {\n",
       "        text-align: right;\n",
       "    }\n",
       "</style>\n",
       "<table border=\"1\" class=\"dataframe\">\n",
       "  <thead>\n",
       "    <tr style=\"text-align: right;\">\n",
       "      <th></th>\n",
       "      <th>Formatted Date</th>\n",
       "      <th>Summary</th>\n",
       "      <th>Precip Type</th>\n",
       "      <th>Temperature (C)</th>\n",
       "      <th>Apparent Temperature (C)</th>\n",
       "      <th>Humidity</th>\n",
       "      <th>Wind Speed (km/h)</th>\n",
       "      <th>Wind Bearing (degrees)</th>\n",
       "      <th>Visibility (km)</th>\n",
       "      <th>Loud Cover</th>\n",
       "      <th>Pressure (millibars)</th>\n",
       "      <th>Daily Summary</th>\n",
       "    </tr>\n",
       "  </thead>\n",
       "  <tbody>\n",
       "    <tr>\n",
       "      <th>51162</th>\n",
       "      <td>2011-10-01 19:00:00.000 +0200</td>\n",
       "      <td>Partly Cloudy</td>\n",
       "      <td>rain</td>\n",
       "      <td>18.816667</td>\n",
       "      <td>18.816667</td>\n",
       "      <td>0.50</td>\n",
       "      <td>4.7978</td>\n",
       "      <td>307.0</td>\n",
       "      <td>9.9820</td>\n",
       "      <td>0.0</td>\n",
       "      <td>1023.48</td>\n",
       "      <td>Partly cloudy starting in the afternoon contin...</td>\n",
       "    </tr>\n",
       "    <tr>\n",
       "      <th>36947</th>\n",
       "      <td>2010-12-24 11:00:00.000 +0100</td>\n",
       "      <td>Partly Cloudy</td>\n",
       "      <td>rain</td>\n",
       "      <td>12.800000</td>\n",
       "      <td>12.800000</td>\n",
       "      <td>0.72</td>\n",
       "      <td>27.8691</td>\n",
       "      <td>159.0</td>\n",
       "      <td>10.2074</td>\n",
       "      <td>0.0</td>\n",
       "      <td>999.03</td>\n",
       "      <td>Mostly cloudy throughout the day.</td>\n",
       "    </tr>\n",
       "    <tr>\n",
       "      <th>43825</th>\n",
       "      <td>2010-09-09 01:00:00.000 +0200</td>\n",
       "      <td>Mostly Cloudy</td>\n",
       "      <td>rain</td>\n",
       "      <td>17.566667</td>\n",
       "      <td>17.566667</td>\n",
       "      <td>0.97</td>\n",
       "      <td>6.4722</td>\n",
       "      <td>55.0</td>\n",
       "      <td>6.1180</td>\n",
       "      <td>0.0</td>\n",
       "      <td>1010.71</td>\n",
       "      <td>Mostly cloudy throughout the day.</td>\n",
       "    </tr>\n",
       "  </tbody>\n",
       "</table>\n",
       "</div>"
      ],
      "text/plain": [
       "                      Formatted Date        Summary Precip Type  \\\n",
       "51162  2011-10-01 19:00:00.000 +0200  Partly Cloudy        rain   \n",
       "36947  2010-12-24 11:00:00.000 +0100  Partly Cloudy        rain   \n",
       "43825  2010-09-09 01:00:00.000 +0200  Mostly Cloudy        rain   \n",
       "\n",
       "       Temperature (C)  Apparent Temperature (C)  Humidity  Wind Speed (km/h)  \\\n",
       "51162        18.816667                 18.816667      0.50             4.7978   \n",
       "36947        12.800000                 12.800000      0.72            27.8691   \n",
       "43825        17.566667                 17.566667      0.97             6.4722   \n",
       "\n",
       "       Wind Bearing (degrees)  Visibility (km)  Loud Cover  \\\n",
       "51162                   307.0           9.9820         0.0   \n",
       "36947                   159.0          10.2074         0.0   \n",
       "43825                    55.0           6.1180         0.0   \n",
       "\n",
       "       Pressure (millibars)                                      Daily Summary  \n",
       "51162               1023.48  Partly cloudy starting in the afternoon contin...  \n",
       "36947                999.03                  Mostly cloudy throughout the day.  \n",
       "43825               1010.71                  Mostly cloudy throughout the day.  "
      ]
     },
     "execution_count": 26,
     "metadata": {},
     "output_type": "execute_result"
    }
   ],
   "source": [
    "df = pd.read_csv('archive.zip')\n",
    "df.sample(3)"
   ]
  },
  {
   "cell_type": "code",
   "execution_count": 27,
   "metadata": {},
   "outputs": [
    {
     "data": {
      "text/html": [
       "<div>\n",
       "<style scoped>\n",
       "    .dataframe tbody tr th:only-of-type {\n",
       "        vertical-align: middle;\n",
       "    }\n",
       "\n",
       "    .dataframe tbody tr th {\n",
       "        vertical-align: top;\n",
       "    }\n",
       "\n",
       "    .dataframe thead th {\n",
       "        text-align: right;\n",
       "    }\n",
       "</style>\n",
       "<table border=\"1\" class=\"dataframe\">\n",
       "  <thead>\n",
       "    <tr style=\"text-align: right;\">\n",
       "      <th></th>\n",
       "      <th>Temperature (C)</th>\n",
       "      <th>Apparent Temperature (C)</th>\n",
       "      <th>Humidity</th>\n",
       "      <th>Wind Speed (km/h)</th>\n",
       "      <th>Wind Bearing (degrees)</th>\n",
       "      <th>Visibility (km)</th>\n",
       "      <th>Loud Cover</th>\n",
       "      <th>Pressure (millibars)</th>\n",
       "    </tr>\n",
       "  </thead>\n",
       "  <tbody>\n",
       "    <tr>\n",
       "      <th>count</th>\n",
       "      <td>96453.000000</td>\n",
       "      <td>96453.000000</td>\n",
       "      <td>96453.000000</td>\n",
       "      <td>96453.000000</td>\n",
       "      <td>96453.000000</td>\n",
       "      <td>96453.000000</td>\n",
       "      <td>96453.0</td>\n",
       "      <td>96453.000000</td>\n",
       "    </tr>\n",
       "    <tr>\n",
       "      <th>mean</th>\n",
       "      <td>11.932678</td>\n",
       "      <td>10.855029</td>\n",
       "      <td>0.734899</td>\n",
       "      <td>10.810640</td>\n",
       "      <td>187.509232</td>\n",
       "      <td>10.347325</td>\n",
       "      <td>0.0</td>\n",
       "      <td>1003.235956</td>\n",
       "    </tr>\n",
       "    <tr>\n",
       "      <th>std</th>\n",
       "      <td>9.551546</td>\n",
       "      <td>10.696847</td>\n",
       "      <td>0.195473</td>\n",
       "      <td>6.913571</td>\n",
       "      <td>107.383428</td>\n",
       "      <td>4.192123</td>\n",
       "      <td>0.0</td>\n",
       "      <td>116.969906</td>\n",
       "    </tr>\n",
       "    <tr>\n",
       "      <th>min</th>\n",
       "      <td>-21.822222</td>\n",
       "      <td>-27.716667</td>\n",
       "      <td>0.000000</td>\n",
       "      <td>0.000000</td>\n",
       "      <td>0.000000</td>\n",
       "      <td>0.000000</td>\n",
       "      <td>0.0</td>\n",
       "      <td>0.000000</td>\n",
       "    </tr>\n",
       "    <tr>\n",
       "      <th>25%</th>\n",
       "      <td>4.688889</td>\n",
       "      <td>2.311111</td>\n",
       "      <td>0.600000</td>\n",
       "      <td>5.828200</td>\n",
       "      <td>116.000000</td>\n",
       "      <td>8.339800</td>\n",
       "      <td>0.0</td>\n",
       "      <td>1011.900000</td>\n",
       "    </tr>\n",
       "    <tr>\n",
       "      <th>50%</th>\n",
       "      <td>12.000000</td>\n",
       "      <td>12.000000</td>\n",
       "      <td>0.780000</td>\n",
       "      <td>9.965900</td>\n",
       "      <td>180.000000</td>\n",
       "      <td>10.046400</td>\n",
       "      <td>0.0</td>\n",
       "      <td>1016.450000</td>\n",
       "    </tr>\n",
       "    <tr>\n",
       "      <th>75%</th>\n",
       "      <td>18.838889</td>\n",
       "      <td>18.838889</td>\n",
       "      <td>0.890000</td>\n",
       "      <td>14.135800</td>\n",
       "      <td>290.000000</td>\n",
       "      <td>14.812000</td>\n",
       "      <td>0.0</td>\n",
       "      <td>1021.090000</td>\n",
       "    </tr>\n",
       "    <tr>\n",
       "      <th>max</th>\n",
       "      <td>39.905556</td>\n",
       "      <td>39.344444</td>\n",
       "      <td>1.000000</td>\n",
       "      <td>63.852600</td>\n",
       "      <td>359.000000</td>\n",
       "      <td>16.100000</td>\n",
       "      <td>0.0</td>\n",
       "      <td>1046.380000</td>\n",
       "    </tr>\n",
       "  </tbody>\n",
       "</table>\n",
       "</div>"
      ],
      "text/plain": [
       "       Temperature (C)  Apparent Temperature (C)      Humidity  \\\n",
       "count     96453.000000              96453.000000  96453.000000   \n",
       "mean         11.932678                 10.855029      0.734899   \n",
       "std           9.551546                 10.696847      0.195473   \n",
       "min         -21.822222                -27.716667      0.000000   \n",
       "25%           4.688889                  2.311111      0.600000   \n",
       "50%          12.000000                 12.000000      0.780000   \n",
       "75%          18.838889                 18.838889      0.890000   \n",
       "max          39.905556                 39.344444      1.000000   \n",
       "\n",
       "       Wind Speed (km/h)  Wind Bearing (degrees)  Visibility (km)  Loud Cover  \\\n",
       "count       96453.000000            96453.000000     96453.000000     96453.0   \n",
       "mean           10.810640              187.509232        10.347325         0.0   \n",
       "std             6.913571              107.383428         4.192123         0.0   \n",
       "min             0.000000                0.000000         0.000000         0.0   \n",
       "25%             5.828200              116.000000         8.339800         0.0   \n",
       "50%             9.965900              180.000000        10.046400         0.0   \n",
       "75%            14.135800              290.000000        14.812000         0.0   \n",
       "max            63.852600              359.000000        16.100000         0.0   \n",
       "\n",
       "       Pressure (millibars)  \n",
       "count          96453.000000  \n",
       "mean            1003.235956  \n",
       "std              116.969906  \n",
       "min                0.000000  \n",
       "25%             1011.900000  \n",
       "50%             1016.450000  \n",
       "75%             1021.090000  \n",
       "max             1046.380000  "
      ]
     },
     "execution_count": 27,
     "metadata": {},
     "output_type": "execute_result"
    }
   ],
   "source": [
    "df.describe()"
   ]
  },
  {
   "cell_type": "code",
   "execution_count": 28,
   "metadata": {},
   "outputs": [
    {
     "data": {
      "text/html": [
       "<div>\n",
       "<style scoped>\n",
       "    .dataframe tbody tr th:only-of-type {\n",
       "        vertical-align: middle;\n",
       "    }\n",
       "\n",
       "    .dataframe tbody tr th {\n",
       "        vertical-align: top;\n",
       "    }\n",
       "\n",
       "    .dataframe thead th {\n",
       "        text-align: right;\n",
       "    }\n",
       "</style>\n",
       "<table border=\"1\" class=\"dataframe\">\n",
       "  <thead>\n",
       "    <tr style=\"text-align: right;\">\n",
       "      <th></th>\n",
       "      <th>0</th>\n",
       "    </tr>\n",
       "  </thead>\n",
       "  <tbody>\n",
       "    <tr>\n",
       "      <th>Formatted Date</th>\n",
       "      <td>96429</td>\n",
       "    </tr>\n",
       "    <tr>\n",
       "      <th>Summary</th>\n",
       "      <td>27</td>\n",
       "    </tr>\n",
       "    <tr>\n",
       "      <th>Precip Type</th>\n",
       "      <td>3</td>\n",
       "    </tr>\n",
       "    <tr>\n",
       "      <th>Temperature (C)</th>\n",
       "      <td>7574</td>\n",
       "    </tr>\n",
       "    <tr>\n",
       "      <th>Apparent Temperature (C)</th>\n",
       "      <td>8984</td>\n",
       "    </tr>\n",
       "    <tr>\n",
       "      <th>Humidity</th>\n",
       "      <td>90</td>\n",
       "    </tr>\n",
       "    <tr>\n",
       "      <th>Wind Speed (km/h)</th>\n",
       "      <td>2484</td>\n",
       "    </tr>\n",
       "    <tr>\n",
       "      <th>Wind Bearing (degrees)</th>\n",
       "      <td>360</td>\n",
       "    </tr>\n",
       "    <tr>\n",
       "      <th>Visibility (km)</th>\n",
       "      <td>949</td>\n",
       "    </tr>\n",
       "    <tr>\n",
       "      <th>Loud Cover</th>\n",
       "      <td>1</td>\n",
       "    </tr>\n",
       "    <tr>\n",
       "      <th>Pressure (millibars)</th>\n",
       "      <td>4979</td>\n",
       "    </tr>\n",
       "    <tr>\n",
       "      <th>Daily Summary</th>\n",
       "      <td>214</td>\n",
       "    </tr>\n",
       "  </tbody>\n",
       "</table>\n",
       "</div>"
      ],
      "text/plain": [
       "                              0\n",
       "Formatted Date            96429\n",
       "Summary                      27\n",
       "Precip Type                   3\n",
       "Temperature (C)            7574\n",
       "Apparent Temperature (C)   8984\n",
       "Humidity                     90\n",
       "Wind Speed (km/h)          2484\n",
       "Wind Bearing (degrees)      360\n",
       "Visibility (km)             949\n",
       "Loud Cover                    1\n",
       "Pressure (millibars)       4979\n",
       "Daily Summary               214"
      ]
     },
     "execution_count": 28,
     "metadata": {},
     "output_type": "execute_result"
    }
   ],
   "source": [
    "uniqs = []\n",
    "for column in list(df.columns):\n",
    "    uniqs.append(len(df[column].unique()))\n",
    "pd.DataFrame(index= list(df.columns), data=uniqs)"
   ]
  },
  {
   "cell_type": "markdown",
   "metadata": {},
   "source": [
    "Удаляю столбец с одним уникальным значением - толку от него нет."
   ]
  },
  {
   "cell_type": "code",
   "execution_count": 29,
   "metadata": {},
   "outputs": [
    {
     "data": {
      "text/html": [
       "<div>\n",
       "<style scoped>\n",
       "    .dataframe tbody tr th:only-of-type {\n",
       "        vertical-align: middle;\n",
       "    }\n",
       "\n",
       "    .dataframe tbody tr th {\n",
       "        vertical-align: top;\n",
       "    }\n",
       "\n",
       "    .dataframe thead th {\n",
       "        text-align: right;\n",
       "    }\n",
       "</style>\n",
       "<table border=\"1\" class=\"dataframe\">\n",
       "  <thead>\n",
       "    <tr style=\"text-align: right;\">\n",
       "      <th></th>\n",
       "      <th>Formatted Date</th>\n",
       "      <th>Summary</th>\n",
       "      <th>Precip Type</th>\n",
       "      <th>Temperature (C)</th>\n",
       "      <th>Apparent Temperature (C)</th>\n",
       "      <th>Humidity</th>\n",
       "      <th>Wind Speed (km/h)</th>\n",
       "      <th>Wind Bearing (degrees)</th>\n",
       "      <th>Visibility (km)</th>\n",
       "      <th>Pressure (millibars)</th>\n",
       "      <th>Daily Summary</th>\n",
       "    </tr>\n",
       "  </thead>\n",
       "  <tbody>\n",
       "    <tr>\n",
       "      <th>87761</th>\n",
       "      <td>2016-04-12 20:00:00.000 +0200</td>\n",
       "      <td>Partly Cloudy</td>\n",
       "      <td>rain</td>\n",
       "      <td>16.5</td>\n",
       "      <td>16.5</td>\n",
       "      <td>0.54</td>\n",
       "      <td>1.1753</td>\n",
       "      <td>23.0</td>\n",
       "      <td>15.5526</td>\n",
       "      <td>1009.87</td>\n",
       "      <td>Foggy in the morning.</td>\n",
       "    </tr>\n",
       "  </tbody>\n",
       "</table>\n",
       "</div>"
      ],
      "text/plain": [
       "                      Formatted Date        Summary Precip Type  \\\n",
       "87761  2016-04-12 20:00:00.000 +0200  Partly Cloudy        rain   \n",
       "\n",
       "       Temperature (C)  Apparent Temperature (C)  Humidity  Wind Speed (km/h)  \\\n",
       "87761             16.5                      16.5      0.54             1.1753   \n",
       "\n",
       "       Wind Bearing (degrees)  Visibility (km)  Pressure (millibars)  \\\n",
       "87761                    23.0          15.5526               1009.87   \n",
       "\n",
       "               Daily Summary  \n",
       "87761  Foggy in the morning.  "
      ]
     },
     "execution_count": 29,
     "metadata": {},
     "output_type": "execute_result"
    }
   ],
   "source": [
    "df.drop(columns=['Loud Cover'], inplace=True)\n",
    "df.sample(1)"
   ]
  },
  {
   "cell_type": "markdown",
   "metadata": {},
   "source": [
    "Посмотрим на NaN'ы."
   ]
  },
  {
   "cell_type": "code",
   "execution_count": 30,
   "metadata": {},
   "outputs": [
    {
     "data": {
      "text/plain": [
       "Formatted Date                0\n",
       "Summary                       0\n",
       "Precip Type                 517\n",
       "Temperature (C)               0\n",
       "Apparent Temperature (C)      0\n",
       "Humidity                      0\n",
       "Wind Speed (km/h)             0\n",
       "Wind Bearing (degrees)        0\n",
       "Visibility (km)               0\n",
       "Pressure (millibars)          0\n",
       "Daily Summary                 0\n",
       "dtype: int64"
      ]
     },
     "execution_count": 30,
     "metadata": {},
     "output_type": "execute_result"
    }
   ],
   "source": [
    "df.isnull().sum(axis = 0)"
   ]
  },
  {
   "cell_type": "code",
   "execution_count": 31,
   "metadata": {},
   "outputs": [
    {
     "data": {
      "text/html": [
       "<div>\n",
       "<style scoped>\n",
       "    .dataframe tbody tr th:only-of-type {\n",
       "        vertical-align: middle;\n",
       "    }\n",
       "\n",
       "    .dataframe tbody tr th {\n",
       "        vertical-align: top;\n",
       "    }\n",
       "\n",
       "    .dataframe thead th {\n",
       "        text-align: right;\n",
       "    }\n",
       "</style>\n",
       "<table border=\"1\" class=\"dataframe\">\n",
       "  <thead>\n",
       "    <tr style=\"text-align: right;\">\n",
       "      <th></th>\n",
       "      <th>Date</th>\n",
       "      <th>Summary</th>\n",
       "      <th>Precip</th>\n",
       "      <th>Temp</th>\n",
       "      <th>A_temp</th>\n",
       "      <th>Humidity</th>\n",
       "      <th>WindSpeed</th>\n",
       "      <th>WindBearing</th>\n",
       "      <th>Visibility</th>\n",
       "      <th>Pressure</th>\n",
       "      <th>DailyResume</th>\n",
       "    </tr>\n",
       "  </thead>\n",
       "  <tbody>\n",
       "    <tr>\n",
       "      <th>25145</th>\n",
       "      <td>2008-10-02 18:00:00.000 +0200</td>\n",
       "      <td>Mostly Cloudy</td>\n",
       "      <td>rain</td>\n",
       "      <td>20.044444</td>\n",
       "      <td>20.044444</td>\n",
       "      <td>0.57</td>\n",
       "      <td>9.4668</td>\n",
       "      <td>161.0</td>\n",
       "      <td>9.982</td>\n",
       "      <td>1009.29</td>\n",
       "      <td>Mostly cloudy throughout the day.</td>\n",
       "    </tr>\n",
       "  </tbody>\n",
       "</table>\n",
       "</div>"
      ],
      "text/plain": [
       "                                Date        Summary Precip       Temp  \\\n",
       "25145  2008-10-02 18:00:00.000 +0200  Mostly Cloudy   rain  20.044444   \n",
       "\n",
       "          A_temp  Humidity  WindSpeed  WindBearing  Visibility  Pressure  \\\n",
       "25145  20.044444      0.57     9.4668        161.0       9.982   1009.29   \n",
       "\n",
       "                             DailyResume  \n",
       "25145  Mostly cloudy throughout the day.  "
      ]
     },
     "execution_count": 31,
     "metadata": {},
     "output_type": "execute_result"
    }
   ],
   "source": [
    "df.fillna('', inplace=True)\n",
    "df.rename(columns={'Formatted Date':'Date',\n",
    "                   'Precip Type':'Precip',\n",
    "                   'Temperature (C)':'Temp',\n",
    "                   'Apparent Temperature (C)':'A_temp',\n",
    "                   'Wind Speed (km/h)':'WindSpeed',\n",
    "                   'Wind Bearing (degrees)':'WindBearing',\n",
    "                   'Visibility (km)':'Visibility',\n",
    "                   'Pressure (millibars)':'Pressure',\n",
    "                   'Daily Summary':'DailyResume'\n",
    "                  }, inplace=True)\n",
    "df.sample()"
   ]
  },
  {
   "cell_type": "markdown",
   "metadata": {},
   "source": [
    "Посмотрим на признак осадков."
   ]
  },
  {
   "cell_type": "code",
   "execution_count": 32,
   "metadata": {},
   "outputs": [
    {
     "data": {
      "text/plain": [
       "rain    85224\n",
       "snow    10712\n",
       "          517\n",
       "Name: Precip, dtype: int64"
      ]
     },
     "execution_count": 32,
     "metadata": {},
     "output_type": "execute_result"
    }
   ],
   "source": [
    "df.Precip.value_counts()"
   ]
  },
  {
   "cell_type": "markdown",
   "metadata": {},
   "source": [
    "Очень странно, что у нас из осадков либо снег, либо дождь, либо ничего нет. Давайте посмотрим на интервалы температур, когда выпадают эти осадки."
   ]
  },
  {
   "cell_type": "code",
   "execution_count": 33,
   "metadata": {},
   "outputs": [
    {
     "data": {
      "text/plain": [
       "(0.0, 0.0055555555555544)"
      ]
     },
     "execution_count": 33,
     "metadata": {},
     "output_type": "execute_result"
    }
   ],
   "source": [
    "df[df.Precip == 'snow']['Temp'].max(), df[df.Precip == 'rain']['Temp'].min()"
   ]
  },
  {
   "cell_type": "code",
   "execution_count": 34,
   "metadata": {},
   "outputs": [
    {
     "data": {
      "text/plain": [
       "(1.2555555555555544, 25.04444444444444)"
      ]
     },
     "execution_count": 34,
     "metadata": {},
     "output_type": "execute_result"
    }
   ],
   "source": [
    "df[df.Precip == '']['Temp'].min(), df[df.Precip == '']['Temp'].max()"
   ]
  },
  {
   "cell_type": "markdown",
   "metadata": {},
   "source": [
    "Это очень хороший признак, так как мы можем быть уверены, что если идет снег, то температура не больше нуля. Если осадков нет, то точно больше нуля."
   ]
  },
  {
   "cell_type": "markdown",
   "metadata": {},
   "source": [
    "Замечу, что последний столбец как бы повторяет суть второго, но при этом не всегда. К примеру, строка под номером 70566:"
   ]
  },
  {
   "cell_type": "code",
   "execution_count": 35,
   "metadata": {},
   "outputs": [
    {
     "data": {
      "text/plain": [
       "Date               2014-04-25 06:00:00.000 +0200\n",
       "Summary                                 Overcast\n",
       "Precip                                      rain\n",
       "Temp                                   13.838889\n",
       "A_temp                                 13.838889\n",
       "Humidity                                    0.93\n",
       "WindSpeed                                 12.397\n",
       "WindBearing                                129.0\n",
       "Visibility                                4.1216\n",
       "Pressure                                 1012.19\n",
       "DailyResume    Mostly cloudy throughout the day.\n",
       "Name: 70566, dtype: object"
      ]
     },
     "execution_count": 35,
     "metadata": {},
     "output_type": "execute_result"
    }
   ],
   "source": [
    "df.loc[70566]"
   ]
  },
  {
   "cell_type": "markdown",
   "metadata": {},
   "source": [
    "Получается, что имеем пасмурную погоду, но в основном в течение дня облачно. Я все равно считаю нужным удалить этот столбец, поскольку не думаю, что он даст нам много информации, а кодировать 214 уникальных значений с помощью (пусть даже с помощью `OrdinalEncoder` не есть хорошо."
   ]
  },
  {
   "cell_type": "code",
   "execution_count": 36,
   "metadata": {},
   "outputs": [],
   "source": [
    "df.drop(columns='DailyResume', inplace=True)"
   ]
  },
  {
   "cell_type": "markdown",
   "metadata": {},
   "source": [
    "Точно такая же проблема возникает и с таймстемпом - придется кодировать аж 96429 уникальных значений. На мой взгляд имеет смысл из этого столбца вычленить отдельные значения года, месяца, дня в месяце по счету и часа. Тогда нам придется кодировать более чем в 1000 раз меньше временных признаков."
   ]
  },
  {
   "cell_type": "code",
   "execution_count": 37,
   "metadata": {},
   "outputs": [
    {
     "data": {
      "text/plain": [
       "Date           datetime64[ns, UTC]\n",
       "Summary                     object\n",
       "Precip                      object\n",
       "Temp                       float64\n",
       "A_temp                     float64\n",
       "Humidity                   float64\n",
       "WindSpeed                  float64\n",
       "WindBearing                float64\n",
       "Visibility                 float64\n",
       "Pressure                   float64\n",
       "dtype: object"
      ]
     },
     "execution_count": 37,
     "metadata": {},
     "output_type": "execute_result"
    }
   ],
   "source": [
    "df.Date = pd.to_datetime(df.Date, utc=True)\n",
    "df.dtypes"
   ]
  },
  {
   "cell_type": "code",
   "execution_count": 38,
   "metadata": {},
   "outputs": [
    {
     "data": {
      "text/html": [
       "<div>\n",
       "<style scoped>\n",
       "    .dataframe tbody tr th:only-of-type {\n",
       "        vertical-align: middle;\n",
       "    }\n",
       "\n",
       "    .dataframe tbody tr th {\n",
       "        vertical-align: top;\n",
       "    }\n",
       "\n",
       "    .dataframe thead th {\n",
       "        text-align: right;\n",
       "    }\n",
       "</style>\n",
       "<table border=\"1\" class=\"dataframe\">\n",
       "  <thead>\n",
       "    <tr style=\"text-align: right;\">\n",
       "      <th></th>\n",
       "      <th>Date</th>\n",
       "      <th>Summary</th>\n",
       "      <th>Precip</th>\n",
       "      <th>Temp</th>\n",
       "      <th>A_temp</th>\n",
       "      <th>Humidity</th>\n",
       "      <th>WindSpeed</th>\n",
       "      <th>WindBearing</th>\n",
       "      <th>Visibility</th>\n",
       "      <th>Pressure</th>\n",
       "      <th>Hour</th>\n",
       "      <th>Day</th>\n",
       "      <th>Month</th>\n",
       "      <th>Year</th>\n",
       "    </tr>\n",
       "  </thead>\n",
       "  <tbody>\n",
       "    <tr>\n",
       "      <th>68872</th>\n",
       "      <td>2013-10-16 15:00:00+00:00</td>\n",
       "      <td>Breezy and Mostly Cloudy</td>\n",
       "      <td>rain</td>\n",
       "      <td>11.05</td>\n",
       "      <td>11.05</td>\n",
       "      <td>0.81</td>\n",
       "      <td>29.1893</td>\n",
       "      <td>292.0</td>\n",
       "      <td>10.3523</td>\n",
       "      <td>1003.65</td>\n",
       "      <td>15</td>\n",
       "      <td>16</td>\n",
       "      <td>10</td>\n",
       "      <td>2013</td>\n",
       "    </tr>\n",
       "  </tbody>\n",
       "</table>\n",
       "</div>"
      ],
      "text/plain": [
       "                           Date                   Summary Precip   Temp  \\\n",
       "68872 2013-10-16 15:00:00+00:00  Breezy and Mostly Cloudy   rain  11.05   \n",
       "\n",
       "       A_temp  Humidity  WindSpeed  WindBearing  Visibility  Pressure  Hour  \\\n",
       "68872   11.05      0.81    29.1893        292.0     10.3523   1003.65    15   \n",
       "\n",
       "       Day  Month  Year  \n",
       "68872   16     10  2013  "
      ]
     },
     "execution_count": 38,
     "metadata": {},
     "output_type": "execute_result"
    }
   ],
   "source": [
    "df['Hour'] = df.Date.dt.hour\n",
    "df['Day'] = df.Date.dt.day\n",
    "df['Month'] = df.Date.dt.month\n",
    "df['Year'] = df.Date.dt.year\n",
    "# df.drop(columns='Date', inplace=True)\n",
    "df.sample()"
   ]
  },
  {
   "cell_type": "markdown",
   "metadata": {},
   "source": [
    "Посмотрим на некоторые графики."
   ]
  },
  {
   "cell_type": "code",
   "execution_count": 39,
   "metadata": {},
   "outputs": [
    {
     "data": {
      "image/png": "[encoded data removed]",
      "text/plain": [
       "<Figure size 703.95x504 with 1 Axes>"
      ]
     },
     "metadata": {
      "needs_background": "light"
     },
     "output_type": "display_data"
    }
   ],
   "source": [
    "dfg_ = df.groupby(['Hour', 'Month'], as_index=False)['Temp'].mean()\n",
    "sns.relplot(x='Hour', y='Temp', hue='Month', data=dfg_, height=7, aspect=1.3)\n",
    "plt.title('Mean temperature for an hour (\\w month)')\n",
    "plt.grid()\n",
    "plt.show()"
   ]
  },
  {
   "cell_type": "code",
   "execution_count": 40,
   "metadata": {},
   "outputs": [
    {
     "data": {
      "image/png": "[encoded data removed]",
      "text/plain": [
       "<Figure size 703.95x504 with 1 Axes>"
      ]
     },
     "metadata": {
      "needs_background": "light"
     },
     "output_type": "display_data"
    }
   ],
   "source": [
    "dfg_ = df.groupby(['Month', 'Day'], as_index=False)['Temp'].mean()\n",
    "sns.relplot(x='Day', y='Temp', hue='Month', data=dfg_, height=7, aspect=1.3)\n",
    "plt.title('Mean temperature for a day (\\w month)')\n",
    "plt.grid()\n",
    "plt.show()"
   ]
  },
  {
   "cell_type": "markdown",
   "metadata": {},
   "source": [
    "На первом графике все понятно - с утра холодно, тем теплее, чем ближе к дню, а уже после снова похолодание. \n",
    "\n",
    "На втором графике я хотел посмотреть, как меняется средняя температура по дня для каждого месяца. К сожалению, тут не видно какой-то единой закономерности. Она есть для определенных месяцев, но такой признак я не знаю, как записать."
   ]
  },
  {
   "cell_type": "markdown",
   "metadata": {},
   "source": [
    "Теперь вспомним, что времена года асиметричны относительно полушарий. Например, в США зимой холодно, летом тепло, в то время как в ЮАРе - наоборот. Поэтому если мы обучим модель по данным из северных широт и протестируем на данных с южных, то мы поймем, что у модели плохая обобщающая способность.\n",
    "\n",
    "Их можно было бы удалить, но я, пожалуй, оставлю, так как если я правильно понял, что мы делаем предсказания именно по той стране, в которой были собраны данные."
   ]
  },
  {
   "cell_type": "code",
   "execution_count": 41,
   "metadata": {},
   "outputs": [],
   "source": [
    "# df.drop(columns=['Month', 'Day'], inplace=True)"
   ]
  },
  {
   "cell_type": "markdown",
   "metadata": {},
   "source": [
    "Лучшим вариантом было бы объединить день и месяц в один признак, потому что:"
   ]
  },
  {
   "cell_type": "code",
   "execution_count": 44,
   "metadata": {},
   "outputs": [
    {
     "data": {
      "image/png": "[encoded data removed]",
      "text/plain": [
       "<Figure size 703.95x504 with 1 Axes>"
      ]
     },
     "metadata": {
      "needs_background": "light"
     },
     "output_type": "display_data"
    }
   ],
   "source": [
    "dfg_ = df.groupby(['Month', 'Day'], as_index=False)['Temp'].mean()\n",
    "sns.relplot(x='Month', y='Temp', hue='Day', data=dfg_, height=7, aspect=1.3)\n",
    "plt.title('Mean temperature for a month (\\w day)')\n",
    "plt.grid()\n",
    "plt.show()"
   ]
  },
  {
   "cell_type": "markdown",
   "metadata": {},
   "source": [
    "Если мы рассматриваем какой-то день, то мы должны либо рассматривать его неразрывно с месяцем, либо рассматривать его как номер дня в году. Так мы и сделаем."
   ]
  },
  {
   "cell_type": "code",
   "execution_count": 47,
   "metadata": {},
   "outputs": [
    {
     "data": {
      "image/png": "[encoded data removed]",
      "text/plain": [
       "<Figure size 655.2x504 with 1 Axes>"
      ]
     },
     "metadata": {
      "needs_background": "light"
     },
     "output_type": "display_data"
    }
   ],
   "source": [
    "df['Day'] = df.Date.dt.dayofyear\n",
    "dfg_ = df.groupby(['Day'], as_index=False)['Temp'].mean()\n",
    "sns.relplot(x='Day', y='Temp', data=dfg_, height=7, aspect=1.3)\n",
    "plt.title('Mean temperature for a day')\n",
    "plt.grid()\n",
    "plt.show()"
   ]
  },
  {
   "cell_type": "markdown",
   "metadata": {},
   "source": [
    "Посмотрим на корреляции с таргетом."
   ]
  },
  {
   "cell_type": "code",
   "execution_count": 49,
   "metadata": {},
   "outputs": [
    {
     "data": {
      "image/png": "[encoded data removed]",
      "text/plain": [
       "<Figure size 1008x288 with 1 Axes>"
      ]
     },
     "metadata": {
      "needs_background": "light"
     },
     "output_type": "display_data"
    }
   ],
   "source": [
    "numeric_features = ['Humidity', 'WindSpeed', 'WindBearing', 'Visibility', 'Pressure', 'Day', 'Year']\n",
    "correlations = df[numeric_features + ['A_temp']].corrwith(df.Temp).sort_values(ascending=False)\n",
    "\n",
    "plot = sns.barplot(y=correlations.index, x=correlations)\n",
    "plot.figure.set_size_inches(14, 4)"
   ]
  },
  {
   "cell_type": "markdown",
   "metadata": {},
   "source": [
    "Заметим, что влияние температуры \"как она ощущается\" на температуру \"as is\" крайне высокое (корреляция почти 1). То есть, `Apparent Temperature` по сути является главным признаком. Однако я не особо понимаю принципы расчета таких значений и не могу сказать, корректно ли будет обучать модель по такому признаку, поскольку в чем тогда суть модели, если для нее по большей части нужен всего один признак? Возможно, логичнее было бы предсказать `Apparent Temperature` по фактической температуре, но это уже не наша задачу. Отмечу еще, что корреляции будут похожими, если мы переставим признак и целевую переменную местами:"
   ]
  },
  {
   "cell_type": "code",
   "execution_count": 50,
   "metadata": {},
   "outputs": [
    {
     "data": {
      "image/png": "[encoded data removed]",
      "text/plain": [
       "<Figure size 1008x288 with 1 Axes>"
      ]
     },
     "metadata": {
      "needs_background": "light"
     },
     "output_type": "display_data"
    }
   ],
   "source": [
    "correlations = df[numeric_features + ['Temp']].corrwith(df.A_temp).sort_values(ascending=False)\n",
    "\n",
    "plot = sns.barplot(y=correlations.index, x=correlations)\n",
    "plot.figure.set_size_inches(14, 4)"
   ]
  },
  {
   "cell_type": "markdown",
   "metadata": {},
   "source": [
    "Заметим, что `Apparent Temperature` не коррелирует с давлением. Это интересно. Также понятно, почему скорость ветра сильнее влияет на этот таргет. В любом случае, `Apparent Temperature` как признак я использовать не буду, ибо он слишком сильно \"палит\" целевую переменную.\n",
    "\n",
    "Ради интереса посмотрим на распределение таргета. Как видим, выбросов не имеем."
   ]
  },
  {
   "cell_type": "code",
   "execution_count": 51,
   "metadata": {},
   "outputs": [
    {
     "data": {
      "image/png": "[encoded data removed]",
      "text/plain": [
       "<Figure size 720x432 with 1 Axes>"
      ]
     },
     "metadata": {
      "needs_background": "light"
     },
     "output_type": "display_data"
    }
   ],
   "source": [
    "plt.rcParams['figure.figsize'] = 10, 6\n",
    "plt.hist(df.Temp.values, bins=50, edgecolor = 'k')\n",
    "plt.xlabel('temperature')\n",
    "plt.ylabel('number of records')\n",
    "plt.title('Temperature Distribution')\n",
    "plt.grid()\n",
    "plt.show()"
   ]
  },
  {
   "cell_type": "markdown",
   "metadata": {},
   "source": [
    "Скорость метра обычно измеряется в метрах в секунду, поэтому я сделаю перевод."
   ]
  },
  {
   "cell_type": "code",
   "execution_count": 52,
   "metadata": {},
   "outputs": [
    {
     "data": {
      "text/html": [
       "<div>\n",
       "<style scoped>\n",
       "    .dataframe tbody tr th:only-of-type {\n",
       "        vertical-align: middle;\n",
       "    }\n",
       "\n",
       "    .dataframe tbody tr th {\n",
       "        vertical-align: top;\n",
       "    }\n",
       "\n",
       "    .dataframe thead th {\n",
       "        text-align: right;\n",
       "    }\n",
       "</style>\n",
       "<table border=\"1\" class=\"dataframe\">\n",
       "  <thead>\n",
       "    <tr style=\"text-align: right;\">\n",
       "      <th></th>\n",
       "      <th>Date</th>\n",
       "      <th>Summary</th>\n",
       "      <th>Precip</th>\n",
       "      <th>Temp</th>\n",
       "      <th>A_temp</th>\n",
       "      <th>Humidity</th>\n",
       "      <th>WindSpeed</th>\n",
       "      <th>WindBearing</th>\n",
       "      <th>Visibility</th>\n",
       "      <th>Pressure</th>\n",
       "      <th>Hour</th>\n",
       "      <th>Day</th>\n",
       "      <th>Month</th>\n",
       "      <th>Year</th>\n",
       "    </tr>\n",
       "  </thead>\n",
       "  <tbody>\n",
       "    <tr>\n",
       "      <th>0</th>\n",
       "      <td>2006-03-31 22:00:00+00:00</td>\n",
       "      <td>Partly Cloudy</td>\n",
       "      <td>rain</td>\n",
       "      <td>9.472222</td>\n",
       "      <td>7.388889</td>\n",
       "      <td>0.89</td>\n",
       "      <td>3.922139</td>\n",
       "      <td>251.0</td>\n",
       "      <td>15.8263</td>\n",
       "      <td>1015.13</td>\n",
       "      <td>22</td>\n",
       "      <td>90</td>\n",
       "      <td>3</td>\n",
       "      <td>2006</td>\n",
       "    </tr>\n",
       "    <tr>\n",
       "      <th>1</th>\n",
       "      <td>2006-03-31 23:00:00+00:00</td>\n",
       "      <td>Partly Cloudy</td>\n",
       "      <td>rain</td>\n",
       "      <td>9.355556</td>\n",
       "      <td>7.227778</td>\n",
       "      <td>0.86</td>\n",
       "      <td>3.962389</td>\n",
       "      <td>259.0</td>\n",
       "      <td>15.8263</td>\n",
       "      <td>1015.63</td>\n",
       "      <td>23</td>\n",
       "      <td>90</td>\n",
       "      <td>3</td>\n",
       "      <td>2006</td>\n",
       "    </tr>\n",
       "    <tr>\n",
       "      <th>2</th>\n",
       "      <td>2006-04-01 00:00:00+00:00</td>\n",
       "      <td>Mostly Cloudy</td>\n",
       "      <td>rain</td>\n",
       "      <td>9.377778</td>\n",
       "      <td>9.377778</td>\n",
       "      <td>0.89</td>\n",
       "      <td>1.091222</td>\n",
       "      <td>204.0</td>\n",
       "      <td>14.9569</td>\n",
       "      <td>1015.94</td>\n",
       "      <td>0</td>\n",
       "      <td>91</td>\n",
       "      <td>4</td>\n",
       "      <td>2006</td>\n",
       "    </tr>\n",
       "    <tr>\n",
       "      <th>3</th>\n",
       "      <td>2006-04-01 01:00:00+00:00</td>\n",
       "      <td>Partly Cloudy</td>\n",
       "      <td>rain</td>\n",
       "      <td>8.288889</td>\n",
       "      <td>5.944444</td>\n",
       "      <td>0.83</td>\n",
       "      <td>3.917667</td>\n",
       "      <td>269.0</td>\n",
       "      <td>15.8263</td>\n",
       "      <td>1016.41</td>\n",
       "      <td>1</td>\n",
       "      <td>91</td>\n",
       "      <td>4</td>\n",
       "      <td>2006</td>\n",
       "    </tr>\n",
       "    <tr>\n",
       "      <th>4</th>\n",
       "      <td>2006-04-01 02:00:00+00:00</td>\n",
       "      <td>Mostly Cloudy</td>\n",
       "      <td>rain</td>\n",
       "      <td>8.755556</td>\n",
       "      <td>6.977778</td>\n",
       "      <td>0.83</td>\n",
       "      <td>3.067944</td>\n",
       "      <td>259.0</td>\n",
       "      <td>15.8263</td>\n",
       "      <td>1016.51</td>\n",
       "      <td>2</td>\n",
       "      <td>91</td>\n",
       "      <td>4</td>\n",
       "      <td>2006</td>\n",
       "    </tr>\n",
       "  </tbody>\n",
       "</table>\n",
       "</div>"
      ],
      "text/plain": [
       "                       Date        Summary Precip      Temp    A_temp  \\\n",
       "0 2006-03-31 22:00:00+00:00  Partly Cloudy   rain  9.472222  7.388889   \n",
       "1 2006-03-31 23:00:00+00:00  Partly Cloudy   rain  9.355556  7.227778   \n",
       "2 2006-04-01 00:00:00+00:00  Mostly Cloudy   rain  9.377778  9.377778   \n",
       "3 2006-04-01 01:00:00+00:00  Partly Cloudy   rain  8.288889  5.944444   \n",
       "4 2006-04-01 02:00:00+00:00  Mostly Cloudy   rain  8.755556  6.977778   \n",
       "\n",
       "   Humidity  WindSpeed  WindBearing  Visibility  Pressure  Hour  Day  Month  \\\n",
       "0      0.89   3.922139        251.0     15.8263   1015.13    22   90      3   \n",
       "1      0.86   3.962389        259.0     15.8263   1015.63    23   90      3   \n",
       "2      0.89   1.091222        204.0     14.9569   1015.94     0   91      4   \n",
       "3      0.83   3.917667        269.0     15.8263   1016.41     1   91      4   \n",
       "4      0.83   3.067944        259.0     15.8263   1016.51     2   91      4   \n",
       "\n",
       "   Year  \n",
       "0  2006  \n",
       "1  2006  \n",
       "2  2006  \n",
       "3  2006  \n",
       "4  2006  "
      ]
     },
     "execution_count": 52,
     "metadata": {},
     "output_type": "execute_result"
    }
   ],
   "source": [
    "df.WindSpeed = df.WindSpeed * 1000 / 3600\n",
    "df.head()"
   ]
  },
  {
   "cell_type": "markdown",
   "metadata": {},
   "source": [
    "Удалим лишнее из таблицы."
   ]
  },
  {
   "cell_type": "code",
   "execution_count": 57,
   "metadata": {},
   "outputs": [],
   "source": [
    "df.drop(columns=['Date', 'Month', 'A_temp'], inplace=True)"
   ]
  },
  {
   "cell_type": "markdown",
   "metadata": {},
   "source": [
    "**Построение объясняющей модели.**"
   ]
  },
  {
   "cell_type": "markdown",
   "metadata": {},
   "source": [
    "**Пункт 1.** Выберите независимые переменные, которые будут включены в объясняющую модель. Поясните, почему выбор этих переменных разумен (не нужно углубляться в физику поведения жидкостей и ссылаться на уравнения Навье-Стокса, достаточно понятной научно-популярной интерпретации)."
   ]
  },
  {
   "cell_type": "markdown",
   "metadata": {},
   "source": [
    "Возьмем следующие признаки:\n",
    "* Давление. Если увеличивается температура воздуха, то давление уменьшается. Вообще температура фигурирует в формуле атмосферного давления, поэтому здесь точно имеется связь;\n",
    "* Видимость. Видимость зависит, например, от тумана, туман - от температуры;\n",
    "* Влажность. Температура влияет на максимальную абсолютную влажность воздуха;\n",
    "* Направление ветра. См. ниже;\n",
    "* Час. Утром прохладнее, чем днем;\n",
    "* Год. Поправка на глобальное потепление - с каждым годом все теплее и теплее, так что нужно рассматривать год как числовой признак;\n",
    "* Осадки. Писал об этом в предыдущем пункте;\n",
    "* Прогноз (`Summary`). Тут понятно.\n",
    "\n",
    "Признак скорости ветра не берем, и вот почему:\\\n",
    "*При субъективной оценке температуры по скорости теплопотерь кажется, что воздух при ветре холоднее. На самом деле – тоньше пограничный слой и выше теплопотери. Для термометра такой разницы нет. С ветром или без ветра, он покажет одну и ту же температуру воздуха.*\\\n",
    "Иными словами, скорость ветра влияет на ощущение температуры, а на саму температуру - нет.\n",
    "\n",
    "Почему взято направление ветра: [туть](https://ru.wikipedia.org/wiki/Ветер#Глобальные_эффекты_ветрообразования). Можно сказать, что направление ветра характеризует определенный регион (который имеет определенный климат и определенные годовые температурные показатели). С этой точки зрения направление ветра может быть полезно как категориальный признак."
   ]
  },
  {
   "cell_type": "code",
   "execution_count": 58,
   "metadata": {},
   "outputs": [
    {
     "data": {
      "text/html": [
       "<div>\n",
       "<style scoped>\n",
       "    .dataframe tbody tr th:only-of-type {\n",
       "        vertical-align: middle;\n",
       "    }\n",
       "\n",
       "    .dataframe tbody tr th {\n",
       "        vertical-align: top;\n",
       "    }\n",
       "\n",
       "    .dataframe thead th {\n",
       "        text-align: right;\n",
       "    }\n",
       "</style>\n",
       "<table border=\"1\" class=\"dataframe\">\n",
       "  <thead>\n",
       "    <tr style=\"text-align: right;\">\n",
       "      <th></th>\n",
       "      <th>Summary</th>\n",
       "      <th>Precip</th>\n",
       "      <th>Temp</th>\n",
       "      <th>Humidity</th>\n",
       "      <th>WindSpeed</th>\n",
       "      <th>WindBearing</th>\n",
       "      <th>Visibility</th>\n",
       "      <th>Pressure</th>\n",
       "      <th>Hour</th>\n",
       "      <th>Day</th>\n",
       "      <th>Year</th>\n",
       "    </tr>\n",
       "  </thead>\n",
       "  <tbody>\n",
       "    <tr>\n",
       "      <th>0</th>\n",
       "      <td>Partly Cloudy</td>\n",
       "      <td>rain</td>\n",
       "      <td>9.472222</td>\n",
       "      <td>0.89</td>\n",
       "      <td>3.922139</td>\n",
       "      <td>251.0</td>\n",
       "      <td>15.8263</td>\n",
       "      <td>1015.13</td>\n",
       "      <td>22</td>\n",
       "      <td>90</td>\n",
       "      <td>2006</td>\n",
       "    </tr>\n",
       "    <tr>\n",
       "      <th>1</th>\n",
       "      <td>Partly Cloudy</td>\n",
       "      <td>rain</td>\n",
       "      <td>9.355556</td>\n",
       "      <td>0.86</td>\n",
       "      <td>3.962389</td>\n",
       "      <td>259.0</td>\n",
       "      <td>15.8263</td>\n",
       "      <td>1015.63</td>\n",
       "      <td>23</td>\n",
       "      <td>90</td>\n",
       "      <td>2006</td>\n",
       "    </tr>\n",
       "    <tr>\n",
       "      <th>2</th>\n",
       "      <td>Mostly Cloudy</td>\n",
       "      <td>rain</td>\n",
       "      <td>9.377778</td>\n",
       "      <td>0.89</td>\n",
       "      <td>1.091222</td>\n",
       "      <td>204.0</td>\n",
       "      <td>14.9569</td>\n",
       "      <td>1015.94</td>\n",
       "      <td>0</td>\n",
       "      <td>91</td>\n",
       "      <td>2006</td>\n",
       "    </tr>\n",
       "    <tr>\n",
       "      <th>3</th>\n",
       "      <td>Partly Cloudy</td>\n",
       "      <td>rain</td>\n",
       "      <td>8.288889</td>\n",
       "      <td>0.83</td>\n",
       "      <td>3.917667</td>\n",
       "      <td>269.0</td>\n",
       "      <td>15.8263</td>\n",
       "      <td>1016.41</td>\n",
       "      <td>1</td>\n",
       "      <td>91</td>\n",
       "      <td>2006</td>\n",
       "    </tr>\n",
       "    <tr>\n",
       "      <th>4</th>\n",
       "      <td>Mostly Cloudy</td>\n",
       "      <td>rain</td>\n",
       "      <td>8.755556</td>\n",
       "      <td>0.83</td>\n",
       "      <td>3.067944</td>\n",
       "      <td>259.0</td>\n",
       "      <td>15.8263</td>\n",
       "      <td>1016.51</td>\n",
       "      <td>2</td>\n",
       "      <td>91</td>\n",
       "      <td>2006</td>\n",
       "    </tr>\n",
       "  </tbody>\n",
       "</table>\n",
       "</div>"
      ],
      "text/plain": [
       "         Summary Precip      Temp  Humidity  WindSpeed  WindBearing  \\\n",
       "0  Partly Cloudy   rain  9.472222      0.89   3.922139        251.0   \n",
       "1  Partly Cloudy   rain  9.355556      0.86   3.962389        259.0   \n",
       "2  Mostly Cloudy   rain  9.377778      0.89   1.091222        204.0   \n",
       "3  Partly Cloudy   rain  8.288889      0.83   3.917667        269.0   \n",
       "4  Mostly Cloudy   rain  8.755556      0.83   3.067944        259.0   \n",
       "\n",
       "   Visibility  Pressure  Hour  Day  Year  \n",
       "0     15.8263   1015.13    22   90  2006  \n",
       "1     15.8263   1015.63    23   90  2006  \n",
       "2     14.9569   1015.94     0   91  2006  \n",
       "3     15.8263   1016.41     1   91  2006  \n",
       "4     15.8263   1016.51     2   91  2006  "
      ]
     },
     "execution_count": 58,
     "metadata": {},
     "output_type": "execute_result"
    }
   ],
   "source": [
    "df.head()"
   ]
  },
  {
   "cell_type": "code",
   "execution_count": 59,
   "metadata": {},
   "outputs": [
    {
     "data": {
      "text/html": [
       "<div>\n",
       "<style scoped>\n",
       "    .dataframe tbody tr th:only-of-type {\n",
       "        vertical-align: middle;\n",
       "    }\n",
       "\n",
       "    .dataframe tbody tr th {\n",
       "        vertical-align: top;\n",
       "    }\n",
       "\n",
       "    .dataframe thead th {\n",
       "        text-align: right;\n",
       "    }\n",
       "</style>\n",
       "<table border=\"1\" class=\"dataframe\">\n",
       "  <thead>\n",
       "    <tr style=\"text-align: right;\">\n",
       "      <th></th>\n",
       "      <th>Summary</th>\n",
       "      <th>Precip</th>\n",
       "      <th>Temp</th>\n",
       "      <th>Humidity</th>\n",
       "      <th>WindSpeed</th>\n",
       "      <th>WindBearing</th>\n",
       "      <th>Visibility</th>\n",
       "      <th>Pressure</th>\n",
       "      <th>Hour</th>\n",
       "      <th>Day</th>\n",
       "      <th>Year</th>\n",
       "    </tr>\n",
       "  </thead>\n",
       "  <tbody>\n",
       "    <tr>\n",
       "      <th>0</th>\n",
       "      <td>Partly Cloudy</td>\n",
       "      <td>rain</td>\n",
       "      <td>9.472222</td>\n",
       "      <td>0.89</td>\n",
       "      <td>3.922139</td>\n",
       "      <td>WSW</td>\n",
       "      <td>15.8263</td>\n",
       "      <td>1015.13</td>\n",
       "      <td>22</td>\n",
       "      <td>90</td>\n",
       "      <td>2006</td>\n",
       "    </tr>\n",
       "    <tr>\n",
       "      <th>1</th>\n",
       "      <td>Partly Cloudy</td>\n",
       "      <td>rain</td>\n",
       "      <td>9.355556</td>\n",
       "      <td>0.86</td>\n",
       "      <td>3.962389</td>\n",
       "      <td>W</td>\n",
       "      <td>15.8263</td>\n",
       "      <td>1015.63</td>\n",
       "      <td>23</td>\n",
       "      <td>90</td>\n",
       "      <td>2006</td>\n",
       "    </tr>\n",
       "    <tr>\n",
       "      <th>2</th>\n",
       "      <td>Mostly Cloudy</td>\n",
       "      <td>rain</td>\n",
       "      <td>9.377778</td>\n",
       "      <td>0.89</td>\n",
       "      <td>1.091222</td>\n",
       "      <td>SSW</td>\n",
       "      <td>14.9569</td>\n",
       "      <td>1015.94</td>\n",
       "      <td>0</td>\n",
       "      <td>91</td>\n",
       "      <td>2006</td>\n",
       "    </tr>\n",
       "    <tr>\n",
       "      <th>3</th>\n",
       "      <td>Partly Cloudy</td>\n",
       "      <td>rain</td>\n",
       "      <td>8.288889</td>\n",
       "      <td>0.83</td>\n",
       "      <td>3.917667</td>\n",
       "      <td>W</td>\n",
       "      <td>15.8263</td>\n",
       "      <td>1016.41</td>\n",
       "      <td>1</td>\n",
       "      <td>91</td>\n",
       "      <td>2006</td>\n",
       "    </tr>\n",
       "    <tr>\n",
       "      <th>4</th>\n",
       "      <td>Mostly Cloudy</td>\n",
       "      <td>rain</td>\n",
       "      <td>8.755556</td>\n",
       "      <td>0.83</td>\n",
       "      <td>3.067944</td>\n",
       "      <td>W</td>\n",
       "      <td>15.8263</td>\n",
       "      <td>1016.51</td>\n",
       "      <td>2</td>\n",
       "      <td>91</td>\n",
       "      <td>2006</td>\n",
       "    </tr>\n",
       "  </tbody>\n",
       "</table>\n",
       "</div>"
      ],
      "text/plain": [
       "         Summary Precip      Temp  Humidity  WindSpeed WindBearing  \\\n",
       "0  Partly Cloudy   rain  9.472222      0.89   3.922139         WSW   \n",
       "1  Partly Cloudy   rain  9.355556      0.86   3.962389           W   \n",
       "2  Mostly Cloudy   rain  9.377778      0.89   1.091222         SSW   \n",
       "3  Partly Cloudy   rain  8.288889      0.83   3.917667           W   \n",
       "4  Mostly Cloudy   rain  8.755556      0.83   3.067944           W   \n",
       "\n",
       "   Visibility  Pressure  Hour  Day  Year  \n",
       "0     15.8263   1015.13    22   90  2006  \n",
       "1     15.8263   1015.63    23   90  2006  \n",
       "2     14.9569   1015.94     0   91  2006  \n",
       "3     15.8263   1016.41     1   91  2006  \n",
       "4     15.8263   1016.51     2   91  2006  "
      ]
     },
     "execution_count": 59,
     "metadata": {},
     "output_type": "execute_result"
    }
   ],
   "source": [
    "dirs = [\"N\", \"NNE\", \"NE\", \"ENE\", \"E\", \"ESE\", \"SE\", \"SSE\",\n",
    "        \"S\", \"SSW\", \"SW\", \"WSW\", \"W\", \"WNW\", \"NW\", \"NNW\"]\n",
    "angle_part = 360 / len(dirs)\n",
    "\n",
    "df.WindBearing = round(df.WindBearing / angle_part) % len(dirs)\n",
    "df.WindBearing = df.WindBearing.apply(lambda x: dirs[int(x)  % len(dirs)])\n",
    "df.head()"
   ]
  },
  {
   "cell_type": "code",
   "execution_count": null,
   "metadata": {},
   "outputs": [],
   "source": [
    "numeric = ['Humidity', 'WindSpeed', 'Visibility', 'Pressure', 'Day', 'Year']\n",
    "categorical = ['Precip', 'Hour', 'Summary', 'WindBearing']"
   ]
  },
  {
   "cell_type": "markdown",
   "metadata": {},
   "source": [
    "**Пункт 2.** Изучите зависимости между зависимой переменной и выбранными вами независимыми переменными. На основе проведённого анализа задайте функциональную форму модели. Например:\n",
    "\n",
    "$$\n",
    "\\ln y_i = \\beta_0 + \\beta_1X_{1i} + \\beta_2X_{1i}^2 + \\beta_3\\ln X_{3i} + u_i\n",
    "$$\n",
    "\n",
    "Запишите выбранный вид модели в виде уравнения (например, в ячейке Markdown ниже) и прокомментируйте, почему он разумен (например, почему разумно взять не просто $X_1$, но ещё и его квадрат или взять не просто $y$, а его логарифм)."
   ]
  },
  {
   "cell_type": "markdown",
   "metadata": {},
   "source": [
    "### Часы\n",
    "Как мы уже смотрели в предыдущем пункте, часы имеют квадратичную зависимость. То есть, по сути мы должны смотреть не на признак `Hour`, а на `(hour - 12) ** 2`. При всем при этом, мы должны поднять эту функцию на какой-то уровень, поэтому нам также нужен константный столбец."
   ]
  },
  {
   "cell_type": "markdown",
   "metadata": {},
   "source": [
    "### День\n",
    "Аналогично с часами, сделаем квадратичную зависимость: `(day - 200) ** 2` + константный признак.\n",
    "\n",
    "Теперь рассмотрим зависимости с остальными (числовыми) признаками."
   ]
  },
  {
   "cell_type": "markdown",
   "metadata": {},
   "source": [
    "### Влажность"
   ]
  },
  {
   "cell_type": "code",
   "execution_count": 60,
   "metadata": {},
   "outputs": [
    {
     "data": {
      "image/png": "[encoded data removed]",
      "text/plain": [
       "<Figure size 655.2x504 with 1 Axes>"
      ]
     },
     "metadata": {
      "needs_background": "light"
     },
     "output_type": "display_data"
    }
   ],
   "source": [
    "dfg_ = df.groupby(['Humidity'], as_index=False)['Temp'].mean()\n",
    "sns.relplot(x='Humidity', y='Temp', data=dfg_, height=7, aspect=1.3)\n",
    "plt.title('Mean temperature for a Humidity')\n",
    "plt.grid()\n",
    "plt.show()"
   ]
  },
  {
   "cell_type": "markdown",
   "metadata": {},
   "source": [
    "Зависимость чисто линейная отрицательная. Пойдет в модель просто как `Humidity`."
   ]
  },
  {
   "cell_type": "markdown",
   "metadata": {},
   "source": [
    "### Видимость"
   ]
  },
  {
   "cell_type": "code",
   "execution_count": 61,
   "metadata": {},
   "outputs": [
    {
     "data": {
      "image/png": "[encoded data removed]",
      "text/plain": [
       "<Figure size 655.2x504 with 1 Axes>"
      ]
     },
     "metadata": {
      "needs_background": "light"
     },
     "output_type": "display_data"
    }
   ],
   "source": [
    "dfg_ = df.groupby(['Visibility'], as_index=False)['Temp'].mean()\n",
    "sns.relplot(x='Visibility', y='Temp', data=dfg_, height=7, aspect=1.3)\n",
    "plt.title('Mean temperature for a Visibility')\n",
    "plt.grid()\n",
    "plt.show()"
   ]
  },
  {
   "cell_type": "markdown",
   "metadata": {},
   "source": [
    "Зависимость линейная положительная. При этом мы видим, что имеется некоторая гетероскедастичность. Держим это в голове. Признак пойдем в модель как `Visibility`."
   ]
  },
  {
   "cell_type": "markdown",
   "metadata": {},
   "source": [
    "### Скорость ветра"
   ]
  },
  {
   "cell_type": "code",
   "execution_count": 62,
   "metadata": {},
   "outputs": [
    {
     "data": {
      "image/png": "[encoded data removed]",
      "text/plain": [
       "<Figure size 655.2x504 with 1 Axes>"
      ]
     },
     "metadata": {
      "needs_background": "light"
     },
     "output_type": "display_data"
    }
   ],
   "source": [
    "dfg_ = df.groupby(['WindSpeed'], as_index=False)['Temp'].mean()\n",
    "sns.relplot(x='WindSpeed', y='Temp', data=dfg_, height=7, aspect=1.3)\n",
    "plt.title('Mean temperature for a WindSpeed')\n",
    "plt.grid()\n",
    "plt.show()"
   ]
  },
  {
   "cell_type": "markdown",
   "metadata": {},
   "source": [
    "А скорость ветра мы никак не учитываем, так что нам ОК."
   ]
  },
  {
   "cell_type": "markdown",
   "metadata": {},
   "source": [
    "### Давление"
   ]
  },
  {
   "cell_type": "code",
   "execution_count": 76,
   "metadata": {},
   "outputs": [
    {
     "data": {
      "image/png": "[encoded data removed]",
      "text/plain": [
       "<Figure size 655.2x504 with 1 Axes>"
      ]
     },
     "metadata": {
      "needs_background": "light"
     },
     "output_type": "display_data"
    }
   ],
   "source": [
    "dfg_ = df.groupby(['Pressure'], as_index=False)['Temp'].mean()\n",
    "sns.relplot(x='Pressure', y='Temp', data=dfg_, height=7, aspect=1.3)\n",
    "plt.title('Mean temperature for a Pressure')\n",
    "plt.grid()\n",
    "plt.xlim([960, 1060])\n",
    "plt.show()"
   ]
  },
  {
   "cell_type": "markdown",
   "metadata": {},
   "source": [
    "Здесь мы уже видим два линейных тренда. Предлагается разбить давление на два отрезка по порогу (примерно 1015). Добавим индикатор того, что давление меньше или равно 1015."
   ]
  },
  {
   "cell_type": "code",
   "execution_count": 79,
   "metadata": {},
   "outputs": [
    {
     "data": {
      "text/html": [
       "<div>\n",
       "<style scoped>\n",
       "    .dataframe tbody tr th:only-of-type {\n",
       "        vertical-align: middle;\n",
       "    }\n",
       "\n",
       "    .dataframe tbody tr th {\n",
       "        vertical-align: top;\n",
       "    }\n",
       "\n",
       "    .dataframe thead th {\n",
       "        text-align: right;\n",
       "    }\n",
       "</style>\n",
       "<table border=\"1\" class=\"dataframe\">\n",
       "  <thead>\n",
       "    <tr style=\"text-align: right;\">\n",
       "      <th></th>\n",
       "      <th>Summary</th>\n",
       "      <th>Precip</th>\n",
       "      <th>Temp</th>\n",
       "      <th>Humidity</th>\n",
       "      <th>WindSpeed</th>\n",
       "      <th>WindBearing</th>\n",
       "      <th>Visibility</th>\n",
       "      <th>Pressure</th>\n",
       "      <th>Hour</th>\n",
       "      <th>Day</th>\n",
       "      <th>Year</th>\n",
       "      <th>Pressure_ind</th>\n",
       "    </tr>\n",
       "  </thead>\n",
       "  <tbody>\n",
       "    <tr>\n",
       "      <th>0</th>\n",
       "      <td>Partly Cloudy</td>\n",
       "      <td>rain</td>\n",
       "      <td>9.472222</td>\n",
       "      <td>0.89</td>\n",
       "      <td>3.922139</td>\n",
       "      <td>WSW</td>\n",
       "      <td>15.8263</td>\n",
       "      <td>1015.13</td>\n",
       "      <td>22</td>\n",
       "      <td>90</td>\n",
       "      <td>2006</td>\n",
       "      <td>0</td>\n",
       "    </tr>\n",
       "    <tr>\n",
       "      <th>1</th>\n",
       "      <td>Partly Cloudy</td>\n",
       "      <td>rain</td>\n",
       "      <td>9.355556</td>\n",
       "      <td>0.86</td>\n",
       "      <td>3.962389</td>\n",
       "      <td>W</td>\n",
       "      <td>15.8263</td>\n",
       "      <td>1015.63</td>\n",
       "      <td>23</td>\n",
       "      <td>90</td>\n",
       "      <td>2006</td>\n",
       "      <td>0</td>\n",
       "    </tr>\n",
       "    <tr>\n",
       "      <th>2</th>\n",
       "      <td>Mostly Cloudy</td>\n",
       "      <td>rain</td>\n",
       "      <td>9.377778</td>\n",
       "      <td>0.89</td>\n",
       "      <td>1.091222</td>\n",
       "      <td>SSW</td>\n",
       "      <td>14.9569</td>\n",
       "      <td>1015.94</td>\n",
       "      <td>0</td>\n",
       "      <td>91</td>\n",
       "      <td>2006</td>\n",
       "      <td>0</td>\n",
       "    </tr>\n",
       "    <tr>\n",
       "      <th>3</th>\n",
       "      <td>Partly Cloudy</td>\n",
       "      <td>rain</td>\n",
       "      <td>8.288889</td>\n",
       "      <td>0.83</td>\n",
       "      <td>3.917667</td>\n",
       "      <td>W</td>\n",
       "      <td>15.8263</td>\n",
       "      <td>1016.41</td>\n",
       "      <td>1</td>\n",
       "      <td>91</td>\n",
       "      <td>2006</td>\n",
       "      <td>0</td>\n",
       "    </tr>\n",
       "    <tr>\n",
       "      <th>4</th>\n",
       "      <td>Mostly Cloudy</td>\n",
       "      <td>rain</td>\n",
       "      <td>8.755556</td>\n",
       "      <td>0.83</td>\n",
       "      <td>3.067944</td>\n",
       "      <td>W</td>\n",
       "      <td>15.8263</td>\n",
       "      <td>1016.51</td>\n",
       "      <td>2</td>\n",
       "      <td>91</td>\n",
       "      <td>2006</td>\n",
       "      <td>0</td>\n",
       "    </tr>\n",
       "  </tbody>\n",
       "</table>\n",
       "</div>"
      ],
      "text/plain": [
       "         Summary Precip      Temp  Humidity  WindSpeed WindBearing  \\\n",
       "0  Partly Cloudy   rain  9.472222      0.89   3.922139         WSW   \n",
       "1  Partly Cloudy   rain  9.355556      0.86   3.962389           W   \n",
       "2  Mostly Cloudy   rain  9.377778      0.89   1.091222         SSW   \n",
       "3  Partly Cloudy   rain  8.288889      0.83   3.917667           W   \n",
       "4  Mostly Cloudy   rain  8.755556      0.83   3.067944           W   \n",
       "\n",
       "   Visibility  Pressure  Hour  Day  Year  Pressure_ind  \n",
       "0     15.8263   1015.13    22   90  2006             0  \n",
       "1     15.8263   1015.63    23   90  2006             0  \n",
       "2     14.9569   1015.94     0   91  2006             0  \n",
       "3     15.8263   1016.41     1   91  2006             0  \n",
       "4     15.8263   1016.51     2   91  2006             0  "
      ]
     },
     "execution_count": 79,
     "metadata": {},
     "output_type": "execute_result"
    }
   ],
   "source": [
    "df['Pressure_ind'] = (df['Pressure'] <= 1015).astype(int)\n",
    "df.head()"
   ]
  },
  {
   "cell_type": "markdown",
   "metadata": {},
   "source": [
    "Тогда в этом случае признак `Pressure` войдет в модель так: +`Pressure * Pressure_ind` - `Pressure * (1 - Pressure_ind)`.\n",
    "Таким образом, если у нас давление в первом промежутке - считаем как положительную линейную зависимость. Если иначе, то считаем как отрицательную линейную."
   ]
  },
  {
   "cell_type": "markdown",
   "metadata": {},
   "source": [
    "### Год"
   ]
  },
  {
   "cell_type": "code",
   "execution_count": 83,
   "metadata": {},
   "outputs": [
    {
     "data": {
      "image/png": "[encoded data removed]",
      "text/plain": [
       "<Figure size 655.2x504 with 1 Axes>"
      ]
     },
     "metadata": {
      "needs_background": "light"
     },
     "output_type": "display_data"
    }
   ],
   "source": [
    "dfg_ = df.groupby(['Year'], as_index=False)['Temp'].mean()\n",
    "sns.relplot(x='Year', y='Temp', data=dfg_, height=7, aspect=1.3)\n",
    "plt.title('Mean temperature for a Year')\n",
    "plt.grid()\n",
    "plt.show()"
   ]
  },
  {
   "cell_type": "markdown",
   "metadata": {},
   "source": [
    "Признаться, такая зависимость меня несколько расстроила. Не будем рассматривать год."
   ]
  },
  {
   "cell_type": "markdown",
   "metadata": {},
   "source": [
    "## Итог\n",
    "Выпишем теперь вид нашей модели:\\\n",
    "Temp = const + Humidity + Visibility + Pressure * Pressure_ind - Pressure * (1 - Pressure_ind) + (Hour - 12) ** 2 + (Day - 200) ** 2 + Precip + Summary + WindBearing.\\\n",
    "Признаки будем кодировать с помощью `OrdinalEncoder`, для числовых стоит использовать `StandartScaler`, но для лучших объяснений в следующих заданиях пока не буду. Выбросов и тяжелых хвостов по таргету мы не имеем, поэтому логарифмировать не будем (для этого можно было бы перевести в Кельвины)."
   ]
  },
  {
   "cell_type": "code",
   "execution_count": 131,
   "metadata": {},
   "outputs": [],
   "source": [
    "numeric = ['Humidity', 'Visibility', 'Pressure', 'Pressure_ind', 'Hour', 'Day']\n",
    "categorical = ['Precip', 'Summary', 'WindBearing']"
   ]
  },
  {
   "cell_type": "code",
   "execution_count": 132,
   "metadata": {},
   "outputs": [
    {
     "data": {
      "image/png": "[encoded data removed]",
      "text/plain": [
       "<Figure size 864x288 with 1 Axes>"
      ]
     },
     "metadata": {
      "needs_background": "light"
     },
     "output_type": "display_data"
    }
   ],
   "source": [
    "correlations = df[numeric].corrwith(df.Temp).sort_values(ascending=False)\n",
    "plot = sns.barplot(y=correlations.index, x=correlations)\n",
    "plot.figure.set_size_inches(12, 4)\n",
    "plt.show()"
   ]
  },
  {
   "cell_type": "code",
   "execution_count": 133,
   "metadata": {},
   "outputs": [
    {
     "name": "stdout",
     "output_type": "stream",
     "text": [
      "(96453, 3)\n"
     ]
    },
    {
     "data": {
      "text/html": [
       "<div>\n",
       "<style scoped>\n",
       "    .dataframe tbody tr th:only-of-type {\n",
       "        vertical-align: middle;\n",
       "    }\n",
       "\n",
       "    .dataframe tbody tr th {\n",
       "        vertical-align: top;\n",
       "    }\n",
       "\n",
       "    .dataframe thead th {\n",
       "        text-align: right;\n",
       "    }\n",
       "</style>\n",
       "<table border=\"1\" class=\"dataframe\">\n",
       "  <thead>\n",
       "    <tr style=\"text-align: right;\">\n",
       "      <th></th>\n",
       "      <th>Humidity</th>\n",
       "      <th>Visibility</th>\n",
       "      <th>Pressure</th>\n",
       "      <th>Pressure_ind</th>\n",
       "      <th>Hour</th>\n",
       "      <th>Day</th>\n",
       "      <th>Precip</th>\n",
       "      <th>Summary</th>\n",
       "      <th>WindBearing</th>\n",
       "    </tr>\n",
       "  </thead>\n",
       "  <tbody>\n",
       "    <tr>\n",
       "      <th>0</th>\n",
       "      <td>0.89</td>\n",
       "      <td>15.8263</td>\n",
       "      <td>1015.13</td>\n",
       "      <td>0</td>\n",
       "      <td>22</td>\n",
       "      <td>90</td>\n",
       "      <td>1.0</td>\n",
       "      <td>19.0</td>\n",
       "      <td>15.0</td>\n",
       "    </tr>\n",
       "    <tr>\n",
       "      <th>1</th>\n",
       "      <td>0.86</td>\n",
       "      <td>15.8263</td>\n",
       "      <td>1015.63</td>\n",
       "      <td>0</td>\n",
       "      <td>23</td>\n",
       "      <td>90</td>\n",
       "      <td>1.0</td>\n",
       "      <td>19.0</td>\n",
       "      <td>13.0</td>\n",
       "    </tr>\n",
       "    <tr>\n",
       "      <th>2</th>\n",
       "      <td>0.89</td>\n",
       "      <td>14.9569</td>\n",
       "      <td>1015.94</td>\n",
       "      <td>0</td>\n",
       "      <td>0</td>\n",
       "      <td>91</td>\n",
       "      <td>1.0</td>\n",
       "      <td>17.0</td>\n",
       "      <td>11.0</td>\n",
       "    </tr>\n",
       "    <tr>\n",
       "      <th>3</th>\n",
       "      <td>0.83</td>\n",
       "      <td>15.8263</td>\n",
       "      <td>1016.41</td>\n",
       "      <td>0</td>\n",
       "      <td>1</td>\n",
       "      <td>91</td>\n",
       "      <td>1.0</td>\n",
       "      <td>19.0</td>\n",
       "      <td>13.0</td>\n",
       "    </tr>\n",
       "    <tr>\n",
       "      <th>4</th>\n",
       "      <td>0.83</td>\n",
       "      <td>15.8263</td>\n",
       "      <td>1016.51</td>\n",
       "      <td>0</td>\n",
       "      <td>2</td>\n",
       "      <td>91</td>\n",
       "      <td>1.0</td>\n",
       "      <td>17.0</td>\n",
       "      <td>13.0</td>\n",
       "    </tr>\n",
       "  </tbody>\n",
       "</table>\n",
       "</div>"
      ],
      "text/plain": [
       "   Humidity  Visibility  Pressure  Pressure_ind  Hour  Day  Precip  Summary  \\\n",
       "0      0.89     15.8263   1015.13             0    22   90     1.0     19.0   \n",
       "1      0.86     15.8263   1015.63             0    23   90     1.0     19.0   \n",
       "2      0.89     14.9569   1015.94             0     0   91     1.0     17.0   \n",
       "3      0.83     15.8263   1016.41             0     1   91     1.0     19.0   \n",
       "4      0.83     15.8263   1016.51             0     2   91     1.0     17.0   \n",
       "\n",
       "   WindBearing  \n",
       "0         15.0  \n",
       "1         13.0  \n",
       "2         11.0  \n",
       "3         13.0  \n",
       "4         13.0  "
      ]
     },
     "execution_count": 133,
     "metadata": {},
     "output_type": "execute_result"
    }
   ],
   "source": [
    "from sklearn.preprocessing import StandardScaler\n",
    "from sklearn.preprocessing import OrdinalEncoder\n",
    "\n",
    "encoded = OrdinalEncoder().fit_transform(df[categorical])\n",
    "print(encoded.shape)\n",
    "encoded = pd.DataFrame(columns=categorical, data=encoded)\n",
    "\n",
    "# scaled = StandardScaler().fit_transform(df[numeric])\n",
    "# scaled = pd.DataFrame(columns=numeric, data=scaled)\n",
    "\n",
    "new_df = pd.concat([df[numeric], encoded], axis=1)\n",
    "new_df.head()"
   ]
  },
  {
   "cell_type": "code",
   "execution_count": 134,
   "metadata": {},
   "outputs": [
    {
     "data": {
      "text/html": [
       "<div>\n",
       "<style scoped>\n",
       "    .dataframe tbody tr th:only-of-type {\n",
       "        vertical-align: middle;\n",
       "    }\n",
       "\n",
       "    .dataframe tbody tr th {\n",
       "        vertical-align: top;\n",
       "    }\n",
       "\n",
       "    .dataframe thead th {\n",
       "        text-align: right;\n",
       "    }\n",
       "</style>\n",
       "<table border=\"1\" class=\"dataframe\">\n",
       "  <thead>\n",
       "    <tr style=\"text-align: right;\">\n",
       "      <th></th>\n",
       "      <th>Summary</th>\n",
       "      <th>Precip</th>\n",
       "      <th>Temp</th>\n",
       "      <th>Humidity</th>\n",
       "      <th>WindSpeed</th>\n",
       "      <th>WindBearing</th>\n",
       "      <th>Visibility</th>\n",
       "      <th>Pressure</th>\n",
       "      <th>Hour</th>\n",
       "      <th>Day</th>\n",
       "      <th>Year</th>\n",
       "      <th>Pressure_ind</th>\n",
       "      <th>const</th>\n",
       "    </tr>\n",
       "  </thead>\n",
       "  <tbody>\n",
       "    <tr>\n",
       "      <th>0</th>\n",
       "      <td>Partly Cloudy</td>\n",
       "      <td>rain</td>\n",
       "      <td>9.472222</td>\n",
       "      <td>0.89</td>\n",
       "      <td>3.922139</td>\n",
       "      <td>WSW</td>\n",
       "      <td>15.8263</td>\n",
       "      <td>1015.13</td>\n",
       "      <td>22</td>\n",
       "      <td>90</td>\n",
       "      <td>2006</td>\n",
       "      <td>0</td>\n",
       "      <td>1.0</td>\n",
       "    </tr>\n",
       "    <tr>\n",
       "      <th>1</th>\n",
       "      <td>Partly Cloudy</td>\n",
       "      <td>rain</td>\n",
       "      <td>9.355556</td>\n",
       "      <td>0.86</td>\n",
       "      <td>3.962389</td>\n",
       "      <td>W</td>\n",
       "      <td>15.8263</td>\n",
       "      <td>1015.63</td>\n",
       "      <td>23</td>\n",
       "      <td>90</td>\n",
       "      <td>2006</td>\n",
       "      <td>0</td>\n",
       "      <td>1.0</td>\n",
       "    </tr>\n",
       "    <tr>\n",
       "      <th>2</th>\n",
       "      <td>Mostly Cloudy</td>\n",
       "      <td>rain</td>\n",
       "      <td>9.377778</td>\n",
       "      <td>0.89</td>\n",
       "      <td>1.091222</td>\n",
       "      <td>SSW</td>\n",
       "      <td>14.9569</td>\n",
       "      <td>1015.94</td>\n",
       "      <td>0</td>\n",
       "      <td>91</td>\n",
       "      <td>2006</td>\n",
       "      <td>0</td>\n",
       "      <td>1.0</td>\n",
       "    </tr>\n",
       "  </tbody>\n",
       "</table>\n",
       "</div>"
      ],
      "text/plain": [
       "         Summary Precip      Temp  Humidity  WindSpeed WindBearing  \\\n",
       "0  Partly Cloudy   rain  9.472222      0.89   3.922139         WSW   \n",
       "1  Partly Cloudy   rain  9.355556      0.86   3.962389           W   \n",
       "2  Mostly Cloudy   rain  9.377778      0.89   1.091222         SSW   \n",
       "\n",
       "   Visibility  Pressure  Hour  Day  Year  Pressure_ind  const  \n",
       "0     15.8263   1015.13    22   90  2006             0    1.0  \n",
       "1     15.8263   1015.63    23   90  2006             0    1.0  \n",
       "2     14.9569   1015.94     0   91  2006             0    1.0  "
      ]
     },
     "execution_count": 134,
     "metadata": {},
     "output_type": "execute_result"
    }
   ],
   "source": [
    "new_df['Temp'] = df.Temp\n",
    "df.head(3)"
   ]
  },
  {
   "cell_type": "code",
   "execution_count": 135,
   "metadata": {},
   "outputs": [
    {
     "data": {
      "text/plain": [
       "'Temp ~ Humidity + Visibility + Pressure * Pressure_ind - Pressure * (Q(1) - Pressure_ind) + (Hour - Q(12)) ** 2 + (Day - Q(200)) ** 2 + Precip + Summary + WindBearing'"
      ]
     },
     "execution_count": 135,
     "metadata": {},
     "output_type": "execute_result"
    }
   ],
   "source": [
    "num_str = 'Humidity + Visibility + Pressure * Pressure_ind - Pressure * (Q(1) - Pressure_ind)'\n",
    "time_str = ' + (Hour - Q(12)) ** 2 + (Day - Q(200)) ** 2'\n",
    "cat_str = ' + Precip + Summary + WindBearing'\n",
    "fstring = 'Temp ~ ' + num_str + time_str + cat_str\n",
    "fstring"
   ]
  },
  {
   "cell_type": "markdown",
   "metadata": {},
   "source": [
    "**Пункт 3.** Оцените выбранную модель при помощи МНК. Значима ли регрессия в целом? Если да, переходите к следующему пункту, если нет, то задайте другую функциональную форму модели."
   ]
  },
  {
   "cell_type": "code",
   "execution_count": 136,
   "metadata": {},
   "outputs": [
    {
     "data": {
      "text/html": [
       "<table class=\"simpletable\">\n",
       "<caption>OLS Regression Results</caption>\n",
       "<tr>\n",
       "  <th>Dep. Variable:</th>          <td>Temp</td>       <th>  R-squared:         </th>  <td>   0.616</td>  \n",
       "</tr>\n",
       "<tr>\n",
       "  <th>Model:</th>                   <td>OLS</td>       <th>  Adj. R-squared:    </th>  <td>   0.616</td>  \n",
       "</tr>\n",
       "<tr>\n",
       "  <th>Method:</th>             <td>Least Squares</td>  <th>  F-statistic:       </th>  <td>1.719e+04</td> \n",
       "</tr>\n",
       "<tr>\n",
       "  <th>Date:</th>             <td>Wed, 15 Dec 2021</td> <th>  Prob (F-statistic):</th>   <td>  0.00</td>   \n",
       "</tr>\n",
       "<tr>\n",
       "  <th>Time:</th>                 <td>15:01:30</td>     <th>  Log-Likelihood:    </th> <td>-3.0837e+05</td>\n",
       "</tr>\n",
       "<tr>\n",
       "  <th>No. Observations:</th>      <td> 96453</td>      <th>  AIC:               </th>  <td>6.168e+05</td> \n",
       "</tr>\n",
       "<tr>\n",
       "  <th>Df Residuals:</th>          <td> 96443</td>      <th>  BIC:               </th>  <td>6.169e+05</td> \n",
       "</tr>\n",
       "<tr>\n",
       "  <th>Df Model:</th>              <td>     9</td>      <th>                     </th>      <td> </td>     \n",
       "</tr>\n",
       "<tr>\n",
       "  <th>Covariance Type:</th>      <td>nonrobust</td>    <th>                     </th>      <td> </td>     \n",
       "</tr>\n",
       "</table>\n",
       "<table class=\"simpletable\">\n",
       "<tr>\n",
       "            <td></td>               <th>coef</th>     <th>std err</th>      <th>t</th>      <th>P>|t|</th>  <th>[0.025</th>    <th>0.975]</th>  \n",
       "</tr>\n",
       "<tr>\n",
       "  <th>Intercept</th>             <td>   36.3859</td> <td>    0.168</td> <td>  217.094</td> <td> 0.000</td> <td>   36.057</td> <td>   36.714</td>\n",
       "</tr>\n",
       "<tr>\n",
       "  <th>Humidity</th>              <td>  -25.6117</td> <td>    0.107</td> <td> -238.747</td> <td> 0.000</td> <td>  -25.822</td> <td>  -25.401</td>\n",
       "</tr>\n",
       "<tr>\n",
       "  <th>Visibility</th>            <td>    0.2117</td> <td>    0.005</td> <td>   41.580</td> <td> 0.000</td> <td>    0.202</td> <td>    0.222</td>\n",
       "</tr>\n",
       "<tr>\n",
       "  <th>Pressure_ind</th>          <td>    0.6621</td> <td>    0.169</td> <td>    3.921</td> <td> 0.000</td> <td>    0.331</td> <td>    0.993</td>\n",
       "</tr>\n",
       "<tr>\n",
       "  <th>Pressure:Pressure_ind</th> <td>    0.0024</td> <td>    0.000</td> <td>   14.249</td> <td> 0.000</td> <td>    0.002</td> <td>    0.003</td>\n",
       "</tr>\n",
       "<tr>\n",
       "  <th>Hour</th>                  <td>   -0.0217</td> <td>    0.003</td> <td>   -7.783</td> <td> 0.000</td> <td>   -0.027</td> <td>   -0.016</td>\n",
       "</tr>\n",
       "<tr>\n",
       "  <th>Day</th>                   <td>    0.0131</td> <td>    0.000</td> <td>   70.603</td> <td> 0.000</td> <td>    0.013</td> <td>    0.013</td>\n",
       "</tr>\n",
       "<tr>\n",
       "  <th>Precip</th>                <td>  -10.3723</td> <td>    0.064</td> <td> -162.408</td> <td> 0.000</td> <td>  -10.497</td> <td>  -10.247</td>\n",
       "</tr>\n",
       "<tr>\n",
       "  <th>Summary</th>               <td>    0.0549</td> <td>    0.005</td> <td>   12.209</td> <td> 0.000</td> <td>    0.046</td> <td>    0.064</td>\n",
       "</tr>\n",
       "<tr>\n",
       "  <th>WindBearing</th>           <td>   -0.0796</td> <td>    0.005</td> <td>  -16.824</td> <td> 0.000</td> <td>   -0.089</td> <td>   -0.070</td>\n",
       "</tr>\n",
       "</table>\n",
       "<table class=\"simpletable\">\n",
       "<tr>\n",
       "  <th>Omnibus:</th>       <td>951.891</td> <th>  Durbin-Watson:     </th> <td>   0.124</td> \n",
       "</tr>\n",
       "<tr>\n",
       "  <th>Prob(Omnibus):</th> <td> 0.000</td>  <th>  Jarque-Bera (JB):  </th> <td> 938.091</td> \n",
       "</tr>\n",
       "<tr>\n",
       "  <th>Skew:</th>          <td>-0.222</td>  <th>  Prob(JB):          </th> <td>1.98e-204</td>\n",
       "</tr>\n",
       "<tr>\n",
       "  <th>Kurtosis:</th>      <td> 2.810</td>  <th>  Cond. No.          </th> <td>6.35e+03</td> \n",
       "</tr>\n",
       "</table><br/><br/>Warnings:<br/>[1] Standard Errors assume that the covariance matrix of the errors is correctly specified.<br/>[2] The condition number is large, 6.35e+03. This might indicate that there are<br/>strong multicollinearity or other numerical problems."
      ],
      "text/plain": [
       "<class 'statsmodels.iolib.summary.Summary'>\n",
       "\"\"\"\n",
       "                            OLS Regression Results                            \n",
       "==============================================================================\n",
       "Dep. Variable:                   Temp   R-squared:                       0.616\n",
       "Model:                            OLS   Adj. R-squared:                  0.616\n",
       "Method:                 Least Squares   F-statistic:                 1.719e+04\n",
       "Date:                Wed, 15 Dec 2021   Prob (F-statistic):               0.00\n",
       "Time:                        15:01:30   Log-Likelihood:            -3.0837e+05\n",
       "No. Observations:               96453   AIC:                         6.168e+05\n",
       "Df Residuals:                   96443   BIC:                         6.169e+05\n",
       "Df Model:                           9                                         \n",
       "Covariance Type:            nonrobust                                         \n",
       "=========================================================================================\n",
       "                            coef    std err          t      P>|t|      [0.025      0.975]\n",
       "-----------------------------------------------------------------------------------------\n",
       "Intercept                36.3859      0.168    217.094      0.000      36.057      36.714\n",
       "Humidity                -25.6117      0.107   -238.747      0.000     -25.822     -25.401\n",
       "Visibility                0.2117      0.005     41.580      0.000       0.202       0.222\n",
       "Pressure_ind              0.6621      0.169      3.921      0.000       0.331       0.993\n",
       "Pressure:Pressure_ind     0.0024      0.000     14.249      0.000       0.002       0.003\n",
       "Hour                     -0.0217      0.003     -7.783      0.000      -0.027      -0.016\n",
       "Day                       0.0131      0.000     70.603      0.000       0.013       0.013\n",
       "Precip                  -10.3723      0.064   -162.408      0.000     -10.497     -10.247\n",
       "Summary                   0.0549      0.005     12.209      0.000       0.046       0.064\n",
       "WindBearing              -0.0796      0.005    -16.824      0.000      -0.089      -0.070\n",
       "==============================================================================\n",
       "Omnibus:                      951.891   Durbin-Watson:                   0.124\n",
       "Prob(Omnibus):                  0.000   Jarque-Bera (JB):              938.091\n",
       "Skew:                          -0.222   Prob(JB):                    1.98e-204\n",
       "Kurtosis:                       2.810   Cond. No.                     6.35e+03\n",
       "==============================================================================\n",
       "\n",
       "Warnings:\n",
       "[1] Standard Errors assume that the covariance matrix of the errors is correctly specified.\n",
       "[2] The condition number is large, 6.35e+03. This might indicate that there are\n",
       "strong multicollinearity or other numerical problems.\n",
       "\"\"\""
      ]
     },
     "execution_count": 136,
     "metadata": {},
     "output_type": "execute_result"
    }
   ],
   "source": [
    "model_1 = smf.ols(fstring, data=new_df).fit()\n",
    "model_1.summary()"
   ]
  },
  {
   "cell_type": "markdown",
   "metadata": {},
   "source": [
    "Так как у нас `Prob (F-statistic)` - p-value по F-статистичке равно нулю, то регрессия в целом значима. Все регрессоры также значимы."
   ]
  },
  {
   "cell_type": "markdown",
   "metadata": {},
   "source": [
    "**Пункт 4.** Прокомментируйте значимость отдельных коэффициентах в оценённой модели. Поясните, как каждый регрессор влияет на зависимую переменную математически (\"при увеличении $X$ на 1 $Y$ увеличивается на 3\") и содержательно (\"$X$ влияет на $Y$ положительно, потому что...\", \"$X$ не оказывает влияния на $Y$, потому что...\")."
   ]
  },
  {
   "cell_type": "markdown",
   "metadata": {},
   "source": [
    "Опишу числовые признаки:\n",
    "* Влажность влияет на целевую переменную сильнее всего, причем чем выше влажность, тем меньше температура. Повышение влажности на 1% влечет за собой понижение температуры на 0.256 градусов;\n",
    "* Видимость имеет положительную корреляцию с целевой переменной, поэтому скорее всего видимость больше, если температура выше. В нашем случае каждый километр видимости имеет цену в +0.2117 градуса;\n",
    "* Давление - не знаю, как комментировать;\n",
    "* У часа и дня зависимость квадратичная. То, что стоит в таблице, мне кажется, должно стоять перед выражениями. Но это неточно."
   ]
  },
  {
   "cell_type": "markdown",
   "metadata": {},
   "source": [
    "**Пункт 5.** Есть ли в модели проблема мультиколлинеарности? Используйте как минимум два показателя (на ваш выбор), чтобы подтвердить ваш ответ. Если проблема обнаружена, скорректируйте её, или приведите обоснование, почему корректировка не требуется."
   ]
  },
  {
   "cell_type": "markdown",
   "metadata": {},
   "source": [
    "#### Во-первых, посмотрим на корреляцию числовых признаков друг с другом."
   ]
  },
  {
   "cell_type": "code",
   "execution_count": 137,
   "metadata": {},
   "outputs": [
    {
     "data": {
      "image/png": "[encoded data removed]",
      "text/plain": [
       "<Figure size 720x576 with 2 Axes>"
      ]
     },
     "metadata": {
      "needs_background": "light"
     },
     "output_type": "display_data"
    }
   ],
   "source": [
    "colormap = plt.cm.RdBu\n",
    "plt.figure(figsize=(10, 8))\n",
    "plt.title('Pearson Correlation of Features', y=1.05, size=18)\n",
    "sns.heatmap(new_df[numeric].corr(),\n",
    "            linewidths=0.1, vmax=1.0, \n",
    "            square=True, cmap=colormap, linecolor='white', annot=True)\n",
    "plt.show()"
   ]
  },
  {
   "cell_type": "markdown",
   "metadata": {},
   "source": [
    "Здесь у нас только корреляция между видимостью и влажностью. Еще есть не очень большая корреляция между часом и влажностью. Корреляцию между давлением и его индикатором не учитываем, ибо один получен из другого, и это важная конструкция в модели."
   ]
  },
  {
   "cell_type": "markdown",
   "metadata": {},
   "source": [
    "### Посмотрим на число обусловленности матрицы $X^TX$."
   ]
  },
  {
   "cell_type": "code",
   "execution_count": 138,
   "metadata": {},
   "outputs": [
    {
     "data": {
      "text/plain": [
       "30580041.422075875"
      ]
     },
     "execution_count": 138,
     "metadata": {},
     "output_type": "execute_result"
    }
   ],
   "source": [
    "X = new_df.drop(columns='Temp').to_numpy()\n",
    "np.linalg.cond(X.T @ X)"
   ]
  },
  {
   "cell_type": "markdown",
   "metadata": {},
   "source": [
    "По сравнению с тем, что было на семинаре (8.396003693050826e+18), у нас получилось небольшое число."
   ]
  },
  {
   "cell_type": "markdown",
   "metadata": {},
   "source": [
    "### VIF."
   ]
  },
  {
   "cell_type": "code",
   "execution_count": 199,
   "metadata": {},
   "outputs": [
    {
     "name": "stdout",
     "output_type": "stream",
     "text": [
      "Humidity 77.33241959709753\n",
      "Visibility 1.210482169440678\n",
      "Pressure 1.254638968786986\n",
      "Pressure_ind 19.025763534028577\n",
      "Hour 19.208620355690194\n",
      "Day 1.0297447979035788\n",
      "Precip 1.0569855399938388\n",
      "Summary 1.1817802907995056\n",
      "WindBearing 1.0605718017893604\n",
      "Temp 1.0117920190618885\n"
     ]
    }
   ],
   "source": [
    "from statsmodels.stats.outliers_influence import variance_inflation_factor\n",
    "\n",
    "for i in range(new_df.shape[1]):\n",
    "    print(list(new_df.columns)[i], variance_inflation_factor(model_1.model.exog, i))"
   ]
  },
  {
   "cell_type": "markdown",
   "metadata": {},
   "source": [
    "Видно, что значение `VIF` для самого первого регрессора (влажность) получился большим. Получается, что мы наблюдаем мультиколлинеартность относительно данного регрессора.\n",
    "\n",
    "В нашем случае было бы плохой идеей выкидывать регрессоры, так как они все в той или иной мере физически связаны друг с другом.\n",
    "\n",
    "Немного поэксперементировав, я увидел, что можно выкинуть признак `Summary` (что меня удивило) и `WindBearing`. Кроме того, признак часа, как оказалось, вообще не влияет на $R^2$. Остальные признаки мы уже не можем выкинуть."
   ]
  },
  {
   "cell_type": "code",
   "execution_count": 200,
   "metadata": {},
   "outputs": [
    {
     "data": {
      "text/html": [
       "<table class=\"simpletable\">\n",
       "<caption>OLS Regression Results</caption>\n",
       "<tr>\n",
       "  <th>Dep. Variable:</th>          <td>Temp</td>       <th>  R-squared:         </th>  <td>   0.614</td>  \n",
       "</tr>\n",
       "<tr>\n",
       "  <th>Model:</th>                   <td>OLS</td>       <th>  Adj. R-squared:    </th>  <td>   0.614</td>  \n",
       "</tr>\n",
       "<tr>\n",
       "  <th>Method:</th>             <td>Least Squares</td>  <th>  F-statistic:       </th>  <td>2.557e+04</td> \n",
       "</tr>\n",
       "<tr>\n",
       "  <th>Date:</th>             <td>Wed, 15 Dec 2021</td> <th>  Prob (F-statistic):</th>   <td>  0.00</td>   \n",
       "</tr>\n",
       "<tr>\n",
       "  <th>Time:</th>                 <td>15:35:55</td>     <th>  Log-Likelihood:    </th> <td>-3.0861e+05</td>\n",
       "</tr>\n",
       "<tr>\n",
       "  <th>No. Observations:</th>      <td> 96453</td>      <th>  AIC:               </th>  <td>6.172e+05</td> \n",
       "</tr>\n",
       "<tr>\n",
       "  <th>Df Residuals:</th>          <td> 96446</td>      <th>  BIC:               </th>  <td>6.173e+05</td> \n",
       "</tr>\n",
       "<tr>\n",
       "  <th>Df Model:</th>              <td>     6</td>      <th>                     </th>      <td> </td>     \n",
       "</tr>\n",
       "<tr>\n",
       "  <th>Covariance Type:</th>      <td>nonrobust</td>    <th>                     </th>      <td> </td>     \n",
       "</tr>\n",
       "</table>\n",
       "<table class=\"simpletable\">\n",
       "<tr>\n",
       "            <td></td>               <th>coef</th>     <th>std err</th>      <th>t</th>      <th>P>|t|</th>  <th>[0.025</th>    <th>0.975]</th>  \n",
       "</tr>\n",
       "<tr>\n",
       "  <th>Intercept</th>             <td>   36.4437</td> <td>    0.141</td> <td>  259.250</td> <td> 0.000</td> <td>   36.168</td> <td>   36.719</td>\n",
       "</tr>\n",
       "<tr>\n",
       "  <th>Humidity</th>              <td>  -25.6326</td> <td>    0.106</td> <td> -240.931</td> <td> 0.000</td> <td>  -25.841</td> <td>  -25.424</td>\n",
       "</tr>\n",
       "<tr>\n",
       "  <th>Visibility</th>            <td>    0.2123</td> <td>    0.005</td> <td>   41.745</td> <td> 0.000</td> <td>    0.202</td> <td>    0.222</td>\n",
       "</tr>\n",
       "<tr>\n",
       "  <th>Pressure_ind</th>          <td>    0.3136</td> <td>    0.168</td> <td>    1.871</td> <td> 0.061</td> <td>   -0.015</td> <td>    0.642</td>\n",
       "</tr>\n",
       "<tr>\n",
       "  <th>Pressure:Pressure_ind</th> <td>    0.0027</td> <td>    0.000</td> <td>   16.306</td> <td> 0.000</td> <td>    0.002</td> <td>    0.003</td>\n",
       "</tr>\n",
       "<tr>\n",
       "  <th>Day</th>                   <td>    0.0131</td> <td>    0.000</td> <td>   70.261</td> <td> 0.000</td> <td>    0.013</td> <td>    0.013</td>\n",
       "</tr>\n",
       "<tr>\n",
       "  <th>Precip</th>                <td>  -10.3963</td> <td>    0.064</td> <td> -162.630</td> <td> 0.000</td> <td>  -10.522</td> <td>  -10.271</td>\n",
       "</tr>\n",
       "</table>\n",
       "<table class=\"simpletable\">\n",
       "<tr>\n",
       "  <th>Omnibus:</th>       <td>952.817</td> <th>  Durbin-Watson:     </th> <td>   0.119</td> \n",
       "</tr>\n",
       "<tr>\n",
       "  <th>Prob(Omnibus):</th> <td> 0.000</td>  <th>  Jarque-Bera (JB):  </th> <td> 938.255</td> \n",
       "</tr>\n",
       "<tr>\n",
       "  <th>Skew:</th>          <td>-0.222</td>  <th>  Prob(JB):          </th> <td>1.82e-204</td>\n",
       "</tr>\n",
       "<tr>\n",
       "  <th>Kurtosis:</th>      <td> 2.809</td>  <th>  Cond. No.          </th> <td>5.78e+03</td> \n",
       "</tr>\n",
       "</table><br/><br/>Warnings:<br/>[1] Standard Errors assume that the covariance matrix of the errors is correctly specified.<br/>[2] The condition number is large, 5.78e+03. This might indicate that there are<br/>strong multicollinearity or other numerical problems."
      ],
      "text/plain": [
       "<class 'statsmodels.iolib.summary.Summary'>\n",
       "\"\"\"\n",
       "                            OLS Regression Results                            \n",
       "==============================================================================\n",
       "Dep. Variable:                   Temp   R-squared:                       0.614\n",
       "Model:                            OLS   Adj. R-squared:                  0.614\n",
       "Method:                 Least Squares   F-statistic:                 2.557e+04\n",
       "Date:                Wed, 15 Dec 2021   Prob (F-statistic):               0.00\n",
       "Time:                        15:35:55   Log-Likelihood:            -3.0861e+05\n",
       "No. Observations:               96453   AIC:                         6.172e+05\n",
       "Df Residuals:                   96446   BIC:                         6.173e+05\n",
       "Df Model:                           6                                         \n",
       "Covariance Type:            nonrobust                                         \n",
       "=========================================================================================\n",
       "                            coef    std err          t      P>|t|      [0.025      0.975]\n",
       "-----------------------------------------------------------------------------------------\n",
       "Intercept                36.4437      0.141    259.250      0.000      36.168      36.719\n",
       "Humidity                -25.6326      0.106   -240.931      0.000     -25.841     -25.424\n",
       "Visibility                0.2123      0.005     41.745      0.000       0.202       0.222\n",
       "Pressure_ind              0.3136      0.168      1.871      0.061      -0.015       0.642\n",
       "Pressure:Pressure_ind     0.0027      0.000     16.306      0.000       0.002       0.003\n",
       "Day                       0.0131      0.000     70.261      0.000       0.013       0.013\n",
       "Precip                  -10.3963      0.064   -162.630      0.000     -10.522     -10.271\n",
       "==============================================================================\n",
       "Omnibus:                      952.817   Durbin-Watson:                   0.119\n",
       "Prob(Omnibus):                  0.000   Jarque-Bera (JB):              938.255\n",
       "Skew:                          -0.222   Prob(JB):                    1.82e-204\n",
       "Kurtosis:                       2.809   Cond. No.                     5.78e+03\n",
       "==============================================================================\n",
       "\n",
       "Warnings:\n",
       "[1] Standard Errors assume that the covariance matrix of the errors is correctly specified.\n",
       "[2] The condition number is large, 5.78e+03. This might indicate that there are\n",
       "strong multicollinearity or other numerical problems.\n",
       "\"\"\""
      ]
     },
     "execution_count": 200,
     "metadata": {},
     "output_type": "execute_result"
    }
   ],
   "source": [
    "num_str = 'Humidity + Visibility + Pressure * Pressure_ind - Pressure * (Q(1) - Pressure_ind)'\n",
    "time_str = ' + (Day - Q(200)) ** 2'\n",
    "cat_str = ' + Precip'\n",
    "fstring = 'Temp ~ ' + num_str + time_str + cat_str\n",
    "\n",
    "\n",
    "model_2 = smf.ols(fstring, data=new_df).fit()\n",
    "model_2.summary()"
   ]
  },
  {
   "cell_type": "markdown",
   "metadata": {},
   "source": [
    "Заметим, что p-value у индикатора давления говорит о том, что он значим не на всех разумных уровнял значимости. Если мы сделаем так, то получим $R^2$ получше:"
   ]
  },
  {
   "cell_type": "code",
   "execution_count": 205,
   "metadata": {},
   "outputs": [
    {
     "data": {
      "text/html": [
       "<table class=\"simpletable\">\n",
       "<caption>OLS Regression Results</caption>\n",
       "<tr>\n",
       "  <th>Dep. Variable:</th>          <td>Temp</td>       <th>  R-squared:         </th>  <td>   0.590</td>  \n",
       "</tr>\n",
       "<tr>\n",
       "  <th>Model:</th>                   <td>OLS</td>       <th>  Adj. R-squared:    </th>  <td>   0.590</td>  \n",
       "</tr>\n",
       "<tr>\n",
       "  <th>Method:</th>             <td>Least Squares</td>  <th>  F-statistic:       </th>  <td>2.780e+04</td> \n",
       "</tr>\n",
       "<tr>\n",
       "  <th>Date:</th>             <td>Wed, 15 Dec 2021</td> <th>  Prob (F-statistic):</th>   <td>  0.00</td>   \n",
       "</tr>\n",
       "<tr>\n",
       "  <th>Time:</th>                 <td>15:37:14</td>     <th>  Log-Likelihood:    </th> <td>-3.1149e+05</td>\n",
       "</tr>\n",
       "<tr>\n",
       "  <th>No. Observations:</th>      <td> 96453</td>      <th>  AIC:               </th>  <td>6.230e+05</td> \n",
       "</tr>\n",
       "<tr>\n",
       "  <th>Df Residuals:</th>          <td> 96447</td>      <th>  BIC:               </th>  <td>6.230e+05</td> \n",
       "</tr>\n",
       "<tr>\n",
       "  <th>Df Model:</th>              <td>     5</td>      <th>                     </th>      <td> </td>     \n",
       "</tr>\n",
       "<tr>\n",
       "  <th>Covariance Type:</th>      <td>nonrobust</td>    <th>                     </th>      <td> </td>     \n",
       "</tr>\n",
       "</table>\n",
       "<table class=\"simpletable\">\n",
       "<tr>\n",
       "       <td></td>         <th>coef</th>     <th>std err</th>      <th>t</th>      <th>P>|t|</th>  <th>[0.025</th>    <th>0.975]</th>  \n",
       "</tr>\n",
       "<tr>\n",
       "  <th>Intercept</th>  <td>   38.6365</td> <td>    0.216</td> <td>  178.905</td> <td> 0.000</td> <td>   38.213</td> <td>   39.060</td>\n",
       "</tr>\n",
       "<tr>\n",
       "  <th>Humidity</th>   <td>  -25.2940</td> <td>    0.110</td> <td> -230.955</td> <td> 0.000</td> <td>  -25.509</td> <td>  -25.079</td>\n",
       "</tr>\n",
       "<tr>\n",
       "  <th>Visibility</th> <td>    0.2305</td> <td>    0.005</td> <td>   44.055</td> <td> 0.000</td> <td>    0.220</td> <td>    0.241</td>\n",
       "</tr>\n",
       "<tr>\n",
       "  <th>Pressure</th>   <td>   -0.0003</td> <td>    0.000</td> <td>   -1.761</td> <td> 0.078</td> <td>   -0.001</td> <td> 3.35e-05</td>\n",
       "</tr>\n",
       "<tr>\n",
       "  <th>Day</th>        <td>    0.0115</td> <td>    0.000</td> <td>   60.133</td> <td> 0.000</td> <td>    0.011</td> <td>    0.012</td>\n",
       "</tr>\n",
       "<tr>\n",
       "  <th>Precip</th>     <td>  -11.1259</td> <td>    0.065</td> <td> -170.817</td> <td> 0.000</td> <td>  -11.254</td> <td>  -10.998</td>\n",
       "</tr>\n",
       "</table>\n",
       "<table class=\"simpletable\">\n",
       "<tr>\n",
       "  <th>Omnibus:</th>       <td>1289.619</td> <th>  Durbin-Watson:     </th> <td>   0.113</td> \n",
       "</tr>\n",
       "<tr>\n",
       "  <th>Prob(Omnibus):</th>  <td> 0.000</td>  <th>  Jarque-Bera (JB):  </th> <td>1188.648</td> \n",
       "</tr>\n",
       "<tr>\n",
       "  <th>Skew:</th>           <td>-0.231</td>  <th>  Prob(JB):          </th> <td>7.73e-259</td>\n",
       "</tr>\n",
       "<tr>\n",
       "  <th>Kurtosis:</th>       <td> 2.714</td>  <th>  Cond. No.          </th> <td>1.16e+04</td> \n",
       "</tr>\n",
       "</table><br/><br/>Warnings:<br/>[1] Standard Errors assume that the covariance matrix of the errors is correctly specified.<br/>[2] The condition number is large, 1.16e+04. This might indicate that there are<br/>strong multicollinearity or other numerical problems."
      ],
      "text/plain": [
       "<class 'statsmodels.iolib.summary.Summary'>\n",
       "\"\"\"\n",
       "                            OLS Regression Results                            \n",
       "==============================================================================\n",
       "Dep. Variable:                   Temp   R-squared:                       0.590\n",
       "Model:                            OLS   Adj. R-squared:                  0.590\n",
       "Method:                 Least Squares   F-statistic:                 2.780e+04\n",
       "Date:                Wed, 15 Dec 2021   Prob (F-statistic):               0.00\n",
       "Time:                        15:37:14   Log-Likelihood:            -3.1149e+05\n",
       "No. Observations:               96453   AIC:                         6.230e+05\n",
       "Df Residuals:                   96447   BIC:                         6.230e+05\n",
       "Df Model:                           5                                         \n",
       "Covariance Type:            nonrobust                                         \n",
       "==============================================================================\n",
       "                 coef    std err          t      P>|t|      [0.025      0.975]\n",
       "------------------------------------------------------------------------------\n",
       "Intercept     38.6365      0.216    178.905      0.000      38.213      39.060\n",
       "Humidity     -25.2940      0.110   -230.955      0.000     -25.509     -25.079\n",
       "Visibility     0.2305      0.005     44.055      0.000       0.220       0.241\n",
       "Pressure      -0.0003      0.000     -1.761      0.078      -0.001    3.35e-05\n",
       "Day            0.0115      0.000     60.133      0.000       0.011       0.012\n",
       "Precip       -11.1259      0.065   -170.817      0.000     -11.254     -10.998\n",
       "==============================================================================\n",
       "Omnibus:                     1289.619   Durbin-Watson:                   0.113\n",
       "Prob(Omnibus):                  0.000   Jarque-Bera (JB):             1188.648\n",
       "Skew:                          -0.231   Prob(JB):                    7.73e-259\n",
       "Kurtosis:                       2.714   Cond. No.                     1.16e+04\n",
       "==============================================================================\n",
       "\n",
       "Warnings:\n",
       "[1] Standard Errors assume that the covariance matrix of the errors is correctly specified.\n",
       "[2] The condition number is large, 1.16e+04. This might indicate that there are\n",
       "strong multicollinearity or other numerical problems.\n",
       "\"\"\""
      ]
     },
     "execution_count": 205,
     "metadata": {},
     "output_type": "execute_result"
    }
   ],
   "source": [
    "num_str = 'Humidity + Visibility + Pressure'\n",
    "time_str = ' + (Day - Q(200)) ** 2'\n",
    "cat_str = ' + Precip'\n",
    "fstring = 'Temp ~ ' + num_str + time_str + cat_str\n",
    "\n",
    "\n",
    "model_2 = smf.ols(fstring, data=new_df).fit()\n",
    "model_2.summary()"
   ]
  },
  {
   "cell_type": "markdown",
   "metadata": {},
   "source": [
    "Посмотрим, как изменился `VIF`."
   ]
  },
  {
   "cell_type": "code",
   "execution_count": 208,
   "metadata": {},
   "outputs": [
    {
     "name": "stdout",
     "output_type": "stream",
     "text": [
      "Humidity 120.35745034869696\n",
      "Visibility 1.1826985975489563\n",
      "Pressure 1.2414173447546362\n",
      "Day 1.0051132339891165\n",
      "Precip 1.0428849819945987\n"
     ]
    }
   ],
   "source": [
    "from statsmodels.stats.outliers_influence import variance_inflation_factor\n",
    "\n",
    "feat = ['Humidity', 'Visibility', 'Pressure', 'Day', 'Precip']\n",
    "for i in range(new_df[feat].shape[1]):\n",
    "    print(feat[i], variance_inflation_factor(model_2.model.exog, i))"
   ]
  },
  {
   "cell_type": "markdown",
   "metadata": {},
   "source": [
    "Так мы получили только еще более высокое значение для влажности, поэтому я предлагаю оставить предыдущий вариант:"
   ]
  },
  {
   "cell_type": "code",
   "execution_count": 215,
   "metadata": {},
   "outputs": [
    {
     "name": "stdout",
     "output_type": "stream",
     "text": [
      "Humidity 54.126154577569295\n",
      "Visibility 1.184587875699775\n",
      "Pressure 1.2446466988967295\n",
      "Pressure_ind 18.648615535100312\n",
      "Day 18.72658238646347\n",
      "Precip 1.056328540226825\n"
     ]
    }
   ],
   "source": [
    "num_str = 'Humidity + Visibility + Pressure * Pressure_ind - Pressure * (Q(1) - Pressure_ind)'\n",
    "time_str = ' + (Day - Q(200)) ** 2'\n",
    "cat_str = ' + Precip'\n",
    "fstring = 'Temp ~ ' + num_str + time_str + cat_str\n",
    "\n",
    "\n",
    "model_2 = smf.ols(fstring, data=new_df).fit()\n",
    "model_2.summary()\n",
    "\n",
    "from statsmodels.stats.outliers_influence import variance_inflation_factor\n",
    "\n",
    "feat = ['Humidity', 'Visibility', 'Pressure',  'Pressure_ind', 'Day', 'Precip']\n",
    "for i in range(new_df[feat].shape[1]):\n",
    "    print(feat[i], variance_inflation_factor(model_2.model.exog, i))"
   ]
  },
  {
   "cell_type": "markdown",
   "metadata": {},
   "source": [
    "**Пункт 6.** Проведите как минимум три теста для идентификации гетероскедастичности. Если гетероскедастичность обнаружена, скорректируйте доверительные интервалы для коэффициентов каким-нибудь способом. Изменилась ли значимость каких-либо коэффициентов?"
   ]
  },
  {
   "cell_type": "markdown",
   "metadata": {},
   "source": [
    "Стоит отметить, что большая доля дисперсии (40%) объясняется имеено признаками видимости и влажности. Остальные вносят 3-5% в зависимости от способа кодирования категориальных признаков."
   ]
  },
  {
   "cell_type": "markdown",
   "metadata": {},
   "source": [
    "### Goldfeld-Quandt test"
   ]
  },
  {
   "cell_type": "code",
   "execution_count": 216,
   "metadata": {},
   "outputs": [
    {
     "data": {
      "text/plain": [
       "(1.011534929982176, 0.10398331826276806, 'increasing')"
      ]
     },
     "execution_count": 216,
     "metadata": {},
     "output_type": "execute_result"
    }
   ],
   "source": [
    "sms.het_goldfeldquandt(model_1.model.endog, model_1.model.exog, alternative='increasing')"
   ]
  },
  {
   "cell_type": "markdown",
   "metadata": {},
   "source": [
    "p-value равно 0.104, поэтому здесь вероятно есть гетероскедастичность."
   ]
  },
  {
   "cell_type": "markdown",
   "metadata": {},
   "source": [
    "### Breusch-Pagan test"
   ]
  },
  {
   "cell_type": "code",
   "execution_count": 217,
   "metadata": {},
   "outputs": [
    {
     "data": {
      "text/plain": [
       "(50558.780204760405, 0.0, 11805.021927579739, 0.0)"
      ]
     },
     "execution_count": 217,
     "metadata": {},
     "output_type": "execute_result"
    }
   ],
   "source": [
    "sms.het_breuschpagan(model_1.model.endog, model_1.model.exog)"
   ]
  },
  {
   "cell_type": "markdown",
   "metadata": {},
   "source": [
    "p-value для LM-статистики нулевое (второе по счету значение), значит, тест выявил гетероскедастичность."
   ]
  },
  {
   "cell_type": "markdown",
   "metadata": {},
   "source": [
    "### Engle’s Test for Autoregressive Conditional Heteroscedasticity (ARCH)"
   ]
  },
  {
   "cell_type": "code",
   "execution_count": 218,
   "metadata": {},
   "outputs": [
    {
     "data": {
      "text/plain": [
       "(94497.80076982286, 0.0, 71945.98097364364, 0.0)"
      ]
     },
     "execution_count": 218,
     "metadata": {},
     "output_type": "execute_result"
    }
   ],
   "source": [
    "sms.het_arch(model_1.model.endog)"
   ]
  },
  {
   "cell_type": "markdown",
   "metadata": {},
   "source": [
    "Аналогично - выявлена гетероскедастичность."
   ]
  },
  {
   "cell_type": "markdown",
   "metadata": {},
   "source": [
    "Таким образом, по результатам трех тестов считаем, мы у нас имеется гетероскедостичность."
   ]
  },
  {
   "cell_type": "code",
   "execution_count": 220,
   "metadata": {},
   "outputs": [
    {
     "data": {
      "text/html": [
       "<table class=\"simpletable\">\n",
       "<caption>OLS Regression Results</caption>\n",
       "<tr>\n",
       "  <th>Dep. Variable:</th>          <td>Temp</td>       <th>  R-squared:         </th>  <td>   0.614</td>  \n",
       "</tr>\n",
       "<tr>\n",
       "  <th>Model:</th>                   <td>OLS</td>       <th>  Adj. R-squared:    </th>  <td>   0.614</td>  \n",
       "</tr>\n",
       "<tr>\n",
       "  <th>Method:</th>             <td>Least Squares</td>  <th>  F-statistic:       </th>  <td>3.044e+04</td> \n",
       "</tr>\n",
       "<tr>\n",
       "  <th>Date:</th>             <td>Wed, 15 Dec 2021</td> <th>  Prob (F-statistic):</th>   <td>  0.00</td>   \n",
       "</tr>\n",
       "<tr>\n",
       "  <th>Time:</th>                 <td>15:40:43</td>     <th>  Log-Likelihood:    </th> <td>-3.0861e+05</td>\n",
       "</tr>\n",
       "<tr>\n",
       "  <th>No. Observations:</th>      <td> 96453</td>      <th>  AIC:               </th>  <td>6.172e+05</td> \n",
       "</tr>\n",
       "<tr>\n",
       "  <th>Df Residuals:</th>          <td> 96446</td>      <th>  BIC:               </th>  <td>6.173e+05</td> \n",
       "</tr>\n",
       "<tr>\n",
       "  <th>Df Model:</th>              <td>     6</td>      <th>                     </th>      <td> </td>     \n",
       "</tr>\n",
       "<tr>\n",
       "  <th>Covariance Type:</th>         <td>HC0</td>       <th>                     </th>      <td> </td>     \n",
       "</tr>\n",
       "</table>\n",
       "<table class=\"simpletable\">\n",
       "<tr>\n",
       "            <td></td>               <th>coef</th>     <th>std err</th>      <th>z</th>      <th>P>|z|</th>  <th>[0.025</th>    <th>0.975]</th>  \n",
       "</tr>\n",
       "<tr>\n",
       "  <th>Intercept</th>             <td>   36.4437</td> <td>    0.151</td> <td>  241.549</td> <td> 0.000</td> <td>   36.148</td> <td>   36.739</td>\n",
       "</tr>\n",
       "<tr>\n",
       "  <th>Humidity</th>              <td>  -25.6326</td> <td>    0.118</td> <td> -217.333</td> <td> 0.000</td> <td>  -25.864</td> <td>  -25.401</td>\n",
       "</tr>\n",
       "<tr>\n",
       "  <th>Visibility</th>            <td>    0.2123</td> <td>    0.005</td> <td>   42.104</td> <td> 0.000</td> <td>    0.202</td> <td>    0.222</td>\n",
       "</tr>\n",
       "<tr>\n",
       "  <th>Pressure_ind</th>          <td>    0.3136</td> <td>    0.173</td> <td>    1.812</td> <td> 0.070</td> <td>   -0.026</td> <td>    0.653</td>\n",
       "</tr>\n",
       "<tr>\n",
       "  <th>Pressure:Pressure_ind</th> <td>    0.0027</td> <td>    0.000</td> <td>   15.828</td> <td> 0.000</td> <td>    0.002</td> <td>    0.003</td>\n",
       "</tr>\n",
       "<tr>\n",
       "  <th>Day</th>                   <td>    0.0131</td> <td>    0.000</td> <td>   71.487</td> <td> 0.000</td> <td>    0.013</td> <td>    0.013</td>\n",
       "</tr>\n",
       "<tr>\n",
       "  <th>Precip</th>                <td>  -10.3963</td> <td>    0.066</td> <td> -156.994</td> <td> 0.000</td> <td>  -10.526</td> <td>  -10.266</td>\n",
       "</tr>\n",
       "</table>\n",
       "<table class=\"simpletable\">\n",
       "<tr>\n",
       "  <th>Omnibus:</th>       <td>952.817</td> <th>  Durbin-Watson:     </th> <td>   0.119</td> \n",
       "</tr>\n",
       "<tr>\n",
       "  <th>Prob(Omnibus):</th> <td> 0.000</td>  <th>  Jarque-Bera (JB):  </th> <td> 938.255</td> \n",
       "</tr>\n",
       "<tr>\n",
       "  <th>Skew:</th>          <td>-0.222</td>  <th>  Prob(JB):          </th> <td>1.82e-204</td>\n",
       "</tr>\n",
       "<tr>\n",
       "  <th>Kurtosis:</th>      <td> 2.809</td>  <th>  Cond. No.          </th> <td>5.78e+03</td> \n",
       "</tr>\n",
       "</table><br/><br/>Warnings:<br/>[1] Standard Errors are heteroscedasticity robust (HC0)<br/>[2] The condition number is large, 5.78e+03. This might indicate that there are<br/>strong multicollinearity or other numerical problems."
      ],
      "text/plain": [
       "<class 'statsmodels.iolib.summary.Summary'>\n",
       "\"\"\"\n",
       "                            OLS Regression Results                            \n",
       "==============================================================================\n",
       "Dep. Variable:                   Temp   R-squared:                       0.614\n",
       "Model:                            OLS   Adj. R-squared:                  0.614\n",
       "Method:                 Least Squares   F-statistic:                 3.044e+04\n",
       "Date:                Wed, 15 Dec 2021   Prob (F-statistic):               0.00\n",
       "Time:                        15:40:43   Log-Likelihood:            -3.0861e+05\n",
       "No. Observations:               96453   AIC:                         6.172e+05\n",
       "Df Residuals:                   96446   BIC:                         6.173e+05\n",
       "Df Model:                           6                                         \n",
       "Covariance Type:                  HC0                                         \n",
       "=========================================================================================\n",
       "                            coef    std err          z      P>|z|      [0.025      0.975]\n",
       "-----------------------------------------------------------------------------------------\n",
       "Intercept                36.4437      0.151    241.549      0.000      36.148      36.739\n",
       "Humidity                -25.6326      0.118   -217.333      0.000     -25.864     -25.401\n",
       "Visibility                0.2123      0.005     42.104      0.000       0.202       0.222\n",
       "Pressure_ind              0.3136      0.173      1.812      0.070      -0.026       0.653\n",
       "Pressure:Pressure_ind     0.0027      0.000     15.828      0.000       0.002       0.003\n",
       "Day                       0.0131      0.000     71.487      0.000       0.013       0.013\n",
       "Precip                  -10.3963      0.066   -156.994      0.000     -10.526     -10.266\n",
       "==============================================================================\n",
       "Omnibus:                      952.817   Durbin-Watson:                   0.119\n",
       "Prob(Omnibus):                  0.000   Jarque-Bera (JB):              938.255\n",
       "Skew:                          -0.222   Prob(JB):                    1.82e-204\n",
       "Kurtosis:                       2.809   Cond. No.                     5.78e+03\n",
       "==============================================================================\n",
       "\n",
       "Warnings:\n",
       "[1] Standard Errors are heteroscedasticity robust (HC0)\n",
       "[2] The condition number is large, 5.78e+03. This might indicate that there are\n",
       "strong multicollinearity or other numerical problems.\n",
       "\"\"\""
      ]
     },
     "execution_count": 220,
     "metadata": {},
     "output_type": "execute_result"
    }
   ],
   "source": [
    "model_1_hc = smf.ols(fstring, data=new_df).fit(cov_type='HC0')\n",
    "model_1_hc.summary()"
   ]
  },
  {
   "cell_type": "code",
   "execution_count": 222,
   "metadata": {},
   "outputs": [
    {
     "data": {
      "text/html": [
       "<table class=\"simpletable\">\n",
       "<caption>OLS Regression Results</caption>\n",
       "<tr>\n",
       "  <th>Dep. Variable:</th>          <td>Temp</td>       <th>  R-squared:         </th>  <td>   0.614</td>  \n",
       "</tr>\n",
       "<tr>\n",
       "  <th>Model:</th>                   <td>OLS</td>       <th>  Adj. R-squared:    </th>  <td>   0.614</td>  \n",
       "</tr>\n",
       "<tr>\n",
       "  <th>Method:</th>             <td>Least Squares</td>  <th>  F-statistic:       </th>  <td>2.557e+04</td> \n",
       "</tr>\n",
       "<tr>\n",
       "  <th>Date:</th>             <td>Wed, 15 Dec 2021</td> <th>  Prob (F-statistic):</th>   <td>  0.00</td>   \n",
       "</tr>\n",
       "<tr>\n",
       "  <th>Time:</th>                 <td>15:41:10</td>     <th>  Log-Likelihood:    </th> <td>-3.0861e+05</td>\n",
       "</tr>\n",
       "<tr>\n",
       "  <th>No. Observations:</th>      <td> 96453</td>      <th>  AIC:               </th>  <td>6.172e+05</td> \n",
       "</tr>\n",
       "<tr>\n",
       "  <th>Df Residuals:</th>          <td> 96446</td>      <th>  BIC:               </th>  <td>6.173e+05</td> \n",
       "</tr>\n",
       "<tr>\n",
       "  <th>Df Model:</th>              <td>     6</td>      <th>                     </th>      <td> </td>     \n",
       "</tr>\n",
       "<tr>\n",
       "  <th>Covariance Type:</th>      <td>nonrobust</td>    <th>                     </th>      <td> </td>     \n",
       "</tr>\n",
       "</table>\n",
       "<table class=\"simpletable\">\n",
       "<tr>\n",
       "            <td></td>               <th>coef</th>     <th>std err</th>      <th>t</th>      <th>P>|t|</th>  <th>[0.025</th>    <th>0.975]</th>  \n",
       "</tr>\n",
       "<tr>\n",
       "  <th>Intercept</th>             <td>   36.4437</td> <td>    0.141</td> <td>  259.250</td> <td> 0.000</td> <td>   36.168</td> <td>   36.719</td>\n",
       "</tr>\n",
       "<tr>\n",
       "  <th>Humidity</th>              <td>  -25.6326</td> <td>    0.106</td> <td> -240.931</td> <td> 0.000</td> <td>  -25.841</td> <td>  -25.424</td>\n",
       "</tr>\n",
       "<tr>\n",
       "  <th>Visibility</th>            <td>    0.2123</td> <td>    0.005</td> <td>   41.745</td> <td> 0.000</td> <td>    0.202</td> <td>    0.222</td>\n",
       "</tr>\n",
       "<tr>\n",
       "  <th>Pressure_ind</th>          <td>    0.3136</td> <td>    0.168</td> <td>    1.871</td> <td> 0.061</td> <td>   -0.015</td> <td>    0.642</td>\n",
       "</tr>\n",
       "<tr>\n",
       "  <th>Pressure:Pressure_ind</th> <td>    0.0027</td> <td>    0.000</td> <td>   16.306</td> <td> 0.000</td> <td>    0.002</td> <td>    0.003</td>\n",
       "</tr>\n",
       "<tr>\n",
       "  <th>Day</th>                   <td>    0.0131</td> <td>    0.000</td> <td>   70.261</td> <td> 0.000</td> <td>    0.013</td> <td>    0.013</td>\n",
       "</tr>\n",
       "<tr>\n",
       "  <th>Precip</th>                <td>  -10.3963</td> <td>    0.064</td> <td> -162.630</td> <td> 0.000</td> <td>  -10.522</td> <td>  -10.271</td>\n",
       "</tr>\n",
       "</table>\n",
       "<table class=\"simpletable\">\n",
       "<tr>\n",
       "  <th>Omnibus:</th>       <td>952.817</td> <th>  Durbin-Watson:     </th> <td>   0.119</td> \n",
       "</tr>\n",
       "<tr>\n",
       "  <th>Prob(Omnibus):</th> <td> 0.000</td>  <th>  Jarque-Bera (JB):  </th> <td> 938.255</td> \n",
       "</tr>\n",
       "<tr>\n",
       "  <th>Skew:</th>          <td>-0.222</td>  <th>  Prob(JB):          </th> <td>1.82e-204</td>\n",
       "</tr>\n",
       "<tr>\n",
       "  <th>Kurtosis:</th>      <td> 2.809</td>  <th>  Cond. No.          </th> <td>5.78e+03</td> \n",
       "</tr>\n",
       "</table><br/><br/>Warnings:<br/>[1] Standard Errors assume that the covariance matrix of the errors is correctly specified.<br/>[2] The condition number is large, 5.78e+03. This might indicate that there are<br/>strong multicollinearity or other numerical problems."
      ],
      "text/plain": [
       "<class 'statsmodels.iolib.summary.Summary'>\n",
       "\"\"\"\n",
       "                            OLS Regression Results                            \n",
       "==============================================================================\n",
       "Dep. Variable:                   Temp   R-squared:                       0.614\n",
       "Model:                            OLS   Adj. R-squared:                  0.614\n",
       "Method:                 Least Squares   F-statistic:                 2.557e+04\n",
       "Date:                Wed, 15 Dec 2021   Prob (F-statistic):               0.00\n",
       "Time:                        15:41:10   Log-Likelihood:            -3.0861e+05\n",
       "No. Observations:               96453   AIC:                         6.172e+05\n",
       "Df Residuals:                   96446   BIC:                         6.173e+05\n",
       "Df Model:                           6                                         \n",
       "Covariance Type:            nonrobust                                         \n",
       "=========================================================================================\n",
       "                            coef    std err          t      P>|t|      [0.025      0.975]\n",
       "-----------------------------------------------------------------------------------------\n",
       "Intercept                36.4437      0.141    259.250      0.000      36.168      36.719\n",
       "Humidity                -25.6326      0.106   -240.931      0.000     -25.841     -25.424\n",
       "Visibility                0.2123      0.005     41.745      0.000       0.202       0.222\n",
       "Pressure_ind              0.3136      0.168      1.871      0.061      -0.015       0.642\n",
       "Pressure:Pressure_ind     0.0027      0.000     16.306      0.000       0.002       0.003\n",
       "Day                       0.0131      0.000     70.261      0.000       0.013       0.013\n",
       "Precip                  -10.3963      0.064   -162.630      0.000     -10.522     -10.271\n",
       "==============================================================================\n",
       "Omnibus:                      952.817   Durbin-Watson:                   0.119\n",
       "Prob(Omnibus):                  0.000   Jarque-Bera (JB):              938.255\n",
       "Skew:                          -0.222   Prob(JB):                    1.82e-204\n",
       "Kurtosis:                       2.809   Cond. No.                     5.78e+03\n",
       "==============================================================================\n",
       "\n",
       "Warnings:\n",
       "[1] Standard Errors assume that the covariance matrix of the errors is correctly specified.\n",
       "[2] The condition number is large, 5.78e+03. This might indicate that there are\n",
       "strong multicollinearity or other numerical problems.\n",
       "\"\"\""
      ]
     },
     "execution_count": 222,
     "metadata": {},
     "output_type": "execute_result"
    }
   ],
   "source": [
    "model_2.summary()"
   ]
  },
  {
   "cell_type": "markdown",
   "metadata": {},
   "source": [
    "Я выбрал `HC0`-метод корректировки доверительных интервалов, так как `HC3` вылетает по памяти куда-то в астрал. Тем не менее, доверительные интервалы в основном немного сузились, а p-value для индикатора давления возросло. "
   ]
  },
  {
   "cell_type": "markdown",
   "metadata": {},
   "source": [
    "**Пункт 7.** Проведите какой-нибудь тест для идентификации эндогенности. Если эндогенность обнаружена, скорректируйте её каким-нибудь способом."
   ]
  },
  {
   "cell_type": "code",
   "execution_count": null,
   "metadata": {},
   "outputs": [],
   "source": []
  },
  {
   "cell_type": "markdown",
   "metadata": {},
   "source": [
    "**Пункт 8.** Если после проведённых корректировок интерпретация каких-либо параметров модели изменилась, приведите новую интерпретацию. Сделайте финальный вывод о том, какие факторы влияют на температуру воздуха."
   ]
  },
  {
   "cell_type": "markdown",
   "metadata": {},
   "source": [
    "Нет, особо ничего не изменилось, но по нашей модели мы будем считать, что основные факторы - `Humidity`, `Visibility`, `Pressure`, `Day`, `Precip`."
   ]
  },
  {
   "cell_type": "markdown",
   "metadata": {},
   "source": [
    "**Построение предиктивной модели.**"
   ]
  },
  {
   "cell_type": "markdown",
   "metadata": {},
   "source": [
    "Воспользуйтесь вашими знаниями из машинного обучения и постройте хорошую предиктивную линейную регрессионную модель для предсказания температуры воздуха. Используйте MAE для выбора лучшей модели. "
   ]
  },
  {
   "cell_type": "code",
   "execution_count": 271,
   "metadata": {},
   "outputs": [],
   "source": [
    "from sklearn.linear_model import LinearRegression\n",
    "from sklearn.model_selection import train_test_split\n",
    "\n",
    "X = new_df.drop(columns='Temp')\n",
    "y = new_df['Temp']\n",
    "X_train, X_test, y_train, y_test = train_test_split(X, y, test_size=0.3, random_state=10)"
   ]
  },
  {
   "cell_type": "code",
   "execution_count": 276,
   "metadata": {},
   "outputs": [
    {
     "name": "stdout",
     "output_type": "stream",
     "text": [
      "Train MAE = 4.8283\n",
      "Test MAE = 4.8225\n"
     ]
    }
   ],
   "source": [
    "from sklearn.compose import ColumnTransformer\n",
    "from sklearn.pipeline import Pipeline\n",
    "from sklearn.preprocessing import OneHotEncoder\n",
    "from sklearn.metrics import mean_absolute_error as mae\n",
    "\n",
    "numeric = ['Humidity', 'Visibility', 'Pressure', 'Pressure_ind', 'Hour', 'Day']\n",
    "categorical = ['Precip', 'Summary', 'WindBearing']\n",
    "\n",
    "md = LinearRegression().fit(X_train, y_train)\n",
    "y_train_pred = md.predict(X_train)\n",
    "train_error = mae(y_train, y_train_pred)\n",
    "\n",
    "y_test_pred = md.predict(X_test)\n",
    "test_error = mae(y_test, y_test_pred)\n",
    "print('Train MAE = %.4f' % train_error)\n",
    "print('Test MAE = %.4f' % test_error)"
   ]
  },
  {
   "cell_type": "markdown",
   "metadata": {},
   "source": [
    "**Сравнение объясняющей и предиктивной моделей.**"
   ]
  },
  {
   "cell_type": "markdown",
   "metadata": {},
   "source": [
    "**Пункт 1.** Является ли предиктивная модель значимой в целом? Что можно сказать о значимости отдельных коэффициентов? "
   ]
  },
  {
   "cell_type": "markdown",
   "metadata": {},
   "source": [
    "Чтобы проверить, значима ли модель в целом, возьмем и прямо сравним ее с константной. Как известно, оптимальное значение константы для MAE - медиана."
   ]
  },
  {
   "cell_type": "code",
   "execution_count": 277,
   "metadata": {},
   "outputs": [
    {
     "name": "stdout",
     "output_type": "stream",
     "text": [
      "Trivial Test MAE = 7.8897\n"
     ]
    }
   ],
   "source": [
    "const = np.median(y_train)\n",
    "print('Trivial Test MAE = %.4f' % mae(y_test, [const for _ in range(len(y_test))]))"
   ]
  },
  {
   "cell_type": "markdown",
   "metadata": {},
   "source": [
    "Очевидно, модель получилась намного лучше константной, а значит, она значима в целом. О значимости отдельных коэффициентов, увы, не знаю, что сказать."
   ]
  },
  {
   "cell_type": "markdown",
   "metadata": {},
   "source": [
    "**Пункт 2.** Как различаются регрессоры объясняющей и предиктивной моделей? Есть ли такие регрессоры, которые вошли в одну, но не вошли в другую. Если да, приведите возможную содержательную интерпретацию этого явления."
   ]
  },
  {
   "cell_type": "code",
   "execution_count": 313,
   "metadata": {},
   "outputs": [],
   "source": [
    "# from statsmodels.regression.linear_model import OLS as linear_ols\n",
    "# model_ols = linear_ols(y_train, X_train).fit()\n",
    "# model_ols.params"
   ]
  },
  {
   "cell_type": "code",
   "execution_count": 314,
   "metadata": {},
   "outputs": [],
   "source": [
    "# model_ols.tvalues"
   ]
  },
  {
   "cell_type": "markdown",
   "metadata": {},
   "source": [
    "**Пункт 3.** На основе предыдущего анализа, сделайте вывод, можно ли использовать объясняющую модель для предсказания, а предиктивную -- для объяснений. Если да, то сравните предсказательную и объяснительную силу этих моделей на основе каких-нибудь метрик."
   ]
  },
  {
   "cell_type": "markdown",
   "metadata": {},
   "source": [
    "## Задача 2: \"Борьба с гетероскедастичностью\" (5 баллов)."
   ]
  },
  {
   "cell_type": "markdown",
   "metadata": {},
   "source": [
    "Рассмотрим линейную регрессионную модель\n",
    "\n",
    "$$y_i = 10+2x_i+\\varepsilon_i$$\n",
    "\n",
    "$$x_i \\sim N(40, 4)$$\n",
    "\n",
    "$$\\varepsilon_i \\sim N(0,x_i^2)$$"
   ]
  },
  {
   "cell_type": "markdown",
   "metadata": {},
   "source": [
    "**Пункт 1.** Сгенерируйте выборку размера $n=50$. Оцените модель с помощью МНК. Прокомментируйте значимость регрессоров и проверьте  модель на гетероскедастичность при помощи вашего любимого теста. "
   ]
  },
  {
   "cell_type": "code",
   "execution_count": 308,
   "metadata": {},
   "outputs": [],
   "source": [
    "X = np.random.normal(40, 4, 50)\n",
    "Eps = np.random.normal(0, X ** 2, 50)\n",
    "y = 10 + 2 * X + Eps"
   ]
  },
  {
   "cell_type": "code",
   "execution_count": 309,
   "metadata": {},
   "outputs": [
    {
     "data": {
      "text/html": [
       "<table class=\"simpletable\">\n",
       "<caption>OLS Regression Results</caption>\n",
       "<tr>\n",
       "  <th>Dep. Variable:</th>            <td>y</td>        <th>  R-squared:         </th> <td>   0.005</td>\n",
       "</tr>\n",
       "<tr>\n",
       "  <th>Model:</th>                   <td>OLS</td>       <th>  Adj. R-squared:    </th> <td>  -0.015</td>\n",
       "</tr>\n",
       "<tr>\n",
       "  <th>Method:</th>             <td>Least Squares</td>  <th>  F-statistic:       </th> <td>  0.2609</td>\n",
       "</tr>\n",
       "<tr>\n",
       "  <th>Date:</th>             <td>Wed, 15 Dec 2021</td> <th>  Prob (F-statistic):</th>  <td> 0.612</td> \n",
       "</tr>\n",
       "<tr>\n",
       "  <th>Time:</th>                 <td>22:40:41</td>     <th>  Log-Likelihood:    </th> <td> -434.81</td>\n",
       "</tr>\n",
       "<tr>\n",
       "  <th>No. Observations:</th>      <td>    50</td>      <th>  AIC:               </th> <td>   873.6</td>\n",
       "</tr>\n",
       "<tr>\n",
       "  <th>Df Residuals:</th>          <td>    48</td>      <th>  BIC:               </th> <td>   877.4</td>\n",
       "</tr>\n",
       "<tr>\n",
       "  <th>Df Model:</th>              <td>     1</td>      <th>                     </th>     <td> </td>   \n",
       "</tr>\n",
       "<tr>\n",
       "  <th>Covariance Type:</th>      <td>nonrobust</td>    <th>                     </th>     <td> </td>   \n",
       "</tr>\n",
       "</table>\n",
       "<table class=\"simpletable\">\n",
       "<tr>\n",
       "      <td></td>         <th>coef</th>     <th>std err</th>      <th>t</th>      <th>P>|t|</th>  <th>[0.025</th>    <th>0.975]</th>  \n",
       "</tr>\n",
       "<tr>\n",
       "  <th>Intercept</th> <td>-1056.7116</td> <td> 2188.698</td> <td>   -0.483</td> <td> 0.631</td> <td>-5457.383</td> <td> 3343.960</td>\n",
       "</tr>\n",
       "<tr>\n",
       "  <th>x</th>         <td>   27.7841</td> <td>   54.398</td> <td>    0.511</td> <td> 0.612</td> <td>  -81.591</td> <td>  137.159</td>\n",
       "</tr>\n",
       "</table>\n",
       "<table class=\"simpletable\">\n",
       "<tr>\n",
       "  <th>Omnibus:</th>       <td> 2.212</td> <th>  Durbin-Watson:     </th> <td>   2.093</td>\n",
       "</tr>\n",
       "<tr>\n",
       "  <th>Prob(Omnibus):</th> <td> 0.331</td> <th>  Jarque-Bera (JB):  </th> <td>   1.346</td>\n",
       "</tr>\n",
       "<tr>\n",
       "  <th>Skew:</th>          <td> 0.187</td> <th>  Prob(JB):          </th> <td>   0.510</td>\n",
       "</tr>\n",
       "<tr>\n",
       "  <th>Kurtosis:</th>      <td> 3.712</td> <th>  Cond. No.          </th> <td>    422.</td>\n",
       "</tr>\n",
       "</table><br/><br/>Warnings:<br/>[1] Standard Errors assume that the covariance matrix of the errors is correctly specified."
      ],
      "text/plain": [
       "<class 'statsmodels.iolib.summary.Summary'>\n",
       "\"\"\"\n",
       "                            OLS Regression Results                            \n",
       "==============================================================================\n",
       "Dep. Variable:                      y   R-squared:                       0.005\n",
       "Model:                            OLS   Adj. R-squared:                 -0.015\n",
       "Method:                 Least Squares   F-statistic:                    0.2609\n",
       "Date:                Wed, 15 Dec 2021   Prob (F-statistic):              0.612\n",
       "Time:                        22:40:41   Log-Likelihood:                -434.81\n",
       "No. Observations:                  50   AIC:                             873.6\n",
       "Df Residuals:                      48   BIC:                             877.4\n",
       "Df Model:                           1                                         \n",
       "Covariance Type:            nonrobust                                         \n",
       "==============================================================================\n",
       "                 coef    std err          t      P>|t|      [0.025      0.975]\n",
       "------------------------------------------------------------------------------\n",
       "Intercept  -1056.7116   2188.698     -0.483      0.631   -5457.383    3343.960\n",
       "x             27.7841     54.398      0.511      0.612     -81.591     137.159\n",
       "==============================================================================\n",
       "Omnibus:                        2.212   Durbin-Watson:                   2.093\n",
       "Prob(Omnibus):                  0.331   Jarque-Bera (JB):                1.346\n",
       "Skew:                           0.187   Prob(JB):                        0.510\n",
       "Kurtosis:                       3.712   Cond. No.                         422.\n",
       "==============================================================================\n",
       "\n",
       "Warnings:\n",
       "[1] Standard Errors assume that the covariance matrix of the errors is correctly specified.\n",
       "\"\"\""
      ]
     },
     "execution_count": 309,
     "metadata": {},
     "output_type": "execute_result"
    }
   ],
   "source": [
    "data = pd.DataFrame(columns=['y', 'x'])\n",
    "data['y'] = y\n",
    "data['x'] = X\n",
    "\n",
    "model_1 = smf.ols('y ~ x', data=data).fit()\n",
    "model_1.summary()"
   ]
  },
  {
   "cell_type": "markdown",
   "metadata": {},
   "source": [
    "Получаем, что модель незначима в целом; регрессор x не значим в целом на любом разумном уровне значимости."
   ]
  },
  {
   "cell_type": "code",
   "execution_count": 310,
   "metadata": {},
   "outputs": [
    {
     "data": {
      "text/plain": [
       "(12.130613239041246,\n",
       " 0.35390598922537697,\n",
       " 1.1081436971982148,\n",
       " 0.3923929472463033)"
      ]
     },
     "execution_count": 310,
     "metadata": {},
     "output_type": "execute_result"
    }
   ],
   "source": [
    "sms.het_arch(model_1.model.endog)"
   ]
  },
  {
   "cell_type": "markdown",
   "metadata": {},
   "source": [
    "Нулевая гипотеза отвергается (смотрим по p-value - очень далеко от 0), поэтому имеем гетероскедастичность."
   ]
  },
  {
   "cell_type": "markdown",
   "metadata": {},
   "source": [
    "**Пункт 2.** Оцените модель с помощью WLS и выведите стандартные ошибки коэффициентов, устойчивые к гетероскедастичности. Сравните результаты оценки с результатами предыдущего пункта.\n",
    "\n",
    "**Hint:** [о WLS и его связи с FGLS](https://en.wikipedia.org/wiki/Generalized_least_squares). "
   ]
  },
  {
   "cell_type": "code",
   "execution_count": 312,
   "metadata": {},
   "outputs": [
    {
     "data": {
      "text/html": [
       "<table class=\"simpletable\">\n",
       "<caption>WLS Regression Results</caption>\n",
       "<tr>\n",
       "  <th>Dep. Variable:</th>            <td>y</td>        <th>  R-squared:         </th> <td>   0.040</td>\n",
       "</tr>\n",
       "<tr>\n",
       "  <th>Model:</th>                   <td>WLS</td>       <th>  Adj. R-squared:    </th> <td>   0.020</td>\n",
       "</tr>\n",
       "<tr>\n",
       "  <th>Method:</th>             <td>Least Squares</td>  <th>  F-statistic:       </th> <td>   1.977</td>\n",
       "</tr>\n",
       "<tr>\n",
       "  <th>Date:</th>             <td>Wed, 15 Dec 2021</td> <th>  Prob (F-statistic):</th>  <td> 0.166</td> \n",
       "</tr>\n",
       "<tr>\n",
       "  <th>Time:</th>                 <td>22:41:48</td>     <th>  Log-Likelihood:    </th> <td> -431.76</td>\n",
       "</tr>\n",
       "<tr>\n",
       "  <th>No. Observations:</th>      <td>    50</td>      <th>  AIC:               </th> <td>   867.5</td>\n",
       "</tr>\n",
       "<tr>\n",
       "  <th>Df Residuals:</th>          <td>    48</td>      <th>  BIC:               </th> <td>   871.4</td>\n",
       "</tr>\n",
       "<tr>\n",
       "  <th>Df Model:</th>              <td>     1</td>      <th>                     </th>     <td> </td>   \n",
       "</tr>\n",
       "<tr>\n",
       "  <th>Covariance Type:</th>      <td>nonrobust</td>    <th>                     </th>     <td> </td>   \n",
       "</tr>\n",
       "</table>\n",
       "<table class=\"simpletable\">\n",
       "<tr>\n",
       "    <td></td>       <th>coef</th>     <th>std err</th>      <th>t</th>      <th>P>|t|</th>  <th>[0.025</th>    <th>0.975]</th>  \n",
       "</tr>\n",
       "<tr>\n",
       "  <th>const</th> <td>-2385.9751</td> <td> 1652.705</td> <td>   -1.444</td> <td> 0.155</td> <td>-5708.962</td> <td>  937.012</td>\n",
       "</tr>\n",
       "<tr>\n",
       "  <th>x1</th>    <td>   62.6909</td> <td>   44.592</td> <td>    1.406</td> <td> 0.166</td> <td>  -26.967</td> <td>  152.349</td>\n",
       "</tr>\n",
       "</table>\n",
       "<table class=\"simpletable\">\n",
       "<tr>\n",
       "  <th>Omnibus:</th>       <td> 1.948</td> <th>  Durbin-Watson:     </th> <td>   2.112</td>\n",
       "</tr>\n",
       "<tr>\n",
       "  <th>Prob(Omnibus):</th> <td> 0.378</td> <th>  Jarque-Bera (JB):  </th> <td>   1.084</td>\n",
       "</tr>\n",
       "<tr>\n",
       "  <th>Skew:</th>          <td> 0.211</td> <th>  Prob(JB):          </th> <td>   0.582</td>\n",
       "</tr>\n",
       "<tr>\n",
       "  <th>Kurtosis:</th>      <td> 3.585</td> <th>  Cond. No.          </th> <td>    371.</td>\n",
       "</tr>\n",
       "</table><br/><br/>Warnings:<br/>[1] Standard Errors assume that the covariance matrix of the errors is correctly specified."
      ],
      "text/plain": [
       "<class 'statsmodels.iolib.summary.Summary'>\n",
       "\"\"\"\n",
       "                            WLS Regression Results                            \n",
       "==============================================================================\n",
       "Dep. Variable:                      y   R-squared:                       0.040\n",
       "Model:                            WLS   Adj. R-squared:                  0.020\n",
       "Method:                 Least Squares   F-statistic:                     1.977\n",
       "Date:                Wed, 15 Dec 2021   Prob (F-statistic):              0.166\n",
       "Time:                        22:41:48   Log-Likelihood:                -431.76\n",
       "No. Observations:                  50   AIC:                             867.5\n",
       "Df Residuals:                      48   BIC:                             871.4\n",
       "Df Model:                           1                                         \n",
       "Covariance Type:            nonrobust                                         \n",
       "==============================================================================\n",
       "                 coef    std err          t      P>|t|      [0.025      0.975]\n",
       "------------------------------------------------------------------------------\n",
       "const      -2385.9751   1652.705     -1.444      0.155   -5708.962     937.012\n",
       "x1            62.6909     44.592      1.406      0.166     -26.967     152.349\n",
       "==============================================================================\n",
       "Omnibus:                        1.948   Durbin-Watson:                   2.112\n",
       "Prob(Omnibus):                  0.378   Jarque-Bera (JB):                1.084\n",
       "Skew:                           0.211   Prob(JB):                        0.582\n",
       "Kurtosis:                       3.585   Cond. No.                         371.\n",
       "==============================================================================\n",
       "\n",
       "Warnings:\n",
       "[1] Standard Errors assume that the covariance matrix of the errors is correctly specified.\n",
       "\"\"\""
      ]
     },
     "execution_count": 312,
     "metadata": {},
     "output_type": "execute_result"
    }
   ],
   "source": [
    "from statsmodels.regression.linear_model import OLS, WLS\n",
    "\n",
    "log_resid = np.log(model_1.resid ** 2)\n",
    "hat_omega_model = OLS(log_resid, model_1.model.exog).fit()\n",
    "weights = 1 / np.exp(model_1.model.exog @ hat_omega_model.params)\n",
    "\n",
    "model_gls = WLS(model_1.model.endog, model_1.model.exog, weights=weights).fit()\n",
    "model_gls.summary()"
   ]
  },
  {
   "cell_type": "markdown",
   "metadata": {},
   "source": [
    "p-value значительно уменьшилось, также изменились и доверительные интервалы (значительно сузились). Коэффициенты, кстати, возросли."
   ]
  },
  {
   "cell_type": "markdown",
   "metadata": {},
   "source": [
    "**Пункт 3.** Повторите действия 1-2 пунктов $n=10000$. Прокомментируйте, почему поменялись или не поменялись результаты оценки моделей."
   ]
  },
  {
   "cell_type": "code",
   "execution_count": null,
   "metadata": {},
   "outputs": [],
   "source": []
  },
  {
   "cell_type": "markdown",
   "metadata": {},
   "source": [
    "**Пункт 4.** Оцените стандартные ошибки коэффициентов, устойчивые к гетероскедастичности, при помощи какого-нибудь метода бутстрэпа. Сравните результаты оценки с результатами предыдущего пункта."
   ]
  },
  {
   "cell_type": "code",
   "execution_count": null,
   "metadata": {},
   "outputs": [],
   "source": []
  },
  {
   "cell_type": "markdown",
   "metadata": {},
   "source": [
    "**Пункт 5.** Оцените стандартные ошибки коэффициентов, устойчивые к гетероскедастичности, при помощи какой-нибудь из схем HC. Поменялось ли что-нибудь?"
   ]
  },
  {
   "cell_type": "code",
   "execution_count": null,
   "metadata": {},
   "outputs": [],
   "source": []
  },
  {
   "cell_type": "markdown",
   "metadata": {},
   "source": [
    "**Пункт 6.** Сделайте итоговый вывод о значимости коэффициентов в модели. Очевиден ли он?"
   ]
  },
  {
   "cell_type": "code",
   "execution_count": null,
   "metadata": {},
   "outputs": [],
   "source": []
  }
 ],
 "metadata": {
  "hide_input": false,
  "kernelspec": {
   "display_name": "Python 3",
   "language": "python",
   "name": "python3"
  },
  "language_info": {
   "codemirror_mode": {
    "name": "ipython",
    "version": 3
   },
   "file_extension": ".py",
   "mimetype": "text/x-python",
   "name": "python",
   "nbconvert_exporter": "python",
   "pygments_lexer": "ipython3",
   "version": "3.7.4"
  },
  "latex_envs": {
   "LaTeX_envs_menu_present": true,
   "autoclose": true,
   "autocomplete": true,
   "bibliofile": "biblio.bib",
   "cite_by": "apalike",
   "current_citInitial": 1,
   "eqLabelWithNumbers": true,
   "eqNumInitial": 1,
   "hotkeys": {
    "equation": "Ctrl-E",
    "itemize": "Ctrl-I"
   },
   "labels_anchors": false,
   "latex_user_defs": false,
   "report_style_numbering": false,
   "user_envs_cfg": false
  },
  "toc": {
   "base_numbering": 1,
   "nav_menu": {},
   "number_sections": true,
   "sideBar": true,
   "skip_h1_title": false,
   "title_cell": "Table of Contents",
   "title_sidebar": "Contents",
   "toc_cell": false,
   "toc_position": {},
   "toc_section_display": true,
   "toc_window_display": false
  },
  "varInspector": {
   "cols": {
    "lenName": 16,
    "lenType": 16,
    "lenVar": 40
   },
   "kernels_config": {
    "python": {
     "delete_cmd_postfix": "",
     "delete_cmd_prefix": "del ",
     "library": "var_list.py",
     "varRefreshCmd": "print(var_dic_list())"
    },
    "r": {
     "delete_cmd_postfix": ") ",
     "delete_cmd_prefix": "rm(",
     "library": "var_list.r",
     "varRefreshCmd": "cat(var_dic_list()) "
    }
   },
   "types_to_exclude": [
    "module",
    "function",
    "builtin_function_or_method",
    "instance",
    "_Feature"
   ],
   "window_display": false
  }
 },
 "nbformat": 4,
 "nbformat_minor": 4
}
