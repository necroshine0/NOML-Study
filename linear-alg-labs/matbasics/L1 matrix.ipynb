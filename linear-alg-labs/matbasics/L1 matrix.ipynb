{
 "cells": [
  {
   "cell_type": "markdown",
   "metadata": {},
   "source": [
    "# Линейная алгебра. Лабораторная работа 1, осень 2019"
   ]
  },
  {
   "cell_type": "markdown",
   "metadata": {},
   "source": [
    "В этой лабораторной работе вы познакомитесь со средой Jupyter Notebook и библиотеками numpy и scipy."
   ]
  },
  {
   "cell_type": "markdown",
   "metadata": {},
   "source": [
    "## Часть 1. Библиотеки"
   ]
  },
  {
   "cell_type": "markdown",
   "metadata": {},
   "source": [
    "В этой лабораторной работе вам понадобятся три библиотеки:\n",
    "\n",
    "- `numpy` - основная библиотека для работы с матрицами;\n",
    "- `scipy`, а точнее модуль `scipy.linalg`, содержащий множество функций линейной алгебры;\n",
    "- `matplotlib` - графическая библиотека\n",
    "\n",
    "Подключить их можно следующим образом:"
   ]
  },
  {
   "cell_type": "code",
   "execution_count": 6,
   "metadata": {},
   "outputs": [],
   "source": [
    "# Запустите этот код\n",
    "import numpy as np\n",
    "\n",
    "import scipy.linalg as sla\n",
    "\n",
    "import matplotlib.pyplot as plt\n",
    "%matplotlib inline"
   ]
  },
  {
   "cell_type": "markdown",
   "metadata": {},
   "source": [
    "Теперь вы можете позвать, скажем, функцию `scipy.linalg.det()` с помощью кода `sla.det()`, а функцию `numpy.exp()` - с помощью кода `np.exp()`."
   ]
  },
  {
   "cell_type": "markdown",
   "metadata": {},
   "source": [
    "**Основные объекты и операции линейной алгебры в NumPy и SciPy:**"
   ]
  },
  {
   "cell_type": "markdown",
   "metadata": {},
   "source": [
    "Основной объект, с которым вам придётся работать и в этой, и в следующих лабораторных - это, безусловно, матрицы. В библиотеке `numpy` они представлены классом `numpy.ndarray`. Матрицу можно создать из двумерного (а на самом деле и не только двумерного) массива следующим образом:"
   ]
  },
  {
   "cell_type": "code",
   "execution_count": 7,
   "metadata": {},
   "outputs": [
    {
     "name": "stdout",
     "output_type": "stream",
     "text": [
      "[[1 2 3]\n",
      " [4 5 6]]\n",
      "(2, 3)\n"
     ]
    }
   ],
   "source": [
    "# Запустите этот код\n",
    "A = np.array([[1, 2, 3], [4, 5, 6]])\n",
    "\n",
    "print(A)\n",
    "print(A.shape) # пара (число строк, число столбцов)"
   ]
  },
  {
   "cell_type": "markdown",
   "metadata": {},
   "source": [
    "Обратите внимание, что матрица заполняется *по строкам*.\n",
    "\n",
    "Есть и много других конструкторов матриц. Например, единичная матрица размера $n\\times n$ создаётся с помощью функции `numpy.eye(n)`. Со всем многообразием конструкторов можно ознакомиться [на этой странице](https://docs.scipy.org/doc/numpy-1.10.1/reference/routines.array-creation.html)."
   ]
  },
  {
   "cell_type": "markdown",
   "metadata": {},
   "source": [
    "Зачастую бывает нужно получить доступ к подматрицам данной матрицы, и numpy предоставляет множество удобных средств, как это сделать (называется slicing):\n",
    "- элемент с номером `(i,j)`: `A[i,j]`\n",
    "- i-я строка матрицы: `A[i,:]`\n",
    "- j-й столбец матрицы: `A[:,j]`\n",
    "\n",
    "**Внимание!** Оба варианта, и `A[i,:]`, и `A[:,j]` дают не строку или столбец, а одномерный вектор. Если вы хотите получить вектор-строку или вектор-столбец соответственно, используйте вот такой синтаксис: `A[i:i+1,:]`, и `A[:,j:j+1]`\n",
    "- строки с нулевой по i-ю: `A[:i+1,:]`\n",
    "- столбцы с j-го по последний: `A[:,j:]`\n",
    "- строки с i-й по k-ю: `A[i:k,:]`\n",
    "\n",
    "В некоторых случаях нужно получить доступ к (прямоугольной) подматрице, элементы которой находятся на пересечении строк из списка `rows` и столбцов `columns`. В этом случае `A[rows, columns]` даст не то, что вы ожидаете (можете попробовать это сделать сами и увидеть, что получится; только возьмите `rows` и `columns` одного размера). Справиться с этой задачей позволяет код `A[np.ix_(rows, columns)]`"
   ]
  },
  {
   "cell_type": "markdown",
   "metadata": {},
   "source": [
    "*Умножение матриц* производится с помощью оператора `np.dot()`. Есть два варианта написания: `A.dot(B)` и `np.dot(A, B)`.\n",
    "\n",
    "Обычные знаки арифметических действий (`+`, `-`, `*`) зарезервированы для поэлементных операций. Например, `A * B` - это матрица, элементами которой являются произведения $A_{ij}B_{ij}$. Помимо этих есть и множество других поэлементных операций. Например, `numpy.exp(A)` - это матрица, элементами которой являются экспоненты элементов матрицы `A`."
   ]
  },
  {
   "cell_type": "markdown",
   "metadata": {},
   "source": [
    "Чтобы получить матрицу, *транспонированную* к матрице `A`, напишите просто `A.T`. "
   ]
  },
  {
   "cell_type": "markdown",
   "metadata": {},
   "source": [
    "В некоторых случаях бывает нужно создавать *случайные матрицы*: например, при проведении экспериментов или для инициализации итеративных методов. Средства для этого предоставляет пакет [numpy.random](https://docs.scipy.org/doc/numpy/reference/routines.random.html). Так, `np.random.rand(m,n)` - это матрица $m\\times n$, элементы которой независимо выбраны из равномерного распределения на интервале `[0;1)` "
   ]
  },
  {
   "cell_type": "markdown",
   "metadata": {},
   "source": [
    "Для *решения систем линейных уравнений* в пакете `scipy.linalg` есть множество методов, рассмотрение которых выходит за пределы курса линейной алгебры. Мы вам пока предлагаем пользоваться функцией `scipy.linalg.solve`, основанной на методе Гаусса. Отметим, что `scipy.linalg.solve(A, B)` выдаёт решение уравнения $AX = B$ (или ошибку), где $B$ может быть как вектором, так и матрицей.\n",
    "\n",
    "Найти обратную матрицу для матрицы $A$ можно с помощью функции `sla.inv(A)`."
   ]
  },
  {
   "cell_type": "markdown",
   "metadata": {},
   "source": [
    "**Копирование сложных объектов в Python**"
   ]
  },
  {
   "cell_type": "markdown",
   "metadata": {},
   "source": [
    "Когда вы делаете присваивание каких-то сложных объектов, как правило оно происходит по ссылке. Например, код\n",
    "```\n",
    "B = A\n",
    "B[0,0] = 10\n",
    "```\n",
    "приведёт к изменению матрицы `A`.\n",
    "\n",
    "Не попадайтесь в эту ловушку! Если вы хотите работать с копией как с независимой матрицей, используйте метод `copy()`:\n",
    "```\n",
    "B = A.copy()\n",
    "```"
   ]
  },
  {
   "cell_type": "markdown",
   "metadata": {},
   "source": [
    "**Где искать помощь**"
   ]
  },
  {
   "cell_type": "markdown",
   "metadata": {},
   "source": [
    "Библиотеки `numpy` и `scipy` снабжены прекрасной документацией. Если у вас возникают вопросы о том, как работает та или иная функция (или даже как называется функция, выполняющая то, что вам нужно), вы почти всегда можете найти там ответы.\n",
    "\n",
    "[Ссылка на документацию пакета scipy.linalg](https://docs.scipy.org/doc/scipy-0.18.1/reference/linalg.html)"
   ]
  },
  {
   "cell_type": "markdown",
   "metadata": {},
   "source": [
    "**И всё-таки задание**"
   ]
  },
  {
   "cell_type": "markdown",
   "metadata": {},
   "source": [
    "В качестве первого задания мы попросим вас отыскать соответствующие функции в библиотеке и сделать следующее:\n",
    "\n",
    "- создайте нулевую матрицу $Z$ размера $3\\times4$;\n",
    "\n",
    "- создайте диагональную матрицу $5\\times5$ с диагональными элементами 1, 2, 3, 4 и 5;\n",
    "\n",
    "- найдите её след (не силою мысли, а с помощью библиотечных функций, конечно);\n",
    "\n",
    "- найдите обратную к ней матрицу;\n",
    "\n",
    "- сгенерируйте случайную матрицу $X$ размера $4\\times5$;\n",
    "\n",
    "- найдите определитель подматрицы матрицы $X$, расположенной на пересечении 2 и 3 строки и 1 и 2 столбца; считаем, что строки и столбцы нумеруются с единицы (используйте slicing!). Такой определитель называется **минором** матрицы $X$;\n",
    "\n",
    "- найдите произведение $X^TX$.\n",
    "\n",
    "Пожалуйста, каждый пункт делайте в новом блоке и не забывайте распечатывать результаты."
   ]
  },
  {
   "cell_type": "markdown",
   "metadata": {
    "collapsed": true
   },
   "source": [
    "А сейчас я создам нулевую матрицу"
   ]
  },
  {
   "cell_type": "code",
   "execution_count": 8,
   "metadata": {
    "scrolled": true
   },
   "outputs": [
    {
     "data": {
      "text/plain": [
       "array([[1., 0., 0.],\n",
       "       [0., 1., 0.],\n",
       "       [0., 0., 1.]])"
      ]
     },
     "execution_count": 8,
     "metadata": {},
     "output_type": "execute_result"
    }
   ],
   "source": [
    "np.eye(3)"
   ]
  },
  {
   "cell_type": "code",
   "execution_count": 9,
   "metadata": {
    "scrolled": true
   },
   "outputs": [
    {
     "name": "stdout",
     "output_type": "stream",
     "text": [
      "[[0. 0. 0. 0.]\n",
      " [0. 0. 0. 0.]\n",
      " [0. 0. 0. 0.]]\n"
     ]
    }
   ],
   "source": [
    "Z = np.zeros((3, 4))\n",
    "print(Z)"
   ]
  },
  {
   "cell_type": "code",
   "execution_count": 10,
   "metadata": {},
   "outputs": [
    {
     "name": "stdout",
     "output_type": "stream",
     "text": [
      "[[1 0 0 0 0]\n",
      " [0 2 0 0 0]\n",
      " [0 0 3 0 0]\n",
      " [0 0 0 4 0]\n",
      " [0 0 0 0 5]]\n"
     ]
    }
   ],
   "source": [
    "mat_diag = np.diag(np.arange(1, 6))\n",
    "print(mat_diag)"
   ]
  },
  {
   "cell_type": "code",
   "execution_count": 11,
   "metadata": {},
   "outputs": [
    {
     "name": "stdout",
     "output_type": "stream",
     "text": [
      "15\n"
     ]
    }
   ],
   "source": [
    "print(mat_diag.trace())"
   ]
  },
  {
   "cell_type": "code",
   "execution_count": 12,
   "metadata": {},
   "outputs": [
    {
     "name": "stdout",
     "output_type": "stream",
     "text": [
      "[[ 1.          0.          0.          0.         -0.        ]\n",
      " [ 0.          0.5         0.          0.         -0.        ]\n",
      " [ 0.          0.          0.33333333  0.         -0.        ]\n",
      " [ 0.          0.          0.          0.25       -0.        ]\n",
      " [ 0.          0.          0.          0.          0.2       ]]\n"
     ]
    }
   ],
   "source": [
    "mat_inverse = sla.inv(mat_diag)\n",
    "print(mat_inverse)"
   ]
  },
  {
   "cell_type": "code",
   "execution_count": 13,
   "metadata": {},
   "outputs": [
    {
     "name": "stdout",
     "output_type": "stream",
     "text": [
      "[[1. 0. 0. 0. 0.]\n",
      " [0. 1. 0. 0. 0.]\n",
      " [0. 0. 1. 0. 0.]\n",
      " [0. 0. 0. 1. 0.]\n",
      " [0. 0. 0. 0. 1.]]\n"
     ]
    }
   ],
   "source": [
    "# Проверка:\n",
    "print(np.dot(mat_diag, mat_inverse))"
   ]
  },
  {
   "cell_type": "code",
   "execution_count": 14,
   "metadata": {},
   "outputs": [
    {
     "name": "stdout",
     "output_type": "stream",
     "text": [
      "[[0.89995315 0.36228553 0.27343088 0.22152821 0.34293416]\n",
      " [0.15216186 0.35256455 0.16312045 0.06669041 0.25022011]\n",
      " [0.31005236 0.24972754 0.95929559 0.98260345 0.18954541]\n",
      " [0.98349865 0.86728293 0.0841241  0.30056381 0.36635863]]\n"
     ]
    }
   ],
   "source": [
    "X = np.random.rand(4, 5)\n",
    "print(X)"
   ]
  },
  {
   "cell_type": "code",
   "execution_count": 15,
   "metadata": {},
   "outputs": [
    {
     "name": "stdout",
     "output_type": "stream",
     "text": [
      "-0.07131446105068391\n"
     ]
    }
   ],
   "source": [
    "A = X[1:3, 0:2]\n",
    "print(sla.det(A))"
   ]
  },
  {
   "cell_type": "code",
   "execution_count": 16,
   "metadata": {},
   "outputs": [
    {
     "name": "stdout",
     "output_type": "stream",
     "text": [
      "[[1.89647096 1.31008708 0.65106348 0.80977537 0.76578085]\n",
      " [1.31008708 1.0700961  0.46909246 0.60982615 0.57753012]\n",
      " [0.65106348 0.46909246 1.02869762 1.03934304 0.34723447]\n",
      " [0.80977537 0.60982615 1.03934304 1.10937051 0.38901899]\n",
      " [0.76578085 0.57753012 0.34723447 0.38901899 0.35036004]]\n"
     ]
    }
   ],
   "source": [
    "new_X = X.T.copy()\n",
    "new_matrix = np.dot(new_X, X)\n",
    "print(new_matrix)"
   ]
  },
  {
   "cell_type": "markdown",
   "metadata": {},
   "source": [
    "## Часть 2. Время\n",
    "\n",
    "Питон мотивирует пользоваться библиотечными функциями, когда они доступны, а не писать собственные. Библиотечные функции основаны на современных алгоритмах, обычно пишутся на более эффективных языках, таких как C++ или Fortran, а, кроме того, оптимизированы для работы на многопроцессорных устройствах, так что обогнать эти решения просто так вы не сможете.\n",
    "\n",
    "Мы предлагаем вам убедиться в этом самим. Напишите функцию `my_det`, которая вычисляла бы определитель матрицы с помощью элементарных преобразований над строками. Функция должна выкидывать `ValueError` в случаях, если матрица не является квадратной."
   ]
  },
  {
   "cell_type": "code",
   "execution_count": 17,
   "metadata": {},
   "outputs": [],
   "source": [
    "def my_det(X):\n",
    "    '''\n",
    "    Parameters\n",
    "    ----------\n",
    "    X : array_like\n",
    "    \n",
    "    Returns\n",
    "    -------\n",
    "    det : float\n",
    "        Determinant of `a`.\n",
    "    '''\n",
    "    \n",
    "    X = np.array(X, dtype=float)\n",
    "    # Нахождение числа строк и числа стоблцов\n",
    "    rows = len(X[0,:])\n",
    "    columns = len(X[:,0])\n",
    "    \n",
    "    # Проверка на квадратность\n",
    "    if rows != columns:\n",
    "        return ValueError\n",
    "    size = rows\n",
    "    row_number = 0       \n",
    "    \n",
    "    # Выполняет одну перестановку строки: максимальная выводится вверх -> определитель меняет знак (за это отвечает changes)\n",
    "    j = 0\n",
    "    changes = 1\n",
    "    maximal = -math.inf\n",
    "    for i in range(size):\n",
    "        if X[i, j] >= maximal:\n",
    "            maximal = X[i, j]\n",
    "            row_number = i\n",
    "    if row_number != 0:\n",
    "        changes = -1\n",
    "        for k in range(size):\n",
    "            X[row_number, k], X[0, k] = X[0, k], X[row_number, k]\n",
    "\n",
    "    # Приводим матрицу к верхнетреугольному виду\n",
    "    for i in range(size): \n",
    "        for j in range(i + 1, size, 1):\n",
    "            if X[i, i] != 0:\n",
    "                t = X[j, i] / X[i, i]\n",
    "            for k in range(i, size, 1):\n",
    "                X[j, k] = X[j, k] - X[i, k] * t\n",
    " \n",
    "\n",
    "   # Расчет определителя\n",
    "    det = 1\n",
    "    for i in range(size):\n",
    "        det = det * X[i, i]\n",
    "    return changes * det"
   ]
  },
  {
   "cell_type": "markdown",
   "metadata": {},
   "source": [
    "Простая проверка:"
   ]
  },
  {
   "cell_type": "code",
   "execution_count": 18,
   "metadata": {},
   "outputs": [
    {
     "name": "stdout",
     "output_type": "stream",
     "text": [
      "[[0 0 1]\n",
      " [0 1 0]\n",
      " [1 0 0]]\n",
      "-1.0\n"
     ]
    }
   ],
   "source": [
    "# Запустите этот блок кода\n",
    "import math\n",
    "X = np.array([[0, 0, 1], [0, 1, 0], [1, 0, 0]])\n",
    "print(X)\n",
    "print(my_det(X))"
   ]
  },
  {
   "cell_type": "markdown",
   "metadata": {},
   "source": [
    "На случай, если нам просто повезло с этой матрицей, имеет смысл написать чуть более хитрые тесты. Мы сгенерируем несколько случайных матриц $8\\times8$ с помощью функции `numpy.random.rand` и сравним ответ, выдаваемый нашей функцией, с настоящим определителем (результатом работы библиотечной функции `scipy.linalg.det`):"
   ]
  },
  {
   "cell_type": "code",
   "execution_count": 19,
   "metadata": {},
   "outputs": [],
   "source": [
    "# Запустите этот блок кода\n",
    "for _ in range(10):\n",
    "    X = np.random.rand(8,8)\n",
    "    if np.abs(my_det(X) - sla.det(X)) > 1e-6:\n",
    "        print('FAILED')"
   ]
  },
  {
   "cell_type": "markdown",
   "metadata": {},
   "source": [
    "Если вы ни разу не получили `FAILED`, то ваша функция работает правильно."
   ]
  },
  {
   "cell_type": "markdown",
   "metadata": {},
   "source": [
    "Теперь давайте сравним скорость работы вашей функции и библиотечной функции `scipy.linalg.det`. В Питоне есть несколько способов измерения времени; мы воспользуемся декоратором `%timeit`. Будучи написан перед функцией, он запускает её некоторое количество раз, выбирает три случайных запуска и возвращает длительность самого быстрого из них. Модификатор `-o` между декоратором и функцией позволяет сохранять результаты работы декоратора в переменную.\n",
    "\n",
    "Приготовьтесь, что следующий блок может работать сравнительно долго."
   ]
  },
  {
   "cell_type": "code",
   "execution_count": 20,
   "metadata": {},
   "outputs": [
    {
     "name": "stdout",
     "output_type": "stream",
     "text": [
      "12.1 µs ± 254 ns per loop (mean ± std. dev. of 7 runs, 100000 loops each)\n",
      "259 µs ± 7.99 µs per loop (mean ± std. dev. of 7 runs, 1000 loops each)\n",
      "149 µs ± 90.8 µs per loop (mean ± std. dev. of 7 runs, 1 loop each)\n",
      "231 ms ± 11.1 ms per loop (mean ± std. dev. of 7 runs, 1 loop each)\n",
      "15.7 ms ± 1.17 ms per loop (mean ± std. dev. of 7 runs, 1 loop each)\n"
     ]
    },
    {
     "name": "stderr",
     "output_type": "stream",
     "text": [
      "C:\\Users\\Oleg\\Anaconda3\\lib\\site-packages\\ipykernel_launcher.py:49: RuntimeWarning: overflow encountered in double_scalars\n"
     ]
    },
    {
     "name": "stdout",
     "output_type": "stream",
     "text": [
      "3min 37s ± 7.12 s per loop (mean ± std. dev. of 7 runs, 1 loop each)\n"
     ]
    },
    {
     "data": {
      "text/plain": [
       "<matplotlib.legend.Legend at 0x24466613788>"
      ]
     },
     "execution_count": 20,
     "metadata": {},
     "output_type": "execute_result"
    },
    {
     "data": {
      "image/png": "[encoded data removed]",
      "text/plain": [
       "<Figure size 432x288 with 1 Axes>"
      ]
     },
     "metadata": {
      "needs_background": "light"
     },
     "output_type": "display_data"
    }
   ],
   "source": [
    "# Запустите этот блок кода\n",
    "lib_times = []\n",
    "my_times = []\n",
    "dimensions = [10, 100, 1000]\n",
    "for dim in dimensions:\n",
    "    A = np.random.rand(dim, dim)\n",
    "    res_lib = %timeit -o sla.det(A)\n",
    "    lib_times.append(res_lib.best)\n",
    "    res_my = %timeit -o my_det(A)\n",
    "    my_times.append(res_my.best)    \n",
    "\n",
    "plt.plot(dimensions, lib_times, color='blue', label='Library function')\n",
    "plt.plot(dimensions, my_times, color='red', label='My function')\n",
    "plt.title('My function vs library function, log y scale')\n",
    "plt.ylabel('Time')\n",
    "plt.xlabel('Matrix dimension')\n",
    "plt.legend()"
   ]
  },
  {
   "cell_type": "markdown",
   "metadata": {},
   "source": [
    "У вас должны были получиться графики, показывающие, как растёт с ростом размерности матрицы время вычисления определителя. Поскольку они вышли не больно-то красивыми, мы нарисуем их в *логарифмическом масштабе* по оси у:"
   ]
  },
  {
   "cell_type": "code",
   "execution_count": 21,
   "metadata": {},
   "outputs": [
    {
     "data": {
      "text/plain": [
       "<matplotlib.legend.Legend at 0x244659ae0c8>"
      ]
     },
     "execution_count": 21,
     "metadata": {},
     "output_type": "execute_result"
    },
    {
     "data": {
      "image/png": "[encoded data removed]",
      "text/plain": [
       "<Figure size 432x288 with 1 Axes>"
      ]
     },
     "metadata": {
      "needs_background": "light"
     },
     "output_type": "display_data"
    }
   ],
   "source": [
    "# Запустите этот блок кода\n",
    "plt.semilogy(dimensions, lib_times, color='blue', label='Library function')\n",
    "plt.semilogy(dimensions, my_times, color='red', label='My function')\n",
    "plt.title('My function vs library function, log y scale')\n",
    "plt.ylabel('Time')\n",
    "plt.xlabel('Matrix dimension')\n",
    "plt.legend()"
   ]
  },
  {
   "cell_type": "markdown",
   "metadata": {},
   "source": [
    "Вы можете убедиться, что библиотечная функция работает *гораздо* быстрее."
   ]
  },
  {
   "cell_type": "markdown",
   "metadata": {},
   "source": [
    "## Часть 3. Точность\n",
    "\n",
    "Наверняка вы уже что-то знаете про floating point arithmetics и связанные с этим трудности и понимаете, что на компьютере вычисления с вещественными числами производятся лишь с ограниченной точностью. "
   ]
  },
  {
   "cell_type": "markdown",
   "metadata": {},
   "source": [
    "В качестве первого примера, показывающего различие между длинной арифметикой целых чисел и floating point arithmetics, предлагаем вам перемножить две пары матриц:\n",
    "\n",
    "$$\n",
    "\\begin{pmatrix}\n",
    "1 & 0\\\\\n",
    "10^{20} & 1\n",
    "\\end{pmatrix}\n",
    "\\cdot\n",
    "\\begin{pmatrix}\n",
    "10^{-20} & 1\\\\\n",
    "0 & 1 - 10^{20}\n",
    "\\end{pmatrix}\n",
    "$$\n",
    "и\n",
    "$$\n",
    "\\begin{pmatrix}\n",
    "1. & 0.\\\\\n",
    "10.^{20} & 1.\n",
    "\\end{pmatrix}\n",
    "\\cdot\n",
    "\\begin{pmatrix}\n",
    "10.^{-20} & 1.\\\\\n",
    "0. & 1. - 10.^{20}\n",
    "\\end{pmatrix}\n",
    "$$\n",
    "Во втором случае мы специально указали Питону (поставив везде десятичные точки), что хотим работать не с целыми числами, а с числами с плавающей точкой. Посмотрим, получатся ли одинаковые ответы:"
   ]
  },
  {
   "cell_type": "code",
   "execution_count": 22,
   "metadata": {},
   "outputs": [
    {
     "name": "stdout",
     "output_type": "stream",
     "text": [
      "[[1e-20 1]\n",
      " [1.0 1]]\n",
      "[[1.e-20 1.e+00]\n",
      " [1.e+00 0.e+00]]\n"
     ]
    }
   ],
   "source": [
    "A = np.array([[1, 0], [10 ** 20, 1]])\n",
    "B = np.array([[10 ** (-20), 1], [0, 1 - 10 ** 20]])\n",
    "first = np.dot(A, B)\n",
    "print(first)\n",
    "A = np.array([[1., 0.], [10 ** 20., 1.]])\n",
    "B = np.array([[10 ** -20., 1.], [0., 1 - 10 ** 20.]])\n",
    "second = np.dot(A, B)\n",
    "print(second)"
   ]
  },
  {
   "cell_type": "markdown",
   "metadata": {},
   "source": [
    "И какой из них правильный?\n",
    "\n",
    "---\n",
    "**Напишите здесь свой ответ**"
   ]
  },
  {
   "cell_type": "code",
   "execution_count": 23,
   "metadata": {},
   "outputs": [],
   "source": [
    "# Первый"
   ]
  },
  {
   "cell_type": "markdown",
   "metadata": {},
   "source": [
    "Впрочем, и с целыми числами тоже не всегда всё хорошо. Напишите функцию, генерирующую *матрицу Паскаля* заданной размерности $n$, то есть матрицу $P$, в которой $P_{ij} = C_{i+j}^i$. В этом задании нельзя пользоваться библиотечной функцией `scipy.linalg.pascal` или её аналогами из других библиотек. Обратите внимание, что использование факториалов крайне нежелательно, так как быстро приведёт к переполнению.\n",
    "\n",
    "В этом задании вы можете использовать цикл ``for``."
   ]
  },
  {
   "cell_type": "code",
   "execution_count": 24,
   "metadata": {},
   "outputs": [],
   "source": [
    "def my_pascal(dim):\n",
    "    '''\n",
    "    Мы создали для вас матрицу из нулей размера dim x dim,\n",
    "    но вы можете ей не пользоваться, если не хотите\n",
    "    '''\n",
    "    P = np.ones((dim, dim), dtype=np.int64)\n",
    "    for i in range(1, dim):\n",
    "        for j in range(1, dim):\n",
    "            P[i, j] = P[i-1, j] + P[i, j-1]\n",
    "    return P"
   ]
  },
  {
   "cell_type": "markdown",
   "metadata": {},
   "source": [
    "Чему равен её определитель? Обязательно объясните свой ответ.\n",
    "\n",
    "----\n",
    "**Ваше решение**"
   ]
  },
  {
   "cell_type": "code",
   "execution_count": 25,
   "metadata": {},
   "outputs": [],
   "source": [
    "# Определитель равен 1. Путем элеметарных преобразований,\n",
    "# которые не меняют определитель (элементарные преобразования первого типа),\n",
    "# мы можем привести симметричную матрицу Паскаля (далее - МП) к верхнетреугольному виду.\n",
    "# Заметим, что первая строка состоит из одних лишь единиц, а значит, можно вычесть ее из других строк так,\n",
    "# чтобы первый столбец имел вид (1, 0, 0, ..., 0). Тогда с элементами второго столбца можно провести ту же операцию,\n",
    "# однако мы будем вычитать не первую строку, а вторую. Получим второй столбей вида (1, 1, 0, 0, ..., 0).\n",
    "# Повторяем это действие до тех пор, пока последний правый нижний элемент матрицы не будет равен 1, или же когда последний ее\n",
    "# столбец не примет вид основания треугольника Паскаля для n - 1. Т. е. для матрицы размера n = 5 мы должны получить\n",
    "# последний столбец вида (1, 4, 6, 4, 1). Тогда мы заметим, что каждый i-ый столбец соответствует (i - 1)-му уровню треугольника\n",
    "# Паскаля. Так мы получим верхнетреугольную МП, главная диагональ которой имеет вид (1, 1, 1, ..., 1, 1), т. е. ее определитель\n",
    "# равен 1. Так как было сказано выше, что ЭП1 не меняют определитель (а строки мы не меняли местами), то определитель\n",
    "# МП симметричной тоже равен 1. Ч. т. д."
   ]
  },
  {
   "cell_type": "markdown",
   "metadata": {},
   "source": [
    "А теперь вычислите определитель матрицы Паскаля $30\\times30$ с помощью библиотечной функции `scipy.linalg.det`:"
   ]
  },
  {
   "cell_type": "code",
   "execution_count": 26,
   "metadata": {},
   "outputs": [
    {
     "name": "stdout",
     "output_type": "stream",
     "text": [
      "[[                1                 1                 1                 1\n",
      "                  1                 1                 1                 1\n",
      "                  1                 1                 1                 1\n",
      "                  1                 1                 1                 1\n",
      "                  1                 1                 1                 1\n",
      "                  1                 1                 1                 1\n",
      "                  1                 1                 1                 1\n",
      "                  1                 1]\n",
      " [                1                 2                 3                 4\n",
      "                  5                 6                 7                 8\n",
      "                  9                10                11                12\n",
      "                 13                14                15                16\n",
      "                 17                18                19                20\n",
      "                 21                22                23                24\n",
      "                 25                26                27                28\n",
      "                 29                30]\n",
      " [                1                 3                 6                10\n",
      "                 15                21                28                36\n",
      "                 45                55                66                78\n",
      "                 91               105               120               136\n",
      "                153               171               190               210\n",
      "                231               253               276               300\n",
      "                325               351               378               406\n",
      "                435               465]\n",
      " [                1                 4                10                20\n",
      "                 35                56                84               120\n",
      "                165               220               286               364\n",
      "                455               560               680               816\n",
      "                969              1140              1330              1540\n",
      "               1771              2024              2300              2600\n",
      "               2925              3276              3654              4060\n",
      "               4495              4960]\n",
      " [                1                 5                15                35\n",
      "                 70               126               210               330\n",
      "                495               715              1001              1365\n",
      "               1820              2380              3060              3876\n",
      "               4845              5985              7315              8855\n",
      "              10626             12650             14950             17550\n",
      "              20475             23751             27405             31465\n",
      "              35960             40920]\n",
      " [                1                 6                21                56\n",
      "                126               252               462               792\n",
      "               1287              2002              3003              4368\n",
      "               6188              8568             11628             15504\n",
      "              20349             26334             33649             42504\n",
      "              53130             65780             80730             98280\n",
      "             118755            142506            169911            201376\n",
      "             237336            278256]\n",
      " [                1                 7                28                84\n",
      "                210               462               924              1716\n",
      "               3003              5005              8008             12376\n",
      "              18564             27132             38760             54264\n",
      "              74613            100947            134596            177100\n",
      "             230230            296010            376740            475020\n",
      "             593775            736281            906192           1107568\n",
      "            1344904           1623160]\n",
      " [                1                 8                36               120\n",
      "                330               792              1716              3432\n",
      "               6435             11440             19448             31824\n",
      "              50388             77520            116280            170544\n",
      "             245157            346104            480700            657800\n",
      "             888030           1184040           1560780           2035800\n",
      "            2629575           3365856           4272048           5379616\n",
      "            6724520           8347680]\n",
      " [                1                 9                45               165\n",
      "                495              1287              3003              6435\n",
      "              12870             24310             43758             75582\n",
      "             125970            203490            319770            490314\n",
      "             735471           1081575           1562275           2220075\n",
      "            3108105           4292145           5852925           7888725\n",
      "           10518300          13884156          18156204          23535820\n",
      "           30260340          38608020]\n",
      " [                1                10                55               220\n",
      "                715              2002              5005             11440\n",
      "              24310             48620             92378            167960\n",
      "             293930            497420            817190           1307504\n",
      "            2042975           3124550           4686825           6906900\n",
      "           10015005          14307150          20160075          28048800\n",
      "           38567100          52451256          70607460          94143280\n",
      "          124403620         163011640]\n",
      " [                1                11                66               286\n",
      "               1001              3003              8008             19448\n",
      "              43758             92378            184756            352716\n",
      "             646646           1144066           1961256           3268760\n",
      "            5311735           8436285          13123110          20030010\n",
      "           30045015          44352165          64512240          92561040\n",
      "          131128140         183579396         254186856         348330136\n",
      "          472733756         635745396]\n",
      " [                1                12                78               364\n",
      "               1365              4368             12376             31824\n",
      "              75582            167960            352716            705432\n",
      "            1352078           2496144           4457400           7726160\n",
      "           13037895          21474180          34597290          54627300\n",
      "           84672315         129024480         193536720         286097760\n",
      "          417225900         600805296         854992152        1203322288\n",
      "         1676056044        2311801440]\n",
      " [                1                13                91               455\n",
      "               1820              6188             18564             50388\n",
      "             125970            293930            646646           1352078\n",
      "            2704156           5200300           9657700          17383860\n",
      "           30421755          51895935          86493225         141120525\n",
      "          225792840         354817320         548354040         834451800\n",
      "         1251677700        1852482996        2707475148        3910797436\n",
      "         5586853480        7898654920]\n",
      " [                1                14               105               560\n",
      "               2380              8568             27132             77520\n",
      "             203490            497420           1144066           2496144\n",
      "            5200300          10400600          20058300          37442160\n",
      "           67863915         119759850         206253075         347373600\n",
      "          573166440         927983760        1476337800        2310789600\n",
      "         3562467300        5414950296        8122425444       12033222880\n",
      "        17620076360       25518731280]\n",
      " [                1                15               120               680\n",
      "               3060             11628             38760            116280\n",
      "             319770            817190           1961256           4457400\n",
      "            9657700          20058300          40116600          77558760\n",
      "          145422675         265182525         471435600         818809200\n",
      "         1391975640        2319959400        3796297200        6107086800\n",
      "         9669554100       15084504396       23206929840       35240152720\n",
      "        52860229080       78378960360]\n",
      " [                1                16               136               816\n",
      "               3876             15504             54264            170544\n",
      "             490314           1307504           3268760           7726160\n",
      "           17383860          37442160          77558760         155117520\n",
      "          300540195         565722720        1037158320        1855967520\n",
      "         3247943160        5567902560        9364199760       15471286560\n",
      "        25140840660       40225345056       63432274896       98672427616\n",
      "       151532656696      229911617056]\n",
      " [                1                17               153               969\n",
      "               4845             20349             74613            245157\n",
      "             735471           2042975           5311735          13037895\n",
      "           30421755          67863915         145422675         300540195\n",
      "          601080390        1166803110        2203961430        4059928950\n",
      "         7307872110       12875774670       22239974430       37711260990\n",
      "        62852101650      103077446706      166509721602      265182149218\n",
      "       416714805914      646626422970]\n",
      " [                1                18               171              1140\n",
      "               5985             26334            100947            346104\n",
      "            1081575           3124550           8436285          21474180\n",
      "           51895935         119759850         265182525         565722720\n",
      "         1166803110        2333606220        4537567650        8597496600\n",
      "        15905368710       28781143380       51021117810       88732378800\n",
      "       151584480450      254661927156      421171648758      686353797976\n",
      "      1103068603890     1749695026860]\n",
      " [                1                19               190              1330\n",
      "               7315             33649            134596            480700\n",
      "            1562275           4686825          13123110          34597290\n",
      "           86493225         206253075         471435600        1037158320\n",
      "         2203961430        4537567650        9075135300       17672631900\n",
      "        33578000610       62359143990      113380261800      202112640600\n",
      "       353697121050      608359048206     1029530696964     1715884494940\n",
      "      2818953098830     4568648125690]\n",
      " [                1                20               210              1540\n",
      "               8855             42504            177100            657800\n",
      "            2220075           6906900          20030010          54627300\n",
      "          141120525         347373600         818809200        1855967520\n",
      "         4059928950        8597496600       17672631900       35345263800\n",
      "        68923264410      131282408400      244662670200      446775310800\n",
      "       800472431850     1408831480056     2438362177020     4154246671960\n",
      "      6973199770790    11541847896480]\n",
      " [                1                21               231              1771\n",
      "              10626             53130            230230            888030\n",
      "            3108105          10015005          30045015          84672315\n",
      "          225792840         573166440        1391975640        3247943160\n",
      "         7307872110       15905368710       33578000610       68923264410\n",
      "       137846528820      269128937220      513791607420      960566918220\n",
      "      1761039350070     3169870830126     5608233007146     9762479679106\n",
      "     16735679449896    28277527346376]\n",
      " [                1                22               253              2024\n",
      "              12650             65780            296010           1184040\n",
      "            4292145          14307150          44352165         129024480\n",
      "          354817320         927983760        2319959400        5567902560\n",
      "        12875774670       28781143380       62359143990      131282408400\n",
      "       269128937220      538257874440     1052049481860     2012616400080\n",
      "      3773655750150     6943526580276    12551759587422    22314239266528\n",
      "     39049918716424    67327446062800]\n",
      " [                1                23               276              2300\n",
      "              14950             80730            376740           1560780\n",
      "            5852925          20160075          64512240         193536720\n",
      "          548354040        1476337800        3796297200        9364199760\n",
      "        22239974430       51021117810      113380261800      244662670200\n",
      "       513791607420     1052049481860     2104098963720     4116715363800\n",
      "      7890371113950    14833897694226    27385657281648    49699896548176\n",
      "     88749815264600   156077261327400]\n",
      " [                1                24               300              2600\n",
      "              17550             98280            475020           2035800\n",
      "            7888725          28048800          92561040         286097760\n",
      "          834451800        2310789600        6107086800       15471286560\n",
      "        37711260990       88732378800      202112640600      446775310800\n",
      "       960566918220     2012616400080     4116715363800     8233430727600\n",
      "     16123801841550    30957699535776    58343356817424   108043253365600\n",
      "    196793068630200   352870329957600]\n",
      " [                1                25               325              2925\n",
      "              20475            118755            593775           2629575\n",
      "           10518300          38567100         131128140         417225900\n",
      "         1251677700        3562467300        9669554100       25140840660\n",
      "        62852101650      151584480450      353697121050      800472431850\n",
      "      1761039350070     3773655750150     7890371113950    16123801841550\n",
      "     32247603683100    63205303218876   121548660036300   229591913401900\n",
      "    426384982032100   779255311989700]\n",
      " [                1                26               351              3276\n",
      "              23751            142506            736281           3365856\n",
      "           13884156          52451256         183579396         600805296\n",
      "         1852482996        5414950296       15084504396       40225345056\n",
      "       103077446706      254661927156      608359048206     1408831480056\n",
      "      3169870830126     6943526580276    14833897694226    30957699535776\n",
      "     63205303218876   126410606437752   247959266474052   477551179875952\n",
      "    903936161908052  1683191473897752]\n",
      " [                1                27               378              3654\n",
      "              27405            169911            906192           4272048\n",
      "           18156204          70607460         254186856         854992152\n",
      "         2707475148        8122425444       23206929840       63432274896\n",
      "       166509721602      421171648758     1029530696964     2438362177020\n",
      "      5608233007146    12551759587422    27385657281648    58343356817424\n",
      "    121548660036300   247959266474052   495918532948104   973469712824056\n",
      "   1877405874732108  3560597348629860]\n",
      " [                1                28               406              4060\n",
      "              31465            201376           1107568           5379616\n",
      "           23535820          94143280         348330136        1203322288\n",
      "         3910797436       12033222880       35240152720       98672427616\n",
      "       265182149218      686353797976     1715884494940     4154246671960\n",
      "      9762479679106    22314239266528    49699896548176   108043253365600\n",
      "    229591913401900   477551179875952   973469712824056  1946939425648112\n",
      "   3824345300380220  7384942649010080]\n",
      " [                1                29               435              4495\n",
      "              35960            237336           1344904           6724520\n",
      "           30260340         124403620         472733756        1676056044\n",
      "         5586853480       17620076360       52860229080      151532656696\n",
      "       416714805914     1103068603890     2818953098830     6973199770790\n",
      "     16735679449896    39049918716424    88749815264600   196793068630200\n",
      "    426384982032100   903936161908052  1877405874732108  3824345300380220\n",
      "   7648690600760440 15033633249770520]\n",
      " [                1                30               465              4960\n",
      "              40920            278256           1623160           8347680\n",
      "           38608020         163011640         635745396        2311801440\n",
      "         7898654920       25518731280       78378960360      229911617056\n",
      "       646626422970     1749695026860     4568648125690    11541847896480\n",
      "     28277527346376    67327446062800   156077261327400   352870329957600\n",
      "    779255311989700  1683191473897752  3560597348629860  7384942649010080\n",
      "  15033633249770520 30067266499541040]]\n",
      "1.0299188904699096e+48\n"
     ]
    }
   ],
   "source": [
    "matrix_pascal = my_pascal(30)\n",
    "print(matrix_pascal)\n",
    "print(sla.det(matrix_pascal))"
   ]
  },
  {
   "cell_type": "markdown",
   "metadata": {},
   "source": [
    "Разница заметна невооружённым взглядом!"
   ]
  },
  {
   "cell_type": "markdown",
   "metadata": {},
   "source": [
    "## Часть 4. Матричные вычисления"
   ]
  },
  {
   "cell_type": "markdown",
   "metadata": {},
   "source": [
    "Вы уже видели, что использования циклов (и самописных вычислений в целом) в Питоне лучше по возможности избегать, и важно уметь находить способы делать всё библиотечными средствами.\n",
    "\n",
    "В качестве примера рассмотрим две задачи:\n",
    "\n",
    "**1.** Предположим, нужно вычислить суммы элементов в каждой строке матрицы `A`. Ясно, что можно написать простую функцию с двумя циклами, которая это посчитает, но так лучше не делать. Правильный способ такой:\n",
    "```\n",
    "A.sum(axis=1)\n",
    "```\n",
    "Параметр `axis=1` означает, что суммы берутся по строкам. Если вы хотите просуммировать по столбцам, укажите `axis=0`. Если вообще пропустить параметр `axis` (вызвать `A.sum()`), то функция вернёт сумму *всех* элементов матрицы.\n",
    "\n",
    "**2.** Теперь допустим, что нам нужно каждый столбец матрицы `A` умножить на некоторое число. Более точно, пусть у нас есть (одномерный) вектор `w = np.array([w_1,...,w_n])`, и мы должны `i`-й столбец `A` умножить на число `w_i`. Опять же, это можно сделать в пару циклов, но лучше использовать операцию поэлементного умножения:\n",
    "```\n",
    "A * w.reshape((1,n))\n",
    "```\n",
    "Оператор `reshape` нужен для того, чтобы из одномерного вектора сделать вектор-строку.\n",
    "\n",
    "Аналогично если на числа `w_1,...,w_n` умножаются *строки* матрицы, нужно превратить `w` в вектор-столбец:\n",
    "```\n",
    "A * w.reshape((n,1))\n",
    "```"
   ]
  },
  {
   "cell_type": "markdown",
   "metadata": {},
   "source": [
    "Дальше вам будет предложено попрактиковаться в матричных вычислениях. В следующих трёх заданиях нельзя пользоваться циклами, а также конструкциями `map` и `reduce` и им подобными; вместо этого постарайтесь свести всё к матричным операциям из `numpy` (но, опять же, не `np.vectorize` или чему-то подобному). Чтобы убедиться, что получилось именно то, что нужно, пишите собственные тесты со случайными матрицами."
   ]
  },
  {
   "cell_type": "markdown",
   "metadata": {},
   "source": [
    "**Задание 4.1** Напишите функцию `prod_and_sq_sum(A)`, вычисляющую произведение и сумму квадратов диагональных элементов квадратной матрицы `A`."
   ]
  },
  {
   "cell_type": "code",
   "execution_count": 27,
   "metadata": {},
   "outputs": [],
   "source": [
    "def prod_and_sq_sum(A):\n",
    "    vector_diag = np.diag(A)\n",
    "    new_vector_diag = vector_diag * vector_diag.reshape((1, n))\n",
    "    s = new_vector_diag.sum()\n",
    "    p = new_vector_diag.prod()\n",
    "    return p, s"
   ]
  },
  {
   "cell_type": "code",
   "execution_count": null,
   "metadata": {},
   "outputs": [],
   "source": [
    "n = int(input(\"Размер: \"))\n",
    "A = np.random.rand(n, n)\n",
    "print(A)\n",
    "print(*prod_and_sq_sum(A))"
   ]
  },
  {
   "cell_type": "markdown",
   "metadata": {},
   "source": [
    "**Задание 4.2** Для матриц `A` и `B` размера $m\\times n$ обозначим через $a_1,\\ldots,a_n$ и $b_1,\\ldots,b_n$ соответственно их столбцы. Напишите функцию `f(A, B, k)`, вычисляющую\n",
    "\n",
    "$$\\sum_{i=1}^{\\min(k,m)}a_ib_i^T$$"
   ]
  },
  {
   "cell_type": "code",
   "execution_count": null,
   "metadata": {},
   "outputs": [],
   "source": []
  },
  {
   "cell_type": "code",
   "execution_count": null,
   "metadata": {},
   "outputs": [],
   "source": []
  },
  {
   "cell_type": "markdown",
   "metadata": {},
   "source": [
    "**Задание 4.3** Напишите функцию `get_diag(A,B)`, принимающую две квадратных матрицы матрицы `A` и `B` одного размера и возвращающую вектор диагональных элементов произведения `AB`, не вычисляя произведение целиком. "
   ]
  },
  {
   "cell_type": "code",
   "execution_count": null,
   "metadata": {},
   "outputs": [],
   "source": [
    "def get_diag(A, B):\n",
    "    prod = A * B.T\n",
    "    return prod.sum(axis=1)"
   ]
  },
  {
   "cell_type": "code",
   "execution_count": null,
   "metadata": {},
   "outputs": [],
   "source": [
    "n = int(input(\"Размер: \"))\n",
    "A = np.random.rand(n, n)\n",
    "B = np.random.rand(n, n)\n",
    "print(A)\n",
    "print()\n",
    "print(B)\n",
    "print()\n",
    "print(get_diag(A, B))"
   ]
  },
  {
   "cell_type": "markdown",
   "metadata": {},
   "source": [
    "## Часть 5. Комплексные числа и геометрия"
   ]
  },
  {
   "cell_type": "markdown",
   "metadata": {},
   "source": [
    "У вас уже была возможность убедиться, что многие операции над комплексными числами имеют наглядную геометрическую интерпретацию. В этом задании вам будет предложено этим воспользоваться.\n",
    "\n",
    "В Python число $i$ (мнимая единица) обозначено через `1j`. Так, число $0,5 + 1,2i$ будет иметь вид `0.5 + 1.2 * 1j`.\n",
    "\n",
    "При выполнении задания вы должны работать с точками плоскости как с комплексными числами. Любые преобразования должны быть реализованы с помощью операций над комплексными числами: сложения, вычитания, умножения, деления, возведения в степень и комплексного сопряжения.\n",
    "\n",
    "**Задание 5.1** Напишите функцию `shrink_rotate`, которая принимает на вход:\n",
    "- заданную в виде комплексного числа точку $X$, которую мы подвергаем преобразованию,\n",
    "- заданную в виде комплексного числа точку $A$, \n",
    "- действительный коэффициент `coef`,\n",
    "- угол `alpha`, заданный в радианах\n",
    "\n",
    "и осуществляет следующее преобразование: мы берём вектор $AX$, умножаем его `coef`, поворачиваем вокруг точки $A$ на угол `alpha` против часовой стрелки, после чего возвращаем конец полученного вектора. Ниже (левая картинка) мы приводим иллюстрацию действия этого преобразования:\n",
    "\n",
    "<img src=\"ShrinkRotate.png\">\n",
    "\n",
    "**Задание 5.2** Напишите функцию `shrink_rotate_conj`, которая сначала делает то же самое, что и `shrink_rotate`, а после этого отражает вектор $AY$ относительно горизонтальной прямой, проходящей через точку $A$, и возвращает точку $Y'$ (см. правую часть рисунка).\n",
    "\n",
    "**Задание 5.3** Напишите функцию `geometric_inverse`, которая принимает на вход:\n",
    "- заданную в виде комплексного числа точку $X$, которую мы подвергаем преобразованию,\n",
    "- заданную в виде комплексного числа точку $A$, \n",
    "- положительное действительное число $r$\n",
    "\n",
    "и осуществляет инверсию точки $X$ относительно окружности с центром $A$ радиуса $r$. [Определение инверсии вы можете посмотреть здесь](https://ru.wikipedia.org/wiki/%D0%98%D0%BD%D0%B2%D0%B5%D1%80%D1%81%D0%B8%D1%8F_(%D0%B3%D0%B5%D0%BE%D0%BC%D0%B5%D1%82%D1%80%D0%B8%D1%8F))."
   ]
  },
  {
   "cell_type": "code",
   "execution_count": null,
   "metadata": {},
   "outputs": [],
   "source": [
    "def shrink_rotate(x, a, coef=1., angle=0.):\n",
    "    \n",
    "    new_complex = ((x).real - (a).real) + ((x).imag - (a).imag) * 1j\n",
    "    new_complex = new_complex * coef\n",
    "    real = (new_complex).real\n",
    "    imag = (new_complex).imag\n",
    "    \n",
    "    new_real = real * math.cos(angle) - imag * math.sin(angle)\n",
    "    new_imag = imag * math.cos(angle) + real * math.sin(angle)\n",
    "    \n",
    "    another_new = new_real + new_imag * 1j\n",
    "    return another_new\n",
    "    raise NotImplementedError()\n",
    "    \n",
    "def shrink_rotate_conj(x, a, coef=1., angle=0.):\n",
    "    shrink_rotate(x, a, coef=1., angle=0.)\n",
    "    new_x = (x).real - 1j * (x).imag\n",
    "    return new_x\n",
    "    raise NotImplementedError()\n",
    "    \n",
    "def geometric_inverse(x, a, r):\n",
    "    x_a = (a).real   # x_a, y_a - координаты центра окружности\n",
    "    y_a = (a).imag\n",
    "    delta_x = (x).real - (a).real\n",
    "    delta_y = (x).imag - (a).imag\n",
    "    vect_complex = delta_x * delta_x + delta_y * delta_y # Из уравнения окружности\n",
    "    new_x = (x_a + r * r * delta_x / vect_complex)\n",
    "    new_y = 1j * (y_a + r * r * delta_y / vect_complex)\n",
    "    inverse_complex = new_x + new_y\n",
    "    return inverse_complex\n",
    "    raise NotImplementedError()"
   ]
  },
  {
   "cell_type": "code",
   "execution_count": null,
   "metadata": {},
   "outputs": [],
   "source": [
    "print(shrink_rotate(2. + 2.*1j, 1. + 1.*1j, coef=2., angle=3.14/0.5))\n",
    "print(shrink_rotate_conj(2. + 2.*1j, 1. + 1.*1j, coef=2., angle=3.14/0.5))\n",
    "print(geometric_inverse(2. + 2.*1j, 1. + 1.*1j, 4))"
   ]
  },
  {
   "cell_type": "markdown",
   "metadata": {},
   "source": [
    "**Задание 5.4** Рассмотрим следующий процесс:\n",
    "\n",
    "```\n",
    "z = 0.5 + 0.*1j\n",
    "max_iter = 100000\n",
    "funcs = [\n",
    "    (lambda t: shrink_rotate(t, 0. + 1.*1j, coef=0.5, angle=0.)),\n",
    "    (lambda t: shrink_rotate(t, 1. + 0.*1j, coef=0.5, angle=0.)),\n",
    "    (lambda t: shrink_rotate(t, -1. + 0.*1j, coef=0.5, angle=0.))\n",
    "]\n",
    "\n",
    "for n_iter in range(max_iter):\n",
    "    n_func = np.random.choice(len(funcs))\n",
    "    z = funcs[n_func](z)\n",
    "```\n",
    "\n",
    "Запустите его и нарисуйте множество точек, получающихся на итерациях начиняя с десятой.\n",
    "\n",
    "*Указание*. Представьте квадрат $[-1,1]\\times[-1,1]$ матрицей пикселей 1000x1000. Сначала все элементы матрицы положим нулями, а на каждой итерации начиная с десятой будем присваивать единицу соответствующему пикселю этой матрицы. То, что получилось, можно нарисовать с помощью функции `plt.imshow(..., cmap='gray')`. Картинку лучше сделать побольше, предварив `imshow` вызовом `plt.figure(figsize=(20, 20))`."
   ]
  },
  {
   "cell_type": "code",
   "execution_count": null,
   "metadata": {},
   "outputs": [],
   "source": []
  },
  {
   "cell_type": "markdown",
   "metadata": {},
   "source": [
    "**Задание 5.5 (со звёздочкой)** Попробуйте объяснить, почему получается именно эта фигура."
   ]
  },
  {
   "cell_type": "markdown",
   "metadata": {},
   "source": [
    "---\n",
    "Ваше объяснение"
   ]
  },
  {
   "cell_type": "markdown",
   "metadata": {},
   "source": [
    "**Задание 5.6** Поэкспериментируйте с другими преобразованиями. Попробуйте найти какой-нибудь другой красиво выглядящий фрактал."
   ]
  },
  {
   "cell_type": "code",
   "execution_count": null,
   "metadata": {},
   "outputs": [],
   "source": []
  },
  {
   "cell_type": "markdown",
   "metadata": {},
   "source": [
    "## Часть 6 (бонус). Метод Гаусса или обратные матрицы?"
   ]
  },
  {
   "cell_type": "markdown",
   "metadata": {},
   "source": [
    "Пусть нам дано матричное уравнение $Ax = B$, где $A$ --- матрица размера $n\\times n$, а $B$ --- матрица размера $n\\times m$ (отметим, что это уравнение можно интерпретировать как $m$ систем с векторными правыми частями и однаковыми левыми). Вообще говоря, методов решения таких уравнений очень много, но мы пока рассмотрим два из них, с которыми вы уже хорошо знакомы.\n",
    "1. Метод Гаусса;\n",
    "2. Умножение на обратную матрицу: $x = A^{-1}B$.\n",
    "\n",
    "В этом задании вы попробуете ответить на вопрос о том, какой из этих методов эффективнее. Проведите два эксперимента:\n",
    "- сравните скорости решения системы при фиксированном `m = 10` и `n`, изменяющемся в пределах от 10 до 1000, например, для `n=10, 50, 100, 200, 500, 1000` (рост числа неизвестных при фиксированном количестве правых частей);\n",
    "- сравните скорости решения системы при фиксированном `n = 100` и `m`, меняющемся от 10 до 10000, например, для `m = 10, 100, 500, 1000, 2000, 5000, 10000` (рост числа правых частей при фиксированном числе неизвестных).\n",
    "\n",
    "При проведении экспериментов не возбраняется использовать циклы `for`.\n",
    "\n",
    "Эксперименты проведите на случайных матрицах, созданных с помощью функции `numpy.random.rand`. Постройте графики времени выполнения функции от размерности (лучше в логарифмическом масштабе). Сделайте выводы (в письменном виде!) о том, какой их методов оказывается лучше в каких обстоятельствах.\n",
    "\n",
    "Чтобы всё это не казалось вам чёрной магией, найдите число операций (суммарно сложения, умножения и деления), необходимых для решения системы каждым из методов. Обратите внимания на члены суммарной степени 3 (суммарной по $m$ и $n$; члены меньшего порядка можете даже не считать). Постарайтесь объяснить полученные ранее результаты."
   ]
  },
  {
   "cell_type": "code",
   "execution_count": null,
   "metadata": {},
   "outputs": [],
   "source": []
  }
 ],
 "metadata": {
  "kernelspec": {
   "display_name": "Python 3",
   "language": "python",
   "name": "python3"
  },
  "language_info": {
   "codemirror_mode": {
    "name": "ipython",
    "version": 3
   },
   "file_extension": ".py",
   "mimetype": "text/x-python",
   "name": "python",
   "nbconvert_exporter": "python",
   "pygments_lexer": "ipython3",
   "version": "3.7.4"
  }
 },
 "nbformat": 4,
 "nbformat_minor": 1
}
