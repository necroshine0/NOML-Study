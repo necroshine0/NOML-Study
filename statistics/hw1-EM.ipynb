{
 "cells": [
  {
   "cell_type": "markdown",
   "metadata": {},
   "source": [
    "# Прикладная статистика в машинном обучении 2021-2022"
   ]
  },
  {
   "cell_type": "markdown",
   "metadata": {},
   "source": [
    "## Домашнее задание #1\n",
    "\n",
    "## Часть 2"
   ]
  },
  {
   "cell_type": "markdown",
   "metadata": {},
   "source": [
    "### Дедлайн: 29 октября 2021 года, 23:59"
   ]
  },
  {
   "cell_type": "markdown",
   "metadata": {},
   "source": [
    "**Правила игры**\n",
    "\n",
    "1. Домашнее задание состоит из двух частей. Часть 1 содержит 13 обязательных и две бонусных задачи и предполагает решение «от руки». Часть 2 содержит 3 обязательных задачи и предполагает программное решение.\n",
    "\n",
    "\n",
    "2. Домашнее задание оценивается в $80$ баллов. При этом часть 1 оценивается в $65$ баллов, а часть 2 – в $15$ баллов. По умолчанию за каждый пункт каждой задачи можно получить $1$ балл. Однако за некоторые пункты некоторых задач можно получить другое количество баллов, которое явно указано в скобках рядом с меткой пункта.\n",
    "\n",
    "\n",
    "3. Каждый пункт оценивается с промежутком $0.5$. Например, если за пункт можно получить максимум $1$ балл, то за полностью корректное решение ставится $1$ балл, за решение с небольшими ошибками ставится $0.5$ балла, за решение с серьёзными ошибками или неправильное решение ставится $0$ баллов. Для пунктов, за которые можно получить максимум $2$ балла, в зависимости от решения можно получить $2$, $1.5$, $1$ и т.д. баллов. При этом пункты проверяются независимо друг от друга: если пункт $t+1$ зависит от численных результатов пункта $t$, и в пункте $t$ допускается ошибка, из-за которой в пункт $t+1$ приходят неверные входные данные, то при корректном решении пункт $t+1$ оценивается в максимальное количество баллов, которое можно за него получить.\n",
    "\n",
    "\n",
    "4. Бонусные задачи $X$ и $Y$ приведены в конце части 1 и обозначены значком $\\dagger$. Эти задачи необязательны к решению и учитываются сверх установленных $80$ баллов. Баллы за корректно решённые бонусные задачи прибавляются к набранным баллам, даже если в сумме получается больше $80$ баллов (оценка за домашнюю работу в этом случае будет больше 10, и так и будет внесена в таблицу с оценками).\n",
    "\n",
    "\n",
    "5. Весь код должен быть написан на Python, R, C или C++.\n",
    "\n",
    "\n",
    "6. Решения принимаются до **29 октября 2021 года, 23:59 МСК** включительно. Работы, отправленные после дедлайна, проверяются, но **не оцениваются**. Дата и время сдачи определяются по последнему запушенному в репозиторий коммиту (можно увидеть на GitHub, наведя мышкой на указатель срока (например, 3 days ago) справа от файлов).\n",
    "\n",
    "\n",
    "7. Все решения нужно загрузить в личный репозиторий на [GitHub Classroom](https://classroom.github.com/a/KZaAKjaA).\n",
    "\n",
    "\n",
    "8. Репозиторий должен содержать: PDF-файл с решениями задач части 1 и файл с кодом с решениями задач части 2. Решение задач части 1 можно набрать в любом электронном редакторе или написать от руки, а затем сделать качественный скан. Все решения должны быть расположены в правильном порядке в одном файле. Файлы должны быть названы по типу «name\\_surname\\_group\\_hw1\\_part1.pdf» и «name\\_surname\\_group\\_hw1\\_part2.ext», где вместо ext может быть .py, .ipynb, .R, .c, .cpp. Если решение части 2 разбивается на несколько файлов кода, то в репозиторий нужно загрузить все файлы, а в README.md подробно указать, что содержит каждый файл. \n",
    "\n",
    "\n",
    "9. Разрешается использовать без доказательства любые результаты, встречавшиеся на лекциях или семинарах по курсу, если получение этих результатов не является вопросом задания. Разрешается использовать любые свободные источники с указанием ссылки на них.\n",
    "\n",
    "\n",
    "10. Плагиат не допускается. При обнаружении случаев списывания, $0$ за работу выставляется всем участникам нарушения, даже если можно установить, кто у кого списал. "
   ]
  },
  {
   "cell_type": "markdown",
   "metadata": {},
   "source": [
    "---"
   ]
  },
  {
   "cell_type": "markdown",
   "metadata": {},
   "source": [
    "#### Задача 14. Divide et impera!\n",
    "\n",
    "Файле `14.csv` содержит данные, которые являются смесью гауссиан. \n",
    "\n",
    "**[a]** Постройте гистограмму выборки. Изучите гистограмму и сделайте предположения о количестве гауссиан, а также задайте разумный вектор начальных параметров $\\theta$.\n",
    "\n",
    "**[б]** **(3 балла)** Реализуйте EM-алгоритм для нахождения оценки $\\hat{\\theta}$. Итоговые формулы представьте только в виде кода (то есть не требуется отдельно прикладывать или техать вывод формул).\n",
    "\n",
    "**[в]** Постройте график $Q$ в зависимости от числа итераций.\n",
    "\n",
    "**[г]** Являются ли полученные оценки параметров адекватными (адекватность оцените визуально по гистограмме). Если нет, приведите возможную причину провала EM-алгоритма. "
   ]
  },
  {
   "cell_type": "code",
   "execution_count": 33,
   "metadata": {},
   "outputs": [],
   "source": [
    "import numpy as np\n",
    "import pandas as pd\n",
    "\n",
    "X = pd.read_csv('14.csv')"
   ]
  },
  {
   "cell_type": "code",
   "execution_count": 74,
   "metadata": {},
   "outputs": [
    {
     "data": {
      "image/png": "[encoded data removed]",
      "text/plain": [
       "<Figure size 432x288 with 1 Axes>"
      ]
     },
     "metadata": {
      "needs_background": "light"
     },
     "output_type": "display_data"
    }
   ],
   "source": [
    "_ = X.hist('X')"
   ]
  },
  {
   "cell_type": "markdown",
   "metadata": {},
   "source": [
    "Выглядит так, будто число гауссиан равно 2."
   ]
  },
  {
   "cell_type": "code",
   "execution_count": 35,
   "metadata": {},
   "outputs": [],
   "source": [
    "x = X['X'].to_numpy()"
   ]
  },
  {
   "cell_type": "code",
   "execution_count": 36,
   "metadata": {},
   "outputs": [
    {
     "data": {
      "text/plain": [
       "array([-1.9006891 , 14.41794644, 26.93520377, 14.41794644,  0.5       ])"
      ]
     },
     "execution_count": 36,
     "metadata": {},
     "output_type": "execute_result"
    }
   ],
   "source": [
    "# theta = (m_1, s2_1, m_2, s2_2, p_1)\n",
    "theta = np.array([np.min(x), (np.max(x) - np.min(x)) / 2, np.max(x), (np.max(x) - np.min(x)) / 2, 0.5])\n",
    "theta"
   ]
  },
  {
   "cell_type": "code",
   "execution_count": 39,
   "metadata": {},
   "outputs": [],
   "source": [
    "def pho_normal(x, mu, s2):\n",
    "    return 1 / np.sqrt(2 * np.pi * s2) * np.exp(-(x - mu) ** 2 / 2 / s2)\n",
    "\n",
    "def ln_pho_normal(x, mu, s2):\n",
    "    return -1/2 * np.log(2 * np.pi * s2) - (x - mu) ** 2 / 2 / s2"
   ]
  },
  {
   "cell_type": "markdown",
   "metadata": {},
   "source": [
    "<h3> E-шаг. </h3>\n",
    "\n",
    "$z \\in \\{1,\\ 2\\}$ – номер кластера. $p_1 = P[z = 1], p_2 = P[z = 2]$ – вероятности попадания наблюдения к 1 и 2 кластеру соответственно. Расчет $P[z = 1 | x,\\ \\theta_{old}]:$"
   ]
  },
  {
   "cell_type": "code",
   "execution_count": 51,
   "metadata": {},
   "outputs": [],
   "source": [
    "# P[z_i = 1 | x_i, theta] = g_i + векторизация:\n",
    "p_z1 = theta[4] * pho_normal(x, mu=theta[0], s2=theta[1]) / \\\n",
    "        (theta[4] * pho_normal(x, mu=theta[0], s2=theta[1]) + (1 - theta[4]) * pho_normal(x, mu=theta[2], s2=theta[3]))"
   ]
  },
  {
   "cell_type": "markdown",
   "metadata": {},
   "source": [
    "<h3> М-шаг. </h3>"
   ]
  },
  {
   "cell_type": "code",
   "execution_count": 52,
   "metadata": {},
   "outputs": [],
   "source": [
    "def Q_f(x, theta, p_z1):\n",
    "    add_1 = ln_pho_normal(x, theta[0], theta[1]) + np.log(theta[4])\n",
    "    add_2 = ln_pho_normal(x, theta[2], theta[3]) + np.log(1 - theta[4])\n",
    "    return np.sum(p_z1 * add_1 + (1 - p_z1) * add_2)"
   ]
  },
  {
   "cell_type": "markdown",
   "metadata": {},
   "source": [
    "Далее выводятся формулы для оптимизации $Q$ по параметрам $\\mu_1, \\mu_2, \\sigma_1, \\sigma_2, p_1$."
   ]
  },
  {
   "cell_type": "code",
   "execution_count": 102,
   "metadata": {},
   "outputs": [],
   "source": [
    "p_z2 = 1 - p_z1\n",
    "\n",
    "mu_1 = np.sum(p_z1 * x) / np.sum(p_z1)\n",
    "mu_2 = np.sum(p_z2 * x) / np.sum(p_z2)\n",
    "\n",
    "# Я не уверен, сигмы должны считаться по новым mu, но раз на семе так было,\n",
    "# то пусть и тут так будет\n",
    "s2_1 = np.sum((x - mu_1) ** 2 * p_z1) / np.sum(p_z1)\n",
    "s2_2 = np.sum((x - mu_2) ** 2 * p_z2) / np.sum(p_z2)\n",
    "p_1  = np.sum(p_z1) / x.shape[0]"
   ]
  },
  {
   "cell_type": "markdown",
   "metadata": {},
   "source": [
    "Собираем все в функцию:"
   ]
  },
  {
   "cell_type": "code",
   "execution_count": 107,
   "metadata": {},
   "outputs": [],
   "source": [
    "def EM(x, theta_):\n",
    "    \n",
    "    theta = theta_\n",
    "    loss_history = []\n",
    "    for i in range(100):\n",
    "        p_z1 = theta[4] * pho_normal(x, mu=theta[0], s2=theta[1]) / \\\n",
    "        (theta[4] * pho_normal(x, mu=theta[0], s2=theta[1]) + (1 - theta[4]) * pho_normal(x, mu=theta[2], s2=theta[3]))\n",
    "        \n",
    "        mu_1 = np.sum(p_z1 * x) / np.sum(p_z1)\n",
    "        mu_2 = np.sum(p_z2 * x) / np.sum(p_z2)\n",
    "        s2_1 = np.sum((x - mu_1) ** 2 * p_z1) / np.sum(p_z1)\n",
    "        s2_2 = np.sum((x - mu_2) ** 2 * p_z2) / np.sum(p_z2)\n",
    "        p_1  = np.sum(p_z1) / x.shape[0]\n",
    "\n",
    "        theta = np.array([mu_1, s2_1, mu_2, s2_2, p_1])\n",
    "        loss_history.append(Q_f(x, theta, p_z_1))\n",
    "        \n",
    "        if len(loss_history) > 1:\n",
    "            if np.linalg.norm(loss_history[-1] - loss_history[-2]) < 1e-8:\n",
    "                break\n",
    "        \n",
    "    return theta, loss_history"
   ]
  },
  {
   "cell_type": "code",
   "execution_count": 108,
   "metadata": {},
   "outputs": [],
   "source": [
    "theta_old = np.array([np.min(x), (np.max(x) - np.min(x)) / 2, np.max(x), (np.max(x) - np.min(x)) / 2, 0.5])\n",
    "theta, losses = EM(x, theta_old)"
   ]
  },
  {
   "cell_type": "markdown",
   "metadata": {},
   "source": [
    "<h3> График. </h1>"
   ]
  },
  {
   "cell_type": "code",
   "execution_count": 109,
   "metadata": {},
   "outputs": [
    {
     "data": {
      "image/png": "[encoded data removed]",
      "text/plain": [
       "<Figure size 720x432 with 1 Axes>"
      ]
     },
     "metadata": {
      "needs_background": "light"
     },
     "output_type": "display_data"
    }
   ],
   "source": [
    "import matplotlib.pyplot as plt\n",
    "%matplotlib inline\n",
    "\n",
    "plt.figure(figsize=(10, 6))\n",
    "plt.plot(losses, label = 'Q', c='royalblue')\n",
    "plt.grid()\n",
    "plt.xlabel(\"Iteration\")\n",
    "plt.ylabel(\"Q\")\n",
    "plt.legend()\n",
    "plt.title('Dynamics of Q')\n",
    "plt.show()"
   ]
  },
  {
   "cell_type": "markdown",
   "metadata": {},
   "source": [
    "<h3> Гистограмма. </h3>"
   ]
  },
  {
   "cell_type": "code",
   "execution_count": 110,
   "metadata": {},
   "outputs": [
    {
     "data": {
      "image/png": "[encoded data removed]",
      "text/plain": [
       "<Figure size 720x360 with 1 Axes>"
      ]
     },
     "metadata": {
      "needs_background": "light"
     },
     "output_type": "display_data"
    }
   ],
   "source": [
    "one = pho_normal(x, theta[0], theta[1])\n",
    "two = pho_normal(x, theta[2], theta[3])\n",
    "ind_one = [i for i in range(x.shape[0]) if one[i] >= two[i]]\n",
    "ind_two = [i for i in range(x.shape[0]) if one[i] < two[i]]\n",
    "\n",
    "plt.figure(figsize = (10, 5))\n",
    "plt.hist(x[ind_one], alpha=0.7, label='Cluster 1', color='lime')\n",
    "plt.hist(x[ind_two], alpha=0.7, label='Cluster 2', color='royalblue')\n",
    "plt.grid()\n",
    "plt.title('Separated mix of distributions')\n",
    "plt.legend()\n",
    "plt.show()"
   ]
  },
  {
   "cell_type": "markdown",
   "metadata": {},
   "source": [
    "#### Задача 15. Из контрольной прошлого года\n",
    "\n",
    "В контрольной работе прошлого года была такая задача:\n",
    "\n",
    "> У меня есть три монетки. Они выпадают орлом с вероятностями $p_1$, $p_2$ и $p_3 = 1$. Я провожу эксперимент из 100 раундов. В каждом раунде я равновероятно выбираю одну из монеток, подбрасываю её два раза и записываю число выпавших орлов. После окончания эксперимента у меня на бумажке остаётся 100 записанных чисел. Какая монетка подкидывалась в каждом раунде, я не помню.\n",
    "\n",
    "На контрольной требовалось описать EM-алгоритм для нахождения $\\hat{p}_1$ и $\\hat{p}_2$.\n",
    "\n",
    "**[а]** **(3 балла)** В файле `15.csv` приведена описанная выборка из 100 чисел. Реализуйте EM-алгоритм для нахождения $\\hat{p}_1$ и $\\hat{p}_2$.\n",
    "\n",
    "**[б]** Постройте график $Q$ в зависимости от числа итераций.\n",
    "\n",
    "**[в]** Изучите выборку и прокомментируйте адекватность полученных оценок."
   ]
  },
  {
   "cell_type": "code",
   "execution_count": null,
   "metadata": {},
   "outputs": [],
   "source": []
  },
  {
   "cell_type": "markdown",
   "metadata": {},
   "source": [
    "#### Задача 16. Бутстраппируем!\n",
    "\n",
    "Исследователь Валентин каждый день ловит покемонов. По причинам, которые Валентин предпочитает не раскрывать, он совершает ровно 15 попыток поймать покемона за день. Каждая попытка может окончиться успехом с некоторой вероятностью. В файле `16.csv` представлены наблюдения о пойманных покемонах за 3 года. \n",
    "\n",
    "**[а]** Сделайте предположение о том, какое распределение имеет число пойманных за день покемонов. Это распределение должно иметь один неизвестный параметр.\n",
    "\n",
    "**[б]** Найдите точечную оценку неизвестного параметра методом максимального правдоподобия.\n",
    "\n",
    "**[в]** **(2 балла)** Постройте 95%-ый доверительный интервал для неизвестного параметра при помощи методов **Reverse bootstrap percentile**, **t-bootstrap** и **параметрического бутстрэпа**. "
   ]
  },
  {
   "cell_type": "code",
   "execution_count": 5,
   "metadata": {},
   "outputs": [
    {
     "data": {
      "text/plain": [
       "array([[<matplotlib.axes._subplots.AxesSubplot object at 0x000001EB6E3EAD08>]],\n",
       "      dtype=object)"
      ]
     },
     "execution_count": 5,
     "metadata": {},
     "output_type": "execute_result"
    },
    {
     "data": {
      "image/png": "[encoded data removed]",
      "text/plain": [
       "<Figure size 432x288 with 1 Axes>"
      ]
     },
     "metadata": {
      "needs_background": "light"
     },
     "output_type": "display_data"
    }
   ],
   "source": [
    "X = pd.read_csv('16.csv')\n",
    "X.hist('X', bins=100)"
   ]
  },
  {
   "cell_type": "code",
   "execution_count": 6,
   "metadata": {},
   "outputs": [
    {
     "data": {
      "text/plain": [
       "array([ 4,  5,  6,  7,  8,  9, 10, 11, 12, 13, 14, 15], dtype=int64)"
      ]
     },
     "execution_count": 6,
     "metadata": {},
     "output_type": "execute_result"
    }
   ],
   "source": [
    "x = X['X'].to_numpy()\n",
    "np.unique(x)"
   ]
  },
  {
   "cell_type": "markdown",
   "metadata": {},
   "source": [
    "а) Распределение дискретное. Думаю, $P(X = k) = C_{15}^k \\cdot \\theta^k \\cdot (1 - \\theta)^{15 - k}$ - вероятность того, что за день было поймано ровно $k$ покемонов."
   ]
  },
  {
   "cell_type": "markdown",
   "metadata": {},
   "source": [
    "б) Пусть n - число элементов в выборке.\n",
    "\n",
    "$$L = \\prod\\limits_{k_i} P(X = k_i) = \\prod\\limits_{k_i} C_{15}^{k_i} \\cdot \\theta^{k_i} \\cdot (1 - \\theta)^{15 - k_i} =\\theta^{\\sum{k_i}} (1 - \\theta)^{15n - \\sum{k_i}} \\cdot \\prod\\limits_{k_i} C_{15}^{k_i}$$    \n",
    "<center>Обозначим $C = \\prod\\limits_{k_i} C_{15}^{k_i}$.</center>\n",
    "$$\\ell = (15n - \\sum{k_i}) \\cdot ln(1 - \\theta) + \\sum{k_i} \\cdot ln \\theta + ln C$$\n",
    "$$\\ell_p' = -\\frac{15n - \\sum{k_i}}{1 - \\theta} + \\frac{\\sum{k_i}}{\\theta} \\Longrightarrow \\frac{15n - \\sum{k_i}}{1 - \\hat{\\theta}} = \\frac{\\sum{k_i}}{\\hat{\\theta}} \\Longrightarrow \n",
    "15n\\hat{\\theta} - \\sum{k_i}\\hat{\\theta} = \\sum{k_i} - \\sum{k_i}\\hat{\\theta} \\Longrightarrow \\hat{\\theta}_{ML} = \\frac{\\sum{k_i}}{15n}$$"
   ]
  },
  {
   "cell_type": "code",
   "execution_count": 7,
   "metadata": {},
   "outputs": [
    {
     "data": {
      "text/plain": [
       "0.6547336377473363"
      ]
     },
     "execution_count": 7,
     "metadata": {},
     "output_type": "execute_result"
    }
   ],
   "source": [
    "theta_ml = np.sum(x) / 15 / x.shape[0]\n",
    "theta_ml"
   ]
  },
  {
   "cell_type": "markdown",
   "metadata": {},
   "source": [
    "Пункт в):\n",
    "<h3> Reverse bootstrap percentile. </h3>"
   ]
  },
  {
   "cell_type": "markdown",
   "metadata": {},
   "source": [
    "1. Генерим выборки с возвращением и считаем статистику (строки 4-5)."
   ]
  },
  {
   "cell_type": "code",
   "execution_count": 8,
   "metadata": {},
   "outputs": [],
   "source": [
    "np.random.seed(10)\n",
    "SAMPLES = np.random.choice(x, size = (x.shape[0], 30), replace=True).T\n",
    "d_star = np.array([np.sum(SAMPLES[row]) / 15 / x.shape[0] \n",
    "                             for row in range(30)]) - theta_ml"
   ]
  },
  {
   "cell_type": "code",
   "execution_count": 9,
   "metadata": {},
   "outputs": [
    {
     "data": {
      "text/plain": [
       "array([ 0.00255708, -0.00164384,  0.00121766, -0.00146119,  0.00225266,\n",
       "       -0.00304414,  0.00487062, -0.00048706, -0.00073059, -0.00645358,\n",
       "       -0.00407915, -0.00669711,  0.00401826,  0.00127854,  0.00280061,\n",
       "        0.00085236, -0.00115677, -0.00073059,  0.00487062,  0.00249619,\n",
       "       -0.00237443, -0.00207002, -0.00121766,  0.00541857,  0.00060883,\n",
       "        0.00828006,  0.00365297,  0.00109589, -0.00231355,  0.00523592])"
      ]
     },
     "execution_count": 9,
     "metadata": {},
     "output_type": "execute_result"
    }
   ],
   "source": [
    "d_star"
   ]
  },
  {
   "cell_type": "markdown",
   "metadata": {},
   "source": [
    "2. Определяем квантили."
   ]
  },
  {
   "cell_type": "code",
   "execution_count": 10,
   "metadata": {},
   "outputs": [
    {
     "data": {
      "text/plain": [
       "array([-0.00652055,  0.00620548])"
      ]
     },
     "execution_count": 10,
     "metadata": {},
     "output_type": "execute_result"
    }
   ],
   "source": [
    "# \\alpha = 5%\n",
    "d_star_quant = np.quantile(d_star, (0.025, 0.975))\n",
    "d_star_quant"
   ]
  },
  {
   "cell_type": "markdown",
   "metadata": {},
   "source": [
    "3. Находим ДИ."
   ]
  },
  {
   "cell_type": "code",
   "execution_count": 11,
   "metadata": {},
   "outputs": [
    {
     "name": "stdout",
     "output_type": "stream",
     "text": [
      "[0.64853; 0.66125]\n"
     ]
    }
   ],
   "source": [
    "LB = theta_ml - d_star_quant[1]\n",
    "UB = theta_ml - d_star_quant[0]\n",
    "print('[%.5f; %.5f]' % (LB, UB))"
   ]
  },
  {
   "cell_type": "markdown",
   "metadata": {},
   "source": [
    "<h3> t-bootstrap. </h3>"
   ]
  },
  {
   "cell_type": "markdown",
   "metadata": {},
   "source": [
    "1. Генерим выборки, считаем ошибки и стандартное отклонение."
   ]
  },
  {
   "cell_type": "code",
   "execution_count": 12,
   "metadata": {},
   "outputs": [
    {
     "data": {
      "text/plain": [
       "1.8583807815781148"
      ]
     },
     "execution_count": 12,
     "metadata": {},
     "output_type": "execute_result"
    }
   ],
   "source": [
    "SAMPLES = np.random.choice(x, size = (x.shape[0], 30), replace=True).T\n",
    "bootstrap_thetas = np.array([np.sum(SAMPLES[row]) / 15 / x.shape[0] \n",
    "                             for row in range(30)])\n",
    "bootstrap_ses = np.std(SAMPLES)\n",
    "bootstrap_ses"
   ]
  },
  {
   "cell_type": "markdown",
   "metadata": {},
   "source": [
    "2. Считаем статистику и определяем квантили."
   ]
  },
  {
   "cell_type": "code",
   "execution_count": 13,
   "metadata": {},
   "outputs": [
    {
     "data": {
      "text/plain": [
       "array([-0.00359554,  0.00339816])"
      ]
     },
     "execution_count": 13,
     "metadata": {},
     "output_type": "execute_result"
    }
   ],
   "source": [
    "t_star = (bootstrap_thetas - theta_ml) / bootstrap_ses\n",
    "t_star_quant = np.quantile(t_star, (0.025, 0.975))\n",
    "t_star_quant"
   ]
  },
  {
   "cell_type": "markdown",
   "metadata": {},
   "source": [
    "3. Строим ДИ."
   ]
  },
  {
   "cell_type": "code",
   "execution_count": 14,
   "metadata": {},
   "outputs": [
    {
     "name": "stdout",
     "output_type": "stream",
     "text": [
      "[0.64841; 0.66142]\n"
     ]
    }
   ],
   "source": [
    "LB = theta_ml - t_star_quant[1] * np.std(x)\n",
    "UB = theta_ml - t_star_quant[0] * np.std(x)\n",
    "print('[%.5f; %.5f]' % (LB, UB))"
   ]
  },
  {
   "cell_type": "markdown",
   "metadata": {},
   "source": [
    "<h3> Параметрический Bootstrap. </h3>"
   ]
  },
  {
   "cell_type": "markdown",
   "metadata": {},
   "source": [
    "1. Генерим выборку из $Bin(15, \\hat{\\theta}_{ML}$."
   ]
  },
  {
   "cell_type": "code",
   "execution_count": 20,
   "metadata": {},
   "outputs": [],
   "source": [
    "SAMPLES = np.random.binomial(n=15, p=theta_ml, size=(x.shape[0], 30)).T"
   ]
  },
  {
   "cell_type": "markdown",
   "metadata": {},
   "source": [
    "2. Считаем статистику."
   ]
  },
  {
   "cell_type": "code",
   "execution_count": 21,
   "metadata": {},
   "outputs": [],
   "source": [
    "d_star = np.array([np.sum(SAMPLES[row]) / 15 / x.shape[0] \n",
    "                             for row in range(30)]) - theta_ml"
   ]
  },
  {
   "cell_type": "markdown",
   "metadata": {},
   "source": [
    "3. Определяем квантили."
   ]
  },
  {
   "cell_type": "code",
   "execution_count": 22,
   "metadata": {},
   "outputs": [
    {
     "data": {
      "text/plain": [
       "array([-0.00604566,  0.00594064])"
      ]
     },
     "execution_count": 22,
     "metadata": {},
     "output_type": "execute_result"
    }
   ],
   "source": [
    "d_star_quant = np.quantile(d_star, (0.025, 0.975))\n",
    "d_star_quant"
   ]
  },
  {
   "cell_type": "markdown",
   "metadata": {},
   "source": [
    "4. Строим ДИ."
   ]
  },
  {
   "cell_type": "code",
   "execution_count": 23,
   "metadata": {},
   "outputs": [
    {
     "name": "stdout",
     "output_type": "stream",
     "text": [
      "[0.64879; 0.66078]\n"
     ]
    }
   ],
   "source": [
    "LB = theta_ml - d_star_quant[1]\n",
    "UB = theta_ml - d_star_quant[0]\n",
    "print('[%.5f; %.5f]' % (LB, UB))"
   ]
  }
 ],
 "metadata": {
  "kernelspec": {
   "display_name": "Python 3",
   "language": "python",
   "name": "python3"
  },
  "language_info": {
   "codemirror_mode": {
    "name": "ipython",
    "version": 3
   },
   "file_extension": ".py",
   "mimetype": "text/x-python",
   "name": "python",
   "nbconvert_exporter": "python",
   "pygments_lexer": "ipython3",
   "version": "3.7.4"
  }
 },
 "nbformat": 4,
 "nbformat_minor": 5
}
