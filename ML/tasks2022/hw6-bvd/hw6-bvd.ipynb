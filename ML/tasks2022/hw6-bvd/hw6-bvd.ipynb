{
 "cells": [
  {
   "cell_type": "markdown",
   "metadata": {
    "id": "WiSb6u9deQ0N"
   },
   "source": [
    "# Машинное обучение, ФКН ВШЭ\n",
    "\n",
    "## Практическое задание 6. Разложение ошибки на смещение и разброс\n",
    "\n",
    "### Общая информация\n",
    "\n",
    "Дата выдачи: 24.11.2021\n",
    "\n",
    "Мягкий дедлайн: 23:59MSK 07.12.2021\n",
    "\n",
    "\n",
    "Жесткий дедлайн: 23:59MSK 10.12.2021\n",
    "\n",
    "### Оценивание и штрафы\n",
    "Каждая из задач имеет определенную «стоимость» (указана в скобках около задачи). Максимально допустимая оценка за работу — 10 баллов.\n",
    "\n",
    "Сдавать задание после указанного срока сдачи нельзя. При выставлении неполного балла за задание в связи с наличием ошибок на усмотрение проверяющего предусмотрена возможность исправить работу на указанных в ответном письме условиях.\n",
    "\n",
    "Задание выполняется самостоятельно. «Похожие» решения считаются плагиатом и все задействованные студенты (в том числе те, у кого списали) не могут получить за него больше 0 баллов (подробнее о плагиате см. на странице курса). Если вы нашли решение какого-то из заданий (или его часть) в открытом источнике, необходимо указать ссылку на этот источник в отдельном блоке в конце вашей работы (скорее всего вы будете не единственным, кто это нашел, поэтому чтобы исключить подозрение в плагиате, необходима ссылка на источник).\n",
    "\n",
    "Неэффективная реализация кода может негативно отразиться на оценке.\n",
    "\n",
    "### Формат сдачи\n",
    "Задания сдаются через систему anytask. Посылка должна содержать:\n",
    "* Ноутбук homework-practice-06-Username.ipynb\n",
    "\n",
    "Username — ваша фамилия и имя на латинице именно в таком порядке\n",
    "\n",
    "### О задании\n",
    "\n",
    "В этом задании вам предстоит воспользоваться возможностями бутстрапа для оценки смещения и разброса алгоритмов машинного обучения. Делать мы это будем на данных boston:"
   ]
  },
  {
   "cell_type": "code",
   "execution_count": 1,
   "metadata": {
    "id": "vS6DuarleQ0R"
   },
   "outputs": [],
   "source": [
    "import numpy as np\n",
    "import pandas as pd"
   ]
  },
  {
   "cell_type": "code",
   "execution_count": 2,
   "metadata": {
    "id": "e9dyLjRPeQ0S"
   },
   "outputs": [],
   "source": [
    "from sklearn.datasets import load_boston"
   ]
  },
  {
   "cell_type": "code",
   "execution_count": 3,
   "metadata": {
    "colab": {
     "base_uri": "https://localhost:8080/"
    },
    "id": "y_eniOnFeQ0T",
    "outputId": "e0784afe-c845-404a-dfbf-4a59c984de0f"
   },
   "outputs": [
    {
     "name": "stderr",
     "output_type": "stream",
     "text": [
      "C:\\Users\\Oleg\\Anaconda3\\lib\\site-packages\\sklearn\\utils\\deprecation.py:87: FutureWarning: Function load_boston is deprecated; `load_boston` is deprecated in 1.0 and will be removed in 1.2.\n",
      "\n",
      "    The Boston housing prices dataset has an ethical problem. You can refer to\n",
      "    the documentation of this function for further details.\n",
      "\n",
      "    The scikit-learn maintainers therefore strongly discourage the use of this\n",
      "    dataset unless the purpose of the code is to study and educate about\n",
      "    ethical issues in data science and machine learning.\n",
      "\n",
      "    In this case special case, you can fetch the dataset from the original\n",
      "    source::\n",
      "\n",
      "        import pandas as pd\n",
      "        import numpy as np\n",
      "\n",
      "\n",
      "        data_url = \"http://lib.stat.cmu.edu/datasets/boston\"\n",
      "        raw_df = pd.read_csv(data_url, sep=\"\\s+\", skiprows=22, header=None)\n",
      "        data = np.hstack([raw_df.values[::2, :], raw_df.values[1::2, :2]])\n",
      "        target = raw_df.values[1::2, 2]\n",
      "\n",
      "    Alternative datasets include the California housing dataset (i.e.\n",
      "    func:`~sklearn.datasets.fetch_california_housing`) and the Ames housing\n",
      "    dataset. You can load the datasets as follows:\n",
      "\n",
      "        from sklearn.datasets import fetch_california_housing\n",
      "        housing = fetch_california_housing()\n",
      "\n",
      "    for the California housing dataset and:\n",
      "\n",
      "        from sklearn.datasets import fetch_openml\n",
      "        housing = fetch_openml(name=\"house_prices\", as_frame=True)\n",
      "\n",
      "    for the Ames housing dataset.\n",
      "    \n",
      "  warnings.warn(msg, category=FutureWarning)\n"
     ]
    }
   ],
   "source": [
    "boston = load_boston()"
   ]
  },
  {
   "cell_type": "code",
   "execution_count": 4,
   "metadata": {
    "id": "t5QMfVo2eQ0T"
   },
   "outputs": [],
   "source": [
    "X = boston[\"data\"]\n",
    "y = boston[\"target\"]"
   ]
  },
  {
   "cell_type": "code",
   "execution_count": 5,
   "metadata": {
    "colab": {
     "base_uri": "https://localhost:8080/"
    },
    "id": "hqi67fLUeQ0U",
    "outputId": "61eae41a-3436-4ce3-87f0-01a8f4d8661a"
   },
   "outputs": [
    {
     "data": {
      "text/plain": [
       "((506, 13), (506,))"
      ]
     },
     "execution_count": 5,
     "metadata": {},
     "output_type": "execute_result"
    }
   ],
   "source": [
    "X.shape, y.shape"
   ]
  },
  {
   "cell_type": "markdown",
   "metadata": {
    "id": "tTHzvbd5eQ0V"
   },
   "source": [
    "### Вычисление bias и variance с помощью бутстрапа\n",
    "На лекции была выведено следующая формула, показывающая, как можно представить ошибку алгоритма регрессии в виде суммы трех компонент:\n",
    "$$\n",
    "L(\\mu) = \n",
    "    \\mathbb{E}_{x, y}\\bigl[\\mathbb{E}_{X}\\bigl[ (y - \\mu(X)(x))^2 \\bigr]\\bigr] = \n",
    "$$\n",
    "$$\n",
    "    \\underbrace{\\mathbb{E}_{x, y}\\bigl[(y - \\mathbb{E}[y|x] )^2\\bigr]}_{\\text{шум}} + \\underbrace{\\mathbb{E}_{x}\\bigl[(\\mathbb{E}_{X}[\\mu(X)(x)] - \\mathbb{E}[y|x] )^2\\bigr]}_{\\text{смещение}} +\n",
    "    \\underbrace{\\mathbb{E}_{x}\\bigl[\\mathbb{E}_{X}\\bigl[(\\mu(X)(x) - \\mathbb{E}_{X}[\\mu(X)(x)] )^2\\bigr]\\bigr]}_{\\text{разброс}},\n",
    "$$\n",
    "* $\\mu(X)$ — алгоритм, обученный по выборке $X = \\{(x_1, y_1), \\dots (x_\\ell, y_\\ell)\\}$;\n",
    "* $\\mu(X)(x)$ — ответ алгоритма, обученного по выборке $X$, на объекте $x$;\n",
    "* $\\mathbb{E}_{X}$ — мат. ожидание по всем возможным выборкам;\n",
    "* $\\mathbb{E}_{X}[\\mu(X)(x)]$ — \"средний\" ответ алгоритма, обученного по всем возможным выборкам $X$, на объекте $x$.\n",
    "    \n",
    "С помощью этой формулы мы можем анализировать свойства алгоритма обучения модели $\\mu$, если зададим вероятностную модель порождения пар $p(x, y)$.\n",
    "\n",
    "В реальных задачах мы, конечно же, не знаем распределение на парах объект - правильный ответ. Однако у нас есть набор семплов из этого распределения (обучающую выборка), и мы можем использовать его, чтобы оценивать математические ожидания. Для оценки мат. ожиданий по выборкам мы будем пользоваться бутстрэпом - методом генерации \"новых\" выборок из одной с помощью выбора объектов с возвращением. Разберем несколько шагов на пути к оценке смещения и разброса.\n",
    "\n",
    "#### Приближенное вычисление интегралов\n",
    "На занятиях мы разбирали примеры аналитического вычисления смещения и разброса нескольких алгоритмов обучения. Для большинства моделей данных и алгоритмов обучения аналитически рассчитать математические ожидания в формулах не удастся. Однако мат. ожидания можно оценивать приближенно. Чтобы оценить математическое ожидание $\\mathbb{E}_{\\bar z} f(\\bar z)$ функции от многомерной случайной величины $\\bar z = (z_1, \\dots, z_d)$, $\\bar z \\sim p(\\bar z)$, можно сгенерировать выборку из распределения $p(\\bar z)$ и усреднить значение функции на элементах этой выборки:\n",
    "$$\\mathbb{E}_{\\bar z} f(z) = \\int f(\\bar z) p(\\bar z) d \\bar z \\approx \\frac 1 m \\sum_{i=1}^m f(\\bar z_i), \\, \\bar z_i \\sim p(\\bar z), i = 1, \\dots, m.$$\n",
    "\n",
    "Например, оценим $\\mathbb{E}_z z^2,$ $z \\sim \\mathcal{N}(\\mu=5, \\sigma=3)$ (из теории вероятностей мы знаем, что\n",
    "$\\mathbb{E}_z z^2 = \\sigma^2 + \\mu^2 = 34$):"
   ]
  },
  {
   "cell_type": "code",
   "execution_count": 6,
   "metadata": {
    "colab": {
     "base_uri": "https://localhost:8080/"
    },
    "id": "rnQ-sOI8eQ0W",
    "outputId": "ae746325-a783-4ac6-d6f7-d00b70faaede"
   },
   "outputs": [
    {
     "data": {
      "text/plain": [
       "34.951827225405225"
      ]
     },
     "execution_count": 6,
     "metadata": {},
     "output_type": "execute_result"
    }
   ],
   "source": [
    "z = np.random.normal(loc=5, scale=3, size=1000)\n",
    "(z**2).mean()"
   ]
  },
  {
   "cell_type": "markdown",
   "metadata": {
    "id": "E29h7YHHeQ0X"
   },
   "source": [
    "#### Оценивание $\\mathbb{E}_{x, y}$\n",
    "Оценить мат. ожидания по $x$ и по $x, y$, встречающиеся во всех трех компонентах разложения, несложно, потому что у нас есть выборка объектов из распределения данных $p(x, y)$:\n",
    "$$ \\mathbb{E}_{x} f(x) \\approx \\frac 1 N \\sum_{i=1}^N f(x_i), \\quad\n",
    "\\mathbb{E}_{x, y} f(x, y) \\approx \\frac 1 N \\sum_{i=1}^N f(x_i, y_i),$$\n",
    "где $N$ - число объектов в выборке, $\\{(x_i, y_i)\\}_{i=1}^N$ - сама выборка. \n",
    "\n",
    "#### Оценивание $\\mathbb{E}_X$ с помощью бутстрапа\n",
    "Чтобы оценить мат. ожидание по $X$, нам понадобится выборка из выборок:\n",
    "$$\\mathbb{E}_X f(X) \\approx \\frac 1 s \\sum_{j=1}^s f(X_j),$$\n",
    "где $X_j$ - $j$-я выборка. Чтобы их получить, мы можем воспользоваться бутстрапом - методом генерации выборок на основе выбора объектов с возвращением. Чтобы составить одну выборку, будем $N$ раз выбирать индекс объекта $i \\sim \\text{Uniform}(1 \\dots N)$ и добавлять $i$-ю пару (объект, целевая переменная) в выборку. В результате в каждой выборке могут появиться повторяющиеся объекты, а какие-то объекты могут вовсе не войти в некоторые выборки.\n",
    "\n",
    "#### Итоговый алгоритм оценки смещения и разброса алгоритма $a$\n",
    "1. Сгенерировать $s$ выборок $X_j$ методом бутстрапа.\n",
    "1. На каждой выборке $X_j$ обучить алгоритм $a_j$.\n",
    "1. Для каждой выборки $X_j$ определить множество объектов $T_j$, не вошедших в нее (out-of-bag). Вычислить предсказания алгоритма $a_j$ на объектах $T_j$. \n",
    "\n",
    "Поскольку у нас есть только один ответ для каждого объекта, мы будем считать шум равным 0, а $\\mathbb{E}[y|x]$ равным имеющемуся правильному ответу для объекта $x$. \n",
    "\n",
    "Итоговые оценки:\n",
    "* Смещение: для одного объекта - квадрат разности среднего предсказания и правильного ответа. Среднее предсказание берется только по тем алгоритмам $a_j$, для которых этот объект входил в out-of-bag выборку $T_j$. Для получения общего смещения выполнить усреденение смещений по объектам.\n",
    "* Разброс: для одного объекта - выборочная дисперсия предсказаний алгоритмов $a_j$, для которых этот объект входил в out-of-bag выборку $T_j$. Для получения общего разброса выполнить усреденение разбросов по объектам.\n",
    "* Ошибка $L$: усреднить квадраты разностей предсказания и правильного ответа по всем выполненным предсказаниям для всех объектов.\n",
    "\n",
    "В результате должно получиться, что ошибка приблизительно равна сумме смещения и разброса!\n",
    "\n",
    "Алгоритм также вкратце описан по [ссылке](https://web.engr.oregonstate.edu/~tgd/classes/534/slides/part9.pdf) (слайды 19-21).\n",
    "\n",
    "__1. (3 балла)__\n",
    "\n",
    "Реализуйте описанный алгоритм. Обратите внимание, что если объект не вошел ни в одну из out-of-bag выборок, учитывать его в вычислении итоговых величин не нужно. Как обычно, разрешается использовать только один цикл - по выборкам (от 0 до num_runs-1)."
   ]
  },
  {
   "cell_type": "code",
   "execution_count": 7,
   "metadata": {
    "id": "sRLqpoJBeQ0Y"
   },
   "outputs": [],
   "source": [
    "def compute_biase_variance(regressor, X, y, num_runs=1000):\n",
    "    \"\"\"\n",
    "    :param regressor: sklearn estimator with fit(...) and predict(...) method\n",
    "    :param X: numpy-array representing training set ob objects, shape [n_obj, n_feat]\n",
    "    :param y: numpy-array representing target for training objects, shape [n_obj]\n",
    "    :param num_runs: int, number of samples (s in the description of the algorithm)\n",
    "    \n",
    "    :returns: bias (float), variance (float), error (float) \n",
    "    each value is computed using bootstrap\n",
    "    \"\"\"\n",
    "\n",
    "    n = X.shape[0]\n",
    "    error = 0\n",
    "    all_preds, all_preds_sqr =  np.zeros(n), np.zeros(n)\n",
    "    all_counts = np.zeros(n)\n",
    "    all_inds = np.random.choice(n, n, replace=False)\n",
    "    for i in range(num_runs):\n",
    "        indices = np.random.choice(X.shape[0], n, replace=True)\n",
    "        oob_inds = np.setdiff1d(all_inds, indices)\n",
    "\n",
    "        preds = regressor.fit(X[indices], y[indices]).predict(X)\n",
    "        error += np.mean( (preds[oob_inds] - y[oob_inds]) ** 2 )\n",
    "        all_preds[oob_inds] += preds[oob_inds]\n",
    "        all_preds_sqr[oob_inds] += preds[oob_inds] ** 2\n",
    "        all_counts[oob_inds] += 1\n",
    "\n",
    "    nonzeros = np.nonzero(all_counts)[0]\n",
    "    all_preds = all_preds[nonzeros]\n",
    "    all_preds_sqr = all_preds_sqr[nonzeros]\n",
    "    all_counts = all_counts[nonzeros]\n",
    "    mean_preds = all_preds / all_counts\n",
    "\n",
    "    bias = np.sum( (mean_preds - y[nonzeros]) ** 2 ) / len(nonzeros)\n",
    "    variance = np.sum( (all_preds_sqr - all_preds * mean_preds) / all_counts ) / len(nonzeros)\n",
    "    return bias, variance, error / num_runs"
   ]
  },
  {
   "cell_type": "code",
   "execution_count": null,
   "metadata": {
    "colab": {
     "base_uri": "https://localhost:8080/"
    },
    "id": "4dhkOAjYihLt",
    "outputId": "23b0ad51-dddc-4af2-e1cc-ea5b65a11b01"
   },
   "outputs": [
    {
     "name": "stdout",
     "output_type": "stream",
     "text": [
      "23.80, 0.97, 24.84\n",
      "24.770294023264704\n"
     ]
    }
   ],
   "source": [
    "from sklearn.linear_model import LinearRegression\n",
    "b, v, e = compute_biase_variance(LinearRegression(), X, y)\n",
    "print('%.2f, %.2f, %.2f' % (b, v, e))\n",
    "print(b + v)"
   ]
  },
  {
   "cell_type": "markdown",
   "metadata": {
    "id": "MgMOOqXOeQ0Y"
   },
   "source": [
    "__2. (0 баллов)__\n",
    "\n",
    "Оцените смещение, разброс и ошибку для трех алгоритмов с гиперпараметрами по умолчанию: линейная регрессия, решающее дерево, случайный лес."
   ]
  },
  {
   "cell_type": "code",
   "execution_count": null,
   "metadata": {
    "colab": {
     "base_uri": "https://localhost:8080/",
     "height": 144
    },
    "id": "ZAh50fQxeQ0Z",
    "outputId": "83e84f96-1402-4c1c-8033-e8aaf725d2d0"
   },
   "outputs": [
    {
     "data": {
      "text/html": [
       "<div>\n",
       "<style scoped>\n",
       "    .dataframe tbody tr th:only-of-type {\n",
       "        vertical-align: middle;\n",
       "    }\n",
       "\n",
       "    .dataframe tbody tr th {\n",
       "        vertical-align: top;\n",
       "    }\n",
       "\n",
       "    .dataframe thead th {\n",
       "        text-align: right;\n",
       "    }\n",
       "</style>\n",
       "<table border=\"1\" class=\"dataframe\">\n",
       "  <thead>\n",
       "    <tr style=\"text-align: right;\">\n",
       "      <th></th>\n",
       "      <th>Linear</th>\n",
       "      <th>Tree</th>\n",
       "      <th>Forest</th>\n",
       "    </tr>\n",
       "  </thead>\n",
       "  <tbody>\n",
       "    <tr>\n",
       "      <th>bias</th>\n",
       "      <td>23.737681</td>\n",
       "      <td>10.222466</td>\n",
       "      <td>10.652291</td>\n",
       "    </tr>\n",
       "    <tr>\n",
       "      <th>variance</th>\n",
       "      <td>0.948156</td>\n",
       "      <td>13.014569</td>\n",
       "      <td>2.269793</td>\n",
       "    </tr>\n",
       "    <tr>\n",
       "      <th>error</th>\n",
       "      <td>24.928744</td>\n",
       "      <td>23.175450</td>\n",
       "      <td>12.963909</td>\n",
       "    </tr>\n",
       "  </tbody>\n",
       "</table>\n",
       "</div>"
      ],
      "text/plain": [
       "             Linear       Tree     Forest\n",
       "bias      23.737681  10.222466  10.652291\n",
       "variance   0.948156  13.014569   2.269793\n",
       "error     24.928744  23.175450  12.963909"
      ]
     },
     "execution_count": 9,
     "metadata": {},
     "output_type": "execute_result"
    }
   ],
   "source": [
    "from sklearn.tree import DecisionTreeRegressor\n",
    "from sklearn.ensemble import RandomForestRegressor\n",
    "\n",
    "res = pd.DataFrame(index=['bias', 'variance', 'error'])\n",
    "\n",
    "res['Linear'] = compute_biase_variance(LinearRegression(), X, y)\n",
    "res['Tree'] = compute_biase_variance(DecisionTreeRegressor(), X, y)\n",
    "res['Forest'] = compute_biase_variance(RandomForestRegressor(), X, y)\n",
    "\n",
    "res.head()"
   ]
  },
  {
   "cell_type": "markdown",
   "metadata": {
    "id": "FCgkgyaceQ0Z"
   },
   "source": [
    "__3. (1 балл)__\n",
    "Проанализируйте полученный результат. Согласуются ли полученные результаты с теми, что мы обсуждали на занятиях (с комментарием)?\n",
    "\n",
    "Вполне себе согласуютсся. Как и обсуждалась, линейная модель характеризуется высоким смещением и низким разбросом, дерево решений - наоборот. Случайный лес находит хороший баланс - низкое смещение и несильно высокий разброс. Кроме того, ошибка у него меньше."
   ]
  },
  {
   "cell_type": "markdown",
   "metadata": {
    "id": "iDAVEdYjeQ0Z"
   },
   "source": [
    "__4. (1 балл)__\n",
    "Постройте бэггинг над всеми тремя моделями (линейная регрессия, решающее дерево, случайный лес). Вспомните обсуждение с лекции о том, во сколько раз в теории бэггинг уменьшает разброс базового алгоритма. Выполняется ли это в ваших экспериментах? Если нет, поясните, почему."
   ]
  },
  {
   "cell_type": "code",
   "execution_count": null,
   "metadata": {
    "id": "RsnS6zTQ6nbK",
    "outputId": "8aa033e1-a8e3-475f-a3db-6fe5250ce9a0"
   },
   "outputs": [
    {
     "data": {
      "text/html": [
       "<div>\n",
       "<style scoped>\n",
       "    .dataframe tbody tr th:only-of-type {\n",
       "        vertical-align: middle;\n",
       "    }\n",
       "\n",
       "    .dataframe tbody tr th {\n",
       "        vertical-align: top;\n",
       "    }\n",
       "\n",
       "    .dataframe thead th {\n",
       "        text-align: right;\n",
       "    }\n",
       "</style>\n",
       "<table border=\"1\" class=\"dataframe\">\n",
       "  <thead>\n",
       "    <tr style=\"text-align: right;\">\n",
       "      <th></th>\n",
       "      <th>Linear</th>\n",
       "      <th>Tree</th>\n",
       "      <th>Forest</th>\n",
       "      <th>Linear Bagging</th>\n",
       "      <th>Tree Bagging</th>\n",
       "      <th>Forest Bagging</th>\n",
       "    </tr>\n",
       "  </thead>\n",
       "  <tbody>\n",
       "    <tr>\n",
       "      <th>bias</th>\n",
       "      <td>23.737681</td>\n",
       "      <td>10.222466</td>\n",
       "      <td>10.652291</td>\n",
       "      <td>23.671830</td>\n",
       "      <td>10.790107</td>\n",
       "      <td>11.604361</td>\n",
       "    </tr>\n",
       "    <tr>\n",
       "      <th>variance</th>\n",
       "      <td>0.948156</td>\n",
       "      <td>13.014569</td>\n",
       "      <td>2.269793</td>\n",
       "      <td>1.004255</td>\n",
       "      <td>3.374980</td>\n",
       "      <td>1.392332</td>\n",
       "    </tr>\n",
       "    <tr>\n",
       "      <th>error</th>\n",
       "      <td>24.928744</td>\n",
       "      <td>23.175450</td>\n",
       "      <td>12.963909</td>\n",
       "      <td>24.646066</td>\n",
       "      <td>14.190496</td>\n",
       "      <td>12.934696</td>\n",
       "    </tr>\n",
       "  </tbody>\n",
       "</table>\n",
       "</div>"
      ],
      "text/plain": [
       "             Linear       Tree     Forest  Linear Bagging  Tree Bagging  \\\n",
       "bias      23.737681  10.222466  10.652291       23.671830     10.790107   \n",
       "variance   0.948156  13.014569   2.269793        1.004255      3.374980   \n",
       "error     24.928744  23.175450  12.963909       24.646066     14.190496   \n",
       "\n",
       "          Forest Bagging  \n",
       "bias           11.604361  \n",
       "variance        1.392332  \n",
       "error          12.934696  "
      ]
     },
     "execution_count": 15,
     "metadata": {},
     "output_type": "execute_result"
    }
   ],
   "source": [
    "from sklearn.ensemble import BaggingRegressor\n",
    "\n",
    "res['Linear Bagging'] = compute_biase_variance(BaggingRegressor(LinearRegression()), X, y)\n",
    "res['Tree Bagging'] = compute_biase_variance(BaggingRegressor(DecisionTreeRegressor()), X, y)\n",
    "res['Forest Bagging'] = compute_biase_variance(BaggingRegressor(RandomForestRegressor()), X, y)\n",
    "\n",
    "res.head()"
   ]
  },
  {
   "cell_type": "markdown",
   "metadata": {
    "id": "fZd2QGsY6pbn"
   },
   "source": [
    "По-хорошему разброс должен уменьшаться в `N` раз, где `N` - число моделей в композиции - в нашем случае `N = n_estimators = 10` по дефолту. Однако такое работает если ковариция двух любых моделей близка к нулю. Очевидно, это не так в нашем случае. Для бэггинга с деревом решений заметно, что корреляция базовых моделей оказалась не особо большой - разброс заметно упал."
   ]
  },
  {
   "cell_type": "markdown",
   "metadata": {
    "id": "9GuOdYKgeQ0a"
   },
   "source": [
    "### Визуализация предсказаний базовых алгоритмов бэггинга\n",
    "\n",
    "В материалах лекций можно найти изображение, похожее на мишень - визуализация алгоритмов с разным смещением и разным разбросом. В центре \"мишени\" - правильный ответ, а \"попадания\" - предсказания алгоритмов, обученных по разным выборкам. Построим похожее изображение на наших данных для трех алгоритмов. Наши \"мишени\" будут одномерными, потому что мы решаем задачу одномерной регрессии.\n",
    "\n",
    "__5. (2 балла)__\n",
    "\n",
    "Реализуйте функцию plot_predictions. Она должна выполнять следующие действия:\n",
    "1. Случайно выбрать num_test_objects пар объект-целевая переменная из выборки X, y. Получится две выборки: маленькая X_test, y_test (выбранные тестовые объекты) и X_train, y_train (остальные объекты).\n",
    "1. Сгенерировать num_runs выборок методом бутстарапа из X_train, y_train. На каждой выборке обучить алгоритм regressor и сделать предсказания для X_test.\n",
    "1. Нарисовать scatter-график. По оси абсцисс - объекты тестовой выборки (номера от 0 до num_test_objects-1), по оси ординат - предсказания. В итоге получится num_test_objects столбиков с точками. Для каждого тестового объекта надо отметить одним цветом все предсказания для него, а также черным цветом отметить правильный ответ.\n",
    "1. Подпишите оси и название графика (аргумент title)."
   ]
  },
  {
   "cell_type": "code",
   "execution_count": null,
   "metadata": {
    "id": "lmg26MB2eQ0a"
   },
   "outputs": [],
   "source": [
    "from matplotlib import pyplot as plt\n",
    "%matplotlib inline\n",
    "plt.rcParams['figure.figsize'] = 8, 5\n",
    "\n",
    "def plot_predictions(regressor, X, y, num_runs=100, num_test_objects=10, title=None, ax=None, seed=None):\n",
    "    if ax is None:\n",
    "        ax = plt.gca()\n",
    "\n",
    "    n = len(y)\n",
    "    np.random.seed(seed)\n",
    "    all_inds = np.random.choice(n, n, replace=False)\n",
    "    test = np.random.choice(n, num_test_objects, replace=False)\n",
    "    train = np.setdiff1d(all_inds, test)\n",
    "    X_train, y_train = X[train], y[train]\n",
    "    X_test, y_test = X[test], y[test]\n",
    "\n",
    "    ax.grid()\n",
    "    m = len(y_train)\n",
    "    for i in range(num_runs):\n",
    "        indices = np.random.choice(m, m, replace=True)\n",
    "        preds = regressor.fit(X_train[indices], y_train[indices]).predict(X_test)\n",
    "        ax.scatter([i for i in range(num_test_objects)], preds, color='lime', linewidths=2)\n",
    "    \n",
    "    ax.scatter([i for i in range(num_test_objects)], y_test, color='black', linewidths=2)\n",
    "    ax.set_xlabel('test objects')\n",
    "    ax.set_ylabel('target')\n",
    "    if title is not None:\n",
    "        ax.set_title(title)\n",
    "    return ax\n"
   ]
  },
  {
   "cell_type": "markdown",
   "metadata": {
    "id": "8ZSwl8VseQ0a"
   },
   "source": [
    "__6. (0 баллов)__\n",
    "\n",
    "Нарисуйте графики для линейной регрессии, решающего дерева и случайного леса. Нарисуйте три графика в строчку (это можно сделать с помощью plt.subplot) с одинаковой осью ординат (это важно для понимания масштаба разброса у разных алгоритмов):"
   ]
  },
  {
   "cell_type": "code",
   "execution_count": null,
   "metadata": {
    "id": "VhL9Ael5eQ0a",
    "outputId": "0fcd90e5-3dae-46fe-ad5c-bc34b30b27b5"
   },
   "outputs": [
    {
     "data": {
      "image/png": "[encoded data removed]",
      "text/plain": [
       "<Figure size 1728x360 with 3 Axes>"
      ]
     },
     "metadata": {
      "needs_background": "light"
     },
     "output_type": "display_data"
    }
   ],
   "source": [
    "fig, axes = plt.subplots(nrows=1, ncols=3, figsize=(24, 5))\n",
    "plot_predictions(LinearRegression(), X, y, title='Linear', ax=axes[0], seed=10)\n",
    "plot_predictions(DecisionTreeRegressor(), X, y, title='Tree', ax=axes[1], seed=10)\n",
    "plot_predictions(RandomForestRegressor(), X, y, title='Forest', ax=axes[2], seed=10)\n",
    "for i in range(3):\n",
    "    axes[i].set_ylim(np.min(y) - 5, np.max(y) + 5)\n",
    "plt.show()"
   ]
  },
  {
   "cell_type": "markdown",
   "metadata": {
    "id": "RVf37W7DeQ0b"
   },
   "source": [
    "__7. (1 балл)__\n",
    "\n",
    "Для каждого графика прокомментируйте, как он характеризует смещение и разброс соответствующего алгоритма. \n",
    "\n",
    "Здесь смещение - то, насколько предсказания близки к истинным значениям (близость зеленых точек к черным), разброс - то, насколько сильно кучкуются предсказания (насколько плотно расположены зеленые точки относительно друг друга). На графиках отчетливо видим, что у линейной регрессии очень маленький разброс, чуть больше у случайного леса и наибольший у одного дерева решений. Смещение лучше всего у дерева, чуть хуже у леса, внизу топа - линейная регрессия. Это сложно заметить, но если ориентироваться по объектам 0, 5, 8 и некоторым другим, все становится более-менее понятным."
   ]
  },
  {
   "cell_type": "markdown",
   "metadata": {
    "id": "AIgiz9ySeQ0b"
   },
   "source": [
    "### Изменение bias и variance при изменении гиперпараметров"
   ]
  },
  {
   "cell_type": "markdown",
   "metadata": {
    "id": "rh0SR5EjeQ0b"
   },
   "source": [
    "__8. (0 баллов)__\n",
    "\n",
    "Постройте графики зависимости смещения и разброса от гиперпараметров решающего дерева max_depth (от 1 до 10) и max_features (от 1 до X.shape[1]):"
   ]
  },
  {
   "cell_type": "code",
   "execution_count": null,
   "metadata": {
    "id": "0cVNQE4TeQ0b",
    "outputId": "b4036889-6a35-49d9-bc73-ca0854a130de"
   },
   "outputs": [
    {
     "data": {
      "image/png": "[encoded data removed]",
      "text/plain": [
       "<Figure size 1440x432 with 2 Axes>"
      ]
     },
     "metadata": {
      "needs_background": "light"
     },
     "output_type": "display_data"
    }
   ],
   "source": [
    "md = [i + 1 for i in range(10)]\n",
    "mf = [i + 1 for i in range(X.shape[1])]\n",
    "\n",
    "arrs = {'max_depth':md, 'max_features':mf}\n",
    "bias_d, var_d, bias_f, var_f = [], [], [], []\n",
    "for d in md:\n",
    "    regressor = DecisionTreeRegressor(max_depth=d)\n",
    "    b, v, _ = compute_biase_variance(regressor, X, y, num_runs=100)\n",
    "    bias_d.append(b)\n",
    "    var_d.append(v)\n",
    "for f in mf:\n",
    "    regressor = DecisionTreeRegressor(max_features=f)\n",
    "    b, v, _ = compute_biase_variance(regressor, X, y, num_runs=100)\n",
    "    bias_f.append(b)\n",
    "    var_f.append(v)\n",
    "\n",
    "bias = np.array([bias_d, bias_f], dtype=object)\n",
    "var = np.array([var_d, var_f], dtype=object)\n",
    "\n",
    "fig, axes = plt.subplots(nrows=1, ncols=2, figsize=(20, 6))\n",
    "for i, pr in enumerate(['max_depth', 'max_features']):\n",
    "    axes[i].plot(arrs[pr], bias[i], color='lime', label='bias')\n",
    "    axes[i].plot(arrs[pr], var[i], color='royalblue', label='variance')\n",
    "    axes[i].set_xlabel(pr)\n",
    "    axes[i].set_ylabel('value')\n",
    "    axes[i].set_title('Dependence of ' + pr + ' on bias and variance: decision tree')\n",
    "    axes[i].grid()\n",
    "    axes[i].legend(shadow=False, fontsize=14)\n",
    "\n",
    "plt.show()"
   ]
  },
  {
   "cell_type": "markdown",
   "metadata": {
    "id": "PCQPMRmHeQ0c"
   },
   "source": [
    "__9. (0 баллов)__\n",
    "\n",
    "Постройте графики зависимости смещения и разброса от n_estimators (по сетке 2**np.arange(1, 10)) для случайного леса и градиентного бустинга:"
   ]
  },
  {
   "cell_type": "code",
   "execution_count": 8,
   "metadata": {
    "colab": {
     "base_uri": "https://localhost:8080/",
     "height": 405
    },
    "id": "80WV_nM5eQ0c",
    "outputId": "a24968e5-9216-4230-dce8-95670b5d297f"
   },
   "outputs": [
    {
     "data": {
      "image/png": "[encoded data removed]",
      "text/plain": [
       "<Figure size 1440x432 with 2 Axes>"
      ]
     },
     "metadata": {
      "needs_background": "light"
     },
     "output_type": "display_data"
    }
   ],
   "source": [
    "from sklearn.ensemble import GradientBoostingRegressor\n",
    "Ns = 2 ** np.arange(1, 10)\n",
    "\n",
    "bias_b, var_b, bias_f, var_f = [], [], [], []\n",
    "for N in Ns:\n",
    "    regressor = RandomForestRegressor(n_estimators=N)\n",
    "    b, v, _ = compute_biase_variance(regressor, X, y, num_runs=100)\n",
    "    bias_f.append(b)\n",
    "    var_f.append(v)\n",
    "\n",
    "    regressor = GradientBoostingRegressor(n_estimators=N)\n",
    "    b, v, _ = compute_biase_variance(regressor, X, y, num_runs=100)\n",
    "    bias_b.append(b)\n",
    "    var_b.append(v)\n",
    "\n",
    "bias = np.array([bias_f, bias_b], dtype=object)\n",
    "var = np.array([var_f, var_b], dtype=object)\n",
    "\n",
    "fig, axes = plt.subplots(nrows=1, ncols=2, figsize=(20, 6))\n",
    "for i, nm in enumerate(['random forest', 'gradient boosting']):\n",
    "    axes[i].plot(Ns, bias[i], color='lime', label='bias')\n",
    "    axes[i].plot(Ns, var[i], color='royalblue', label='variance')\n",
    "    axes[i].set_xlabel('n_estimators')\n",
    "    axes[i].set_ylabel('value')\n",
    "    axes[i].set_title('Dependence of n_estimators on bias and variance: ' + nm)\n",
    "    axes[i].grid()\n",
    "    axes[i].legend(shadow=False, fontsize=14)\n",
    "\n",
    "plt.show()"
   ]
  },
  {
   "cell_type": "markdown",
   "metadata": {
    "id": "8GnVzYUNeQ0c"
   },
   "source": [
    "__10. (2 балла)__\n",
    "\n",
    "Прокомментируйте графики (всего 4 графика): почему они имеют такой вид.\n",
    "\n",
    "Рассмотрим одно решающее дерево и зависимость его смещения и разброса от максимальной глубины. Очевидно, что увеличивая глубину, мы улучшаем смещение и качество предсказаний. Напротив, увеличивая глубину, мы увеличиваем и разброс, так как дерево решений имеет свойство затачиваться под обучающую выборку, а значит, ему свойственно выдавать менее хорошие результаты на другой выборке. Конечно, чем больше глубина, тем больше шанс переобучиться.\n",
    "\n",
    "Теперь рассмотрим ту же зависимость относительно максимального числа признаков. Здесь имеет место проблема \"золотых признаков\" - признаков, которые имеют большой вес, без которых (я бы сказал любая) модель не способна выдать хорошего качества. В нашем случае мы видим, что нет признаков с сильно большим весом, но, тем не менее, модель выдает посредственные прогнозы с малым числом признаков. По мере увеличения `max_features` смещение не меняется супер-сильно (что связано с особенностями обучения дерева), чего не скажешь о разбросе. На мой взгляд распределение выборки задается несколькими признаками, поэтому если мы берем какой-то один, то мы никак не получим хорошей обобщающей способности, из-за чего результат на различных выборках будет сильно разниться. Я имею в виду, что увеличивая `max_features`, мы улучшаем и обобщающую способность модели - чем больше у нас признаков в арсенале, тем лучше мы можем уловить закономерности генеральной совокупности. Стоит отметить, что это может работать не так с выборками, где очень много признаков - тут уже стоит вычленять наиболее значимые.\n",
    "\n",
    "Случайный лес в принципе возволяет объединить несмещенные базовые модели в композицию с низкой дисперсией. Путем рандомизации понижается корреляция между двумя базовыми моделями. На лекции отмечалось, что `n_estimators` можно выбирать сколько угодно большим - особо изменений не будет. Это мы и наблюдаем на графике.\n",
    "\n",
    "В композиции градиентного бустинга каждая следующая модель исправляет ошибки предыдущей. Отсюда понятно, почему у нас смещение имеет резкий экспоненциальный спад. Затем оно остается на одном и тот же уровне (очень близком к константному) за счет возможности бустинга поиска лучшей функции, восстанавливающей истинную зависимость в выборке. Разброс остается примерно на том же уровне (с небольшим увеличением при росте `n_estimators`). Думаю, это связано с тем, как вообще работает (и обучается) градиентный бустинг - ведь выходит так, что каждая новая модель немного увеличивает разброс.\n",
    "\n",
    "__P.S. Спасибо Соне за то, что она есть.__"
   ]
  },
  {
   "cell_type": "code",
   "execution_count": null,
   "metadata": {},
   "outputs": [],
   "source": []
  }
 ],
 "metadata": {
  "colab": {
   "collapsed_sections": [],
   "name": "homework_practice_06_bvd.ipynb",
   "provenance": []
  },
  "kernelspec": {
   "display_name": "Python 3",
   "language": "python",
   "name": "python3"
  },
  "language_info": {
   "codemirror_mode": {
    "name": "ipython",
    "version": 3
   },
   "file_extension": ".py",
   "mimetype": "text/x-python",
   "name": "python",
   "nbconvert_exporter": "python",
   "pygments_lexer": "ipython3",
   "version": "3.7.4"
  },
  "toc": {
   "base_numbering": 1,
   "nav_menu": {},
   "number_sections": true,
   "sideBar": true,
   "skip_h1_title": true,
   "title_cell": "Table of Contents",
   "title_sidebar": "Contents",
   "toc_cell": false,
   "toc_position": {},
   "toc_section_display": true,
   "toc_window_display": false
  },
  "varInspector": {
   "cols": {
    "lenName": 16,
    "lenType": 16,
    "lenVar": 40
   },
   "kernels_config": {
    "python": {
     "delete_cmd_postfix": "",
     "delete_cmd_prefix": "del ",
     "library": "var_list.py",
     "varRefreshCmd": "print(var_dic_list())"
    },
    "r": {
     "delete_cmd_postfix": ") ",
     "delete_cmd_prefix": "rm(",
     "library": "var_list.r",
     "varRefreshCmd": "cat(var_dic_list()) "
    }
   },
   "types_to_exclude": [
    "module",
    "function",
    "builtin_function_or_method",
    "instance",
    "_Feature"
   ],
   "window_display": false
  }
 },
 "nbformat": 4,
 "nbformat_minor": 1
}
