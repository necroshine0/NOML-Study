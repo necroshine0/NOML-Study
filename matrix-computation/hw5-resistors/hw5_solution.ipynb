{
 "cells": [
  {
   "cell_type": "markdown",
   "metadata": {},
   "source": [
    "# Практическая задача (36 баллов)"
   ]
  },
  {
   "cell_type": "markdown",
   "metadata": {},
   "source": [
    "В этой задаче мы поработаем с разреженными системами, в том числе научимся быстро пересчитывать решение при изменениях ранга 1 в матрице левой части."
   ]
  },
  {
   "cell_type": "code",
   "execution_count": 1,
   "metadata": {},
   "outputs": [],
   "source": [
    "import numpy as np\n",
    "import matplotlib.pyplot as plt\n",
    "%matplotlib inline"
   ]
  },
  {
   "cell_type": "markdown",
   "metadata": {},
   "source": [
    "### Расчёт напряжений в системе резисторов\n",
    "\n",
    "При конструировании сверхбольших интегральных схем (СБИС, very large scale integration, VLSI) одной из базовых задачей является расчёт напряжений в электрических схемах довольно внушительных размеров. Мы рассмотрим модельный пример: сетку $m \\times n$ с резисторами сопротивления $R$.\n",
    "\n",
    "![Сетка из резисторов](resistors.svg)\n",
    "\n",
    "Потенциалы в узлах сетки обозначим $\\varphi_{ij}$, это и будут наши неизвестные. Давайте также считать, что к противоположным углам сетки ($(1,1)$ и $(m,n)$) приложена разность потенциалов $U$. Соответственно, в левый верхний угол втекает (неизвестный) ток $I$, и такой же ток вытекает из правого нижнего угла.\n",
    "\n",
    "Для решения системы нам будет достаточно закона Ома и первого закона Кирхгофа. Именно, для каждого резистора легко выразить текущий через него ток. Например, для горизонтального резистора между узлами $(i,j)$ и $(i,j+1)$ ток равен $I_{i,j} = (\\varphi_{ij} - \\varphi_{i,j+1})/R$. Далее применяем первый закон Кирхгофа для каждого узла $(i,j)$, то есть приравниваем сумму втекающих токов к сумме вытекающих. Для внутреннего узла получим такое равенство:\n",
    "$$\n",
    "\\frac{\\varphi_{i,j-1} - \\varphi_{i,j}}{R} + \\frac{\\varphi_{i-1,j} - \\varphi_{i,j}}{R} - \\frac{\\varphi_{i,j} - \\varphi_{i,j+1}}{R} - \\frac{\\varphi_{i,j} - \\varphi_{i+1,j}}{R} = 0.\\tag{1}\n",
    "$$\n",
    "На границе, например, верхней (то есть $i = 1$), будет отсутствовать член $\\varphi_{i-1,j}-\\varphi_{i, j}$, а в углу, например, $(1,n)$, будет дополнительно отсутствовать член $\\varphi_{i,j}-\\varphi_{i, j+1}$. В углах $(1,1)$ и $(m, n)$, однако, ситуация особая: в первом есть дополнительный втекающий неизвестный ток $I$, а во втором этот же ток вытекает.\n",
    "В результате получим систему на $\\varphi_{i,j}$ и $I$:\n",
    "$$\n",
    "\\left[ \\begin{array}{ccccc|c}\n",
    "   &&   && &  R \\\\\n",
    "   &&   && &  0 \\\\\n",
    "   && A && &  \\vdots  \\\\\n",
    "   &&   && &  0 \\\\\n",
    "   &&   && & -R \\\\\n",
    "   \\hline\n",
    "1 & 0 & \\dots &  0 & -1 & 0\n",
    "\\end{array}\n",
    "\\right]\n",
    "\\begin{bmatrix}\n",
    "\\varphi_{11} \\\\\n",
    "\\vdots       \\\\\n",
    "\\vdots       \\\\\n",
    "\\vdots       \\\\\n",
    "\\varphi_{mn}  \\\\\n",
    "I\n",
    "\\end{bmatrix}\n",
    "=\n",
    "\\begin{bmatrix}\n",
    "0 \\\\\n",
    "\\vdots       \\\\\n",
    "\\vdots       \\\\\n",
    "\\vdots       \\\\\n",
    "0  \\\\\n",
    "U\n",
    "\\end{bmatrix}\n",
    "$$\n",
    "Последнее уравнение есть $\\varphi_{11}-\\varphi_{mn} = U$.\n",
    "\n",
    "Разберёмся с видом матрицы $A$. Она имеет размеры $mn \\times mn$ и индексируется двумя парами индексов $ij$ и $i'j'$. Перепишем уравнение (2) в виде \n",
    "$$\n",
    "(\\varphi_{i,j-1} - 2\\varphi_{i,j} + \\varphi_{i,j+1}) + (\\varphi_{i-1,j} - 2\\varphi_{i,j} + \\varphi_{i+1,j}) = 0.\\tag{2}\n",
    "$$\n",
    "Если переписать столбец $\\varphi$ с элементами $\\varphi_{ij}$ в матрицу $\\Phi\\in\\mathbb{R}^{m \\times n}$ естественным образом (то есть так, чтобы $\\mathrm{vec}(\\Phi) = \\varphi$), то ясно, что первое слагаемое в (2) действует на столбцы матрицы $\\Phi$, а второе &mdash; на строки. То есть $A \\varphi  = \\mathrm{vec}(\\Phi A_n) + \\mathrm{vec}(A_m \\Phi)$, где $A_n \\in \\mathbb{R}^{n \\times n}$ и $A_m \\in \\mathbb{R}^{m \\times m}$ имеют вид\n",
    "$$\n",
    "\\begin{bmatrix}\n",
    "-1 & 1 & &  \\\\\n",
    "1 & -2 & 1 & \\\\\n",
    "  &   & \\ddots &  \\\\\n",
    "  &     &    1 & -1\n",
    " \\end{bmatrix}.\n",
    "$$\n",
    "По уже известной нам формуле для $\\mathrm{vec}(\\cdot)$ получается, что $A = A_n \\otimes I_m + I_n \\otimes A_m$. Операция в правой части ещё называется *Кронекеровой суммой* матриц $A_n$ и $A_m$ и обозначается $A_n \\oplus A_m$ (можете проверить, что такая \"сумма\" не имеет такого интуитивного свойство суммы, как коммутативность, т.е. в общем случае $A_m \\oplus A_n \\neq A_n \\oplus A_m$).\n",
    "\n",
    "**Обратите внимание**, что система получилась линейно зависимой: если сложить все строки, кроме последней, получится нулевая строка (физически это отвечает тому, что все потенциалы можно сдвинуть на одинаковую константу).\n",
    "Поэтому мы удалим предпоследнюю строку (не потеряв никакой информации, ведь она равнялась минус сумме остальных), а вместо неё добавим условие $\\varphi_{mn} = 0$, таким образом фиксируя один из потенциалов, чтобы уничтожить неопределённость. Обозначим получившуюся $(mn+1)\\times(mn+1)$ матрицу $B$."
   ]
  },
  {
   "cell_type": "markdown",
   "metadata": {},
   "source": [
    "## 1. Разреженное LU-разложение (16 баллов)"
   ]
  },
  {
   "cell_type": "markdown",
   "metadata": {
    "scrolled": true
   },
   "source": [
    "a. (**9 баллов**) Сформируйте разреженную матрицу решаемой системы в CSC формате. Для получения матриц $A_m, A_n$ используйте `scipy.sparse.spdiags`, а для сбора $A$ по $A_m, A_n$ используйте `scipy.sparse.kron` матрицы $A$. Обратите внимание, что в этом задании нельзя собирать $A$ или $A_m, A_n$ с использование операций с плотными матрицами."
   ]
  },
  {
   "cell_type": "code",
   "execution_count": 2,
   "metadata": {},
   "outputs": [],
   "source": [
    "from scipy import sparse\n",
    "\n",
    "def make_A(m, n):\n",
    "    \"Returns sparse mn x mn matrix A\"\n",
    "    diags = np.array([0, -1, 1])\n",
    "\n",
    "    tmpn = np.full(n, -2)\n",
    "    tmpn[0] = -1\n",
    "    tmpn[-1] = -1\n",
    "    data = np.array([tmpn, np.full(n, 1), np.full(n, 1)])\n",
    "    An = sparse.spdiags(data, diags, n, n)\n",
    "    \n",
    "    tmpm = np.full(m, -2)\n",
    "    tmpm[0] = -1\n",
    "    tmpm[-1] = -1\n",
    "    data = np.array([tmpm, np.full(m, 1), np.full(m, 1)])\n",
    "    Am = sparse.spdiags(data, diags, m, m)\n",
    "    \n",
    "    A = sparse.kron(An, sparse.eye(m)) + sparse.kron(sparse.eye(n), Am).tocsc()\n",
    "    return A\n",
    "    \n",
    "def make_mat(m, n, R):\n",
    "    \"Returns sparse (mn + 1) x (mn + 1) matrix of the system in CSC format\"\n",
    "    A = make_A(m, n)\n",
    "    A[-1] = 0 # как np.full(_, 0)\n",
    "    A[-1, -1] = 1\n",
    "    b = np.zeros(m * n)\n",
    "    b[0] = R\n",
    "    # b[-1] = -R\n",
    "    b.resize(1, m * n)\n",
    "    A = sparse.hstack((A, b.T))\n",
    "\n",
    "    r = np.zeros(m * n + 1)\n",
    "    r[0] = 1\n",
    "    r[-2] = -1\n",
    "    A = sparse.vstack((A, r)).tocsc()\n",
    "    return A.tocsc()\n",
    "    "
   ]
  },
  {
   "cell_type": "code",
   "execution_count": 3,
   "metadata": {},
   "outputs": [
    {
     "name": "stdout",
     "output_type": "stream",
     "text": [
      "[[-2.  1.  0.  1.  0.  0.  0.  0.  0. 12.]\n",
      " [ 1. -3.  1.  0.  1.  0.  0.  0.  0.  0.]\n",
      " [ 0.  1. -2.  0.  0.  1.  0.  0.  0.  0.]\n",
      " [ 1.  0.  0. -3.  1.  0.  1.  0.  0.  0.]\n",
      " [ 0.  1.  0.  1. -4.  1.  0.  1.  0.  0.]\n",
      " [ 0.  0.  1.  0.  1. -3.  0.  0.  1.  0.]\n",
      " [ 0.  0.  0.  1.  0.  0. -2.  1.  0.  0.]\n",
      " [ 0.  0.  0.  0.  1.  0.  1. -3.  1.  0.]\n",
      " [ 0.  0.  0.  0.  0.  0.  0.  0.  1.  0.]\n",
      " [ 1.  0.  0.  0.  0.  0.  0.  0. -1.  0.]]\n"
     ]
    },
    {
     "name": "stderr",
     "output_type": "stream",
     "text": [
      "C:\\Users\\Oleg\\Anaconda3\\lib\\site-packages\\scipy\\sparse\\_index.py:126: SparseEfficiencyWarning: Changing the sparsity structure of a csr_matrix is expensive. lil_matrix is more efficient.\n",
      "  self._set_arrayXarray(i, j, x)\n"
     ]
    }
   ],
   "source": [
    "A = make_mat(3, 3, 12)\n",
    "print(A.toarray())"
   ]
  },
  {
   "cell_type": "markdown",
   "metadata": {},
   "source": [
    "b. (**7 баллов**) Заполните класс `Solver`, который при инициализации выполнит разреженное LU-разложение с помощью библиотеки `scipy.sparse.linalg` и функции `scipy.sparse.linalg.splu`, а затем будет уметь решать систему для заданной правой части."
   ]
  },
  {
   "cell_type": "code",
   "execution_count": 4,
   "metadata": {},
   "outputs": [],
   "source": [
    "import scipy.sparse.linalg\n",
    "\n",
    "class Solver:\n",
    "    def __init__(self, m, n, R):\n",
    "        self.LU = scipy.sparse.linalg.splu(make_mat(m, n, R))\n",
    "        self.shape = m * n + 1\n",
    "    \n",
    "    def solve(self, right):\n",
    "        \"Solves the system for given right part\"\n",
    "        return self.LU.solve(right)\n",
    "\n",
    "    def solve_voltage(self, U):\n",
    "        \"Solves the updated system for given voltage\"\n",
    "        b = np.zeros(self.shape)\n",
    "        b[-1] = U\n",
    "        return self.solve(b)"
   ]
  },
  {
   "cell_type": "markdown",
   "metadata": {},
   "source": [
    "Решим систему и визуализируем полученное решение, чтобы понять, как текут токи."
   ]
  },
  {
   "cell_type": "code",
   "execution_count": 5,
   "metadata": {},
   "outputs": [],
   "source": [
    "def visualize(m, n, R, solution, resistance_coeffs={}):\n",
    "    plt.axis('off')\n",
    "    max_current = 0\n",
    "    lines = []\n",
    "    for i in range(m):\n",
    "        for j in range(n - 1):\n",
    "            resistance = R * resistance_coeffs.get((i, j), 1)\n",
    "            current = (solution[j * m + i] - solution[(j + 1) * m + i]) / resistance\n",
    "            dx = 0.2 if current > 0 else -0.2\n",
    "            plt.arrow(j+0.5, -i, dx, 0, shape='full', lw=2, length_includes_head=True, head_width=.10, color='blue')\n",
    "            max_current = max(max_current, current)\n",
    "            lines += plt.plot([j, j + 1], [-i, -i], color='blue', lw=abs(current))\n",
    "    for i in range(m - 1):\n",
    "        for j in range(n):\n",
    "            current = (solution[j * m + i] - solution[j * m + i + 1]) / R\n",
    "            dy = -0.1 if current > 0 else 0.1\n",
    "            plt.arrow(j, -i - 0.5, 0, dy, shape='full', lw=2, length_includes_head=True, head_width=.08, color='blue')\n",
    "            max_current = max(max_current, current)\n",
    "            lines += plt.plot([j, j], [-i, -i - 1], color='blue', lw=abs(current))\n",
    "    for l in lines:\n",
    "        l.set_linewidth(l.get_linewidth() * 4. / max_current)"
   ]
  },
  {
   "cell_type": "code",
   "execution_count": 6,
   "metadata": {},
   "outputs": [
    {
     "name": "stderr",
     "output_type": "stream",
     "text": [
      "C:\\Users\\Oleg\\Anaconda3\\lib\\site-packages\\scipy\\sparse\\_index.py:126: SparseEfficiencyWarning: Changing the sparsity structure of a csr_matrix is expensive. lil_matrix is more efficient.\n",
      "  self._set_arrayXarray(i, j, x)\n"
     ]
    },
    {
     "data": {
      "image/png": "[encoded data removed]",
      "text/plain": [
       "<Figure size 432x288 with 1 Axes>"
      ]
     },
     "metadata": {
      "needs_background": "light"
     },
     "output_type": "display_data"
    }
   ],
   "source": [
    "m, n, R = 3, 8, 1.\n",
    "solver = Solver(m, n, R)\n",
    "visualize(m, n, R, solver.solve_voltage(220.))"
   ]
  },
  {
   "cell_type": "markdown",
   "metadata": {},
   "source": [
    "Проверьте, что ваш солвер работает для больших систем."
   ]
  },
  {
   "cell_type": "code",
   "execution_count": 7,
   "metadata": {},
   "outputs": [],
   "source": [
    "m, n, R = 500, 500, 1.\n",
    "solver = Solver(m, n, R)\n",
    "_ = solver.solve_voltage(220.)"
   ]
  },
  {
   "cell_type": "markdown",
   "metadata": {},
   "source": [
    "## 2. Обновления ранга 1 (20 баллов)"
   ]
  },
  {
   "cell_type": "markdown",
   "metadata": {},
   "source": [
    "Представим теперь, что в процессе работы резисторы в нашей системе могут менять своё сопротивление, например, при перегреве проводник может потерять проводимость ($R_{i,j} = \\infty$) или, напротив, может произойти короткое замыкание ($R_{i,j} = 0$). При таких локальных изменениях нет нужды строить и решать заново всю нашу линейную систему.\n",
    "\n",
    "a. (**8 баллов**) Будем считать для простоты, что\n",
    "  1. сопротивление меняется только в горизонтальных резисторах, не инцидентных узлам $(1,1)$ и $(m, n)$;\n",
    "  2. в каждом проводе сопротивление может измениться только один раз.\n",
    "\n",
    "Пусть сопротивление между узлами $(i,j)$ и $(i,j+1)$ изменилось с $R$ на $R'$. Пользуясь формулой (1), выпишите новую матрицу $B'$ в виде $B' = B + uv^\\top$.\n"
   ]
  },
  {
   "cell_type": "markdown",
   "metadata": {},
   "source": [
    "(можно написать решение в строчке ниже или на листке в теоретической части)"
   ]
  },
  {
   "cell_type": "markdown",
   "metadata": {},
   "source": [
    "**YOUR WORDS GO HERE OR THERE**\\\n",
    "Формула (1):\\\n",
    "$$\n",
    "\\frac{\\varphi_{i,j-1} - \\varphi_{i,j}}{R} + \\frac{\\varphi_{i-1,j} - \\varphi_{i,j}}{R} - \\frac{\\varphi_{i,j} - \\varphi_{i,j+1}}{R} - \\frac{\\varphi_{i,j} - \\varphi_{i+1,j}}{R} = 0\\tag{1}\n",
    "$$\n",
    "\n",
    "Нам нужно именно преобразование для *конкретных* индексов. Поэтому следует рассматривать то, как ведет себя матрица $B$ при умножении.\\\n",
    "А $B$ при умножении дает нам формулу 3 для узла $(i, j)$. Если же в одном месте изменить напряжение, то у нас поменяются 2 формулы - для $(i,j)$-го и $(i,j+1)$-го узлов, что соответствует двум строкам матрицы.\\\n",
    "Для горизонтального резистора между узлами $(i,j)$ и $(i,j+1)$ ток равен $I_{i,j} = \\frac{\\varphi_{ij} - \\varphi_{i,j+1}}{R}$. Тогда при замене $R$ на $R'$ $I_{i,j} = \\frac{\\varphi_{ij}' - \\varphi_{i,j+1}'}{R'}$. Так как меняется лишь сопротивление, то поменяются и значения потенциалов (ток течет по пути наименьшего сопротивления), однако в силу того, что наши $\\varphi_{ij}$ являются неизвестными переменными, то я оставлю те же обозначения для потенциалов. Тогда получим формулу следующего вида:\\\n",
    "$$\n",
    "\\frac{\\varphi_{i,j-1} - \\varphi_{i,j}}{R} + \\frac{\\varphi_{i-1,j} - \\varphi_{i,j}}{R} - \\frac{\\varphi_{i,j} - \\varphi_{i,j+1}}{R'} - \\frac{\\varphi_{i,j} - \\varphi_{i+1,j}}{R} = 0 \\Longrightarrow\n",
    "(\\varphi_{i,j-1} - \\varphi_{i,j}) + (\\varphi_{i-1,j} - \\varphi_{i,j}) - (\\varphi_{i,j} - \\varphi_{i,j+1})\\frac{R}{R'} - (\\varphi_{i,j} - \\varphi_{i+1,j}) = 0\n",
    "$$\n",
    "Из полученной формулы вычтем формулу $(2)$:\\\n",
    "$$\n",
    "- (\\varphi_{i,j} - \\varphi_{i,j+1})\\frac{R}{R'} + \\varphi_{i,j} - \\varphi_{i,j+1} \n",
    "$$\n",
    "\n",
    "Получим:\n",
    "$$\n",
    "-(\\varphi_{i,j} - \\varphi_{i,j+1}) \\frac{R - R'}{R'} \\tag{3}\n",
    "$$\n",
    "Именно так и изменится формула при изменении напряжения, т.е. к строке $(2)$ нужно добавить $(3)$. Иными словами, в строке матрицы $A$, соответствующей узлу $(i, j)$ из элемента, отвечающего за коэффициент перед $\\phi_{i, j}$ нужно вычесть $\\frac{R - R'}{R'}$, а к элементу, отвечающему за коэффициент перед $\\phi_{i, j+1}$ - прибавить  $\\frac{R - R'}{R'}$.\n",
    "\n",
    "Распишем формулу $(1)$ теперь уже для узла $(i, j+1)$:\n",
    "$$\n",
    "\\frac{\\varphi_{i,j} - \\varphi_{i,j+1}}{R'} + \\frac{\\varphi_{i-1,j+1} - \\varphi_{i,j+1}}{R} - \\frac{\\varphi_{i,j+1} - \\varphi_{i,j+2}}{R} - \\frac{\\varphi_{i,j+1} - \\varphi_{i+1,j+1}}{R} = 0 \\Longrightarrow\n",
    "(\\varphi_{i,j} - \\varphi_{i,j+1})\\frac{R}{R'} + (\\varphi_{i-1,j+1} - \\varphi_{i,j+1}) - (\\varphi_{i,j+1} - \\varphi_{i,j+2}) - (\\varphi_{i,j+1} - \\varphi_{i+1,j+1}) = 0\n",
    "$$\n",
    "И вычтем отсюда $(2)$:\n",
    "$$\n",
    "(\\varphi_{i,j} - \\varphi_{i,j+1})\\frac{R}{R'} + (\\varphi_{i-1,j+1} - \\varphi_{i,j+1}) - (\\varphi_{i,j+1} - \\varphi_{i,j+2}) - (\\varphi_{i,j+1} - \\varphi_{i+1,j+1}) - (\\varphi_{i,j} - 2\\varphi_{i,j+1} + \\varphi_{i,j+2}) - (\\varphi_{i-1,j+1} - 2\\varphi_{i,j+1} + \\varphi_{i+1,j+1}) =\n",
    "$$\n",
    "$$\n",
    "(\\varphi_{i,j} - \\varphi_{i,j+1})\\frac{R}{R'} -\\varphi_{i,j} + \\varphi_{i,j+1} = \n",
    "$$\n",
    "$$\n",
    "(\\varphi_{i,j} - \\varphi_{i,j+1})\\frac{R - R'}{R'} \\tag{4}\n",
    "$$\n",
    "Получили то же самое. Аналогично, в строке матрицы $A$, соответствующей узлу $(i, j + 1)$ к элементу, отвечающим за коэффициент перед $\\phi_{i, j}$ нужно прибавить $\\frac{R - R'}{R'}$, а из элемента, отвечающего за коэффициент перед $\\phi_{i, j+1}$ - вычесть $\\frac{R - R'}{R'}$.\n",
    "\n",
    "Пусть теперь $\\Phi$ - матрица потенциалов, тогда $\\mathrm{vec}(\\Phi) = [\\varphi_{11}, \\varphi_{21}, \\ldots, \\varphi_{12}, \\varphi_{22}, \\ldots, \\varphi_{mn}]$. Для $\\varphi_{i,j+1}$ - $mj + (i - 1)$. Соответствующие элементы в этих строках будут стоять на пересечении столбцов с такими же индексами.\\\n",
    "Таким образом, нам нужно сделать следующее (нумерация подразумевается с нуля):\n",
    "$$\n",
    "B[mj + i][mj + i] -= \\beta,$$ $$B[mj + i][m(j + 1) + i] += \\beta,$$ $$B[m(j + 1) + i][mj + i] += \\beta,$$  $$B[m(j + 1) + i][m(j + 1) + i] -= \\beta;$$ $$\\beta = \\frac{R - R'}{R'}$$\n",
    "\n",
    "Теперь разберемся с векторами $u, v$. Достаточно просто расписать и понять, что на $(mj + i)$-ом месте в векторе $v$ должно стоять $-beta$ и 1 на том же месте в $u$. Напротив, на месте $(m(j + 1) + i)$ в $v$ будет $\\beta$ и также -1 в $u$."
   ]
  },
  {
   "cell_type": "markdown",
   "metadata": {},
   "source": [
    "Проверим наглядно:"
   ]
  },
  {
   "cell_type": "code",
   "execution_count": 8,
   "metadata": {},
   "outputs": [
    {
     "name": "stdout",
     "output_type": "stream",
     "text": [
      "[[ 0  0  0  0  0  0  0]\n",
      " [ 0  0  0  0  0  0  0]\n",
      " [ 0  0 -8  0  8  0  0]\n",
      " [ 0  0  0  0  0  0  0]\n",
      " [ 0  0  8  0 -8  0  0]\n",
      " [ 0  0  0  0  0  0  0]\n",
      " [ 0  0  0  0  0  0  0]]\n"
     ]
    }
   ],
   "source": [
    "m, n = 2, 3\n",
    "u = np.full(m * n + 1, 0)\n",
    "v = np.full(m * n + 1, 0)\n",
    "i, j = 1, 2\n",
    "i -= 1\n",
    "j -= 1\n",
    "u[m * j + i], u[m * (j + 1) + i] = 1, -1\n",
    "v[m * j + i], v[m * (j + 1) + i] = -8, 8\n",
    "u.resize((m * n + 1, 1))\n",
    "v.resize((m * n + 1, 1))\n",
    "print(u @ v.T)"
   ]
  },
  {
   "cell_type": "markdown",
   "metadata": {},
   "source": [
    "Далее воспользуемся формулой Шермана-Моррисона для обращения матрицы $B + uv^\\top$:\n",
    "$$\n",
    "(B + uv^\\top)^{-1} = B^{-1} - \\frac{B^{-1}uv^\\top B^{-1}}{1 + v^\\top B^{-1}u}.\n",
    "$$\n",
    "\n",
    "b. (**12 баллов**) Напишите класс `UpdatableSolver`, использующий `Solver`, но вдобавок умеющий умножать сопротивление в заданном горизонтальном резисторе на заданное число."
   ]
  },
  {
   "cell_type": "markdown",
   "metadata": {},
   "source": [
    "Пусть $B_k = B_{k-1} + u_k v_k^T$, где $B_k$ - $B$ после $k$-го изменения. Тогда для $B_k$\n",
    "$$\n",
    "x = (B_{k-1} + u_k v_k^T)b = B_{k-1}^{-1}b - \\frac{B^{-1}_{k-1} u_k v_k^\\top B^{-1}_{k-1}b}{1 + v_k^\\top B^{-1}_{k-1}u_k}\n",
    "$$\n",
    "Таким образом, для $k$-го изменения нужно решить $B_{k-1}^{-1}b$ и $B^{-1}_{k-1} u_k$.\\\n",
    "Возьмем, например, $k = 3$:\n",
    "$$\n",
    "x = B^{-1}_{3}b = (B_{2} + u_3 v_3^T)^{-1} b = B_{2}^{-1}b - \\frac{B^{-1}_{2} u_3 v_3^\\top B^{-1}_{2}b}{1 + v_3^\\top B^{-1}_{2}u_3}\n",
    "$$\n",
    "На уровне $k = 2$ нужно решить:\n",
    "$$\n",
    "B_{2}^{-1}b = (B_{1} + u_2 v_2^T)^{-1}b,\\  B^{-1}_{2} u_3 = (B_{1} + u_2 v_2^T)^{-1} u_3\n",
    "$$\n",
    "\n",
    "$$\n",
    "B_{2}^{-1}b = B_{1}^{-1}b - \\frac{B^{-1}_{1} u_2 v_2^\\top B^{-1}_{1}b}{1 + v_2^\\top B^{-1}_{1}u_2}\n",
    "$$\n",
    "$$\n",
    "B_{2}^{-1}u_3 = B_{1}^{-1}u_3 - \\frac{B^{-1}_{1} u_2 v_2^\\top B^{-1}_{1}u_3}{1 + v_2^\\top B^{-1}_{1}u_2}\n",
    "$$\n",
    "Далее - на уровень $k = 1$, решаем следующее:\n",
    "$$От\\ B_{2}^{-1}b - B_{1}^{-1}b\\ и\\ B^{-1}_{1} u_2,$$ $$От\\ B_{2}^{-1}u_3 - B_{1}^{-1}u_3\\ и\\ B^{-1}_{1} u_2$$\n",
    "Расписав все это по той же формуле, на уровне $k = 0$ получим:\n",
    "$$От\\ B_{1}^{-1}b - B^{-1}b\\ и\\ B^{-1}u_1,$$ $$От\\ B^{-1}_{1}u_2 - B^{-1}u_2\\ и\\ B^{-1}u_1,$$ \n",
    "$$От\\ B_{1}^{-1}u_3 - B^{-1}u_3\\ и\\ B^{-1}u_1,$$ $$От\\ B^{-1}_{1}u_2 - B^{-1}u_2\\ и\\ B^{-1}u_1$$\n",
    "\n",
    "Видно, что в конце мы получим $B^{-1}b,\\ B^{-1}u_k,\\ B^{-1}u_{k - 1}, \\ldots,\\  B^{-1}u_1$. Тогда имеет смысл хранить вычисленные такого рода значения, а затем уже из них собирать необходимые для решения. Сделаем просто циклом. Картинка (схема) прилагается:\n",
    "![Заметка](photo_2021-05-16_21-24-57.jpg)"
   ]
  },
  {
   "cell_type": "markdown",
   "metadata": {},
   "source": [
    "В нашем теоретическом решении $\\beta = \\frac{R - R'}{R'}$. Пусть $\\alpha R = R' \\Longrightarrow \\beta = \\frac{(1 - \\alpha) R}{\\alpha R} = \\frac{(1 - \\alpha)}{\\alpha}$"
   ]
  },
  {
   "cell_type": "code",
   "execution_count": 17,
   "metadata": {},
   "outputs": [],
   "source": [
    "from  scipy.sparse import csr_matrix\n",
    "\n",
    "def Sh_Morr_sol(Bb, Bu, v):\n",
    "    x = Bb - (csr_matrix(Bu) @ v.T @ Bb) / (1 + v.T @ Bu) \n",
    "    return x\n",
    "\n",
    "class UpdatableSolver:\n",
    "    def __init__(self, m, n, R):\n",
    "        self.LU = scipy.sparse.linalg.splu(make_mat(m, n, R))\n",
    "        self.shape = m * n + 1\n",
    "        self.m = m\n",
    "        self.n = n\n",
    "        self.count = 0\n",
    "        self.v = []\n",
    "        self.Bu = []\n",
    "        self.answer = []\n",
    "        \n",
    "    def build_Bk(self):       \n",
    "        arr = self.Bu\n",
    "        Bkb = self.answer\n",
    "        for i in range(0, self.count):\n",
    "            Bkb = Sh_Morr_sol(Bkb, arr[0], self.v[i])\n",
    "            new_arr = []\n",
    "            for j in range(1, self.count - i):\n",
    "                new_arr.append( Sh_Morr_sol(arr[j], arr[0], self.v[i]) )\n",
    "            arr = new_arr\n",
    "\n",
    "        return Bkb \n",
    "                     \n",
    "\n",
    "    def solve(self, b):\n",
    "        \"Solves the system for given right part\"\n",
    "        self.answer = self.LU.solve(b).reshape((self.shape, 1))\n",
    "        if (self.count == 0):\n",
    "            return self.answer       \n",
    "        \n",
    "        return self.build_Bk()\n",
    "    \n",
    "    def update(self, i, j, coeff):\n",
    "        \"\"\"\n",
    "            Updates the system so that the resistance between (i,j) and (i,j+1)\n",
    "            is mutiplied by coeff.\n",
    "        \"\"\"\n",
    "        self.count += 1\n",
    "        beta = (1 - coeff) / coeff\n",
    "        m = self.m\n",
    "        n = self.n\n",
    "        \n",
    "        u = np.zeros(self.shape)\n",
    "        v = scipy.sparse.dok_matrix( (self.shape, 1) )\n",
    "        u[m * j + i], u[m * (j + 1) + i] = 1, -1\n",
    "        v[m * j + i], v[m * (j + 1) + i] = -beta, beta\n",
    "        self.Bu.append( self.LU.solve(u.reshape((self.shape, 1))) )\n",
    "        self.v.append(v.tocsc())\n",
    "    \n",
    "    def solve_voltage(self, U):\n",
    "        \"Solves the updated system for given voltage\"\n",
    "        b = np.zeros(self.shape)\n",
    "        b[-1] = U\n",
    "        return self.solve(b).reshape((self.shape, 1)) "
   ]
  },
  {
   "cell_type": "markdown",
   "metadata": {},
   "source": [
    "Поэкспериментируем с изменением проводимости отдельных участков. Попробуем сильно увеличить сопротивление сначала одного, затем другого резистора в одном вертикальном ряду. "
   ]
  },
  {
   "cell_type": "code",
   "execution_count": 18,
   "metadata": {},
   "outputs": [
    {
     "data": {
      "image/png": "[encoded data removed]",
      "text/plain": [
       "<Figure size 432x288 with 1 Axes>"
      ]
     },
     "metadata": {
      "needs_background": "light"
     },
     "output_type": "display_data"
    },
    {
     "data": {
      "image/png": "[encoded data removed]",
      "text/plain": [
       "<Figure size 432x288 with 1 Axes>"
      ]
     },
     "metadata": {
      "needs_background": "light"
     },
     "output_type": "display_data"
    },
    {
     "data": {
      "image/png": "[encoded data removed]",
      "text/plain": [
       "<Figure size 432x288 with 1 Axes>"
      ]
     },
     "metadata": {
      "needs_background": "light"
     },
     "output_type": "display_data"
    }
   ],
   "source": [
    "m, n, R = 3, 8, 1.\n",
    "solver = UpdatableSolver(m, n, R)\n",
    "visualize(m, n, R, solver.solve_voltage(220.))\n",
    "plt.figure()\n",
    "coeff = 1000\n",
    "resistance_coeffs = {(1,3): coeff}\n",
    "solver.update(1, 3, coeff)\n",
    "visualize(m, n, R, solver.solve_voltage(220.), resistance_coeffs=resistance_coeffs)\n",
    "plt.figure()\n",
    "resistance_coeffs[(2,3)] = coeff\n",
    "solver.update(2, 3, coeff)\n",
    "visualize(m, n, R, solver.solve_voltage(220.), resistance_coeffs=resistance_coeffs)"
   ]
  },
  {
   "cell_type": "markdown",
   "metadata": {},
   "source": [
    "Также проверим, что новый солвер работает для больших систем."
   ]
  },
  {
   "cell_type": "code",
   "execution_count": 19,
   "metadata": {},
   "outputs": [],
   "source": [
    "m, n, R = 300, 300, 1.\n",
    "solver = UpdatableSolver(m, n, R)\n",
    "solver.solve_voltage(220.)\n",
    "solver.update(10, 20, 100.)\n",
    "solver.update(20, 30, 100.)\n",
    "solver.update(30, 40, 100.)\n",
    "_ = solver.solve_voltage(220.)"
   ]
  }
 ],
 "metadata": {
  "kernelspec": {
   "display_name": "Python 3",
   "language": "python",
   "name": "python3"
  },
  "language_info": {
   "codemirror_mode": {
    "name": "ipython",
    "version": 3
   },
   "file_extension": ".py",
   "mimetype": "text/x-python",
   "name": "python",
   "nbconvert_exporter": "python",
   "pygments_lexer": "ipython3",
   "version": "3.7.4"
  }
 },
 "nbformat": 4,
 "nbformat_minor": 2
}
