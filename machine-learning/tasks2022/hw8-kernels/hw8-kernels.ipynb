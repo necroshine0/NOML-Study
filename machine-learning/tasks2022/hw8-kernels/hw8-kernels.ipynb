{
 "cells": [
  {
   "cell_type": "markdown",
   "metadata": {
    "id": "RYp0bXOFK-hP"
   },
   "source": [
    "# Машинное обучение, ФКН ВШЭ\n",
    "\n",
    "## Практическое задание 8. Метод опорных векторов и аппроксимация ядер\n",
    "\n",
    "Дата выдачи: 28.01.2022"
   ]
  },
  {
   "cell_type": "markdown",
   "metadata": {
    "id": "vY8vT0W_K-hR"
   },
   "source": [
    "### О задании\n",
    "\n",
    "На занятиях мы подробно обсуждали метод опорных векторов (SVM). В базовой версии в нём нет чего-то особенного — мы всего лишь используем специальную функцию потерь, которая не требует устремлять отступы к бесконечности; ей достаточно, чтобы отступы были не меньше +1. Затем мы узнали, что SVM можно переписать в двойственном виде, который, позволяет заменить скалярные произведения объектов на ядра. Это будет соответствовать построению модели в новом пространстве более высокой размерности, координаты которого представляют собой нелинейные модификации исходных признаков.\n",
    "\n",
    "Ядровой SVM, к сожалению, довольно затратен по памяти (нужно хранить матрицу Грама размера $d \\times d$) и по времени (нужно решать задачу условной оптимизации с квадратичной функцией, а это не очень быстро). Мы обсуждали, что есть способы посчитать новые признаки $\\tilde \\varphi(x)$ на основе исходных так, что скалярные произведения этих новых $\\langle \\tilde \\varphi(x), \\tilde \\varphi(z) \\rangle$ приближают ядро $K(x, z)$.\n",
    "\n",
    "Мы будем исследовать аппроксимации методом Random Fourier Features (RFF, также в литературе встречается название Random Kitchen Sinks) для гауссовых ядер. Будем использовать формулы, которые немного отличаются от того, что было на лекциях (мы добавим сдвиги внутрь тригонометрических функций и будем использовать только косинусы, потому что с нужным сдвигом косинус превратится в синус):\n",
    "$$\\tilde \\varphi(x) = (\n",
    "\\cos (w_1^T x + b_1),\n",
    "\\dots,\n",
    "\\cos (w_n^T x + b_n)\n",
    "),$$\n",
    "где $w_j \\sim \\mathcal{N}(0, 1/\\sigma^2)$, $b_j \\sim U[-\\pi, \\pi]$.\n",
    "\n",
    "На новых признаках $\\tilde \\varphi(x)$ мы будем строить любую линейную модель.\n",
    "\n",
    "Можно считать, что это некоторая новая парадигма построения сложных моделей. Можно направленно искать сложные нелинейные закономерности в данных с помощью градиентного бустинга или нейронных сетей, а можно просто нагенерировать большое количество случайных нелинейных признаков и надеяться, что быстрая и простая модель (то есть линейная) сможет показать на них хорошее качество. В этом задании мы изучим, насколько работоспособна такая идея.\n",
    "\n",
    "### Алгоритм\n",
    "\n",
    "Вам потребуется реализовать следующий алгоритм:\n",
    "1. Понизить размерность выборки до new_dim с помощью метода главных компонент.\n",
    "2. Для полученной выборки оценить гиперпараметр $\\sigma^2$ с помощью эвристики (рекомендуем считать медиану не по всем парам объектов, а по случайному подмножеству из где-то миллиона пар объектов): $$\\sigma^2 = \\text{median}_{i, j = 1, \\dots, \\ell, i \\neq j} \\left\\{\\sum_{k = 1}^{d} (x_{ik} - x_{jk})^2 \\right\\}$$\n",
    "3. Сгенерировать n_features наборов весов $w_j$ и сдвигов $b_j$.\n",
    "4. Сформировать n_features новых признаков по формулам, приведённым выше.\n",
    "5. Обучить линейную модель (логистическую регрессию или SVM) на новых признаках.\n",
    "6. Повторить преобразования (PCA, формирование новых признаков) к тестовой выборке и применить модель."
   ]
  },
  {
   "cell_type": "markdown",
   "metadata": {
    "id": "N_sGunb7K-hS"
   },
   "source": [
    "Тестировать алгоритм мы будем на данных Fashion MNIST. Ниже код для их загрузки и подготовки."
   ]
  },
  {
   "cell_type": "code",
   "execution_count": 1,
   "metadata": {
    "id": "YyG6dBfjK-hS"
   },
   "outputs": [],
   "source": [
    "import keras\n",
    "from keras.datasets import fashion_mnist\n",
    "from sklearn.preprocessing import StandardScaler\n",
    "(x_train_pics, y_train), (x_test_pics, y_test) = fashion_mnist.load_data()\n",
    "x_train = x_train_pics.reshape(x_train_pics.shape[0], -1).astype(float)\n",
    "x_test = x_test_pics.reshape(x_test_pics.shape[0], -1).astype(float)\n",
    "\n",
    "scaler = StandardScaler().fit(x_train)\n",
    "x_train_scaled = scaler.transform(x_train)\n",
    "x_test_scaled = scaler.transform(x_test)"
   ]
  },
  {
   "cell_type": "markdown",
   "metadata": {
    "id": "rJNN55F7K-hT"
   },
   "source": [
    "__Задание 1. (5 баллов)__\n",
    "\n",
    "Реализуйте алгоритм, описанный выше. Можете воспользоваться шаблоном класса ниже или написать свой интерфейс.\n",
    "\n",
    "Ваша реализация должна поддерживать следующие опции:\n",
    "1. Возможность задавать значения гиперпараметров new_dim (по умолчанию 50) и n_features (по умолчанию 1000).\n",
    "2. Возможность включать или выключать предварительное понижение размерности с помощью метода главных компонент.\n",
    "3. Возможность выбирать тип линейной модели (логистическая регрессия или SVM с линейным ядром).\n",
    "\n",
    "Протестируйте на данных Fashion MNIST, сформированных кодом выше. Если на тесте у вас получилась доля верных ответов не ниже 0.84 с гиперпараметрами по умолчанию, то вы всё сделали правильно."
   ]
  },
  {
   "cell_type": "code",
   "execution_count": 3,
   "metadata": {
    "id": "jP8yepx8K-hT"
   },
   "outputs": [],
   "source": [
    "from sklearn.base import BaseEstimator, TransformerMixin\n",
    "from sklearn.decomposition import PCA\n",
    "from sklearn.linear_model import LogisticRegression as LogReg\n",
    "from sklearn.svm import LinearSVC\n",
    "import numpy as np\n",
    "\n",
    "from warnings import filterwarnings\n",
    "filterwarnings('ignore')\n",
    "\n",
    "def transform(self, X, y=None):\n",
    "    if self.use_PCA:\n",
    "        if self.PCA is None:\n",
    "            assert y is not None\n",
    "            self.PCA = PCA(n_components=self.new_dim).fit(X, y)\n",
    "        principal_X = self.PCA.transform(X)  # (l, self.new_dim)\n",
    "    else:\n",
    "        principal_X = X\n",
    "    \n",
    "    l = principal_X.shape[0]\n",
    "    d = principal_X.shape[1]\n",
    "    if self.sigma is None:\n",
    "        inds = np.random.randint(low=0, high=l, size=(1001000, 2))\n",
    "        v = []\n",
    "        if self.use_PCA == False:\n",
    "            # Векторизация у меня улетала по ОЗУ в Казахстан, поэтому тут цикл\n",
    "            for ij in inds:\n",
    "                i = ij[0]\n",
    "                j = ij[1]\n",
    "                s = 0.0\n",
    "                for k in range(d):\n",
    "                    s += np.power(principal_X[i, k] - principal_X[j, k], 2)\n",
    "                v.append(s)\n",
    "        else:\n",
    "            v = np.sum(np.square(principal_X[inds[:, 0]] - principal_X[inds[:, 1]]), axis=1)\n",
    "        self.sigma = np.sqrt(np.quantile(v, 0.5))\n",
    "        del v\n",
    "        \n",
    "    if self.W is None and self.b is None:\n",
    "        self.W = np.random.normal(loc=0.0, scale=1/self.sigma, size=(d, self.n_features))\n",
    "        self.b = np.random.uniform(low=-np.pi, high=np.pi, size=self.n_features)    \n",
    "    F = np.cos(principal_X @ self.W + np.ones((l, self.n_features)) @ np.diag(self.b))\n",
    "    return F\n",
    "\n",
    "\n",
    "class RFFPipeline(BaseEstimator, TransformerMixin):\n",
    "    def __init__(self, n_features=1000, new_dim=50, use_PCA=True, classifier='logreg'):\n",
    "        \"\"\"        \n",
    "        Implements pipeline, which consists of PCA decomposition,\n",
    "        Random Fourier Features approximation and linear classification model.\n",
    "        \n",
    "        n_features, int: amount of synthetic random features generated with RFF approximation.\n",
    "\n",
    "        new_dim, int: PCA output size.\n",
    "        \n",
    "        use_PCA, bool: whether to include PCA preprocessing.\n",
    "        \n",
    "        classifier, string: either 'svm' or 'logreg', a linear classification model to use on top of pipeline.\n",
    "        \n",
    "        Feel free to edit this template for your preferences.    \n",
    "        \"\"\"\n",
    "        self.n_features = n_features\n",
    "        self.use_PCA = use_PCA\n",
    "        self.new_dim = new_dim\n",
    "        self.classifier = classifier\n",
    "        self.sigma = None\n",
    "        self.PCA = None\n",
    "        self.W = None\n",
    "        self.b = None\n",
    "        \n",
    "    def fit(self, X, y):\n",
    "        \"\"\"\n",
    "        Fit all parts of algorithm (PCA, RFF, Classification) to training set.\n",
    "        \"\"\"\n",
    "        X_transformed = transform(self, X, y)\n",
    "        if self.classifier == 'svm':\n",
    "            self.model = LinearSVC().fit(X_transformed, y)\n",
    "        elif self.classifier == 'logreg':\n",
    "            self.model = LogReg().fit(X_transformed, y)\n",
    "        return self\n",
    "\n",
    "    def predict_proba(self, X):\n",
    "        \"\"\"\n",
    "        Apply pipeline to obtain scores for input data.\n",
    "        \"\"\"\n",
    "        X_transformed = transform(self, X)\n",
    "        return self.model.predict_proba(X_transformed)\n",
    "        \n",
    "    def predict(self, X):\n",
    "        \"\"\"\n",
    "        Apply pipeline to obtain discrete predictions for input data.\n",
    "        \"\"\"\n",
    "        X_transformed = transform(self, X)\n",
    "        return self.model.predict(X_transformed)"
   ]
  },
  {
   "cell_type": "code",
   "execution_count": 5,
   "metadata": {
    "colab": {
     "base_uri": "https://localhost:8080/"
    },
    "id": "anJXc7kSulFt",
    "outputId": "4c934ca7-65f0-45c5-99a1-9abe9e89e60e"
   },
   "outputs": [
    {
     "data": {
      "text/plain": [
       "0.8572"
      ]
     },
     "execution_count": 5,
     "metadata": {},
     "output_type": "execute_result"
    }
   ],
   "source": [
    "from datetime import datetime\n",
    "from sklearn.metrics import accuracy_score\n",
    "\n",
    "times = {}\n",
    "scores = {}\n",
    "\n",
    "start_time = datetime.now()\n",
    "RFF = RFFPipeline(classifier='logreg').fit(x_train_scaled, y_train)\n",
    "times['lr pca'] = (datetime.now() - start_time).seconds\n",
    "scores['lr pca'] = accuracy_score(y_test, RFF.predict(x_test_scaled))\n",
    "scores['lr pca']"
   ]
  },
  {
   "cell_type": "markdown",
   "metadata": {
    "id": "HYqQUEi-K-hU"
   },
   "source": [
    "__Задание 2. (3 балла)__\n",
    "\n",
    "Сравните подход со случайными признаками с обучением SVM на исходных признаках. Попробуйте вариант с обычным (линейным) SVM и с ядровым SVM. Ядровой SVM может очень долго обучаться, поэтому можно делать любые разумные вещи для ускорения: брать подмножество объектов из обучающей выборки, например.\n",
    "\n",
    "Сравните подход со случайными признаками с вариантом, в котором вы понижаете размерность с помощью PCA и обучаете градиентный бустинг. Используйте одну из реализаций CatBoost/LightGBM/XGBoost, не забудьте подобрать число деревьев и длину шага.\n",
    "\n",
    "Сделайте выводы — насколько идея со случайными признаками работает? Сравните как с точки зрения качества, так и с точки зрения скорости обучения и применения."
   ]
  },
  {
   "cell_type": "code",
   "execution_count": 6,
   "metadata": {
    "colab": {
     "base_uri": "https://localhost:8080/"
    },
    "id": "qN8LUlJgK-hV",
    "outputId": "4c4efe49-e0d9-40e7-902f-effe325ec4b8"
   },
   "outputs": [
    {
     "data": {
      "text/plain": [
       "0.8269"
      ]
     },
     "execution_count": 6,
     "metadata": {},
     "output_type": "execute_result"
    }
   ],
   "source": [
    "start_time = datetime.now()\n",
    "model = LinearSVC().fit(x_train_scaled, y_train)\n",
    "times['line svm'] = (datetime.now() - start_time).seconds\n",
    "scores['line svm'] = accuracy_score(y_test, model.predict(x_test_scaled))\n",
    "scores['line svm']"
   ]
  },
  {
   "cell_type": "code",
   "execution_count": 7,
   "metadata": {
    "colab": {
     "base_uri": "https://localhost:8080/"
    },
    "id": "keAjWuoedXKM",
    "outputId": "c6e30da2-603b-4f05-f724-e9b06e49ffe5"
   },
   "outputs": [
    {
     "data": {
      "text/plain": [
       "0.8669"
      ]
     },
     "execution_count": 7,
     "metadata": {},
     "output_type": "execute_result"
    }
   ],
   "source": [
    "from sklearn.svm import SVC\n",
    "\n",
    "start_time = datetime.now()\n",
    "inds = np.random.choice(np.arange(0, x_train.shape[0]), size=int(0.7 * x_train.shape[0]), replace=False)\n",
    "model = SVC(kernel='poly').fit(x_train_scaled[inds], y_train[inds])\n",
    "times['ker svm'] = (datetime.now() - start_time).seconds\n",
    "scores['ker svm'] = accuracy_score(y_test, model.predict(x_test_scaled))\n",
    "scores['ker svm']"
   ]
  },
  {
   "cell_type": "code",
   "execution_count": 8,
   "metadata": {
    "colab": {
     "base_uri": "https://localhost:8080/",
     "height": 81,
     "referenced_widgets": [
      "3505185286b94801816948c636d73654",
      "d6b8264b611d4959a14be6b6463ddfc8",
      "a07d4b7ca0d8495ebfb28007200f87fc",
      "ac8cc51035b0489cb1a892706eb3b459",
      "89e1a7dbd70648eda65e6b1ed09897f7",
      "f496f2647a7a46619241cb728a33a87a",
      "fe66a555c17e41a09952b43543d7c4fc",
      "a70ba41913c843f8b2baaaec99601497",
      "ab1dbaeb7e6d4d48bc78b308dc3b041a",
      "0859f4b0563d48f091f4dada9f034f42",
      "f0fc397d44464c6baa06278a30ec825b",
      "19b6288f7b8c48c9830c02393436ab0a",
      "e1c0966abba44cfd908284e7bd1d8c60",
      "fb8fbe9202cd4625ab9e7bc85db67354",
      "d8f7d2ebdbe74ae6aa7f761953fddb05",
      "fe7e1c8c7b8848a6a684906a66054673",
      "9988e5f109734989a82c16452952f839",
      "55f6a825b3c741f5a2b25179b008a48b",
      "1ec1a2d6410840bab43f074bf063c191",
      "05b5b4ba7f774fa8b4f7d0bef44d2809",
      "20cdf1e1a13a483f97b4fa0e7a72b13e",
      "7e77171a9496447fa8620c1dea8b2a7a"
     ]
    },
    "id": "h7rcT6L1qlM8",
    "outputId": "b0efae71-0af4-4cec-fc04-21b636625886"
   },
   "outputs": [
    {
     "data": {
      "application/vnd.jupyter.widget-view+json": {
       "model_id": "3505185286b94801816948c636d73654",
       "version_major": 2,
       "version_minor": 0
      },
      "text/plain": [
       "n_estimators:   0%|          | 0/5 [00:00<?, ?it/s]"
      ]
     },
     "metadata": {},
     "output_type": "display_data"
    },
    {
     "data": {
      "application/vnd.jupyter.widget-view+json": {
       "model_id": "19b6288f7b8c48c9830c02393436ab0a",
       "version_major": 2,
       "version_minor": 0
      },
      "text/plain": [
       "learning_rate:   0%|          | 0/5 [00:00<?, ?it/s]"
      ]
     },
     "metadata": {},
     "output_type": "display_data"
    }
   ],
   "source": [
    "from xgboost import XGBClassifier\n",
    "from tqdm.notebook import tqdm\n",
    "\n",
    "pca = PCA(n_components=50).fit(x_train_scaled, y_train)\n",
    "principal_x_train = pca.transform(x_train_scaled)\n",
    "principal_x_test = pca.transform(x_test_scaled)\n",
    "\n",
    "XG_grid = {\n",
    "        'learning_rate': np.arange(0.1, 0.2, 0.02),\n",
    "        'n_estimators': np.arange(100, 201, 25)\n",
    "        }\n",
    "\n",
    "def foo_xgb(boost_params, param_name):\n",
    "    last = -1\n",
    "    best_pr = None\n",
    "    for pr in tqdm(XG_grid[param_name], param_name):\n",
    "        boost_params[param_name] = pr\n",
    "        b = XGBClassifier(**boost_params)\n",
    "        b.fit(principal_x_train, y_train)\n",
    "        y_pred = b.predict(principal_x_test)\n",
    "        new = accuracy_score(y_test, y_pred)\n",
    "        if new > last:\n",
    "            best_pr, last = pr, new\n",
    "    return best_pr\n",
    "\n",
    "XG_params = {}\n",
    "XG_params['n_estimators'] = foo_xgb(XG_params, 'n_estimators')\n",
    "XG_params['learning_rate'] = foo_xgb(XG_params, 'learning_rate')"
   ]
  },
  {
   "cell_type": "code",
   "execution_count": 9,
   "metadata": {
    "colab": {
     "base_uri": "https://localhost:8080/"
    },
    "id": "VoledvotyUig",
    "outputId": "824f949f-5f19-4644-d054-0b69f0e6cf40"
   },
   "outputs": [
    {
     "data": {
      "text/plain": [
       "{'learning_rate': 0.18000000000000002, 'n_estimators': 200}"
      ]
     },
     "execution_count": 9,
     "metadata": {},
     "output_type": "execute_result"
    }
   ],
   "source": [
    "# XG_params = {'learning_rate': 0.18000000000000002, 'n_estimators': 200}\n",
    "XG_params"
   ]
  },
  {
   "cell_type": "code",
   "execution_count": 10,
   "metadata": {
    "colab": {
     "base_uri": "https://localhost:8080/"
    },
    "id": "TonMjEa-v6_J",
    "outputId": "c426dfc3-2602-4b87-ea5d-f6eb4394db84"
   },
   "outputs": [
    {
     "data": {
      "text/plain": [
       "0.8509"
      ]
     },
     "execution_count": 10,
     "metadata": {},
     "output_type": "execute_result"
    }
   ],
   "source": [
    "start_time = datetime.now()\n",
    "b = XGBClassifier(**XG_params)\n",
    "b.fit(principal_x_train, y_train)\n",
    "y_pred = b.predict(principal_x_test)\n",
    "times['xgb pca'] = (datetime.now() - start_time).seconds\n",
    "scores['xgb pca'] = accuracy_score(y_test, y_pred)\n",
    "scores['xgb pca']"
   ]
  },
  {
   "cell_type": "code",
   "execution_count": 11,
   "metadata": {
    "colab": {
     "base_uri": "https://localhost:8080/",
     "height": 112
    },
    "id": "QDnV69AKA2mc",
    "outputId": "e792a8e3-b71a-4a47-ed47-f860138f6321"
   },
   "outputs": [
    {
     "data": {
      "text/html": [
       "\n",
       "  <div id=\"df-34e25c49-4671-4e66-a106-b91c21f0df75\">\n",
       "    <div class=\"colab-df-container\">\n",
       "      <div>\n",
       "<style scoped>\n",
       "    .dataframe tbody tr th:only-of-type {\n",
       "        vertical-align: middle;\n",
       "    }\n",
       "\n",
       "    .dataframe tbody tr th {\n",
       "        vertical-align: top;\n",
       "    }\n",
       "\n",
       "    .dataframe thead th {\n",
       "        text-align: right;\n",
       "    }\n",
       "</style>\n",
       "<table border=\"1\" class=\"dataframe\">\n",
       "  <thead>\n",
       "    <tr style=\"text-align: right;\">\n",
       "      <th></th>\n",
       "      <th>lr pca</th>\n",
       "      <th>line svm</th>\n",
       "      <th>ker svm</th>\n",
       "      <th>xgb pca</th>\n",
       "    </tr>\n",
       "  </thead>\n",
       "  <tbody>\n",
       "    <tr>\n",
       "      <th>time</th>\n",
       "      <td>71.0000</td>\n",
       "      <td>685.0000</td>\n",
       "      <td>367.0000</td>\n",
       "      <td>438.0000</td>\n",
       "    </tr>\n",
       "    <tr>\n",
       "      <th>score</th>\n",
       "      <td>0.8572</td>\n",
       "      <td>0.8269</td>\n",
       "      <td>0.8669</td>\n",
       "      <td>0.8509</td>\n",
       "    </tr>\n",
       "  </tbody>\n",
       "</table>\n",
       "</div>\n",
       "      <button class=\"colab-df-convert\" onclick=\"convertToInteractive('df-34e25c49-4671-4e66-a106-b91c21f0df75')\"\n",
       "              title=\"Convert this dataframe to an interactive table.\"\n",
       "              style=\"display:none;\">\n",
       "        \n",
       "  <svg xmlns=\"http://www.w3.org/2000/svg\" height=\"24px\"viewBox=\"0 0 24 24\"\n",
       "       width=\"24px\">\n",
       "    <path d=\"M0 0h24v24H0V0z\" fill=\"none\"/>\n",
       "    <path d=\"M18.56 5.44l.94 2.06.94-2.06 2.06-.94-2.06-.94-.94-2.06-.94 2.06-2.06.94zm-11 1L8.5 8.5l.94-2.06 2.06-.94-2.06-.94L8.5 2.5l-.94 2.06-2.06.94zm10 10l.94 2.06.94-2.06 2.06-.94-2.06-.94-.94-2.06-.94 2.06-2.06.94z\"/><path d=\"M17.41 7.96l-1.37-1.37c-.4-.4-.92-.59-1.43-.59-.52 0-1.04.2-1.43.59L10.3 9.45l-7.72 7.72c-.78.78-.78 2.05 0 2.83L4 21.41c.39.39.9.59 1.41.59.51 0 1.02-.2 1.41-.59l7.78-7.78 2.81-2.81c.8-.78.8-2.07 0-2.86zM5.41 20L4 18.59l7.72-7.72 1.47 1.35L5.41 20z\"/>\n",
       "  </svg>\n",
       "      </button>\n",
       "      \n",
       "  <style>\n",
       "    .colab-df-container {\n",
       "      display:flex;\n",
       "      flex-wrap:wrap;\n",
       "      gap: 12px;\n",
       "    }\n",
       "\n",
       "    .colab-df-convert {\n",
       "      background-color: #E8F0FE;\n",
       "      border: none;\n",
       "      border-radius: 50%;\n",
       "      cursor: pointer;\n",
       "      display: none;\n",
       "      fill: #1967D2;\n",
       "      height: 32px;\n",
       "      padding: 0 0 0 0;\n",
       "      width: 32px;\n",
       "    }\n",
       "\n",
       "    .colab-df-convert:hover {\n",
       "      background-color: #E2EBFA;\n",
       "      box-shadow: 0px 1px 2px rgba(60, 64, 67, 0.3), 0px 1px 3px 1px rgba(60, 64, 67, 0.15);\n",
       "      fill: #174EA6;\n",
       "    }\n",
       "\n",
       "    [theme=dark] .colab-df-convert {\n",
       "      background-color: #3B4455;\n",
       "      fill: #D2E3FC;\n",
       "    }\n",
       "\n",
       "    [theme=dark] .colab-df-convert:hover {\n",
       "      background-color: #434B5C;\n",
       "      box-shadow: 0px 1px 3px 1px rgba(0, 0, 0, 0.15);\n",
       "      filter: drop-shadow(0px 1px 2px rgba(0, 0, 0, 0.3));\n",
       "      fill: #FFFFFF;\n",
       "    }\n",
       "  </style>\n",
       "\n",
       "      <script>\n",
       "        const buttonEl =\n",
       "          document.querySelector('#df-34e25c49-4671-4e66-a106-b91c21f0df75 button.colab-df-convert');\n",
       "        buttonEl.style.display =\n",
       "          google.colab.kernel.accessAllowed ? 'block' : 'none';\n",
       "\n",
       "        async function convertToInteractive(key) {\n",
       "          const element = document.querySelector('#df-34e25c49-4671-4e66-a106-b91c21f0df75');\n",
       "          const dataTable =\n",
       "            await google.colab.kernel.invokeFunction('convertToInteractive',\n",
       "                                                     [key], {});\n",
       "          if (!dataTable) return;\n",
       "\n",
       "          const docLinkHtml = 'Like what you see? Visit the ' +\n",
       "            '<a target=\"_blank\" href=https://colab.research.google.com/notebooks/data_table.ipynb>data table notebook</a>'\n",
       "            + ' to learn more about interactive tables.';\n",
       "          element.innerHTML = '';\n",
       "          dataTable['output_type'] = 'display_data';\n",
       "          await google.colab.output.renderOutput(dataTable, element);\n",
       "          const docLink = document.createElement('div');\n",
       "          docLink.innerHTML = docLinkHtml;\n",
       "          element.appendChild(docLink);\n",
       "        }\n",
       "      </script>\n",
       "    </div>\n",
       "  </div>\n",
       "  "
      ],
      "text/plain": [
       "        lr pca  line svm   ker svm   xgb pca\n",
       "time   71.0000  685.0000  367.0000  438.0000\n",
       "score   0.8572    0.8269    0.8669    0.8509"
      ]
     },
     "execution_count": 11,
     "metadata": {},
     "output_type": "execute_result"
    }
   ],
   "source": [
    "import pandas as pd\n",
    "for key in times:\n",
    "    times[key] = times[key]\n",
    "data = [times, scores]\n",
    "pd.DataFrame(data, index=['time', 'score']).head()"
   ]
  },
  {
   "cell_type": "markdown",
   "metadata": {
    "id": "amq4ZQbiR4Er"
   },
   "source": [
    "У меня быстрее всего сработал RFF с логисчической регрессией, выдав при этом приемлемое качество. Хуже всех отработал линейный SVM - как по времени, так и по `accuracy`. Лучше всех по качеству - ядровый SVM (полиномиальное ядро); он выигрывает подход с бустингом как по метрике, так и по времени. В целом, выбор метода сводится к выбору между RFF с логистической регрессией и ядровым SVM. Если хотим качество получше, но готовы подождать, то лучше использоваться второй вариант. Хотим побыстрее и несильно потерять в качестве - первый вариант.\n",
    "\n",
    "Возможно, что с нескалированными данными значения несколько отличались, но в целом идея с RFF вполне себе состоятельна, как минимум из-за того, что метод работает лучше линейного SVM."
   ]
  },
  {
   "cell_type": "markdown",
   "metadata": {
    "id": "e6umjhWuK-hV"
   },
   "source": [
    "__Задание 3. (2 балла)__\n",
    "\n",
    "Проведите эксперименты:\n",
    "1. Помогает ли предварительное понижение размерности с помощью PCA? \n",
    "2. Как зависит итоговое качество от n_features? Выходит ли оно на плато при росте n_features?\n",
    "3. Важно ли, какую модель обучать — логистическую регрессию или SVM?"
   ]
  },
  {
   "cell_type": "code",
   "execution_count": 4,
   "metadata": {
    "colab": {
     "base_uri": "https://localhost:8080/"
    },
    "id": "c2QIHIMbK-hW",
    "outputId": "8c3ce8a5-56a9-419a-9b8f-67b2a58b7079"
   },
   "outputs": [
    {
     "data": {
      "text/plain": [
       "0.8586"
      ]
     },
     "execution_count": 4,
     "metadata": {},
     "output_type": "execute_result"
    }
   ],
   "source": [
    "RFF = RFFPipeline(classifier='logreg', use_PCA=False).fit(x_train_scaled, y_train)\n",
    "accuracy_score(y_test, RFF.predict(x_test_scaled))"
   ]
  },
  {
   "cell_type": "markdown",
   "metadata": {
    "id": "v8VN1mggt_yD"
   },
   "source": [
    "С PCA было `0.8572` - разница несильная. Однако ячейка с PCA чуть больше минуты, а без него - 43 минуты. Выходит, что помогает, причем помогает значительно без существенной потери качества."
   ]
  },
  {
   "cell_type": "code",
   "execution_count": 7,
   "metadata": {
    "colab": {
     "base_uri": "https://localhost:8080/",
     "height": 49,
     "referenced_widgets": [
      "fe430150843542f9aed9de6a9a3c8dfc",
      "ed3f0ea7987a4ed78a41dbf29da4fd4a",
      "8d3c6e9c451b47499d386d7a82c68408",
      "ab362cdbd6364eb3872515b8a61bab06",
      "c9ddf7a2fb8f46e59e717f86e69bffa5",
      "c1692e50089c487483e443bbdf466447",
      "dffa60f703b54a36845d0793bcafffbd",
      "ebdaacdf757642be90953473bc34f6ed",
      "dd2f66ccc6954629a2feb4bb1e588dd0",
      "826358280d324c00811910b793fc9785",
      "e73048c41bb1459da044983c5ec07d9a"
     ]
    },
    "id": "-R_aMPv99-dF",
    "outputId": "063a66b7-51ae-4379-a329-b8564a00e27f"
   },
   "outputs": [
    {
     "data": {
      "application/vnd.jupyter.widget-view+json": {
       "model_id": "fe430150843542f9aed9de6a9a3c8dfc",
       "version_major": 2,
       "version_minor": 0
      },
      "text/plain": [
       "  0%|          | 0/5 [00:00<?, ?it/s]"
      ]
     },
     "metadata": {},
     "output_type": "display_data"
    }
   ],
   "source": [
    "accs = []\n",
    "for nf in tqdm(range(1000, 3001, 500)):\n",
    "    RFF = RFFPipeline(classifier='logreg', use_PCA=True, n_features=nf).fit(x_train_scaled, y_train)\n",
    "    accs.append(accuracy_score(y_test, RFF.predict(x_test_scaled)))"
   ]
  },
  {
   "cell_type": "code",
   "execution_count": 8,
   "metadata": {
    "colab": {
     "base_uri": "https://localhost:8080/"
    },
    "id": "iBB2BejDSEom",
    "outputId": "3107e3c2-f478-46bd-fee5-80f3cb4ab426"
   },
   "outputs": [
    {
     "data": {
      "text/plain": [
       "[0.8564, 0.857, 0.8571, 0.8567, 0.8582]"
      ]
     },
     "execution_count": 8,
     "metadata": {},
     "output_type": "execute_result"
    }
   ],
   "source": [
    "accs"
   ]
  },
  {
   "cell_type": "code",
   "execution_count": 11,
   "metadata": {
    "colab": {
     "base_uri": "https://localhost:8080/",
     "height": 49,
     "referenced_widgets": [
      "08931ce7d63943a8aced4355c8ab155f",
      "dfcc7a83a3b846bba368f1c4949aa86e",
      "d0d4b81da77340d1add7c1b16dc93041",
      "a998825a43274e93bd0250391dd172c8",
      "f1a30a6811c24eba968cb7ac5012876d",
      "4a808d51ee5a4692b4c45132b4b5c8e9",
      "e90d7d1ff3584f1dafe7f66539716b0c",
      "e1728c19b72244038328cc820e04aecf",
      "3ff1dd44aac14c7ca3a42af5905097b6",
      "2d64aa4e23a54ae7babee299929b328b",
      "e4c25f4291cc432481f6f46f1eb71522"
     ]
    },
    "id": "hXuT4-nmzaKr",
    "outputId": "bb0db567-162a-4eed-8722-0598651f71f3"
   },
   "outputs": [
    {
     "data": {
      "application/vnd.jupyter.widget-view+json": {
       "model_id": "08931ce7d63943a8aced4355c8ab155f",
       "version_major": 2,
       "version_minor": 0
      },
      "text/plain": [
       "  0%|          | 0/4 [00:00<?, ?it/s]"
      ]
     },
     "metadata": {},
     "output_type": "display_data"
    }
   ],
   "source": [
    "for nf in tqdm(range(3500, 5001, 500)):\n",
    "    RFF = RFFPipeline(classifier='logreg', use_PCA=True, n_features=nf).fit(x_train_scaled, y_train)\n",
    "    accs.append(accuracy_score(y_test, RFF.predict(x_test_scaled)))"
   ]
  },
  {
   "cell_type": "code",
   "execution_count": 12,
   "metadata": {
    "colab": {
     "base_uri": "https://localhost:8080/",
     "height": 296
    },
    "id": "f32hikN8-WAv",
    "outputId": "53e2f53b-4e57-4140-a253-5e8c8b590697"
   },
   "outputs": [
    {
     "data": {
      "image/png": "[encoded data removed]",
      "text/plain": [
       "<Figure size 432x288 with 1 Axes>"
      ]
     },
     "metadata": {
      "needs_background": "light"
     },
     "output_type": "display_data"
    }
   ],
   "source": [
    "import matplotlib.pyplot as plt\n",
    "plt.plot(range(1000, 5001, 500), accs)\n",
    "plt.xlabel('n_features')\n",
    "plt.ylabel('accuracy')\n",
    "plt.title('n_features - accuracy')\n",
    "plt.show()"
   ]
  },
  {
   "cell_type": "markdown",
   "metadata": {
    "id": "nIyFISQ386jz"
   },
   "source": [
    "Качество от `0.8565` до `0.8595`. Это выглядит как плато, но отрисовать график начиная с маленькой размерности не успею. В целом, я уверен, что на плато качество выходит."
   ]
  },
  {
   "cell_type": "code",
   "execution_count": 13,
   "metadata": {
    "colab": {
     "base_uri": "https://localhost:8080/"
    },
    "id": "M8BLzxld_BU-",
    "outputId": "d8259866-5d06-48c2-d56d-4e8c076bbc9d"
   },
   "outputs": [
    {
     "data": {
      "text/plain": [
       "0.8696"
      ]
     },
     "execution_count": 13,
     "metadata": {},
     "output_type": "execute_result"
    }
   ],
   "source": [
    "RFF = RFFPipeline(classifier='svm', use_PCA=True).fit(x_train_scaled, y_train)\n",
    "accuracy_score(y_test, RFF.predict(x_test_scaled))"
   ]
  },
  {
   "cell_type": "markdown",
   "metadata": {
    "id": "7_FZwbu48-K_"
   },
   "source": [
    "`0.8572` было с логистической регрессией, при этом, обучалась она чуть больше минуты, SVM - 11 минут (679 секунд). Получается, что важно выбирать модель. Хотим качество побольше и готовы потратить 10 минут жизни - SVM. Иначе логистическая регрессия."
   ]
  },
  {
   "cell_type": "markdown",
   "metadata": {
    "id": "q_GLeYQr4g37"
   },
   "source": [
    "![image.png](data:image/png;base64,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)"
   ]
  }
 ],
 "metadata": {
  "colab": {
   "collapsed_sections": [],
   "name": "hw8-kernels.ipynb",
   "provenance": []
  },
  "kernelspec": {
   "display_name": "Python 3 (ipykernel)",
   "language": "python",
   "name": "python3"
  },
  "language_info": {
   "codemirror_mode": {
    "name": "ipython",
    "version": 3
   },
   "file_extension": ".py",
   "mimetype": "text/x-python",
   "name": "python",
   "nbconvert_exporter": "python",
   "pygments_lexer": "ipython3",
   "version": "3.9.7"
  },
  "widgets": {
   "application/vnd.jupyter.widget-state+json": {
    "05b5b4ba7f774fa8b4f7d0bef44d2809": {
     "model_module": "@jupyter-widgets/base",
     "model_module_version": "1.2.0",
     "model_name": "LayoutModel",
     "state": {
      "_model_module": "@jupyter-widgets/base",
      "_model_module_version": "1.2.0",
      "_model_name": "LayoutModel",
      "_view_count": null,
      "_view_module": "@jupyter-widgets/base",
      "_view_module_version": "1.2.0",
      "_view_name": "LayoutView",
      "align_content": null,
      "align_items": null,
      "align_self": null,
      "border": null,
      "bottom": null,
      "display": null,
      "flex": null,
      "flex_flow": null,
      "grid_area": null,
      "grid_auto_columns": null,
      "grid_auto_flow": null,
      "grid_auto_rows": null,
      "grid_column": null,
      "grid_gap": null,
      "grid_row": null,
      "grid_template_areas": null,
      "grid_template_columns": null,
      "grid_template_rows": null,
      "height": null,
      "justify_content": null,
      "justify_items": null,
      "left": null,
      "margin": null,
      "max_height": null,
      "max_width": null,
      "min_height": null,
      "min_width": null,
      "object_fit": null,
      "object_position": null,
      "order": null,
      "overflow": null,
      "overflow_x": null,
      "overflow_y": null,
      "padding": null,
      "right": null,
      "top": null,
      "visibility": null,
      "width": null
     }
    },
    "0859f4b0563d48f091f4dada9f034f42": {
     "model_module": "@jupyter-widgets/controls",
     "model_module_version": "1.5.0",
     "model_name": "DescriptionStyleModel",
     "state": {
      "_model_module": "@jupyter-widgets/controls",
      "_model_module_version": "1.5.0",
      "_model_name": "DescriptionStyleModel",
      "_view_count": null,
      "_view_module": "@jupyter-widgets/base",
      "_view_module_version": "1.2.0",
      "_view_name": "StyleView",
      "description_width": ""
     }
    },
    "08931ce7d63943a8aced4355c8ab155f": {
     "model_module": "@jupyter-widgets/controls",
     "model_module_version": "1.5.0",
     "model_name": "HBoxModel",
     "state": {
      "_dom_classes": [],
      "_model_module": "@jupyter-widgets/controls",
      "_model_module_version": "1.5.0",
      "_model_name": "HBoxModel",
      "_view_count": null,
      "_view_module": "@jupyter-widgets/controls",
      "_view_module_version": "1.5.0",
      "_view_name": "HBoxView",
      "box_style": "",
      "children": [
       "IPY_MODEL_d0d4b81da77340d1add7c1b16dc93041",
       "IPY_MODEL_a998825a43274e93bd0250391dd172c8",
       "IPY_MODEL_f1a30a6811c24eba968cb7ac5012876d"
      ],
      "layout": "IPY_MODEL_dfcc7a83a3b846bba368f1c4949aa86e"
     }
    },
    "19b6288f7b8c48c9830c02393436ab0a": {
     "model_module": "@jupyter-widgets/controls",
     "model_module_version": "1.5.0",
     "model_name": "HBoxModel",
     "state": {
      "_dom_classes": [],
      "_model_module": "@jupyter-widgets/controls",
      "_model_module_version": "1.5.0",
      "_model_name": "HBoxModel",
      "_view_count": null,
      "_view_module": "@jupyter-widgets/controls",
      "_view_module_version": "1.5.0",
      "_view_name": "HBoxView",
      "box_style": "",
      "children": [
       "IPY_MODEL_fb8fbe9202cd4625ab9e7bc85db67354",
       "IPY_MODEL_d8f7d2ebdbe74ae6aa7f761953fddb05",
       "IPY_MODEL_fe7e1c8c7b8848a6a684906a66054673"
      ],
      "layout": "IPY_MODEL_e1c0966abba44cfd908284e7bd1d8c60"
     }
    },
    "1ec1a2d6410840bab43f074bf063c191": {
     "model_module": "@jupyter-widgets/controls",
     "model_module_version": "1.5.0",
     "model_name": "ProgressStyleModel",
     "state": {
      "_model_module": "@jupyter-widgets/controls",
      "_model_module_version": "1.5.0",
      "_model_name": "ProgressStyleModel",
      "_view_count": null,
      "_view_module": "@jupyter-widgets/base",
      "_view_module_version": "1.2.0",
      "_view_name": "StyleView",
      "bar_color": null,
      "description_width": ""
     }
    },
    "20cdf1e1a13a483f97b4fa0e7a72b13e": {
     "model_module": "@jupyter-widgets/controls",
     "model_module_version": "1.5.0",
     "model_name": "DescriptionStyleModel",
     "state": {
      "_model_module": "@jupyter-widgets/controls",
      "_model_module_version": "1.5.0",
      "_model_name": "DescriptionStyleModel",
      "_view_count": null,
      "_view_module": "@jupyter-widgets/base",
      "_view_module_version": "1.2.0",
      "_view_name": "StyleView",
      "description_width": ""
     }
    },
    "2d64aa4e23a54ae7babee299929b328b": {
     "model_module": "@jupyter-widgets/controls",
     "model_module_version": "1.5.0",
     "model_name": "DescriptionStyleModel",
     "state": {
      "_model_module": "@jupyter-widgets/controls",
      "_model_module_version": "1.5.0",
      "_model_name": "DescriptionStyleModel",
      "_view_count": null,
      "_view_module": "@jupyter-widgets/base",
      "_view_module_version": "1.2.0",
      "_view_name": "StyleView",
      "description_width": ""
     }
    },
    "3505185286b94801816948c636d73654": {
     "model_module": "@jupyter-widgets/controls",
     "model_module_version": "1.5.0",
     "model_name": "HBoxModel",
     "state": {
      "_dom_classes": [],
      "_model_module": "@jupyter-widgets/controls",
      "_model_module_version": "1.5.0",
      "_model_name": "HBoxModel",
      "_view_count": null,
      "_view_module": "@jupyter-widgets/controls",
      "_view_module_version": "1.5.0",
      "_view_name": "HBoxView",
      "box_style": "",
      "children": [
       "IPY_MODEL_a07d4b7ca0d8495ebfb28007200f87fc",
       "IPY_MODEL_ac8cc51035b0489cb1a892706eb3b459",
       "IPY_MODEL_89e1a7dbd70648eda65e6b1ed09897f7"
      ],
      "layout": "IPY_MODEL_d6b8264b611d4959a14be6b6463ddfc8"
     }
    },
    "3ff1dd44aac14c7ca3a42af5905097b6": {
     "model_module": "@jupyter-widgets/base",
     "model_module_version": "1.2.0",
     "model_name": "LayoutModel",
     "state": {
      "_model_module": "@jupyter-widgets/base",
      "_model_module_version": "1.2.0",
      "_model_name": "LayoutModel",
      "_view_count": null,
      "_view_module": "@jupyter-widgets/base",
      "_view_module_version": "1.2.0",
      "_view_name": "LayoutView",
      "align_content": null,
      "align_items": null,
      "align_self": null,
      "border": null,
      "bottom": null,
      "display": null,
      "flex": null,
      "flex_flow": null,
      "grid_area": null,
      "grid_auto_columns": null,
      "grid_auto_flow": null,
      "grid_auto_rows": null,
      "grid_column": null,
      "grid_gap": null,
      "grid_row": null,
      "grid_template_areas": null,
      "grid_template_columns": null,
      "grid_template_rows": null,
      "height": null,
      "justify_content": null,
      "justify_items": null,
      "left": null,
      "margin": null,
      "max_height": null,
      "max_width": null,
      "min_height": null,
      "min_width": null,
      "object_fit": null,
      "object_position": null,
      "order": null,
      "overflow": null,
      "overflow_x": null,
      "overflow_y": null,
      "padding": null,
      "right": null,
      "top": null,
      "visibility": null,
      "width": null
     }
    },
    "4a808d51ee5a4692b4c45132b4b5c8e9": {
     "model_module": "@jupyter-widgets/controls",
     "model_module_version": "1.5.0",
     "model_name": "DescriptionStyleModel",
     "state": {
      "_model_module": "@jupyter-widgets/controls",
      "_model_module_version": "1.5.0",
      "_model_name": "DescriptionStyleModel",
      "_view_count": null,
      "_view_module": "@jupyter-widgets/base",
      "_view_module_version": "1.2.0",
      "_view_name": "StyleView",
      "description_width": ""
     }
    },
    "55f6a825b3c741f5a2b25179b008a48b": {
     "model_module": "@jupyter-widgets/base",
     "model_module_version": "1.2.0",
     "model_name": "LayoutModel",
     "state": {
      "_model_module": "@jupyter-widgets/base",
      "_model_module_version": "1.2.0",
      "_model_name": "LayoutModel",
      "_view_count": null,
      "_view_module": "@jupyter-widgets/base",
      "_view_module_version": "1.2.0",
      "_view_name": "LayoutView",
      "align_content": null,
      "align_items": null,
      "align_self": null,
      "border": null,
      "bottom": null,
      "display": null,
      "flex": null,
      "flex_flow": null,
      "grid_area": null,
      "grid_auto_columns": null,
      "grid_auto_flow": null,
      "grid_auto_rows": null,
      "grid_column": null,
      "grid_gap": null,
      "grid_row": null,
      "grid_template_areas": null,
      "grid_template_columns": null,
      "grid_template_rows": null,
      "height": null,
      "justify_content": null,
      "justify_items": null,
      "left": null,
      "margin": null,
      "max_height": null,
      "max_width": null,
      "min_height": null,
      "min_width": null,
      "object_fit": null,
      "object_position": null,
      "order": null,
      "overflow": null,
      "overflow_x": null,
      "overflow_y": null,
      "padding": null,
      "right": null,
      "top": null,
      "visibility": null,
      "width": null
     }
    },
    "7e77171a9496447fa8620c1dea8b2a7a": {
     "model_module": "@jupyter-widgets/base",
     "model_module_version": "1.2.0",
     "model_name": "LayoutModel",
     "state": {
      "_model_module": "@jupyter-widgets/base",
      "_model_module_version": "1.2.0",
      "_model_name": "LayoutModel",
      "_view_count": null,
      "_view_module": "@jupyter-widgets/base",
      "_view_module_version": "1.2.0",
      "_view_name": "LayoutView",
      "align_content": null,
      "align_items": null,
      "align_self": null,
      "border": null,
      "bottom": null,
      "display": null,
      "flex": null,
      "flex_flow": null,
      "grid_area": null,
      "grid_auto_columns": null,
      "grid_auto_flow": null,
      "grid_auto_rows": null,
      "grid_column": null,
      "grid_gap": null,
      "grid_row": null,
      "grid_template_areas": null,
      "grid_template_columns": null,
      "grid_template_rows": null,
      "height": null,
      "justify_content": null,
      "justify_items": null,
      "left": null,
      "margin": null,
      "max_height": null,
      "max_width": null,
      "min_height": null,
      "min_width": null,
      "object_fit": null,
      "object_position": null,
      "order": null,
      "overflow": null,
      "overflow_x": null,
      "overflow_y": null,
      "padding": null,
      "right": null,
      "top": null,
      "visibility": null,
      "width": null
     }
    },
    "826358280d324c00811910b793fc9785": {
     "model_module": "@jupyter-widgets/controls",
     "model_module_version": "1.5.0",
     "model_name": "DescriptionStyleModel",
     "state": {
      "_model_module": "@jupyter-widgets/controls",
      "_model_module_version": "1.5.0",
      "_model_name": "DescriptionStyleModel",
      "_view_count": null,
      "_view_module": "@jupyter-widgets/base",
      "_view_module_version": "1.2.0",
      "_view_name": "StyleView",
      "description_width": ""
     }
    },
    "89e1a7dbd70648eda65e6b1ed09897f7": {
     "model_module": "@jupyter-widgets/controls",
     "model_module_version": "1.5.0",
     "model_name": "HTMLModel",
     "state": {
      "_dom_classes": [],
      "_model_module": "@jupyter-widgets/controls",
      "_model_module_version": "1.5.0",
      "_model_name": "HTMLModel",
      "_view_count": null,
      "_view_module": "@jupyter-widgets/controls",
      "_view_module_version": "1.5.0",
      "_view_name": "HTMLView",
      "description": "",
      "description_tooltip": null,
      "layout": "IPY_MODEL_f0fc397d44464c6baa06278a30ec825b",
      "placeholder": "​",
      "style": "IPY_MODEL_0859f4b0563d48f091f4dada9f034f42",
      "value": " 5/5 [25:46&lt;00:00, 341.80s/it]"
     }
    },
    "8d3c6e9c451b47499d386d7a82c68408": {
     "model_module": "@jupyter-widgets/controls",
     "model_module_version": "1.5.0",
     "model_name": "HTMLModel",
     "state": {
      "_dom_classes": [],
      "_model_module": "@jupyter-widgets/controls",
      "_model_module_version": "1.5.0",
      "_model_name": "HTMLModel",
      "_view_count": null,
      "_view_module": "@jupyter-widgets/controls",
      "_view_module_version": "1.5.0",
      "_view_name": "HTMLView",
      "description": "",
      "description_tooltip": null,
      "layout": "IPY_MODEL_dffa60f703b54a36845d0793bcafffbd",
      "placeholder": "​",
      "style": "IPY_MODEL_c1692e50089c487483e443bbdf466447",
      "value": "100%"
     }
    },
    "9988e5f109734989a82c16452952f839": {
     "model_module": "@jupyter-widgets/controls",
     "model_module_version": "1.5.0",
     "model_name": "DescriptionStyleModel",
     "state": {
      "_model_module": "@jupyter-widgets/controls",
      "_model_module_version": "1.5.0",
      "_model_name": "DescriptionStyleModel",
      "_view_count": null,
      "_view_module": "@jupyter-widgets/base",
      "_view_module_version": "1.2.0",
      "_view_name": "StyleView",
      "description_width": ""
     }
    },
    "a07d4b7ca0d8495ebfb28007200f87fc": {
     "model_module": "@jupyter-widgets/controls",
     "model_module_version": "1.5.0",
     "model_name": "HTMLModel",
     "state": {
      "_dom_classes": [],
      "_model_module": "@jupyter-widgets/controls",
      "_model_module_version": "1.5.0",
      "_model_name": "HTMLModel",
      "_view_count": null,
      "_view_module": "@jupyter-widgets/controls",
      "_view_module_version": "1.5.0",
      "_view_name": "HTMLView",
      "description": "",
      "description_tooltip": null,
      "layout": "IPY_MODEL_fe66a555c17e41a09952b43543d7c4fc",
      "placeholder": "​",
      "style": "IPY_MODEL_f496f2647a7a46619241cb728a33a87a",
      "value": "n_estimators: 100%"
     }
    },
    "a70ba41913c843f8b2baaaec99601497": {
     "model_module": "@jupyter-widgets/controls",
     "model_module_version": "1.5.0",
     "model_name": "ProgressStyleModel",
     "state": {
      "_model_module": "@jupyter-widgets/controls",
      "_model_module_version": "1.5.0",
      "_model_name": "ProgressStyleModel",
      "_view_count": null,
      "_view_module": "@jupyter-widgets/base",
      "_view_module_version": "1.2.0",
      "_view_name": "StyleView",
      "bar_color": null,
      "description_width": ""
     }
    },
    "a998825a43274e93bd0250391dd172c8": {
     "model_module": "@jupyter-widgets/controls",
     "model_module_version": "1.5.0",
     "model_name": "FloatProgressModel",
     "state": {
      "_dom_classes": [],
      "_model_module": "@jupyter-widgets/controls",
      "_model_module_version": "1.5.0",
      "_model_name": "FloatProgressModel",
      "_view_count": null,
      "_view_module": "@jupyter-widgets/controls",
      "_view_module_version": "1.5.0",
      "_view_name": "ProgressView",
      "bar_style": "success",
      "description": "",
      "description_tooltip": null,
      "layout": "IPY_MODEL_3ff1dd44aac14c7ca3a42af5905097b6",
      "max": 4,
      "min": 0,
      "orientation": "horizontal",
      "style": "IPY_MODEL_e1728c19b72244038328cc820e04aecf",
      "value": 4
     }
    },
    "ab1dbaeb7e6d4d48bc78b308dc3b041a": {
     "model_module": "@jupyter-widgets/base",
     "model_module_version": "1.2.0",
     "model_name": "LayoutModel",
     "state": {
      "_model_module": "@jupyter-widgets/base",
      "_model_module_version": "1.2.0",
      "_model_name": "LayoutModel",
      "_view_count": null,
      "_view_module": "@jupyter-widgets/base",
      "_view_module_version": "1.2.0",
      "_view_name": "LayoutView",
      "align_content": null,
      "align_items": null,
      "align_self": null,
      "border": null,
      "bottom": null,
      "display": null,
      "flex": null,
      "flex_flow": null,
      "grid_area": null,
      "grid_auto_columns": null,
      "grid_auto_flow": null,
      "grid_auto_rows": null,
      "grid_column": null,
      "grid_gap": null,
      "grid_row": null,
      "grid_template_areas": null,
      "grid_template_columns": null,
      "grid_template_rows": null,
      "height": null,
      "justify_content": null,
      "justify_items": null,
      "left": null,
      "margin": null,
      "max_height": null,
      "max_width": null,
      "min_height": null,
      "min_width": null,
      "object_fit": null,
      "object_position": null,
      "order": null,
      "overflow": null,
      "overflow_x": null,
      "overflow_y": null,
      "padding": null,
      "right": null,
      "top": null,
      "visibility": null,
      "width": null
     }
    },
    "ab362cdbd6364eb3872515b8a61bab06": {
     "model_module": "@jupyter-widgets/controls",
     "model_module_version": "1.5.0",
     "model_name": "FloatProgressModel",
     "state": {
      "_dom_classes": [],
      "_model_module": "@jupyter-widgets/controls",
      "_model_module_version": "1.5.0",
      "_model_name": "FloatProgressModel",
      "_view_count": null,
      "_view_module": "@jupyter-widgets/controls",
      "_view_module_version": "1.5.0",
      "_view_name": "ProgressView",
      "bar_style": "success",
      "description": "",
      "description_tooltip": null,
      "layout": "IPY_MODEL_dd2f66ccc6954629a2feb4bb1e588dd0",
      "max": 5,
      "min": 0,
      "orientation": "horizontal",
      "style": "IPY_MODEL_ebdaacdf757642be90953473bc34f6ed",
      "value": 5
     }
    },
    "ac8cc51035b0489cb1a892706eb3b459": {
     "model_module": "@jupyter-widgets/controls",
     "model_module_version": "1.5.0",
     "model_name": "FloatProgressModel",
     "state": {
      "_dom_classes": [],
      "_model_module": "@jupyter-widgets/controls",
      "_model_module_version": "1.5.0",
      "_model_name": "FloatProgressModel",
      "_view_count": null,
      "_view_module": "@jupyter-widgets/controls",
      "_view_module_version": "1.5.0",
      "_view_name": "ProgressView",
      "bar_style": "success",
      "description": "",
      "description_tooltip": null,
      "layout": "IPY_MODEL_ab1dbaeb7e6d4d48bc78b308dc3b041a",
      "max": 5,
      "min": 0,
      "orientation": "horizontal",
      "style": "IPY_MODEL_a70ba41913c843f8b2baaaec99601497",
      "value": 5
     }
    },
    "c1692e50089c487483e443bbdf466447": {
     "model_module": "@jupyter-widgets/controls",
     "model_module_version": "1.5.0",
     "model_name": "DescriptionStyleModel",
     "state": {
      "_model_module": "@jupyter-widgets/controls",
      "_model_module_version": "1.5.0",
      "_model_name": "DescriptionStyleModel",
      "_view_count": null,
      "_view_module": "@jupyter-widgets/base",
      "_view_module_version": "1.2.0",
      "_view_name": "StyleView",
      "description_width": ""
     }
    },
    "c9ddf7a2fb8f46e59e717f86e69bffa5": {
     "model_module": "@jupyter-widgets/controls",
     "model_module_version": "1.5.0",
     "model_name": "HTMLModel",
     "state": {
      "_dom_classes": [],
      "_model_module": "@jupyter-widgets/controls",
      "_model_module_version": "1.5.0",
      "_model_name": "HTMLModel",
      "_view_count": null,
      "_view_module": "@jupyter-widgets/controls",
      "_view_module_version": "1.5.0",
      "_view_name": "HTMLView",
      "description": "",
      "description_tooltip": null,
      "layout": "IPY_MODEL_e73048c41bb1459da044983c5ec07d9a",
      "placeholder": "​",
      "style": "IPY_MODEL_826358280d324c00811910b793fc9785",
      "value": " 5/5 [26:18&lt;00:00, 340.38s/it]"
     }
    },
    "d0d4b81da77340d1add7c1b16dc93041": {
     "model_module": "@jupyter-widgets/controls",
     "model_module_version": "1.5.0",
     "model_name": "HTMLModel",
     "state": {
      "_dom_classes": [],
      "_model_module": "@jupyter-widgets/controls",
      "_model_module_version": "1.5.0",
      "_model_name": "HTMLModel",
      "_view_count": null,
      "_view_module": "@jupyter-widgets/controls",
      "_view_module_version": "1.5.0",
      "_view_name": "HTMLView",
      "description": "",
      "description_tooltip": null,
      "layout": "IPY_MODEL_e90d7d1ff3584f1dafe7f66539716b0c",
      "placeholder": "​",
      "style": "IPY_MODEL_4a808d51ee5a4692b4c45132b4b5c8e9",
      "value": "100%"
     }
    },
    "d6b8264b611d4959a14be6b6463ddfc8": {
     "model_module": "@jupyter-widgets/base",
     "model_module_version": "1.2.0",
     "model_name": "LayoutModel",
     "state": {
      "_model_module": "@jupyter-widgets/base",
      "_model_module_version": "1.2.0",
      "_model_name": "LayoutModel",
      "_view_count": null,
      "_view_module": "@jupyter-widgets/base",
      "_view_module_version": "1.2.0",
      "_view_name": "LayoutView",
      "align_content": null,
      "align_items": null,
      "align_self": null,
      "border": null,
      "bottom": null,
      "display": null,
      "flex": null,
      "flex_flow": null,
      "grid_area": null,
      "grid_auto_columns": null,
      "grid_auto_flow": null,
      "grid_auto_rows": null,
      "grid_column": null,
      "grid_gap": null,
      "grid_row": null,
      "grid_template_areas": null,
      "grid_template_columns": null,
      "grid_template_rows": null,
      "height": null,
      "justify_content": null,
      "justify_items": null,
      "left": null,
      "margin": null,
      "max_height": null,
      "max_width": null,
      "min_height": null,
      "min_width": null,
      "object_fit": null,
      "object_position": null,
      "order": null,
      "overflow": null,
      "overflow_x": null,
      "overflow_y": null,
      "padding": null,
      "right": null,
      "top": null,
      "visibility": null,
      "width": null
     }
    },
    "d8f7d2ebdbe74ae6aa7f761953fddb05": {
     "model_module": "@jupyter-widgets/controls",
     "model_module_version": "1.5.0",
     "model_name": "FloatProgressModel",
     "state": {
      "_dom_classes": [],
      "_model_module": "@jupyter-widgets/controls",
      "_model_module_version": "1.5.0",
      "_model_name": "FloatProgressModel",
      "_view_count": null,
      "_view_module": "@jupyter-widgets/controls",
      "_view_module_version": "1.5.0",
      "_view_name": "ProgressView",
      "bar_style": "success",
      "description": "",
      "description_tooltip": null,
      "layout": "IPY_MODEL_05b5b4ba7f774fa8b4f7d0bef44d2809",
      "max": 5,
      "min": 0,
      "orientation": "horizontal",
      "style": "IPY_MODEL_1ec1a2d6410840bab43f074bf063c191",
      "value": 5
     }
    },
    "dd2f66ccc6954629a2feb4bb1e588dd0": {
     "model_module": "@jupyter-widgets/base",
     "model_module_version": "1.2.0",
     "model_name": "LayoutModel",
     "state": {
      "_model_module": "@jupyter-widgets/base",
      "_model_module_version": "1.2.0",
      "_model_name": "LayoutModel",
      "_view_count": null,
      "_view_module": "@jupyter-widgets/base",
      "_view_module_version": "1.2.0",
      "_view_name": "LayoutView",
      "align_content": null,
      "align_items": null,
      "align_self": null,
      "border": null,
      "bottom": null,
      "display": null,
      "flex": null,
      "flex_flow": null,
      "grid_area": null,
      "grid_auto_columns": null,
      "grid_auto_flow": null,
      "grid_auto_rows": null,
      "grid_column": null,
      "grid_gap": null,
      "grid_row": null,
      "grid_template_areas": null,
      "grid_template_columns": null,
      "grid_template_rows": null,
      "height": null,
      "justify_content": null,
      "justify_items": null,
      "left": null,
      "margin": null,
      "max_height": null,
      "max_width": null,
      "min_height": null,
      "min_width": null,
      "object_fit": null,
      "object_position": null,
      "order": null,
      "overflow": null,
      "overflow_x": null,
      "overflow_y": null,
      "padding": null,
      "right": null,
      "top": null,
      "visibility": null,
      "width": null
     }
    },
    "dfcc7a83a3b846bba368f1c4949aa86e": {
     "model_module": "@jupyter-widgets/base",
     "model_module_version": "1.2.0",
     "model_name": "LayoutModel",
     "state": {
      "_model_module": "@jupyter-widgets/base",
      "_model_module_version": "1.2.0",
      "_model_name": "LayoutModel",
      "_view_count": null,
      "_view_module": "@jupyter-widgets/base",
      "_view_module_version": "1.2.0",
      "_view_name": "LayoutView",
      "align_content": null,
      "align_items": null,
      "align_self": null,
      "border": null,
      "bottom": null,
      "display": null,
      "flex": null,
      "flex_flow": null,
      "grid_area": null,
      "grid_auto_columns": null,
      "grid_auto_flow": null,
      "grid_auto_rows": null,
      "grid_column": null,
      "grid_gap": null,
      "grid_row": null,
      "grid_template_areas": null,
      "grid_template_columns": null,
      "grid_template_rows": null,
      "height": null,
      "justify_content": null,
      "justify_items": null,
      "left": null,
      "margin": null,
      "max_height": null,
      "max_width": null,
      "min_height": null,
      "min_width": null,
      "object_fit": null,
      "object_position": null,
      "order": null,
      "overflow": null,
      "overflow_x": null,
      "overflow_y": null,
      "padding": null,
      "right": null,
      "top": null,
      "visibility": null,
      "width": null
     }
    },
    "dffa60f703b54a36845d0793bcafffbd": {
     "model_module": "@jupyter-widgets/base",
     "model_module_version": "1.2.0",
     "model_name": "LayoutModel",
     "state": {
      "_model_module": "@jupyter-widgets/base",
      "_model_module_version": "1.2.0",
      "_model_name": "LayoutModel",
      "_view_count": null,
      "_view_module": "@jupyter-widgets/base",
      "_view_module_version": "1.2.0",
      "_view_name": "LayoutView",
      "align_content": null,
      "align_items": null,
      "align_self": null,
      "border": null,
      "bottom": null,
      "display": null,
      "flex": null,
      "flex_flow": null,
      "grid_area": null,
      "grid_auto_columns": null,
      "grid_auto_flow": null,
      "grid_auto_rows": null,
      "grid_column": null,
      "grid_gap": null,
      "grid_row": null,
      "grid_template_areas": null,
      "grid_template_columns": null,
      "grid_template_rows": null,
      "height": null,
      "justify_content": null,
      "justify_items": null,
      "left": null,
      "margin": null,
      "max_height": null,
      "max_width": null,
      "min_height": null,
      "min_width": null,
      "object_fit": null,
      "object_position": null,
      "order": null,
      "overflow": null,
      "overflow_x": null,
      "overflow_y": null,
      "padding": null,
      "right": null,
      "top": null,
      "visibility": null,
      "width": null
     }
    },
    "e1728c19b72244038328cc820e04aecf": {
     "model_module": "@jupyter-widgets/controls",
     "model_module_version": "1.5.0",
     "model_name": "ProgressStyleModel",
     "state": {
      "_model_module": "@jupyter-widgets/controls",
      "_model_module_version": "1.5.0",
      "_model_name": "ProgressStyleModel",
      "_view_count": null,
      "_view_module": "@jupyter-widgets/base",
      "_view_module_version": "1.2.0",
      "_view_name": "StyleView",
      "bar_color": null,
      "description_width": ""
     }
    },
    "e1c0966abba44cfd908284e7bd1d8c60": {
     "model_module": "@jupyter-widgets/base",
     "model_module_version": "1.2.0",
     "model_name": "LayoutModel",
     "state": {
      "_model_module": "@jupyter-widgets/base",
      "_model_module_version": "1.2.0",
      "_model_name": "LayoutModel",
      "_view_count": null,
      "_view_module": "@jupyter-widgets/base",
      "_view_module_version": "1.2.0",
      "_view_name": "LayoutView",
      "align_content": null,
      "align_items": null,
      "align_self": null,
      "border": null,
      "bottom": null,
      "display": null,
      "flex": null,
      "flex_flow": null,
      "grid_area": null,
      "grid_auto_columns": null,
      "grid_auto_flow": null,
      "grid_auto_rows": null,
      "grid_column": null,
      "grid_gap": null,
      "grid_row": null,
      "grid_template_areas": null,
      "grid_template_columns": null,
      "grid_template_rows": null,
      "height": null,
      "justify_content": null,
      "justify_items": null,
      "left": null,
      "margin": null,
      "max_height": null,
      "max_width": null,
      "min_height": null,
      "min_width": null,
      "object_fit": null,
      "object_position": null,
      "order": null,
      "overflow": null,
      "overflow_x": null,
      "overflow_y": null,
      "padding": null,
      "right": null,
      "top": null,
      "visibility": null,
      "width": null
     }
    },
    "e4c25f4291cc432481f6f46f1eb71522": {
     "model_module": "@jupyter-widgets/base",
     "model_module_version": "1.2.0",
     "model_name": "LayoutModel",
     "state": {
      "_model_module": "@jupyter-widgets/base",
      "_model_module_version": "1.2.0",
      "_model_name": "LayoutModel",
      "_view_count": null,
      "_view_module": "@jupyter-widgets/base",
      "_view_module_version": "1.2.0",
      "_view_name": "LayoutView",
      "align_content": null,
      "align_items": null,
      "align_self": null,
      "border": null,
      "bottom": null,
      "display": null,
      "flex": null,
      "flex_flow": null,
      "grid_area": null,
      "grid_auto_columns": null,
      "grid_auto_flow": null,
      "grid_auto_rows": null,
      "grid_column": null,
      "grid_gap": null,
      "grid_row": null,
      "grid_template_areas": null,
      "grid_template_columns": null,
      "grid_template_rows": null,
      "height": null,
      "justify_content": null,
      "justify_items": null,
      "left": null,
      "margin": null,
      "max_height": null,
      "max_width": null,
      "min_height": null,
      "min_width": null,
      "object_fit": null,
      "object_position": null,
      "order": null,
      "overflow": null,
      "overflow_x": null,
      "overflow_y": null,
      "padding": null,
      "right": null,
      "top": null,
      "visibility": null,
      "width": null
     }
    },
    "e73048c41bb1459da044983c5ec07d9a": {
     "model_module": "@jupyter-widgets/base",
     "model_module_version": "1.2.0",
     "model_name": "LayoutModel",
     "state": {
      "_model_module": "@jupyter-widgets/base",
      "_model_module_version": "1.2.0",
      "_model_name": "LayoutModel",
      "_view_count": null,
      "_view_module": "@jupyter-widgets/base",
      "_view_module_version": "1.2.0",
      "_view_name": "LayoutView",
      "align_content": null,
      "align_items": null,
      "align_self": null,
      "border": null,
      "bottom": null,
      "display": null,
      "flex": null,
      "flex_flow": null,
      "grid_area": null,
      "grid_auto_columns": null,
      "grid_auto_flow": null,
      "grid_auto_rows": null,
      "grid_column": null,
      "grid_gap": null,
      "grid_row": null,
      "grid_template_areas": null,
      "grid_template_columns": null,
      "grid_template_rows": null,
      "height": null,
      "justify_content": null,
      "justify_items": null,
      "left": null,
      "margin": null,
      "max_height": null,
      "max_width": null,
      "min_height": null,
      "min_width": null,
      "object_fit": null,
      "object_position": null,
      "order": null,
      "overflow": null,
      "overflow_x": null,
      "overflow_y": null,
      "padding": null,
      "right": null,
      "top": null,
      "visibility": null,
      "width": null
     }
    },
    "e90d7d1ff3584f1dafe7f66539716b0c": {
     "model_module": "@jupyter-widgets/base",
     "model_module_version": "1.2.0",
     "model_name": "LayoutModel",
     "state": {
      "_model_module": "@jupyter-widgets/base",
      "_model_module_version": "1.2.0",
      "_model_name": "LayoutModel",
      "_view_count": null,
      "_view_module": "@jupyter-widgets/base",
      "_view_module_version": "1.2.0",
      "_view_name": "LayoutView",
      "align_content": null,
      "align_items": null,
      "align_self": null,
      "border": null,
      "bottom": null,
      "display": null,
      "flex": null,
      "flex_flow": null,
      "grid_area": null,
      "grid_auto_columns": null,
      "grid_auto_flow": null,
      "grid_auto_rows": null,
      "grid_column": null,
      "grid_gap": null,
      "grid_row": null,
      "grid_template_areas": null,
      "grid_template_columns": null,
      "grid_template_rows": null,
      "height": null,
      "justify_content": null,
      "justify_items": null,
      "left": null,
      "margin": null,
      "max_height": null,
      "max_width": null,
      "min_height": null,
      "min_width": null,
      "object_fit": null,
      "object_position": null,
      "order": null,
      "overflow": null,
      "overflow_x": null,
      "overflow_y": null,
      "padding": null,
      "right": null,
      "top": null,
      "visibility": null,
      "width": null
     }
    },
    "ebdaacdf757642be90953473bc34f6ed": {
     "model_module": "@jupyter-widgets/controls",
     "model_module_version": "1.5.0",
     "model_name": "ProgressStyleModel",
     "state": {
      "_model_module": "@jupyter-widgets/controls",
      "_model_module_version": "1.5.0",
      "_model_name": "ProgressStyleModel",
      "_view_count": null,
      "_view_module": "@jupyter-widgets/base",
      "_view_module_version": "1.2.0",
      "_view_name": "StyleView",
      "bar_color": null,
      "description_width": ""
     }
    },
    "ed3f0ea7987a4ed78a41dbf29da4fd4a": {
     "model_module": "@jupyter-widgets/base",
     "model_module_version": "1.2.0",
     "model_name": "LayoutModel",
     "state": {
      "_model_module": "@jupyter-widgets/base",
      "_model_module_version": "1.2.0",
      "_model_name": "LayoutModel",
      "_view_count": null,
      "_view_module": "@jupyter-widgets/base",
      "_view_module_version": "1.2.0",
      "_view_name": "LayoutView",
      "align_content": null,
      "align_items": null,
      "align_self": null,
      "border": null,
      "bottom": null,
      "display": null,
      "flex": null,
      "flex_flow": null,
      "grid_area": null,
      "grid_auto_columns": null,
      "grid_auto_flow": null,
      "grid_auto_rows": null,
      "grid_column": null,
      "grid_gap": null,
      "grid_row": null,
      "grid_template_areas": null,
      "grid_template_columns": null,
      "grid_template_rows": null,
      "height": null,
      "justify_content": null,
      "justify_items": null,
      "left": null,
      "margin": null,
      "max_height": null,
      "max_width": null,
      "min_height": null,
      "min_width": null,
      "object_fit": null,
      "object_position": null,
      "order": null,
      "overflow": null,
      "overflow_x": null,
      "overflow_y": null,
      "padding": null,
      "right": null,
      "top": null,
      "visibility": null,
      "width": null
     }
    },
    "f0fc397d44464c6baa06278a30ec825b": {
     "model_module": "@jupyter-widgets/base",
     "model_module_version": "1.2.0",
     "model_name": "LayoutModel",
     "state": {
      "_model_module": "@jupyter-widgets/base",
      "_model_module_version": "1.2.0",
      "_model_name": "LayoutModel",
      "_view_count": null,
      "_view_module": "@jupyter-widgets/base",
      "_view_module_version": "1.2.0",
      "_view_name": "LayoutView",
      "align_content": null,
      "align_items": null,
      "align_self": null,
      "border": null,
      "bottom": null,
      "display": null,
      "flex": null,
      "flex_flow": null,
      "grid_area": null,
      "grid_auto_columns": null,
      "grid_auto_flow": null,
      "grid_auto_rows": null,
      "grid_column": null,
      "grid_gap": null,
      "grid_row": null,
      "grid_template_areas": null,
      "grid_template_columns": null,
      "grid_template_rows": null,
      "height": null,
      "justify_content": null,
      "justify_items": null,
      "left": null,
      "margin": null,
      "max_height": null,
      "max_width": null,
      "min_height": null,
      "min_width": null,
      "object_fit": null,
      "object_position": null,
      "order": null,
      "overflow": null,
      "overflow_x": null,
      "overflow_y": null,
      "padding": null,
      "right": null,
      "top": null,
      "visibility": null,
      "width": null
     }
    },
    "f1a30a6811c24eba968cb7ac5012876d": {
     "model_module": "@jupyter-widgets/controls",
     "model_module_version": "1.5.0",
     "model_name": "HTMLModel",
     "state": {
      "_dom_classes": [],
      "_model_module": "@jupyter-widgets/controls",
      "_model_module_version": "1.5.0",
      "_model_name": "HTMLModel",
      "_view_count": null,
      "_view_module": "@jupyter-widgets/controls",
      "_view_module_version": "1.5.0",
      "_view_name": "HTMLView",
      "description": "",
      "description_tooltip": null,
      "layout": "IPY_MODEL_e4c25f4291cc432481f6f46f1eb71522",
      "placeholder": "​",
      "style": "IPY_MODEL_2d64aa4e23a54ae7babee299929b328b",
      "value": " 4/4 [37:29&lt;00:00, 567.49s/it]"
     }
    },
    "f496f2647a7a46619241cb728a33a87a": {
     "model_module": "@jupyter-widgets/controls",
     "model_module_version": "1.5.0",
     "model_name": "DescriptionStyleModel",
     "state": {
      "_model_module": "@jupyter-widgets/controls",
      "_model_module_version": "1.5.0",
      "_model_name": "DescriptionStyleModel",
      "_view_count": null,
      "_view_module": "@jupyter-widgets/base",
      "_view_module_version": "1.2.0",
      "_view_name": "StyleView",
      "description_width": ""
     }
    },
    "fb8fbe9202cd4625ab9e7bc85db67354": {
     "model_module": "@jupyter-widgets/controls",
     "model_module_version": "1.5.0",
     "model_name": "HTMLModel",
     "state": {
      "_dom_classes": [],
      "_model_module": "@jupyter-widgets/controls",
      "_model_module_version": "1.5.0",
      "_model_name": "HTMLModel",
      "_view_count": null,
      "_view_module": "@jupyter-widgets/controls",
      "_view_module_version": "1.5.0",
      "_view_name": "HTMLView",
      "description": "",
      "description_tooltip": null,
      "layout": "IPY_MODEL_55f6a825b3c741f5a2b25179b008a48b",
      "placeholder": "​",
      "style": "IPY_MODEL_9988e5f109734989a82c16452952f839",
      "value": "learning_rate: 100%"
     }
    },
    "fe430150843542f9aed9de6a9a3c8dfc": {
     "model_module": "@jupyter-widgets/controls",
     "model_module_version": "1.5.0",
     "model_name": "HBoxModel",
     "state": {
      "_dom_classes": [],
      "_model_module": "@jupyter-widgets/controls",
      "_model_module_version": "1.5.0",
      "_model_name": "HBoxModel",
      "_view_count": null,
      "_view_module": "@jupyter-widgets/controls",
      "_view_module_version": "1.5.0",
      "_view_name": "HBoxView",
      "box_style": "",
      "children": [
       "IPY_MODEL_8d3c6e9c451b47499d386d7a82c68408",
       "IPY_MODEL_ab362cdbd6364eb3872515b8a61bab06",
       "IPY_MODEL_c9ddf7a2fb8f46e59e717f86e69bffa5"
      ],
      "layout": "IPY_MODEL_ed3f0ea7987a4ed78a41dbf29da4fd4a"
     }
    },
    "fe66a555c17e41a09952b43543d7c4fc": {
     "model_module": "@jupyter-widgets/base",
     "model_module_version": "1.2.0",
     "model_name": "LayoutModel",
     "state": {
      "_model_module": "@jupyter-widgets/base",
      "_model_module_version": "1.2.0",
      "_model_name": "LayoutModel",
      "_view_count": null,
      "_view_module": "@jupyter-widgets/base",
      "_view_module_version": "1.2.0",
      "_view_name": "LayoutView",
      "align_content": null,
      "align_items": null,
      "align_self": null,
      "border": null,
      "bottom": null,
      "display": null,
      "flex": null,
      "flex_flow": null,
      "grid_area": null,
      "grid_auto_columns": null,
      "grid_auto_flow": null,
      "grid_auto_rows": null,
      "grid_column": null,
      "grid_gap": null,
      "grid_row": null,
      "grid_template_areas": null,
      "grid_template_columns": null,
      "grid_template_rows": null,
      "height": null,
      "justify_content": null,
      "justify_items": null,
      "left": null,
      "margin": null,
      "max_height": null,
      "max_width": null,
      "min_height": null,
      "min_width": null,
      "object_fit": null,
      "object_position": null,
      "order": null,
      "overflow": null,
      "overflow_x": null,
      "overflow_y": null,
      "padding": null,
      "right": null,
      "top": null,
      "visibility": null,
      "width": null
     }
    },
    "fe7e1c8c7b8848a6a684906a66054673": {
     "model_module": "@jupyter-widgets/controls",
     "model_module_version": "1.5.0",
     "model_name": "HTMLModel",
     "state": {
      "_dom_classes": [],
      "_model_module": "@jupyter-widgets/controls",
      "_model_module_version": "1.5.0",
      "_model_name": "HTMLModel",
      "_view_count": null,
      "_view_module": "@jupyter-widgets/controls",
      "_view_module_version": "1.5.0",
      "_view_name": "HTMLView",
      "description": "",
      "description_tooltip": null,
      "layout": "IPY_MODEL_7e77171a9496447fa8620c1dea8b2a7a",
      "placeholder": "​",
      "style": "IPY_MODEL_20cdf1e1a13a483f97b4fa0e7a72b13e",
      "value": " 5/5 [34:38&lt;00:00, 417.57s/it]"
     }
    }
   }
  }
 },
 "nbformat": 4,
 "nbformat_minor": 1
}
