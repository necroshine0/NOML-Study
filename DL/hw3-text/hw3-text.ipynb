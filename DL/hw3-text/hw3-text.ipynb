{
 "cells": [
  {
   "cell_type": "markdown",
   "metadata": {
    "id": "OCfOAvvpXHaH"
   },
   "source": [
    "# Введение в глубинное обучение, ФКН ВШЭ\n",
    "\n",
    "## Домашнее задание 3. Обработка текстов.\n",
    "\n",
    "### Общая информация\n",
    "\n",
    "Дата выдачи: 13.01.2022\n",
    "\n",
    "Мягкий дедлайн: 23:59MSK 6.02.2022\n",
    "\n",
    "Жесткий дедлайн: 23:59MSK 10.02.2022\n",
    "\n",
    "Оценка после штрафа после мягкого дедлайна вычисляется по формуле $M_{penalty} = M_{full} \\cdot 0.85^{t/1440}$, где $M_{full}$ — полная оценка за работу без учета штрафа, а $t$ — время в минутах, прошедшее после мягкого дедлайна (округление до двух цифр после запятой). Таким образом, спустя первые сутки после мягкого дедлайна вы не можете получить оценку выше 8.5, а если сдать перед самым жестким дедлайном, то ваш максимум — 5.22 балла.\n",
    "\n",
    "### Оценивание и штрафы\n",
    "\n",
    "Максимально допустимая оценка за работу — 10 баллов. Сдавать задание после указанного срока сдачи нельзя.\n",
    "\n",
    "Задание выполняется самостоятельно. «Похожие» решения считаются плагиатом и все задействованные студенты (в том числе те, у кого списали) не могут получить за него больше 0 баллов. Если вы нашли решение какого-то из заданий (или его часть) в открытом источнике, необходимо указать ссылку на этот источник в отдельном блоке в конце вашей работы (скорее всего вы будете не единственным, кто это нашел, поэтому чтобы исключить подозрение в плагиате, необходима ссылка на источник).\n",
    "\n",
    "Неэффективная реализация кода может негативно отразиться на оценке. Также оценка может быть снижена за плохо читаемый код и плохо оформленные графики. Все ответы должны сопровождаться кодом или комментариями о том, как они были получены.\n",
    "\n",
    "### О задании\n",
    "\n",
    "В данном домашнем задании вам предстоит предсказывать пользовательскую оценку отеля по тексту отзыва. Нужно обучиться на данных с кэггла и заслать в [соревнование](https://www.kaggle.com/t/3e8fa6cec6d048bf8e93fb72e441d88c) предикт. По той же ссылке можете скачать данные.\n",
    "\n",
    "Мы собрали для вас отзывы по 1500 отелям из совершенно разных уголков мира. Что это за отели - секрет. Вам дан текст отзыва и пользовательская оценка отеля. Ваша задача - научиться предсказывать оценку отеля по отзыву.\n",
    "\n",
    "Главная метрика - Mean Absolute Error (MAE). Во всех частях домашней работы вам нужно получить значение MAE не превышающее 0.92 на публичном лидерборде. В противном случае мы будем вынуждены не засчитать задание :( \n",
    "\n",
    "#### Про данные:\n",
    "Каждое ревью состоит из двух текстов: positive и negative - плюсы и минусы отеля. В столбце score находится оценка пользователя - вещественное число 0 до 10. Вам нужно извлечь признаки из этих текстов и предсказать по ним оценку.\n",
    "\n",
    "Для локального тестирования используйте предоставленное разбиение на трейн и тест.\n",
    "\n",
    "Good luck & have fun! 💪"
   ]
  },
  {
   "cell_type": "code",
   "execution_count": 1,
   "metadata": {},
   "outputs": [],
   "source": [
    "import torch\n",
    "import matplotlib.pyplot as plt\n",
    "from tqdm.notebook import tqdm\n",
    "from IPython.display import clear_output\n",
    "from torch.utils.data import Dataset, DataLoader\n",
    "from torchtext.vocab import Vocab\n",
    "from collections import Counter\n",
    "\n",
    "import torchtext"
   ]
  },
  {
   "cell_type": "markdown",
   "metadata": {
    "id": "T6Ej16t1XHaM"
   },
   "source": [
    "#### Использовать любые данные для обучения кроме предоставленных организаторами строго запрещено. В последней части можно использовать предобученные модели из библиотеки `transformers`."
   ]
  },
  {
   "cell_type": "code",
   "execution_count": 2,
   "metadata": {
    "id": "U4Gc4Go5XHaN"
   },
   "outputs": [],
   "source": [
    "PATH_TO_TRAIN_DATA = 'data/train.csv'"
   ]
  },
  {
   "cell_type": "code",
   "execution_count": 3,
   "metadata": {
    "id": "6kJRM6ZUXHaO",
    "outputId": "e6ba4512-21c3-4dd8-a1d5-e270541cdc64"
   },
   "outputs": [
    {
     "data": {
      "text/html": [
       "<div>\n",
       "<style scoped>\n",
       "    .dataframe tbody tr th:only-of-type {\n",
       "        vertical-align: middle;\n",
       "    }\n",
       "\n",
       "    .dataframe tbody tr th {\n",
       "        vertical-align: top;\n",
       "    }\n",
       "\n",
       "    .dataframe thead th {\n",
       "        text-align: right;\n",
       "    }\n",
       "</style>\n",
       "<table border=\"1\" class=\"dataframe\">\n",
       "  <thead>\n",
       "    <tr style=\"text-align: right;\">\n",
       "      <th></th>\n",
       "      <th>review_id</th>\n",
       "      <th>negative</th>\n",
       "      <th>positive</th>\n",
       "      <th>score</th>\n",
       "    </tr>\n",
       "  </thead>\n",
       "  <tbody>\n",
       "    <tr>\n",
       "      <th>30470</th>\n",
       "      <td>4e7190aa04bf9d16404b0542b0497c2e</td>\n",
       "      <td>Quite expensive</td>\n",
       "      <td>Really helpful polite staff Good quality d co...</td>\n",
       "      <td>9.6</td>\n",
       "    </tr>\n",
       "    <tr>\n",
       "      <th>40627</th>\n",
       "      <td>6839cf76a9497590d2c08d7bdd420e86</td>\n",
       "      <td>Nothing at all</td>\n",
       "      <td>Location is unbeatable in walkable distance a...</td>\n",
       "      <td>10.0</td>\n",
       "    </tr>\n",
       "    <tr>\n",
       "      <th>19050</th>\n",
       "      <td>31642d36322487ae0db4ca12e30618f0</td>\n",
       "      <td>Nothing</td>\n",
       "      <td>The room was great and the staff was lovely s...</td>\n",
       "      <td>10.0</td>\n",
       "    </tr>\n",
       "    <tr>\n",
       "      <th>75833</th>\n",
       "      <td>c23d6eb9f80f40090c53018afc5be86f</td>\n",
       "      <td>ceiling height compromised on floor 6 overloo...</td>\n",
       "      <td>great staff</td>\n",
       "      <td>7.9</td>\n",
       "    </tr>\n",
       "    <tr>\n",
       "      <th>11050</th>\n",
       "      <td>1ca844ff439b9c966b5e11609ba660a2</td>\n",
       "      <td>The breakfast no variety of cheeses mainly it...</td>\n",
       "      <td>Location the room lunch in the room</td>\n",
       "      <td>9.6</td>\n",
       "    </tr>\n",
       "    <tr>\n",
       "      <th>85176</th>\n",
       "      <td>d9c124e0a6cc4aeef21b036b871395c8</td>\n",
       "      <td>No Negative</td>\n",
       "      <td>Everything the hotel is pur class</td>\n",
       "      <td>9.6</td>\n",
       "    </tr>\n",
       "    <tr>\n",
       "      <th>88925</th>\n",
       "      <td>e3631610790276e7d842c5eb47339efc</td>\n",
       "      <td>No Negative</td>\n",
       "      <td>Beds extremely comfortable Staff were very we...</td>\n",
       "      <td>9.2</td>\n",
       "    </tr>\n",
       "    <tr>\n",
       "      <th>69829</th>\n",
       "      <td>b2eae52da76992a1808c6deb9c88e201</td>\n",
       "      <td>Only Spanish TV channels reception under char...</td>\n",
       "      <td>Easy to find close to shops and 2 major tube ...</td>\n",
       "      <td>5.8</td>\n",
       "    </tr>\n",
       "    <tr>\n",
       "      <th>77036</th>\n",
       "      <td>c5391e0c528002eaea481ee9477ef7db</td>\n",
       "      <td>Size of the room was small</td>\n",
       "      <td>The hotel was in a good location but the room...</td>\n",
       "      <td>8.3</td>\n",
       "    </tr>\n",
       "    <tr>\n",
       "      <th>39941</th>\n",
       "      <td>667f1cbaba1333c8fe7f39261d9bac8b</td>\n",
       "      <td>a little bit expensive but not a big gap comp...</td>\n",
       "      <td>The food at breakfast was really good a lot o...</td>\n",
       "      <td>9.6</td>\n",
       "    </tr>\n",
       "  </tbody>\n",
       "</table>\n",
       "</div>"
      ],
      "text/plain": [
       "                              review_id  \\\n",
       "30470  4e7190aa04bf9d16404b0542b0497c2e   \n",
       "40627  6839cf76a9497590d2c08d7bdd420e86   \n",
       "19050  31642d36322487ae0db4ca12e30618f0   \n",
       "75833  c23d6eb9f80f40090c53018afc5be86f   \n",
       "11050  1ca844ff439b9c966b5e11609ba660a2   \n",
       "85176  d9c124e0a6cc4aeef21b036b871395c8   \n",
       "88925  e3631610790276e7d842c5eb47339efc   \n",
       "69829  b2eae52da76992a1808c6deb9c88e201   \n",
       "77036  c5391e0c528002eaea481ee9477ef7db   \n",
       "39941  667f1cbaba1333c8fe7f39261d9bac8b   \n",
       "\n",
       "                                                negative  \\\n",
       "30470                                   Quite expensive    \n",
       "40627                                    Nothing at all    \n",
       "19050                                           Nothing    \n",
       "75833   ceiling height compromised on floor 6 overloo...   \n",
       "11050   The breakfast no variety of cheeses mainly it...   \n",
       "85176                                        No Negative   \n",
       "88925                                        No Negative   \n",
       "69829   Only Spanish TV channels reception under char...   \n",
       "77036                        Size of the room was small    \n",
       "39941   a little bit expensive but not a big gap comp...   \n",
       "\n",
       "                                                positive  score  \n",
       "30470   Really helpful polite staff Good quality d co...    9.6  \n",
       "40627   Location is unbeatable in walkable distance a...   10.0  \n",
       "19050   The room was great and the staff was lovely s...   10.0  \n",
       "75833                                        great staff    7.9  \n",
       "11050                Location the room lunch in the room    9.6  \n",
       "85176                  Everything the hotel is pur class    9.6  \n",
       "88925   Beds extremely comfortable Staff were very we...    9.2  \n",
       "69829   Easy to find close to shops and 2 major tube ...    5.8  \n",
       "77036   The hotel was in a good location but the room...    8.3  \n",
       "39941   The food at breakfast was really good a lot o...    9.6  "
      ]
     },
     "execution_count": 3,
     "metadata": {},
     "output_type": "execute_result"
    }
   ],
   "source": [
    "import pandas as pd\n",
    "\n",
    "df = pd.read_csv(PATH_TO_TRAIN_DATA)\n",
    "df.sample(10)"
   ]
  },
  {
   "cell_type": "markdown",
   "metadata": {
    "id": "bpLk8dXBXHaP"
   },
   "source": [
    "Предобработка текста может сказываться на качестве вашей модели.\n",
    "Сделаем небольшой препроцессинг текстов: удалим знаки препинания, приведем все слова к нижнему регистру. \n",
    "Однако можно не ограничиваться этим набором преобразований. Подумайте, что еще можно сделать с текстами, чтобы помочь будущим моделям? Добавьте преобразования, которые могли бы помочь по вашему мнению."
   ]
  },
  {
   "cell_type": "code",
   "execution_count": 4,
   "metadata": {},
   "outputs": [],
   "source": [
    "# df[df['positive'] == ' ']\n",
    "# Имеем смысл удалить строки, где нет информации по p/n"
   ]
  },
  {
   "cell_type": "markdown",
   "metadata": {
    "id": "SfkhII5AXHaP"
   },
   "source": [
    "Также мы добавили разбиение текстов на токены. Теперь каждая строка-ревью стала массивом токенов."
   ]
  },
  {
   "cell_type": "code",
   "execution_count": 5,
   "metadata": {
    "id": "tv-gbEKGXHaQ"
   },
   "outputs": [],
   "source": [
    "import string\n",
    "\n",
    "import nltk\n",
    "# nltk.download('punkt')\n",
    "\n",
    "from nltk.tokenize import word_tokenize\n",
    "\n",
    "def process_text(text):\n",
    "    return [word for word in word_tokenize(text.lower()) if word not in string.punctuation]\n",
    "\n",
    "# nltk.download('wordnet')\n",
    "from nltk.stem import WordNetLemmatizer \n",
    "\n",
    "def process_lower(text):\n",
    "    return text.lower()\n",
    "#     return lemmatizer.lemmatize(text.lower())"
   ]
  },
  {
   "cell_type": "code",
   "execution_count": 6,
   "metadata": {},
   "outputs": [
    {
     "data": {
      "text/plain": [
       "'now bat leaving their tree they joining call seven satanic hell preacher heading for hall bringing blood of newborn child got succeed if not it satan fall'"
      ]
     },
     "execution_count": 6,
     "metadata": {},
     "output_type": "execute_result"
    }
   ],
   "source": [
    "s = \"Now bats are leaving their trees, They're joining the call, Seven Satanic Hell Preachers Heading for the hall. \\\n",
    "Bringing a blood of a newborn child, Got to succeed, if not it's Satan's fall\"\n",
    "lemmatizer = WordNetLemmatizer()\n",
    "\n",
    "# import spacy\n",
    "# nlp = spacy.load('en', disable=['parser', 'ner'])\n",
    "# doc = nlp(s)\n",
    "# print(\" \".join([token.lemma_ for token in doc]))\n",
    "\n",
    "from nltk.corpus import stopwords\n",
    "from nltk.tokenize import word_tokenize\n",
    "# nltk.download('stopwords')\n",
    " \n",
    "# stop_words = set(stopwords.words('english') + [ \"'s\", \"'re\"]) - {'no'}\n",
    "stop_words = set(['a', 'an', 'the', \"'s\", 'to', \"'re\", 'is', 'are', 'be', 'been', 'was', 'were', 'has', 'had', 'have'])\n",
    "def process_text_advanced(text):\n",
    "    text = [lemmatizer.lemmatize(word) for word in word_tokenize(text.lower()) \n",
    "            if word not in string.punctuation and word not in stop_words]\n",
    "    return ' '.join(text)\n",
    "process_text_advanced(s)"
   ]
  },
  {
   "cell_type": "code",
   "execution_count": 7,
   "metadata": {
    "id": "-X1bXhROXHaQ"
   },
   "outputs": [],
   "source": [
    "# df['negative'] = df['negative'].apply(process_text)\n",
    "# df['positive'] = df['positive'].apply(process_text)\n",
    "\n",
    "df['negative'] = df['negative'].apply(process_text_advanced)\n",
    "df['positive'] = df['positive'].apply(process_text_advanced)"
   ]
  },
  {
   "cell_type": "code",
   "execution_count": 8,
   "metadata": {
    "id": "MewBIvp9XHaQ"
   },
   "outputs": [],
   "source": [
    "from sklearn.model_selection import train_test_split\n",
    "\n",
    "df_train, df_test = train_test_split(df, random_state=1412) # <- для локального тестирования\n",
    "y_train = df_train['score'].to_numpy()\n",
    "y_test = df_test['score'].to_numpy()"
   ]
  },
  {
   "cell_type": "markdown",
   "metadata": {
    "id": "3gu1EIc3XHaR"
   },
   "source": [
    "### Часть 1. 1 балл"
   ]
  },
  {
   "cell_type": "markdown",
   "metadata": {
    "id": "DM7ZD9gyXHaR"
   },
   "source": [
    "Обучите логистическую или линейную регрессию на TF-IDF векторах текстов."
   ]
  },
  {
   "cell_type": "code",
   "execution_count": 9,
   "metadata": {
    "id": "2x4yCjh8XHaR"
   },
   "outputs": [],
   "source": [
    "from sklearn.feature_extraction.text import TfidfVectorizer\n",
    "from sklearn.linear_model import LogisticRegression\n",
    "from sklearn.linear_model import Ridge\n",
    "from sklearn.linear_model import Lasso\n",
    "from sklearn.metrics import mean_absolute_error as MAE"
   ]
  },
  {
   "cell_type": "markdown",
   "metadata": {
    "id": "0CufFcfHXhuo"
   },
   "source": [
    "Предскажите этой моделью тестовые данные из [соревнования](https://www.kaggle.com/t/3e8fa6cec6d048bf8e93fb72e441d88c) и сделайте сабмит. Какой у вас получился скор? Прикрепите скриншот из кэггла."
   ]
  },
  {
   "cell_type": "code",
   "execution_count": 10,
   "metadata": {},
   "outputs": [],
   "source": [
    "# data_train = (df_train['negative'] + ' ' + df_train['positive']).tolist()\n",
    "# data_test = (df_test['negative'] + ' ' + df_test['positive']).tolist()\n",
    "# Вместо этого мне посоветовали делать так:"
   ]
  },
  {
   "cell_type": "code",
   "execution_count": 11,
   "metadata": {},
   "outputs": [],
   "source": [
    "def pdsp(data):\n",
    "    return pd.DataFrame.sparse.from_spmatrix(data)\n",
    "\n",
    "def transform_fragments(v1, v2, data: list, mode=1):\n",
    "    '''\n",
    "        mode = 1: fitting + transform, input - train / +test data\n",
    "        mode = 2: transform, input - only train or test data\n",
    "    '''\n",
    "    if mode == 2:\n",
    "        assert (len(data) == 1)\n",
    "    \n",
    "    return_data = []\n",
    "    for ind, d in enumerate(data):\n",
    "        if ind > 0 or mode == 2:\n",
    "            data_pos = v1.transform(d['positive'])\n",
    "            data_neg = v2.transform(d['negative'])\n",
    "        else:\n",
    "            data_pos = v1.fit_transform(d['positive'])\n",
    "            data_neg = v2.fit_transform(d['negative'])\n",
    "            \n",
    "        data_ = pd.concat([pdsp(data_pos), pdsp(data_neg)], axis=1, ignore_index=True)\n",
    "        return_data += [data_.sparse.to_coo().tocsr()]\n",
    "    \n",
    "    return return_data, v1, v2"
   ]
  },
  {
   "cell_type": "code",
   "execution_count": 12,
   "metadata": {},
   "outputs": [],
   "source": [
    "vec1, vec2 = TfidfVectorizer(), TfidfVectorizer()\n",
    "X, vec1, vec2 = transform_fragments(vec1, vec2, [df_train, df_test])\n",
    "X_train, X_test = X[0], X[1]\n",
    "assert X_train.shape[1] == X_test.shape[1]"
   ]
  },
  {
   "cell_type": "code",
   "execution_count": 13,
   "metadata": {},
   "outputs": [],
   "source": [
    "# Выдавало ошибку, поэтому перевел в 100-балльную\n",
    "logreg = LogisticRegression(n_jobs=-1).fit(X_train, (y_train * 10).astype(int))\n",
    "rig = Ridge().fit(X_train, y_train)\n",
    "lasso = Lasso().fit(X_train, y_train)"
   ]
  },
  {
   "cell_type": "code",
   "execution_count": 14,
   "metadata": {},
   "outputs": [
    {
     "name": "stdout",
     "output_type": "stream",
     "text": [
      "MAE for Ridge: 0.8316101258538141\n",
      "MAE for Lasso: 1.3166713036799997\n",
      "MAE for LogReg: 0.90306\n"
     ]
    }
   ],
   "source": [
    "y_pred_rig = rig.predict(X_test)\n",
    "y_pred_lass = lasso.predict(X_test)\n",
    "y_pred_lr = logreg.predict(X_test)\n",
    "\n",
    "'''   \n",
    "    MAE for Ridge: 0.8440459199291432\n",
    "    MAE for Lasso: 1.3166713036799997\n",
    "    MAE for LogReg: 0.917024\n",
    "'''\n",
    "\n",
    "print('MAE for Ridge:', MAE(y_test, y_pred_rig))\n",
    "print('MAE for Lasso:', MAE(y_test, y_pred_lass))\n",
    "print('MAE for LogReg:', MAE(y_test, y_pred_lr / 10))"
   ]
  },
  {
   "cell_type": "markdown",
   "metadata": {},
   "source": [
    "`Ridge`-регрессия справилась лучше всех."
   ]
  },
  {
   "cell_type": "code",
   "execution_count": 15,
   "metadata": {},
   "outputs": [],
   "source": [
    "PATH_TO_TEST_DATA = 'data/test.csv'\n",
    "for_submit_df = pd.read_csv(PATH_TO_TEST_DATA)\n",
    "for_submit_df['negative'] = for_submit_df['negative'].apply(process_text_advanced)\n",
    "for_submit_df['positive'] = for_submit_df['positive'].apply(process_text_advanced)\n",
    "\n",
    "X_subm, _, _ = transform_fragments(vec1, vec2, [for_submit_df], mode=2)\n",
    "\n",
    "y_pred_rig_subm = rig.predict(X_subm[0])\n",
    "submit = for_submit_df.drop(columns=['negative', 'positive'])\n",
    "submit['score'] = y_pred_rig_subm"
   ]
  },
  {
   "cell_type": "code",
   "execution_count": 16,
   "metadata": {},
   "outputs": [],
   "source": [
    "submit.to_csv('sumbit.csv', index=False)"
   ]
  },
  {
   "cell_type": "markdown",
   "metadata": {
    "id": "E-4Zve40XHaS"
   },
   "source": [
    "### Часть 2. 2 балла"
   ]
  },
  {
   "cell_type": "markdown",
   "metadata": {
    "id": "cYFL-5yFXHaS"
   },
   "source": [
    "Обучите логистическую или линейную регрессию на усредненных Word2Vec векторах. "
   ]
  },
  {
   "cell_type": "code",
   "execution_count": 17,
   "metadata": {
    "id": "jpcCEhBDXHaS"
   },
   "outputs": [],
   "source": [
    "# !pip install gensim\n",
    "import gensim\n",
    "\n",
    "from gensim.models import Word2Vec"
   ]
  },
  {
   "cell_type": "code",
   "execution_count": 18,
   "metadata": {},
   "outputs": [],
   "source": [
    "df_train_new = df_train.copy()\n",
    "df_test_new = df_test.copy()\n",
    "df_train_new['negative'] = df_train_new['negative'].apply(process_text)\n",
    "df_train_new['positive'] = df_train_new['positive'].apply(process_text)\n",
    "df_test_new['negative'] = df_test_new['negative'].apply(process_text)\n",
    "df_test_new['positive'] = df_test_new['positive'].apply(process_text)"
   ]
  },
  {
   "cell_type": "code",
   "execution_count": 19,
   "metadata": {},
   "outputs": [],
   "source": [
    "w2v_model_pos = Word2Vec(df_train_new['positive'])\n",
    "w2v_model_neg = Word2Vec(df_train_new['negative'])"
   ]
  },
  {
   "cell_type": "code",
   "execution_count": 20,
   "metadata": {},
   "outputs": [],
   "source": [
    "import numpy as np\n",
    "from scipy.sparse.csr import csr_matrix\n",
    "# Позаимстовано из https://habr.com/ru/company/ods/blog/329410/\n",
    "class mean_vectorizer():\n",
    "    def __init__(self, w2v_model):\n",
    "        self.w2v_model = w2v_model\n",
    "\n",
    "    def fit(self, X):\n",
    "        self.w2v_dict = dict(zip(self.w2v_model.wv.index_to_key, self.w2v_model.wv.vectors))\n",
    "        self.dim = self.w2v_model.wv.vectors.shape[1]\n",
    "        return self \n",
    "\n",
    "    def transform(self, X):\n",
    "        return csr_matrix([\n",
    "            np.mean([self.w2v_dict[w] for w in words if w in self.w2v_dict] \n",
    "                or [np.zeros(self.dim)], axis=0) for words in X\n",
    "        ])\n",
    "    \n",
    "    def fit_transform(self, X):\n",
    "        self = self.fit(X)\n",
    "        return self.transform(X)"
   ]
  },
  {
   "cell_type": "code",
   "execution_count": 21,
   "metadata": {},
   "outputs": [],
   "source": [
    "vec1, vec2 = mean_vectorizer(w2v_model_pos), mean_vectorizer(w2v_model_neg)\n",
    "X, vec1, vec2 = transform_fragments(vec1, vec2, [df_train_new, df_test_new])"
   ]
  },
  {
   "cell_type": "code",
   "execution_count": 22,
   "metadata": {},
   "outputs": [],
   "source": [
    "def get_quality(X_train, y_train, X_test, y_test, alert=False):\n",
    "    rig = Ridge().fit(X_train, y_train)\n",
    "    y_pred_rig = rig.predict(X_test)\n",
    "    q_rig = MAE(y_test, y_pred_rig)\n",
    "    \n",
    "    if alert:\n",
    "        print('MAE for Ridge:', q_rig)\n",
    "        \n",
    "    return q_rig"
   ]
  },
  {
   "cell_type": "code",
   "execution_count": 23,
   "metadata": {},
   "outputs": [
    {
     "name": "stdout",
     "output_type": "stream",
     "text": [
      "MAE for Ridge: 0.9610207923484096\n"
     ]
    }
   ],
   "source": [
    "_ = get_quality(X[0], y_train, X[1], y_test, alert=True)"
   ]
  },
  {
   "cell_type": "markdown",
   "metadata": {
    "id": "KWrIciGxXHaS"
   },
   "source": [
    "Усредняя w2v вектора, мы предполагаем, что каждое слово имеет равноценный вклад в смысл предложения, однако это может быть не совсем так. Теперь попробуйте воспользоваться другой концепцией и перевзвесить слова при получении итогового эмбеддинга текста. В качестве весов используйте IDF (Inverse document frequency)"
   ]
  },
  {
   "cell_type": "code",
   "execution_count": 24,
   "metadata": {},
   "outputs": [],
   "source": [
    "from collections import defaultdict\n",
    "\n",
    "class tfidf_vectorizer():\n",
    "    def __init__(self, w2v_model):\n",
    "        self.w2v_model = w2v_model\n",
    "        self.word2weight = None\n",
    "\n",
    "    def fit(self, X):\n",
    "        self.w2v_dict = dict(zip(self.w2v_model.wv.index_to_key, self.w2v_model.wv.vectors))\n",
    "        self.dim = self.w2v_model.wv.vectors.shape[1]\n",
    "        \n",
    "        tfidf = TfidfVectorizer(analyzer=lambda x: x)\n",
    "        tfidf = tfidf.fit(X)\n",
    "        max_idf = max(tfidf.idf_)\n",
    "        self.word2weight = defaultdict(\n",
    "            lambda: max_idf,\n",
    "            [(w, tfidf.idf_[i]) for w, i in tfidf.vocabulary_.items()]\n",
    "        )\n",
    "\n",
    "        return self\n",
    "\n",
    "    def transform(self, X):\n",
    "        return csr_matrix([\n",
    "                np.mean([self.w2v_dict[w] * self.word2weight[w]\n",
    "                         for w in words if w in self.w2v_dict] or\n",
    "                        [np.zeros(self.dim)], axis=0) for words in X\n",
    "            ])\n",
    "\n",
    "    def fit_transform(self, X):\n",
    "        self = self.fit(X)\n",
    "        return self.transform(X)"
   ]
  },
  {
   "cell_type": "code",
   "execution_count": 25,
   "metadata": {
    "id": "mQSuuLP9XHaS"
   },
   "outputs": [],
   "source": [
    "vec1, vec2 = tfidf_vectorizer(w2v_model_pos), tfidf_vectorizer(w2v_model_neg)\n",
    "X, vec1, vec2 = transform_fragments(vec1, vec2, [df_train_new, df_test_new])"
   ]
  },
  {
   "cell_type": "code",
   "execution_count": 26,
   "metadata": {
    "scrolled": false
   },
   "outputs": [
    {
     "name": "stdout",
     "output_type": "stream",
     "text": [
      "MAE for Ridge: 0.9642303949205574\n"
     ]
    }
   ],
   "source": [
    "_ = get_quality(X[0], y_train, X[1], y_test, alert=True)"
   ]
  },
  {
   "cell_type": "markdown",
   "metadata": {
    "id": "4s-6HQo0XHaT"
   },
   "source": [
    "Проведите эксперименты с размерностью эмбеддинга. Для каждого из двух методов постройте график зависимости качества модели от размерности эмбеддинга. "
   ]
  },
  {
   "cell_type": "code",
   "execution_count": null,
   "metadata": {},
   "outputs": [
    {
     "data": {
      "application/vnd.jupyter.widget-view+json": {
       "model_id": "5728113cf8ff4a9fa20fb6a17c9556eb",
       "version_major": 2,
       "version_minor": 0
      },
      "text/plain": [
       "  0%|          | 0/7 [00:00<?, ?it/s]"
      ]
     },
     "metadata": {},
     "output_type": "display_data"
    }
   ],
   "source": [
    "emb_dims = [i * 50 for i in range(4, 11)]\n",
    "results = {\n",
    "    'mean': [],\n",
    "    'tfidf': []\n",
    "}\n",
    "\n",
    "for dim in tqdm(emb_dims):\n",
    "    \n",
    "    w2v_model_pos = Word2Vec(df_train_new['positive'], window=30, vector_size=dim)\n",
    "    w2v_model_neg = Word2Vec(df_train_new['negative'], window=30, vector_size=dim)\n",
    "    \n",
    "    vec1, vec2 = mean_vectorizer(w2v_model_pos), mean_vectorizer(w2v_model_neg)\n",
    "    X_mean, _, _ = transform_fragments(vec1, vec2, [df_train_new, df_test_new])\n",
    "    mv_q_rig = get_quality(X_mean[0], y_train, X_mean[1], y_test)\n",
    "    \n",
    "    vec1, vec2 = tfidf_vectorizer(w2v_model_pos), tfidf_vectorizer(w2v_model_neg)\n",
    "    X_idf, _, _ = transform_fragments(vec1, vec2, [df_train_new, df_test_new])\n",
    "    tfidf_q_rig = get_quality(X_idf[0], y_train, X_idf[1], y_test)\n",
    "    \n",
    "    results['mean'].append(mv_q_rig)\n",
    "    results['tfidf'].append(tfidf_q_rig)"
   ]
  },
  {
   "cell_type": "code",
   "execution_count": null,
   "metadata": {},
   "outputs": [],
   "source": [
    "fig, ax1 = plt.subplots(nrows=1, ncols=1, figsize=(16, 5))\n",
    "ax1.plot(emb_dims, results['mean'], color='lime', label='mean')\n",
    "ax1.plot(emb_dims, results['tfidf'], color='blue', label='IDF mean')\n",
    "ax1.set_xlabel('embegging size')\n",
    "ax1.set_ylabel('MAE')\n",
    "ax1.set_title('Embegging size - MAE')\n",
    "ax1.legend(shadow=False, fontsize=14)\n",
    "plt.show()"
   ]
  },
  {
   "cell_type": "code",
   "execution_count": null,
   "metadata": {},
   "outputs": [],
   "source": [
    "results['tfidf'][np.argmin(results['tfidf'])], emb_dims[np.argmin(results['tfidf'])], \\\n",
    "results['mean'][np.argmin(results['mean'])], emb_dims[np.argmin(results['mean'])]"
   ]
  },
  {
   "cell_type": "markdown",
   "metadata": {},
   "source": [
    "#### Сделайте выводы:\n",
    "Поначалу с ростом размера эмбеддинга качество улучшается, затем начинает скакать и вполне может уменьшаться и дальше. Это зависит от гиперпараметров. Но в целом по моим наблюдениям размер от 300 до 500 кажется вполне оптимальным."
   ]
  },
  {
   "cell_type": "markdown",
   "metadata": {
    "id": "f29vizrmXHaT"
   },
   "source": [
    "Теперь попробуйте обучить логистическую или линейную регрессию на любых других эмбеддингах размерности 300 и сравните качество с Word2Vec."
   ]
  },
  {
   "cell_type": "code",
   "execution_count": null,
   "metadata": {},
   "outputs": [],
   "source": [
    "from gensim.models import FastText, Doc2Vec\n",
    "from gensim.models.doc2vec import TaggedDocument\n",
    "\n",
    "model_ft_pos = FastText(df_train_new['positive'], window=30, vector_size=300)\n",
    "model_ft_neg = FastText(df_train_new['negative'], window=30, vector_size=300)\n",
    "\n",
    "documents_pos = [TaggedDocument(doc, [i]) for i, doc in enumerate(df_train_new['positive'])]\n",
    "documents_neg = [TaggedDocument(doc, [i]) for i, doc in enumerate(df_train_new['negative'])]\n",
    "model_d2v_pos = Doc2Vec(documents_pos, window=30, vector_size=300)\n",
    "model_d2v_neg = Doc2Vec(documents_neg, window=30, vector_size=300)"
   ]
  },
  {
   "cell_type": "code",
   "execution_count": null,
   "metadata": {},
   "outputs": [],
   "source": [
    "vec1, vec2 = tfidf_vectorizer(model_ft_pos), tfidf_vectorizer(model_ft_neg)\n",
    "X, _, _ = transform_fragments(vec1, vec2, [df_train_new, df_test_new])\n",
    "_ = get_quality(X[0], y_train, X[1], y_test, alert=True)"
   ]
  },
  {
   "cell_type": "code",
   "execution_count": null,
   "metadata": {},
   "outputs": [],
   "source": [
    "vec1, vec2 = tfidf_vectorizer(model_d2v_pos), tfidf_vectorizer(model_d2v_neg)\n",
    "X, _, _ = transform_fragments(vec1, vec2, [df_train_new, df_test_new])\n",
    "_ = get_quality(X[0], y_train, X[1], y_test, alert=True)"
   ]
  },
  {
   "cell_type": "markdown",
   "metadata": {},
   "source": [
    "#### Выводы:\n",
    "Не лучше, чем word2vec + Ridge + IGF-взвешивание. Если сравнивать эти два метода, то из них лучше себя показывает IDF-взвешивание + Ridge + doc2vec."
   ]
  },
  {
   "cell_type": "markdown",
   "metadata": {
    "id": "9AjabHMsXXBu"
   },
   "source": [
    "Предскажите вашей лучшей моделью из этого задания тестовые данные из [соревнования](https://www.kaggle.com/t/3e8fa6cec6d048bf8e93fb72e441d88c) и сделайте сабмит. Какой у вас получился скор? Прикрепите скриншот из кэггла."
   ]
  },
  {
   "cell_type": "code",
   "execution_count": null,
   "metadata": {},
   "outputs": [],
   "source": [
    "assert"
   ]
  },
  {
   "cell_type": "code",
   "execution_count": null,
   "metadata": {},
   "outputs": [],
   "source": [
    "vectorizer = tfidf_vectorizer(model_d2v)\n",
    "X_train_all = vectorizer.fit_transform(df_train_all)\n",
    "X_subm = vectorizer.transform(subm)\n",
    "\n",
    "model = Ridge().fit(X_train_all, df['score'].to_numpy())\n",
    "y_pred_rig_subm = model.predict(X_subm)\n",
    "submit = for_submit_df.drop(columns=['negative', 'positive'])\n",
    "submit['score'] = y_pred_rig_subm\n",
    "\n",
    "submit.to_csv('sumbit_2.csv', index=False)"
   ]
  },
  {
   "cell_type": "markdown",
   "metadata": {
    "id": "EO5TZriLXHaT"
   },
   "source": [
    "### Часть 3. 4 балла"
   ]
  },
  {
   "cell_type": "markdown",
   "metadata": {
    "id": "5RNngNdWXHaT"
   },
   "source": [
    "Теперь давайте воспользуемся более продвинутыми методами обработки текстовых данных, которые мы проходили в нашем курсе. Обучите RNN/Transformer для предсказания пользовательской оценки."
   ]
  },
  {
   "cell_type": "markdown",
   "metadata": {
    "id": "_8YdTedQXHaT"
   },
   "source": [
    "Если будете обучать RNN, попробуйте ограничить максимальную длину предложения. Некоторые отзывы могут быть слишком длинные относительно остальных.\n",
    "\n",
    "Чтобы пользоваться DataLoader, все его элементы должны быть одинаковой размерности. Для этого вы можете добавить нулевой паддинг ко всем предложениям (см пример pad_sequence)"
   ]
  },
  {
   "cell_type": "code",
   "execution_count": null,
   "metadata": {},
   "outputs": [],
   "source": [
    "# data_train = (df_train['negative'] + ' ' + df_train['positive']).tolist()\n",
    "# data_test = (df_test['negative'] + ' ' + df_test['positive']).tolist()"
   ]
  },
  {
   "cell_type": "code",
   "execution_count": null,
   "metadata": {
    "id": "89Y9wsViXHaU"
   },
   "outputs": [],
   "source": [
    "import torch\n",
    "from torch import nn\n",
    "from torch.nn import functional as F"
   ]
  },
  {
   "cell_type": "code",
   "execution_count": null,
   "metadata": {
    "id": "dPOjSwwwXHaU"
   },
   "outputs": [],
   "source": [
    "WORDS = set()\n",
    "for sent in list(df['positive']):\n",
    "    for w in sent:\n",
    "        WORDS.add(w)\n",
    "        \n",
    "for sent in list(df['negative']):\n",
    "    for w in sent:\n",
    "        WORDS.add(w)"
   ]
  },
  {
   "cell_type": "code",
   "execution_count": null,
   "metadata": {
    "id": "EMQ-cVxGXHaU"
   },
   "outputs": [],
   "source": [
    "int2word = dict(enumerate(tuple(WORDS)))\n",
    "word2int = {w: ii for ii, w in int2word.items()}"
   ]
  },
  {
   "cell_type": "code",
   "execution_count": null,
   "metadata": {
    "id": "GiKyqKIWXHaU"
   },
   "outputs": [],
   "source": [
    "MAX_LEN = max(max(df['positive'].apply(len)), max(df['negative'].apply(len)))\n",
    "MAX_LEN"
   ]
  },
  {
   "cell_type": "markdown",
   "metadata": {
    "id": "81o6S3_AXHaU",
    "outputId": "6ac4d30d-efc7-4324-eeda-d2950734813f"
   },
   "source": [
    "### Следующий код будет во многом позаимствован с семинара во избежание головной боли"
   ]
  },
  {
   "cell_type": "code",
   "execution_count": null,
   "metadata": {},
   "outputs": [],
   "source": [
    "from torchtext.vocab import build_vocab_from_iterator\n",
    "\n",
    "def dataset_iterator(texts):\n",
    "    for text in texts:\n",
    "        yield text.split()"
   ]
  },
  {
   "cell_type": "code",
   "execution_count": null,
   "metadata": {},
   "outputs": [],
   "source": [
    "vocab = build_vocab_from_iterator(\n",
    "    dataset_iterator(data_train),\n",
    "                                    # г/п\n",
    "    specials=['<pad>', '<unk>'], min_freq=10,\n",
    ")"
   ]
  },
  {
   "cell_type": "code",
   "execution_count": null,
   "metadata": {},
   "outputs": [],
   "source": [
    "def tokenize_sentences(vocab, data):\n",
    "    tokens = []\n",
    "    for text in dataset_iterator(data):\n",
    "        sentence_tokens = [vocab[word] if word in vocab else vocab['<unk>'] for word in text]\n",
    "        tokens += [sentence_tokens]\n",
    "    return tokens\n",
    "\n",
    "train_tokens = tokenize_sentences(vocab, data_train)\n",
    "test_tokens = tokenize_sentences(vocab, data_test)"
   ]
  },
  {
   "cell_type": "code",
   "execution_count": null,
   "metadata": {},
   "outputs": [],
   "source": [
    "import seaborn as sns\n",
    "plt.rcParams.update({'font.size': 14})\n",
    "sns.set_style('whitegrid')\n",
    "\n",
    "lengths = np.array([len(tokens) for tokens in train_tokens])\n",
    "sns.displot(lengths)\n",
    "plt.show()"
   ]
  },
  {
   "cell_type": "markdown",
   "metadata": {},
   "source": [
    "Тут можно было бы удалить те отзывы, где в полях пусто, или же с заполнениями а-ля `no positive`/`no negative`. Люди склонны ничего не писать и ставить высокие оценки, либо же писать `no positive` и ставить 0 или, напротив, писать `no negative` и ставить 10. Поэтому я решил ничего не удалять - такие данные могут сильно влиять на результат."
   ]
  },
  {
   "cell_type": "code",
   "execution_count": null,
   "metadata": {},
   "outputs": [],
   "source": [
    "max_length = 400\n",
    "def get_data(data):\n",
    "    tokenized_data = torch.full((len(data), max_length), vocab['<pad>'], dtype=torch.int32)\n",
    "    for i, tokens in enumerate(data):\n",
    "        length = min(max_length, len(tokens))\n",
    "        tokenized_data[i, :length] = torch.tensor(tokens[:length])\n",
    "    return tokenized_data\n",
    "    \n",
    "tokenized_train = get_data(train_tokens)\n",
    "tokenized_test = get_data(test_tokens)\n",
    "    \n",
    "targets_train = torch.tensor(y_train, dtype=torch.int32)\n",
    "targets_test = torch.tensor(y_test, dtype=torch.int32)"
   ]
  },
  {
   "cell_type": "code",
   "execution_count": null,
   "metadata": {},
   "outputs": [],
   "source": [
    "from torch.utils.data import TensorDataset, DataLoader\n",
    "\n",
    "train_dataset = TensorDataset(tokenized_train, targets_train)\n",
    "test_dataset = TensorDataset(tokenized_test, targets_test)\n",
    "\n",
    "# г/п\n",
    "batch_size = 100\n",
    "train_loader = DataLoader(train_dataset, batch_size, shuffle=True, num_workers=4, pin_memory=True)\n",
    "test_loader = DataLoader(test_dataset, batch_size, shuffle=False, num_workers=4, pin_memory=True)"
   ]
  },
  {
   "cell_type": "markdown",
   "metadata": {},
   "source": [
    "### Transformer"
   ]
  },
  {
   "cell_type": "code",
   "execution_count": null,
   "metadata": {},
   "outputs": [],
   "source": []
  },
  {
   "cell_type": "markdown",
   "metadata": {},
   "source": [
    "### RNN"
   ]
  },
  {
   "cell_type": "code",
   "execution_count": null,
   "metadata": {
    "id": "PQI2EGzbXHaV"
   },
   "outputs": [],
   "source": [
    "from torch.nn.utils.rnn import pad_sequence\n",
    "\n",
    "train_pos_pad = pad_sequence([torch.as_tensor([word2int[w] for w in seq][:MAX_LEN]) for seq in df_train['positive']], \n",
    "                           batch_first=True)"
   ]
  },
  {
   "cell_type": "code",
   "execution_count": null,
   "metadata": {
    "id": "76PDJ4yTXHaV"
   },
   "outputs": [],
   "source": [
    "class ReviewsDataset(torch.utils.data.Dataset):\n",
    "    def __init__(self, df):\n",
    "        ## TODO\n",
    "        pass\n",
    "        \n",
    "    def __len__(self):\n",
    "        ## TODO\n",
    "        pass\n",
    "    \n",
    "    def __getitem__(self, idx):\n",
    "        ## TODO\n",
    "        pass"
   ]
  },
  {
   "cell_type": "code",
   "execution_count": null,
   "metadata": {
    "id": "m8jxX9B2XHaV"
   },
   "outputs": [],
   "source": [
    "BATCH_SIZE = 1\n",
    "\n",
    "train_dataset = ReviewsDataset(df_train)\n",
    "test_dataset = ReviewsDataset(df_test)\n",
    "\n",
    "train_dataloader = torch.utils.data.DataLoader(train_dataset, batch_size=BATCH_SIZE)\n",
    "test_dataloader = torch.utils.data.DataLoader(test_dataset, batch_size=BATCH_SIZE)"
   ]
  },
  {
   "cell_type": "code",
   "execution_count": null,
   "metadata": {
    "id": "0f6EmAuJXHaV"
   },
   "outputs": [],
   "source": [
    "NUM_EPOCHS = 1\n",
    "\n",
    "for n in range(NUM_EPOCHS):\n",
    "    model.train()\n",
    "    ## TODO"
   ]
  },
  {
   "cell_type": "markdown",
   "metadata": {
    "id": "n3OeNQkoXHaW"
   },
   "source": [
    "### Контест (до 3 баллов)\n",
    "\n",
    "По итогам всех ваших экспериментов выберите модель, которую считаете лучшей. Сделайте сабмит в контест. В зависимости от вашего скора на публичном лидерборде, мы начислим вам баллы:\n",
    "\n",
    " - <0.76 - 3 балла\n",
    " - [0.76; 0.78) - 2 балла\n",
    " - [0.78; 0.8) - 1 балл"
   ]
  },
  {
   "cell_type": "code",
   "execution_count": null,
   "metadata": {
    "id": "jfORFaucXHaW"
   },
   "outputs": [],
   "source": []
  }
 ],
 "metadata": {
  "colab": {
   "collapsed_sections": [],
   "name": "hw3_kaggle.ipynb",
   "provenance": []
  },
  "kernelspec": {
   "display_name": "Python 3",
   "language": "python",
   "name": "python3"
  },
  "language_info": {
   "codemirror_mode": {
    "name": "ipython",
    "version": 3
   },
   "file_extension": ".py",
   "mimetype": "text/x-python",
   "name": "python",
   "nbconvert_exporter": "python",
   "pygments_lexer": "ipython3",
   "version": "3.7.4"
  }
 },
 "nbformat": 4,
 "nbformat_minor": 1
}
