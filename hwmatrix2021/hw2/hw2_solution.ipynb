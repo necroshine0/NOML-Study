{
 "cells": [
  {
   "cell_type": "markdown",
   "metadata": {},
   "source": [
    "# Практическая часть ДЗ 2"
   ]
  },
  {
   "cell_type": "markdown",
   "metadata": {},
   "source": [
    "# Задача 1. Использование ALS для построения рекомендательной модели (35 баллов)"
   ]
  },
  {
   "cell_type": "markdown",
   "metadata": {},
   "source": [
    "В этой задаче мы построим простую рекомендательную модель на основе малоранговых приближений. "
   ]
  },
  {
   "cell_type": "code",
   "execution_count": 3,
   "metadata": {},
   "outputs": [],
   "source": [
    "import numpy as np\n",
    "import matplotlib.pyplot as plt\n",
    "import time\n",
    "%matplotlib inline"
   ]
  },
  {
   "cell_type": "markdown",
   "metadata": {},
   "source": [
    "### Подготовка датасета\n",
    "Загрузите датасет movielens10m с [grouplens.org](https://grouplens.org/datasets/movielens/10m/) и положите архив в папку `data`. Нас будет интересовать файл `ratings.dat`, в котором собраны оценки пользователями различных фильмов с сервиса movielens.org. Вытащим этот файл из архива. Как можно узнать из соответствующей [странички](http://files.grouplens.org/datasets/movielens/ml-10m-README.html#file_desc), этот файл имеет формат `UserID::MovieID::Rating::Timestamp`. Сразу позаботимся, чтобы id пользователей и фильмов начинались с нуля (в самом файле индексация с единицы)."
   ]
  },
  {
   "cell_type": "code",
   "execution_count": 4,
   "metadata": {
    "scrolled": true
   },
   "outputs": [],
   "source": [
    "import zipfile\n",
    "user_ids = []\n",
    "movie_ids = []\n",
    "ratings = []\n",
    "with zipfile.ZipFile('ml-10m.zip') as archive:\n",
    "    with archive.open('ml-10M100K/ratings.dat') as f:\n",
    "        for l in f:\n",
    "            user, movie, rating, _ = l.split(b'::')\n",
    "            user_ids.append(int(user) - 1)\n",
    "            movie_ids.append(int(movie) - 1)\n",
    "            ratings.append(float(rating))"
   ]
  },
  {
   "cell_type": "markdown",
   "metadata": {},
   "source": [
    "Составим матрицу рейтингов $A_{u,m}$, индексируемую номером пользователем и номером фильма.\n",
    "Для простоты мы будем делить отзывы только на положительные (`Rating >= 4` &mdash; $A_{u,m}=1$) и отрицательные (`Rating < 4` &mdash; $A_{u,m} = 0$), таким образом, матрица у нас получится состоящей только из нулей и единиц.\n",
    "Обратите внимание, что матрица будет разреженной, так как средний пользователь оценил относительно мало фильмов. Поэтому мы будем пользоваться библиотекой `scipy.sparse`. Хранить матрицу мы будем в формате [CSR](https://en.wikipedia.org/wiki/Sparse_matrix#Compressed_sparse_row_(CSR,_CRS_or_Yale_format))."
   ]
  },
  {
   "cell_type": "code",
   "execution_count": 5,
   "metadata": {
    "scrolled": true
   },
   "outputs": [
    {
     "name": "stdout",
     "output_type": "stream",
     "text": [
      "Shape: (71567, 65133)\n",
      "Ratio of nonzero elements: 0.0010738646228571796\n"
     ]
    }
   ],
   "source": [
    "from scipy.sparse import csr_matrix\n",
    "A = csr_matrix((np.array(ratings) >= 4, (user_ids, movie_ids)), dtype=np.float32)\n",
    "A.eliminate_zeros()\n",
    "print(\"Shape:\", A.shape)\n",
    "print(\"Ratio of nonzero elements:\", A.nnz / (A.shape[0] * A.shape[1]))"
   ]
  },
  {
   "cell_type": "markdown",
   "metadata": {},
   "source": [
    "Отделим некоторое количество пользователей для последующей проверки. Используем стандартное разбиение train/test 80/20."
   ]
  },
  {
   "cell_type": "code",
   "execution_count": 6,
   "metadata": {},
   "outputs": [],
   "source": [
    "n_users, n_movies = A.shape\n",
    "n_test = int(n_users * 0.2)\n",
    "n_train = n_users - n_test\n",
    "idx = np.arange(n_users)\n",
    "np.random.shuffle(idx)\n",
    "test_idx, train_idx = idx[:n_test], idx[n_test:]\n",
    "A_test, A_train = A[test_idx,:], A[train_idx,:]"
   ]
  },
  {
   "cell_type": "markdown",
   "metadata": {},
   "source": [
    "### a. (10 баллов) Вычисление ALS-функционала и расстояния между подпространствами\n",
    "\n",
    "  1. **(5 баллов)** Напомним, что в методе ALS решается задача минимизации функционала $\\|A - UV^\\top\\|_F$ по всем $U$ и $V$ заданного ранга $r$. В самом алгоритме вместо двух матриц $U$ и $V$ естественным образом возникает третья матрица $S \\in \\mathbb{R}^{r \\times r}$, так что текущее приближение выглядит как $USV^\\top$. Поэтому первым делом вам нужно будет написать функцию `als_functional` для вычисления оптимизируемого функционала $\\|A - USV^\\top\\|_F$ для заданных $A$, $U$, $S$, $V^\\top$ (матрица $S$ не обязана быть диагональной). Заметьте, что прямое вычисление этой нормы &mdash; очень трудоёмкая задача, ведь разность будет плотной матрицей. Для того, чтобы эффективно вычислить норму разности, распишите $\\|A - USV^\\top\\|_F^2$ через скалярное произведение $(X,Y)_F = \\mathrm{Tr}\\,(X^\\top Y)$, выполните алгебраические преобразования и покажите, как эффективно вычислить каждый член в полученном выражении. Имеется в виду, что ни на каком этапе вы не должны явно формировать плотные матрицы размеров `A.shape` (хотя numpy, скорее всего, и откажется аллоцировать 37 ГБ под такой массив). Для вычисления фробениусовой нормы разреженной матрицы используйте `norm` из `scipy.sparse.linalg`.\n",
    "  \n",
    "  **Замечание**: не используйте циклы по ненулевым элементам разреженной матрицы $A$. Убедитесь, что в ваши формулы входит только умножение на матрицы $A$ или $A^\\top$, на которые можно умножать посредством @. "
   ]
  },
  {
   "cell_type": "code",
   "execution_count": 7,
   "metadata": {},
   "outputs": [],
   "source": [
    "from math import sqrt\n",
    "\n",
    "def als_functional(A, A_norm, U, S, Vt):\n",
    "    \"\"\"\n",
    "        Input\n",
    "            A: sparse 2D array mn\n",
    "            A_norm: Frobenius norm of A\n",
    "            U, S, VT: 2D arrays such that U @ S @ VT approximates A\n",
    "        Output\n",
    "            ||A - USVT||_F\n",
    "    \"\"\"\n",
    "    \n",
    "    def scalar_prod_mat(Xt, Y):\n",
    "        trace = 0\n",
    "        sz = Y.shape[1]\n",
    "        for i in range(sz):\n",
    "            trace += np.dot(Xt[i, :], Y[:, i])\n",
    "        return trace\n",
    "    \n",
    "    res = 0\n",
    "    # U mr S rr Vt rn A mn\n",
    "    # ||A - USVt||_F^2 = A_norm^2 - 2<A, USVt> + <USVt, USVt>\n",
    "    # <A, USVt> = tr(At U S Vt)\n",
    "    \n",
    "    R = S @ Vt # rn\n",
    "    sc_1 = -2 * scalar_prod_mat(A.T @ U, R)\n",
    "    # sc_1 = -2 * np.trace(A.T @ U @ R)\n",
    "    \n",
    "    # <USVt, USVt> = tr( V St Ut U S Vt ) =\n",
    "    tmp = U.T @ U # rr\n",
    "    # = tr( Rt tmp R) nr * rr * rn\n",
    "    tmp = R.T @ tmp # nr\n",
    "    sc_2 = scalar_prod_mat(tmp, R)\n",
    "    \n",
    "    res = A_norm * A_norm + sc_1 + sc_2\n",
    "    \n",
    "    return sqrt(res)"
   ]
  },
  {
   "cell_type": "markdown",
   "metadata": {},
   "source": [
    "  2. **(3 балла)** Ещё одной метрикой сходимости ALS-процесса, помимо стабилизации самого функционала, может служить так называемое расстояние между подпространствами. Расстоянием между подпространствами $L_1 \\subset \\mathbb{R}^m$ и $L_2 \\subset \\mathbb{R}^m$ будем называть число $\\|P(L_1) - P(L_2)\\|_2$, где $P(L_i)$ &mdash; ортопроектор на $L_i$. Опишите алгоритм вычисления расстояния между двумя подпространствами $\\mathrm{Im}(U_1)$ и $\\mathrm{Im}(U_2)$ для заданных матриц $U_1, U_2 \\in \\mathbb{R}^{m \\times r}$ с ортонормированными столбцами (т.е. $U_i^T U_i = I$). Алгоритм должен иметь сложность $O(mr^2)$. **Подсказка.** Воспользуйтесь фактом, что ортопроекторы являются матрицами малого ранга $r$, и техникой малоранговой арифметики, описанной на соответствующих лекции и семинаре."
   ]
  },
  {
   "cell_type": "markdown",
   "metadata": {},
   "source": [
    "**YOUR WORDS GO HERE**\n",
    "\n",
    "Хотим: $\\|P(L_1) - P(L_2)\\|_2$, где $L_1 = Im(U_1),\\ L_2 = Im(U_2)$. Как найти $P(L_i)$?\n",
    "\n",
    "**Утв.** пусть $A \\in \\mathbb{C}^{m \\times n}$ - полного ранга, m $\\geqslant$ n. Тогда ортопроектор P на Im(A): $P = A(A^{*} A)^{-1} A^{*}$. В нашем случае как раз $U_1, U_2 \\in \\mathbb{R}^{m \\times r}$. Тогда:\n",
    "$P(L_i) = U_i(U_i^{T} U_i)^{-1} U_i^{T} = U_i(E)^{-1} U_i^{T} = U_i U_i^{T} \\Longrightarrow P(L_1) = U_1 U_1^T,\\ P(L_2) = U_2 U_2^T$.\n",
    "\n",
    "По сути, $P(L_i) = U_i U_i^T$ можно считать готовым скелетным разложением ортопроектора - он как раз имеет ранг $r$. В лекции 3 п. 2 рассматривалась сумма двух матриц, представленных в виде скелетного разложения. Распишем такую же схему с вычитанием:\\\n",
    "$P(L_1) - P(L_2) = U_1 U_1^T - U_2 U_2^T = [U_1 (-U_2)] \\times [U_1 U_2]^T$, где $[U_1 (-U_2)]$ имеет размер $m \\times 2r$, а $[U_1 U_2]^T$ - $2r \\times m$. А это - тоже скелетное разложение. Обозначим $A = [U_1 (-U_2)]$, $B = [U_1 U_2]$ и найдем QR-разложение от обеих матриц.\n",
    "\n",
    "$A = Q_A R_A,\\ B = Q_B R_B$, тогда $P(L_1) - P(L_2) = AB^T = Q_A R_A R_B^T Q_B^T$. $R_A,\\ R_A^T$ имеют размер $2r \\times 2r$, значит, их произведение посчитаем за $O(8r^3)$. За время такого же порядка ~$O(r^3)$ посчитаем SVD от произведения, и из матрицы сингулярных чисел возьмем старшее. Накладные расходы - конкатенация матриц, их слияние.\n",
    "\n",
    "\n",
    "Общая структура алгоритма:\n",
    "1. Получаем матрицы A и B засчет слияния - $O(mr)$\n",
    "2. Считаем QR-разложение от каждой - $2O(4mr^2)$ ~ $O(mr^2)$\n",
    "3. Вычисляем $R_A R_B^T$ и применяем сингулярное разложение - $2O(8r^3)$ ~ $O(r^3) \\leqslant O(mr^2)$\n",
    "4. Из полученного списка сингулярных значений выбираем первое - $O(1)$\n",
    "\n",
    "Таким образом, легко видеть, что в итоге получаем сложность $O(mr^2)$, что и требовалось."
   ]
  },
  {
   "cell_type": "markdown",
   "metadata": {},
   "source": [
    "  3. **(2 балла)** Напишите функцию `dist_between_subspaces`, принимающую на вход матрицы $U_1, U_2 \\in \\mathbb{R}^{m\\times r}$ с ортонормированными столбцами, и возвращающую расстояние между $\\mathrm{Im}(U_1)$ и $\\mathrm{Im}(U_2)$. Сложность алгоритма должна быть $O(mr^2)$."
   ]
  },
  {
   "cell_type": "code",
   "execution_count": 8,
   "metadata": {},
   "outputs": [],
   "source": [
    "def dist_between_subspaces(U1, U2):\n",
    "    A = np.concatenate([U1, -U2], axis = 1)\n",
    "    B = np.concatenate([U1, U2], axis = 1)\n",
    "    \n",
    "    _, Ra = np.linalg.qr(A)\n",
    "    _, Rb = np.linalg.qr(B)\n",
    "    \n",
    "    _, S, _ = np.linalg.svd(Ra @ Rb.T)\n",
    "    return S[0]"
   ]
  },
  {
   "cell_type": "markdown",
   "metadata": {},
   "source": [
    "### b. (12 баллов) Метод ALS\n",
    "Реализуйте метод ALS (alternating least squares) с ортогонализацией (см. лекции). При указании `debug=True` печатайте номер текущей итерации и последнее расстояние между подпространствами, а также любую дополнительную интересную вам информацию. Вам будет необходимо вернуть три матрицы $U$, $S$, $V^\\top$, а также список расстояний между $\\mathrm{Im}(U_0)$ и $\\mathrm{Im}(U_1)$, $...$, $\\mathrm{Im}(U_{k-1})$ и $\\mathrm{Im}(U_k)$. Матрицы $S$ не обязана быть диагональной."
   ]
  },
  {
   "cell_type": "code",
   "execution_count": 9,
   "metadata": {},
   "outputs": [],
   "source": [
    "from scipy.sparse.linalg import norm as sparse_norm\n",
    "\n",
    "def ALS(A, rk, tolerance=1e-2, debug=False):\n",
    "    \"\"\"\n",
    "        Input\n",
    "            A: 2D m x n numpy array\n",
    "            rk: required rank of the approximation\n",
    "            tolerance: stop when this distance between Im(U_k) and Im(U_{k+1}) is reached\n",
    "            debug: print debug information on each iteration\n",
    "            \n",
    "        Output\n",
    "            U: m x rk numpy array with orthogonal columns\n",
    "            S: rk x rk numpy array\n",
    "            VT: rk x n numpy array with orthogonal rows\n",
    "            dlist: list of distances between Im(U_k) and Im(U_{k+1})\n",
    "    \"\"\"\n",
    "    m, n = A.shape\n",
    "    \n",
    "    V_pr, _ = np.linalg.qr(np.random.normal(size=(n, rk)))\n",
    "    \n",
    "    it = -1\n",
    "    dlist = []\n",
    "    dist = tolerance + 100\n",
    "    \n",
    "    while (True):\n",
    "        Q_1, R_1 = np.linalg.qr(A @ V_pr)\n",
    "        Q_2, R_2 = np.linalg.qr(A.T @ Q_1)\n",
    "        \n",
    "        U = Q_1\n",
    "        V = Q_2\n",
    "        S = R_2.T\n",
    "        \n",
    "        it += 1\n",
    "        if (it > 0):\n",
    "            dist = dist_between_subspaces(U_pr, U)\n",
    "            dlist.append(dist)\n",
    "            if (debug):\n",
    "                print(\"Iteration:\", it, \"Distance:\", dist)          \n",
    "\n",
    "        if (dist <= tolerance):\n",
    "            break\n",
    "            \n",
    "        U_pr = U\n",
    "        V_pr = V\n",
    "        \n",
    "    return U, S, V.T, dlist"
   ]
  },
  {
   "cell_type": "markdown",
   "metadata": {},
   "source": [
    "Запустим метод на матрице `A_train` и посмотрим на убывание расстояния между соседними подпространствами от номера итерации."
   ]
  },
  {
   "cell_type": "code",
   "execution_count": 10,
   "metadata": {
    "scrolled": false
   },
   "outputs": [
    {
     "name": "stdout",
     "output_type": "stream",
     "text": [
      "Iteration: 1 Distance: 0.8751827018121611\n",
      "Iteration: 2 Distance: 0.5321037410833058\n",
      "Iteration: 3 Distance: 0.3862043351580667\n",
      "Iteration: 4 Distance: 0.27211931270715445\n",
      "Iteration: 5 Distance: 0.20529796947180426\n",
      "Iteration: 6 Distance: 0.16355467100636772\n",
      "Iteration: 7 Distance: 0.1397435228195799\n",
      "Iteration: 8 Distance: 0.12363038879900819\n",
      "Iteration: 9 Distance: 0.1093468823533508\n",
      "Iteration: 10 Distance: 0.09573279807072561\n",
      "Time is taken: 19.45174503326416 seconds\n"
     ]
    },
    {
     "data": {
      "image/png": "[encoded data removed]",
      "text/plain": [
       "<Figure size 432x288 with 1 Axes>"
      ]
     },
     "metadata": {
      "needs_background": "light"
     },
     "output_type": "display_data"
    }
   ],
   "source": [
    "rank = 30\n",
    "start_time = time.time()\n",
    "U_als, S_als, VT_als, dist_als = ALS(A_train, rank, 0.1, debug=True)\n",
    "print(\"Time is taken: %s seconds\" % (time.time() - start_time))\n",
    "plt.plot(dist_als)\n",
    "_ = plt.semilogy()"
   ]
  },
  {
   "cell_type": "markdown",
   "metadata": {},
   "source": [
    "### c. (3 балла) Сравнение с рандомизированным SVD и разреженным SVD\n",
    "\n",
    "Примените рандомизированное SVD из sklearn, а также разреженное SVD из scipy (используйте тот же ранг 30, что и для ALS). Сравните все три результата по значению функционала."
   ]
  },
  {
   "cell_type": "code",
   "execution_count": 11,
   "metadata": {},
   "outputs": [
    {
     "name": "stdout",
     "output_type": "stream",
     "text": [
      "SVD: 1638.879474445028\n",
      "Randomized SVD 1639.0243014958303\n",
      "ALS 1639.5438617117406\n"
     ]
    },
    {
     "data": {
      "text/plain": [
       "<matplotlib.legend.Legend at 0x27cba47e8c8>"
      ]
     },
     "execution_count": 11,
     "metadata": {},
     "output_type": "execute_result"
    },
    {
     "data": {
      "image/png": "[encoded data removed]",
      "text/plain": [
       "<Figure size 432x288 with 1 Axes>"
      ]
     },
     "metadata": {
      "needs_background": "light"
     },
     "output_type": "display_data"
    }
   ],
   "source": [
    "from sklearn.utils.extmath import randomized_svd\n",
    "from scipy.sparse.linalg import svds\n",
    "\n",
    "A_norm = sparse_norm(A_train)\n",
    "\n",
    "U_1, S, Vt_1 = svds(A_train, k=rank)\n",
    "S_1 = np.diag(S)\n",
    "\n",
    "U_2, S, Vt_2 = randomized_svd(A_train, n_components=rank)\n",
    "S_2 = np.diag(S)\n",
    "\n",
    "res_1 = als_functional(A_train, A_norm, U_1, S_1, Vt_1)\n",
    "res_2 = als_functional(A_train, A_norm, U_2, S_2, Vt_2)\n",
    "res_3 = als_functional(A_train, A_norm, U_als, S_als, VT_als)\n",
    "\n",
    "print(\"SVD:\", res_1)\n",
    "print(\"Randomized SVD\", res_2)\n",
    "print(\"ALS\", res_3)\n",
    "\n",
    "plt.plot(2, res_1, 'bo', label = 'SVD')\n",
    "plt.plot(4, res_2, 'mo', label = 'Randomized SVD')\n",
    "plt.plot(6, res_3, 'ro', label = 'ALS')\n",
    "plt.legend(shadow = False, fontsize = 12)"
   ]
  },
  {
   "cell_type": "markdown",
   "metadata": {},
   "source": [
    "### d. (10 баллов) Построение рекомендаций\n",
    "Научимся рекомендовать пользователям из тестовой группы фильмы на основе части их оценок. Напишем функцию `recommend`, которая будет принимать матрицу $V^\\top$ из нашей модели, матрицу `(user_id, movie_id) -> binary rating` (то есть того же формата, что и наша основная матрица `A`), а также число `n_recs` &mdash; количество фильмов, которые мы хотим порекомендовать. Возвращать функция будет top-`n_recs` рекомендаций, то есть `n_recs` фильмов, которые могут пользователю понравиться, в порядке убывания предсказанной привлекательности.\n",
    "\n",
    "Чтобы построить рекомендацию, необходимо ортогонально спроецировать вектор, соответствующий новому пользователю (про которого мы знаем часть оценок), на пространство $L$, образуемое строками матрицы $V^\\top$. Иными словами, мы должны взять ближайший вектор из $L$. Он будет содержать предсказанные нашей моделью рейтинги. Дальше дело техники :) Но не забудьте, что `known_ratings` содержит векторы, соответствующие не одному пользователю, а батчу из `batch_size` пользователей. Хотя и (слава numpy) код остаётся почти дословно такой же."
   ]
  },
  {
   "cell_type": "code",
   "execution_count": 12,
   "metadata": {},
   "outputs": [],
   "source": [
    "import operator\n",
    "\n",
    "def recommend(VT, known_ratings, n_recs):\n",
    "    \"\"\"\n",
    "        Input\n",
    "            VT: 2D numpy array\n",
    "            known_rating: sparse batch_size x n_movies array\n",
    "            n_recs: requested number of recommendations\n",
    "            \n",
    "        Output\n",
    "            recs: batch_size x n_recs array of movies to recommend, with descending predicted rating\n",
    "    \"\"\"\n",
    "    \n",
    "    batch_size = known_ratings.shape[0]\n",
    "    def get_dict(v):\n",
    "        d = {i: v[i, 0] for i in range(v.shape[0])}\n",
    "        return d\n",
    "    \n",
    "    V = VT.T\n",
    "    rec_list = []\n",
    "    #P = V @ VT\n",
    "    # V имеет ортонормированные столбцы, значит, VT @ V = E, обратная тоже E\n",
    "    # print(P.shape)\n",
    "    \n",
    "    rec_list = np.zeros((batch_size, n_recs), dtype=int)\n",
    "    \n",
    "    for index in range(batch_size):   \n",
    "        ratings = V @ (VT @ known_ratings[index].T)\n",
    "        dict_ratings = get_dict(ratings)\n",
    "        \n",
    "        dList = dict(sorted(dict_ratings.items(), key=operator.itemgetter(1), reverse=True))\n",
    "        i = 0\n",
    "\n",
    "        for item in dList:\n",
    "            rec_list[index, i] = item\n",
    "            i += 1\n",
    "            if (i == n_recs):\n",
    "                break\n",
    "        \n",
    "    return rec_list"
   ]
  },
  {
   "cell_type": "markdown",
   "metadata": {},
   "source": [
    "Для проверки нашей модели для каждого пользователя из тестовой выборки оценим так называемый **hit rate**. Для этого выбросим одну из его оценок, вызовем функцию `recommend` и посмотрим, попал ли выкинутый фильм в подборку. Если попал &mdash; это hit, иначе не hit. Для того, чтобы эффективно проделать этот эксперимент на всех тестовых данных, сделаем следующее: разобьём тестовую матрицу на батчи по 500 пользователей и будем предсказывать сразу для целого батча. Вычислим вектор размера `n_test`, где для каждого пользователя указано, на каком месте в рекомендованной подборке оказался скрытый фильм (или число `n_recs`, если скрытого фильма не нашлось среди top-n  рекомендаций)."
   ]
  },
  {
   "cell_type": "code",
   "execution_count": 13,
   "metadata": {},
   "outputs": [],
   "source": [
    "from scipy.sparse import find\n",
    "\n",
    "def evaluate_model(VT, A_test, n_recs, batch_size=500):\n",
    "    \"\"\"\n",
    "        Input\n",
    "            VT: 2D numpy array representing the rating model\n",
    "            A_test: sparse n_test x n_movies array corresponding to new users\n",
    "            n_recs: requested number of recommendations\n",
    "            batch_size: number of users to build recommendations for in a single call to recommend\n",
    "\n",
    "        Output\n",
    "            hit_idx: list of n_test ints: place of secret movie \n",
    "                     in top-n_recs recommendations (or n_recs if it is missing)\n",
    "    \"\"\"\n",
    "    secrets = []\n",
    "    nonempty_users = []\n",
    "    A_test = A_test.copy()\n",
    "    for user in range(A_test.shape[0]):\n",
    "        _, good, _ = find(A_test[user,:])\n",
    "        if len(good) == 0:\n",
    "            continue\n",
    "        nonempty_users.append(user)\n",
    "        secret = np.random.choice(good, 1)[0]\n",
    "        A_test[user, secret] = 0\n",
    "        secrets.append(secret)\n",
    "    hit_idx = []\n",
    "    for i in range(0, len(nonempty_users), batch_size):\n",
    "        # Build recomendations for a batch.\n",
    "        recommendations = recommend(VT, A_test[nonempty_users[i:i + batch_size], :], n_recs + 1)\n",
    "        # Place secret in the last column so that the following .argmax finds it.\n",
    "        recommendations[:,-1] = secrets[i: i + batch_size]\n",
    "        # Find secret among the recommendations and place its index into batch_hit_idx.\n",
    "        batch_hit_idx = (recommendations == np.array([secrets[i:i + batch_size]]).T).argmax(1)\n",
    "        hit_idx += batch_hit_idx.tolist()\n",
    "    return hit_idx"
   ]
  },
  {
   "cell_type": "markdown",
   "metadata": {},
   "source": [
    "Научимся вычислять hit rate для данной модели и заданного количества top-n рекомендаций. Для этого напишем функцию `get_hit_rates`, которая будет принимать $V^\\top$ из нашей модели, вектора оценок для новых пользователей `A_test` и список натуральных чисел `n_recs`. Для каждого из этих чисел необходимо посчитать средний hit rate по всем пользователям из `A_test`, то есть, например, для `n_recs == [5, 10, 20]` нужно вернуть список средних хитрейтов для top-5, top-10 и top-20. **Обратите внимание:** вызвать функцию `evaluate_model` нужно только один раз."
   ]
  },
  {
   "cell_type": "code",
   "execution_count": 14,
   "metadata": {},
   "outputs": [],
   "source": [
    "def get_hit_rates(VT, A_test, n_recs):\n",
    "    \"\"\"\n",
    "        Input\n",
    "            VT: 2D numpy array representing the rating model\n",
    "            A_test: sparse n_test x n_movies array corresponding to new users \n",
    "            n_recs: list of ints: number of top recomendations to evaluate hit rate for\n",
    "        Output\n",
    "            hit_rates: list of float: hit rate for each element of n_recs\n",
    "    \n",
    "    \"\"\"\n",
    "    hit_rates = []\n",
    "    m = max(n_recs)\n",
    "    hit_idx = evaluate_model(VT, A_test, m)\n",
    "    for n in n_recs:\n",
    "        rate = 0\n",
    "        for i in range(len(hit_idx)):\n",
    "            if (hit_idx[i] < n):\n",
    "                rate += 1;\n",
    "\n",
    "        rate /= len(hit_idx)\n",
    "        hit_rates.append(rate)\n",
    "        \n",
    "    return hit_rates"
   ]
  },
  {
   "cell_type": "markdown",
   "metadata": {},
   "source": [
    "Проверьте себя: вычислите хитрейт на top-10 рекомендаций для Sparse SVD ранга 30. Чтобы вычисления рекомендаций были побыстрее, используйте не всю матрицу `A_test`, а, например, первые 1000 строк. Хитрейт должен получится в районе 12-15%. Самое время подебажить своё решение, если числа сильно расходятся."
   ]
  },
  {
   "cell_type": "code",
   "execution_count": 15,
   "metadata": {},
   "outputs": [
    {
     "name": "stdout",
     "output_type": "stream",
     "text": [
      "Time is taken: 55.33494973182678 seconds\n",
      "11.235955056179774%\n"
     ]
    }
   ],
   "source": [
    "start_time = time.time()\n",
    "hits = get_hit_rates(VT_als, A_test[:1000, :], list([10]))\n",
    "print(\"Time is taken: %s seconds\" % (time.time() - start_time))\n",
    "\n",
    "for hit in hits:\n",
    "    print(hit * 100, \"%\", sep='')"
   ]
  },
  {
   "cell_type": "markdown",
   "metadata": {},
   "source": [
    "Теперь можно построить графики зависимости hit rate от количества рекомендаций, а также от ранга модели. Сравним результаты, которые дают три алгоритма: ALS, Sparse SVD и рандомизированный SVD."
   ]
  },
  {
   "cell_type": "code",
   "execution_count": 16,
   "metadata": {},
   "outputs": [
    {
     "name": "stdout",
     "output_type": "stream",
     "text": [
      "Time is taken: 590.9200727939606 seconds\n"
     ]
    },
    {
     "data": {
      "image/png": "[encoded data removed]",
      "text/plain": [
       "<Figure size 1440x288 with 3 Axes>"
      ]
     },
     "metadata": {
      "needs_background": "light"
     },
     "output_type": "display_data"
    }
   ],
   "source": [
    "n_recs = list(range(5, 101, 5))\n",
    "\n",
    "plt.rcParams.update({'font.size': 14})\n",
    "_, (ax_svd, ax_als, ax_rand) = plt.subplots(1,3,figsize=(20, 4),sharey=True)\n",
    "\n",
    "ax_svd.set_title(\"SVD\")\n",
    "ax_svd.set_ylabel(\"Hit rate\")\n",
    "ax_als.set_title(\"ALS\")\n",
    "ax_rand.set_title(\"Rand SVD\")\n",
    "\n",
    "start_time = time.time()\n",
    "for rank in [5, 25, 50]:\n",
    "    _, _, VT_svd = svds(A_train, k=rank)\n",
    "    _, _, VT_als, _ = ALS(A_train, rank)\n",
    "    _, _, VT_rand = randomized_svd(A_train, rank)\n",
    "    for VT, ax in zip([VT_svd, VT_als, VT_rand], [ax_svd, ax_als, ax_rand]):\n",
    "        ax.set_xlabel(\"Number of recomendations\")\n",
    "        hit_rates = get_hit_rates(VT, A_test[:1000,:], n_recs)\n",
    "        line, = ax.plot(n_recs, hit_rates)\n",
    "        line.set_label('rank = {}'.format(rank))\n",
    "        ax.legend()\n",
    "print(\"Time is taken: %s seconds\" % (time.time() - start_time))"
   ]
  },
  {
   "cell_type": "markdown",
   "metadata": {},
   "source": [
    "Какой ранг приближения оказался оптимальным для нашей модели в случае каждого алгоритма?"
   ]
  },
  {
   "cell_type": "markdown",
   "metadata": {},
   "source": [
    "Видно, что 25 - ок во всех случаях, но с рандомизированным SVD может быть по-другому (в силу рандома, конечно же)."
   ]
  },
  {
   "cell_type": "markdown",
   "metadata": {},
   "source": [
    "# Задача 2. Higher-order SVD (25 баллов)"
   ]
  },
  {
   "cell_type": "markdown",
   "metadata": {},
   "source": [
    "1. (**8 баллов**) Напишите функцию ```tuck2full(G, U, V, W)```, возвращающую полный тензор размера $n_1\\times n_2 \\times n_3$ по его разложению Таккера. Предусмотрите, чтобы функция работала и в случае, если в матрицах $U,V$ и $W$ строк меньше, чем столбцов. Это понадобится нам в дальнейшем. В этой задаче не разрешается использовать циклы. Вместо них используйте функцию ```np.einsum```."
   ]
  },
  {
   "cell_type": "code",
   "execution_count": 17,
   "metadata": {},
   "outputs": [],
   "source": [
    "def tuck2full(G, U, V, W):\n",
    "    \"\"\"\n",
    "        Input\n",
    "            G: 3D numpy array - Tucker core of size (r1, r2, r3)\n",
    "            U: 2D numpy array - the first Tucker factor of size (n1, r1)\n",
    "            V: 2D numpy array - the second Tucker factor of size (n2, r2)\n",
    "            W: 2D numpy array - the third Tucker factor of size (n3, r3)\n",
    "\n",
    "        Output\n",
    "            A: 3D numpy array of the size (n1, n2, n3)\n",
    "    \"\"\"\n",
    "    return np.einsum(\"ijk,ai,bj,gk->abg\", G, U, V, W, optimize=True)\n",
    "    # sum_{ijk}( G[ijk] * U[ai] * V[bj] * W[gk] ) = res[abg]"
   ]
  },
  {
   "cell_type": "markdown",
   "metadata": {},
   "source": [
    "2. (**14 баллов**) Реализуйте higher-order SVD алгоритм для нахождения разложения Таккера данного трехмерного массива $A\\in\\mathbb{R}^{n_1\\times n_2 \\times n_3}$. Алгоритм должен находить малоранговое приближение $A$ с относительной точностью не хуже $\\varepsilon$ во Фробениусовой норме. Функция должна вернуть ядро и факторы Таккера у приближающего тензора. В этой задаче не разрешается пользоваться циклами. Для получения ядра Таккера будет удобно воспользоваться функцией ```tuck2full```."
   ]
  },
  {
   "cell_type": "code",
   "execution_count": 18,
   "metadata": {},
   "outputs": [],
   "source": [
    "def hosvd(A, eps, ranks=False):\n",
    "    print(\"Running...\")\n",
    "    \"\"\"\n",
    "        Input\n",
    "            A: 3D numpy array\n",
    "            eps: accuracy of Tucker approximation\n",
    "\n",
    "        Output\n",
    "            G: 3D numpy array - the Tucker core\n",
    "            U: 2D numpy array - the first Tucker factor with orthogonal columns\n",
    "            V: 2D numpy array - the second Tucker factor with orthogonal columns\n",
    "            W: 2D numpy array - the third Tucker factor with orthogonal columns\n",
    "    \"\"\"\n",
    "    m, n, l = A.shape[0], A.shape[1], A.shape[2]\n",
    "    A_1, A_2, A_3 = A, np.transpose(A, [1, 0, 2]), np.transpose(A, [2, 0, 1])\n",
    "    A_1 = np.reshape(A_1, (m, n * l), order='F')  # (1) unfolding\n",
    "    A_2 = np.reshape(A_2, (n, m * l), order='F')  # (2) unfolding\n",
    "    A_3 = np.reshape(A_3, (l, m * n), order='F')  # (3) unfolding\n",
    "    \n",
    "    def rk_approximation(A_i, eps):\n",
    "        U_i, S, _ = np.linalg.svd(A_i, full_matrices=False)\n",
    "        \n",
    "        # A - Ar   => S = [0, 0, ..., 0, sigm_r, sigm_r+1, ...]\n",
    "        # A - Ar+1 => S = [0, 0, ..., 0, 0,      sigm_r+1, ...]\n",
    "        \n",
    "        rk = len(S) - 1\n",
    "        A_i_norm = sqrt(sum(S ** 2))\n",
    "        while np.linalg.norm(A_i - U_i[:, :rk] @ U_i[:, :rk].T @ A_i) <= eps / A_i_norm:\n",
    "            rk -= 1\n",
    "    \n",
    "        U_i =  U_i[:, :rk]\n",
    "        return U_i\n",
    "\n",
    "\n",
    "    U_1 = rk_approximation(A_1, eps)\n",
    "    U_2 = rk_approximation(A_2, eps)\n",
    "    U_3 = rk_approximation(A_3, eps)\n",
    "    \n",
    "    G = tuck2full(A, U_1.T, U_2.T, U_3.T)\n",
    "    \n",
    "    if (ranks):\n",
    "        print(\"R1: \", G.shape[0])\n",
    "        print(\"R2: \", G.shape[1])\n",
    "        print(\"R3: \", G.shape[2])\n",
    "    \n",
    "    print(\"Success!\")\n",
    "    return G, U_1, U_2, U_3"
   ]
  },
  {
   "cell_type": "markdown",
   "metadata": {},
   "source": [
    "3. (**3 балла**) Примените функцию ```hosvd``` к тензору размера $100 \\times 200 \\times 300$ с элементами\n",
    "$$\n",
    "    a_{ijk} = \\frac{1}{i + j + k + 1}, \\quad i,j,k=0,1,...\n",
    "$$\n",
    "для малорангового приближения с точностью $10^{-6}$. Напечатайте получившиеся ранги и относительную ошибку полученного малорангового приближения (для этого используйте функцию ```tuck2full```)."
   ]
  },
  {
   "cell_type": "code",
   "execution_count": 19,
   "metadata": {},
   "outputs": [
    {
     "name": "stdout",
     "output_type": "stream",
     "text": [
      "Running...\n",
      "R1:  12\n",
      "R2:  13\n",
      "R3:  13\n",
      "Success!\n",
      "Error: 2.052186966996787e-07\n",
      "Time is taken: 68.51240992546082 seconds\n"
     ]
    }
   ],
   "source": [
    "A = np.zeros((100, 200, 300), dtype=float)\n",
    "for i in range(100):\n",
    "    for j in range(200):\n",
    "        for k in range(300):\n",
    "            A[i, j, k] = 1 / (i + j + k + 1)\n",
    "\n",
    "start_time = time.time()\n",
    "G, U, V, W = hosvd(A, 1e-6, ranks=True)\n",
    "error = np.linalg.norm((A - tuck2full(G, U, V, W)))\n",
    "print(\"Error:\", error)\n",
    "print(\"Time is taken: %s seconds\" % (time.time() - start_time))"
   ]
  },
  {
   "cell_type": "markdown",
   "metadata": {},
   "source": [
    "Конечно, можно было бы сделать и побыстрее, но:\\\n",
    " \"Premature optimization is the root of all evil\". Donald Ervin Knuth."
   ]
  }
 ],
 "metadata": {
  "kernelspec": {
   "display_name": "Python 3",
   "language": "python",
   "name": "python3"
  },
  "language_info": {
   "codemirror_mode": {
    "name": "ipython",
    "version": 3
   },
   "file_extension": ".py",
   "mimetype": "text/x-python",
   "name": "python",
   "nbconvert_exporter": "python",
   "pygments_lexer": "ipython3",
   "version": "3.7.4"
  }
 },
 "nbformat": 4,
 "nbformat_minor": 2
}
